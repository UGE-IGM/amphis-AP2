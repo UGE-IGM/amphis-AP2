{
 "cells": [
  {
   "cell_type": "markdown",
   "metadata": {},
   "source": [
    "<div>\n",
    "<div style='float:left; margin-right:20pt; width:15%'><img src='UPEM_LOGO_PAPETERIE_300DPI.png'></div>\n",
    "<strong>Algorithmique et programmation 2</strong><br>\n",
    "L1 Mathématiques - L1 Informatique<br>\n",
    "2015 - 2016\n",
    "</div>"
   ]
  },
  {
   "cell_type": "markdown",
   "metadata": {},
   "source": [
    "# Objets et classes\n",
    "\n",
    "## Le point sur les objets\n",
    "\n",
    "### Objets et types\n",
    "\n",
    "- Chaque objet Python a un <span class='defterm'>type</span> :"
   ]
  },
  {
   "cell_type": "code",
   "execution_count": 27,
   "metadata": {},
   "outputs": [
    {
     "data": {
      "text/plain": [
       "(bool, int, float, str, tuple, list, dict, set, range)"
      ]
     },
     "execution_count": 27,
     "metadata": {},
     "output_type": "execute_result"
    }
   ],
   "source": [
    "# Un échantillon d'objets Python et leur type\n",
    "(type(True), type(5), type(5.1), \n",
    " type(\"a\"), type((\"a\", 3)), \n",
    " type([5, 6, 7]), type({\"a\": 5}), \n",
    " type({4}), type(range(10)))"
   ]
  },
  {
   "cell_type": "markdown",
   "metadata": {},
   "source": [
    "- Le type d'un objet détermine ce qu'on peut faire avec :"
   ]
  },
  {
   "cell_type": "code",
   "execution_count": 28,
   "metadata": {},
   "outputs": [
    {
     "name": "stdout",
     "output_type": "stream",
     "text": [
      "[1, 2, 3, 4]\n"
     ]
    },
    {
     "ename": "AttributeError",
     "evalue": "'tuple' object has no attribute 'append'",
     "output_type": "error",
     "traceback": [
      "\u001b[0;31m---------------------------------------------------------------------------\u001b[0m",
      "\u001b[0;31mAttributeError\u001b[0m                            Traceback (most recent call last)",
      "\u001b[0;32m<ipython-input-28-101d928606a9>\u001b[0m in \u001b[0;36m<module>\u001b[0;34m()\u001b[0m\n\u001b[1;32m      6\u001b[0m \u001b[0;31m# Ajout d'un élément à la fin d'un tuple\u001b[0m\u001b[0;34m\u001b[0m\u001b[0;34m\u001b[0m\u001b[0m\n\u001b[1;32m      7\u001b[0m \u001b[0mobjet\u001b[0m \u001b[0;34m=\u001b[0m \u001b[0;34m(\u001b[0m\u001b[0;36m1\u001b[0m\u001b[0;34m,\u001b[0m \u001b[0;36m2\u001b[0m\u001b[0;34m,\u001b[0m \u001b[0;36m3\u001b[0m\u001b[0;34m)\u001b[0m\u001b[0;34m\u001b[0m\u001b[0m\n\u001b[0;32m----> 8\u001b[0;31m \u001b[0mobjet\u001b[0m\u001b[0;34m.\u001b[0m\u001b[0mappend\u001b[0m\u001b[0;34m(\u001b[0m\u001b[0;36m4\u001b[0m\u001b[0;34m)\u001b[0m\u001b[0;34m\u001b[0m\u001b[0m\n\u001b[0m\u001b[1;32m      9\u001b[0m \u001b[0mprint\u001b[0m\u001b[0;34m(\u001b[0m\u001b[0mobjet\u001b[0m\u001b[0;34m)\u001b[0m\u001b[0;34m\u001b[0m\u001b[0m\n",
      "\u001b[0;31mAttributeError\u001b[0m: 'tuple' object has no attribute 'append'"
     ]
    }
   ],
   "source": [
    "# Ajout d'un élément à la fin d'une liste\n",
    "objet = [1, 2, 3]\n",
    "objet.append(4)\n",
    "print(objet)\n",
    "\n",
    "# Ajout d'un élément à la fin d'un tuple\n",
    "objet = (1, 2, 3)\n",
    "objet.append(4)\n",
    "print(objet)"
   ]
  },
  {
   "cell_type": "markdown",
   "metadata": {},
   "source": [
    "- Autrement dit, à chaque type d'objet correspondent des attributs (valeurs, opérations ou fonctions / méthodes) spécifiques. Par exemple :"
   ]
  },
  {
   "cell_type": "code",
   "execution_count": 31,
   "metadata": {
    "scrolled": true
   },
   "outputs": [
    {
     "data": {
      "text/plain": [
       "['__abs__',\n",
       " '__add__',\n",
       " '__and__',\n",
       " '__bool__',\n",
       " '__ceil__',\n",
       " '__class__',\n",
       " '__delattr__',\n",
       " '__dir__',\n",
       " '__divmod__',\n",
       " '__doc__',\n",
       " '__eq__',\n",
       " '__float__',\n",
       " '__floor__',\n",
       " '__floordiv__',\n",
       " '__format__',\n",
       " '__ge__',\n",
       " '__getattribute__',\n",
       " '__getnewargs__',\n",
       " '__gt__',\n",
       " '__hash__',\n",
       " '__index__',\n",
       " '__init__',\n",
       " '__int__',\n",
       " '__invert__',\n",
       " '__le__',\n",
       " '__lshift__',\n",
       " '__lt__',\n",
       " '__mod__',\n",
       " '__mul__',\n",
       " '__ne__',\n",
       " '__neg__',\n",
       " '__new__',\n",
       " '__or__',\n",
       " '__pos__',\n",
       " '__pow__',\n",
       " '__radd__',\n",
       " '__rand__',\n",
       " '__rdivmod__',\n",
       " '__reduce__',\n",
       " '__reduce_ex__',\n",
       " '__repr__',\n",
       " '__rfloordiv__',\n",
       " '__rlshift__',\n",
       " '__rmod__',\n",
       " '__rmul__',\n",
       " '__ror__',\n",
       " '__round__',\n",
       " '__rpow__',\n",
       " '__rrshift__',\n",
       " '__rshift__',\n",
       " '__rsub__',\n",
       " '__rtruediv__',\n",
       " '__rxor__',\n",
       " '__setattr__',\n",
       " '__sizeof__',\n",
       " '__str__',\n",
       " '__sub__',\n",
       " '__subclasshook__',\n",
       " '__truediv__',\n",
       " '__trunc__',\n",
       " '__xor__',\n",
       " 'bit_length',\n",
       " 'conjugate',\n",
       " 'denominator',\n",
       " 'from_bytes',\n",
       " 'imag',\n",
       " 'numerator',\n",
       " 'real',\n",
       " 'to_bytes']"
      ]
     },
     "execution_count": 31,
     "metadata": {},
     "output_type": "execute_result"
    }
   ],
   "source": [
    "# Liste des attributs d'un objet : fonction dir()\n",
    "dir(5)"
   ]
  },
  {
   "cell_type": "markdown",
   "metadata": {},
   "source": [
    "Un même nom de fonction ou symbole d'opération peut correspondre à des actions différentes selon le type auquel il s'applique :"
   ]
  },
  {
   "cell_type": "code",
   "execution_count": 32,
   "metadata": {},
   "outputs": [
    {
     "data": {
      "text/plain": [
       "(9, 9.0, 'abc', ['a', 'b', 'c'])"
      ]
     },
     "execution_count": 32,
     "metadata": {},
     "output_type": "execute_result"
    }
   ],
   "source": [
    "# Le symbole '+' appliqué à des objets de différents types\n",
    "5 + 4, 5 + 4., \"a\" + \"bc\", [\"a\", \"b\"] + [\"c\"]"
   ]
  },
  {
   "cell_type": "markdown",
   "metadata": {},
   "source": [
    "## Fabriquer ses objets : les <span class='defterm'>classes</span>\n",
    "\n",
    "### Le concept de classe\n",
    "\n",
    "- Une classe est une \"usine\" ou un \"plan de fabrication\" d'objets\n",
    "- On fabrique un objet en appelant sa classe (comme si c'était une fonction)\n",
    "- Un objet fabriqué à l'aide d'une classe est appelé *instance* de cette classe\n",
    "- Chaque objet créé \"connaît\" son type / la classe dont il est une instance\n",
    "- *Par convention on écrit un nom de classe comme ceci :* `NomDeClasse`"
   ]
  },
  {
   "cell_type": "code",
   "execution_count": null,
   "metadata": {},
   "outputs": [],
   "source": [
    "class ObjetVide:\n",
    "    \"\"\"Cette classe définit des objets sans attribut.\"\"\"\n",
    "    \n",
    "un_objet = ObjetVide()    # première instance d'ObjetVide\n",
    "autre_objet = ObjetVide() # une autre instance d'ObjetVide"
   ]
  },
  {
   "cell_type": "code",
   "execution_count": 4,
   "metadata": {},
   "outputs": [
    {
     "data": {
      "text/plain": [
       "<__main__.ObjetVide at 0x106041fd0>"
      ]
     },
     "execution_count": 4,
     "metadata": {},
     "output_type": "execute_result"
    }
   ],
   "source": [
    "un_objet"
   ]
  },
  {
   "cell_type": "code",
   "execution_count": 3,
   "metadata": {},
   "outputs": [
    {
     "data": {
      "text/plain": [
       "<__main__.ObjetVide at 0x106041f98>"
      ]
     },
     "execution_count": 3,
     "metadata": {},
     "output_type": "execute_result"
    }
   ],
   "source": [
    "autre_objet"
   ]
  },
  {
   "cell_type": "markdown",
   "metadata": {},
   "source": [
    "- Le type d'un objet est la classe dont il provient"
   ]
  },
  {
   "cell_type": "code",
   "execution_count": 15,
   "metadata": {},
   "outputs": [
    {
     "name": "stdout",
     "output_type": "stream",
     "text": [
      "<class '__main__.ObjetVide'>\n"
     ]
    }
   ],
   "source": [
    "print(type(un_objet))"
   ]
  },
  {
   "cell_type": "code",
   "execution_count": 14,
   "metadata": {},
   "outputs": [
    {
     "name": "stdout",
     "output_type": "stream",
     "text": [
      "<class '__main__.ObjetVide'>\n"
     ]
    }
   ],
   "source": [
    "print(type(autre_objet))"
   ]
  },
  {
   "cell_type": "markdown",
   "metadata": {},
   "source": [
    "- Même les classes sont des objets, et donc elles ont un type"
   ]
  },
  {
   "cell_type": "code",
   "execution_count": 12,
   "metadata": {},
   "outputs": [
    {
     "name": "stdout",
     "output_type": "stream",
     "text": [
      "<class 'type'>\n"
     ]
    }
   ],
   "source": [
    "# Le type d'une classe est 'type' !\n",
    "print(type(ObjetVide))"
   ]
  },
  {
   "cell_type": "markdown",
   "metadata": {},
   "source": [
    "- Les types d'objets prédéfinis sont eux-aussi des classes"
   ]
  },
  {
   "cell_type": "code",
   "execution_count": 13,
   "metadata": {},
   "outputs": [
    {
     "name": "stdout",
     "output_type": "stream",
     "text": [
      "<class 'list'>\n"
     ]
    }
   ],
   "source": [
    "# Type d'un objet prédéfini\n",
    "print(type([]))"
   ]
  },
  {
   "cell_type": "markdown",
   "metadata": {},
   "source": [
    "## Attributs d'instance\n",
    "\n",
    "### Des données dans des objets\n",
    "\n",
    "- *Chaque objet* définit un espace de nommage distinct\n",
    "- Dans cet espace on peut définir des variables et leur affecter des valeurs\n",
    "- Dans le jargon, les valeurs associées à un objet sont appelés <span class=\"defterm\">attributs</span>\n",
    "- Puisqu'un objet est une instance de classe, ce sont donc des <span class=\"defterm\">attributs d'instance</span>"
   ]
  },
  {
   "cell_type": "code",
   "execution_count": 16,
   "metadata": {},
   "outputs": [
    {
     "name": "stdout",
     "output_type": "stream",
     "text": [
      "test\n"
     ]
    }
   ],
   "source": [
    "# Ajoutons un attribut \"nom\" à un_objet\n",
    "un_objet.nom = \"test\"\n",
    "print(un_objet.nom)"
   ]
  },
  {
   "cell_type": "code",
   "execution_count": 17,
   "metadata": {},
   "outputs": [
    {
     "name": "stdout",
     "output_type": "stream",
     "text": [
      "Objet 1\n",
      "C'est mon premier objet Python !\n"
     ]
    }
   ],
   "source": [
    "# Modifions-le et ajoutons un autre attribut\n",
    "un_objet.nom = \"Objet 1\"\n",
    "un_objet.description = \"C'est mon premier objet Python !\"\n",
    "print(un_objet.nom)\n",
    "print(un_objet.description)"
   ]
  },
  {
   "cell_type": "code",
   "execution_count": 18,
   "metadata": {
    "scrolled": true
   },
   "outputs": [
    {
     "data": {
      "text/plain": [
       "['__class__',\n",
       " '__delattr__',\n",
       " '__dict__',\n",
       " '__dir__',\n",
       " '__doc__',\n",
       " '__eq__',\n",
       " '__format__',\n",
       " '__ge__',\n",
       " '__getattribute__',\n",
       " '__gt__',\n",
       " '__hash__',\n",
       " '__init__',\n",
       " '__init_subclass__',\n",
       " '__le__',\n",
       " '__lt__',\n",
       " '__module__',\n",
       " '__ne__',\n",
       " '__new__',\n",
       " '__reduce__',\n",
       " '__reduce_ex__',\n",
       " '__repr__',\n",
       " '__setattr__',\n",
       " '__sizeof__',\n",
       " '__str__',\n",
       " '__subclasshook__',\n",
       " '__weakref__',\n",
       " 'description',\n",
       " 'nom']"
      ]
     },
     "execution_count": 18,
     "metadata": {},
     "output_type": "execute_result"
    }
   ],
   "source": [
    "# Récupérons la liste des attributs de l'objet\n",
    "dir(un_objet)"
   ]
  },
  {
   "cell_type": "markdown",
   "metadata": {},
   "source": [
    "- Comme d'habitude, un nom doit être défini avant qu'on puisse y accéder"
   ]
  },
  {
   "cell_type": "code",
   "execution_count": 19,
   "metadata": {},
   "outputs": [
    {
     "ename": "AttributeError",
     "evalue": "'ObjetVide' object has no attribute 'prix'",
     "output_type": "error",
     "traceback": [
      "\u001b[0;31m---------------------------------------------------------------------------\u001b[0m",
      "\u001b[0;31mAttributeError\u001b[0m                            Traceback (most recent call last)",
      "\u001b[0;32m<ipython-input-19-2526e856686e>\u001b[0m in \u001b[0;36m<module>\u001b[0;34m()\u001b[0m\n\u001b[1;32m      1\u001b[0m \u001b[0;31m# Accédons à un attribut non défini\u001b[0m\u001b[0;34m\u001b[0m\u001b[0;34m\u001b[0m\u001b[0m\n\u001b[0;32m----> 2\u001b[0;31m \u001b[0mprint\u001b[0m\u001b[0;34m(\u001b[0m\u001b[0mun_objet\u001b[0m\u001b[0;34m.\u001b[0m\u001b[0mprix\u001b[0m\u001b[0;34m)\u001b[0m\u001b[0;34m\u001b[0m\u001b[0m\n\u001b[0m",
      "\u001b[0;31mAttributeError\u001b[0m: 'ObjetVide' object has no attribute 'prix'"
     ]
    }
   ],
   "source": [
    "# Accédons à un attribut non défini\n",
    "print(un_objet.prix)"
   ]
  },
  {
   "cell_type": "markdown",
   "metadata": {},
   "source": [
    "- Les espaces de nommage de deux objets (même s'ils sont instances de la même classe) sont indépendants"
   ]
  },
  {
   "cell_type": "code",
   "execution_count": 7,
   "metadata": {},
   "outputs": [
    {
     "name": "stdout",
     "output_type": "stream",
     "text": [
      "Objet 1 : C'est mon premier objet Python !\n",
      "Objet 2 : C'est le deuxième. Valeur : 10000\n"
     ]
    }
   ],
   "source": [
    "# Faisons la même chose avec un autre objet\n",
    "autre_objet.nom = \"Objet 2\"\n",
    "autre_objet.description = \"C'est le deuxième.\"\n",
    "autre_objet.prix = 10000\n",
    "print(un_objet.nom, \":\", un_objet.description)\n",
    "print(autre_objet.nom, \":\", autre_objet.description,\n",
    "      \"Valeur :\", autre_objet.prix)"
   ]
  },
  {
   "cell_type": "markdown",
   "metadata": {},
   "source": [
    "### Un exemple : classe `Point`"
   ]
  },
  {
   "cell_type": "code",
   "execution_count": 50,
   "metadata": {},
   "outputs": [
    {
     "name": "stdout",
     "output_type": "stream",
     "text": [
      "L'origine a pour coordonnées (0, 0).\n"
     ]
    }
   ],
   "source": [
    "class Point:\n",
    "    \"Classe décrivant des points du plan 2D.\"\n",
    "    \n",
    "# On construit un objet vide\n",
    "origine = Point()\n",
    "# On initialise chacun de ses attributs\n",
    "origine.x = 0\n",
    "origine.y = 0\n",
    "# On utilise le point\n",
    "print(\"L'origine a pour coordonnées\",\n",
    "      \"(\" + str(origine.x) + \",\",\n",
    "      str(origine.y) + \").\")"
   ]
  },
  {
   "cell_type": "markdown",
   "metadata": {},
   "source": [
    "### Un exemple : classe `Enseignant`"
   ]
  },
  {
   "cell_type": "code",
   "execution_count": 41,
   "metadata": {},
   "outputs": [
    {
     "name": "stdout",
     "output_type": "stream",
     "text": [
      "M. Antoine Meyer enseigne à l'UPEM \n",
      "au sein de l'IGM \n",
      "en tant que maître de conférences."
     ]
    }
   ],
   "source": [
    "class Enseignant:\n",
    "    \"\"\"Classe permettant de construire des enseignants.\"\"\"\n",
    "\n",
    "# On construit un objet vide\n",
    "am = Enseignant()\n",
    "# On initialise chacun de ses attributs\n",
    "am.prenom = 'Antoine'\n",
    "am.nom = 'Meyer'\n",
    "am.designation = 'M.'\n",
    "am.etablissement = 'UPEM'\n",
    "am.departement = 'IGM'\n",
    "am.poste = 'maître de conférences'\n",
    "# On peut utiliser l'objet\n",
    "print(am.designation, am.prenom, am.nom, \n",
    "      \"enseigne à l'\" + am.etablissement, \n",
    "      \"\\nau sein de l'\" + am.departement, \n",
    "      \"\\nen tant que\", am.poste, end=\".\")"
   ]
  },
  {
   "cell_type": "markdown",
   "metadata": {},
   "source": [
    "### Bilan d'étape (1) : classes vides\n",
    "\n",
    "Des objets créés avec une classe vide, cela fait beaucoup penser à des dictionnaires !"
   ]
  },
  {
   "cell_type": "code",
   "execution_count": 42,
   "metadata": {},
   "outputs": [
    {
     "name": "stdout",
     "output_type": "stream",
     "text": [
      "(4, 6)\n"
     ]
    }
   ],
   "source": [
    "# Exemple de point représenté par un dictionnaire\n",
    "mon_point = {\"x\": 4, \"y\": 6}\n",
    "print(\"(\" + str(mon_point[\"x\"]) + \",\",\n",
    "      str(mon_point[\"y\"]) + \")\")"
   ]
  },
  {
   "cell_type": "markdown",
   "metadata": {},
   "source": [
    "Dans les deux cas, nombreux problèmes possibles : \n",
    "\n",
    "- Et si l'on oublie d'initialiser un attribut ?\n",
    "- Si l'on fait une faute de frappe ?\n",
    "- Si l'on veut renommer un attribut ?\n",
    "- Si l'on veut stocker les données autrement ?\n",
    "\n",
    "Solution (partielle) : \n",
    "\n",
    "- Ne pas manipuler directement les attributs d'instance\n",
    "- Créer des fonctions pour manipuler les objets"
   ]
  },
  {
   "cell_type": "markdown",
   "metadata": {},
   "source": [
    "## Objets et fonctions\n",
    "\n",
    "Un objet peut (évidemment) être passé en paramètre à une fonction ou renvoyé comme résultat."
   ]
  },
  {
   "cell_type": "code",
   "execution_count": 45,
   "metadata": {},
   "outputs": [
    {
     "name": "stdout",
     "output_type": "stream",
     "text": [
      "Point(0, 0)\n"
     ]
    }
   ],
   "source": [
    "def point_vers_chaine(point):\n",
    "    #return \"(\" + str(point.x) + \", \" + str(point.y) + \")\"\n",
    "    return \"Point\" + str((point.x, point.y))\n",
    "\n",
    "print(point_vers_chaine(origine))"
   ]
  },
  {
   "cell_type": "code",
   "execution_count": 47,
   "metadata": {},
   "outputs": [
    {
     "name": "stdout",
     "output_type": "stream",
     "text": [
      "Point(3.0, 3.0)\n"
     ]
    }
   ],
   "source": [
    "def creer_point(abscisse, ordonnee):\n",
    "    \"\"\"Fonction créant un point d'abscisse et d'ordonnée données.\n",
    "    \n",
    "    Paramètres : deux nombres.\n",
    "    Retour : une instance de Point().\n",
    "    \"\"\"\n",
    "    p = Point()\n",
    "    p.x, p.y = abscisse, ordonnee\n",
    "    return p\n",
    "\n",
    "def abscisse(p):\n",
    "    return p.x\n",
    "\n",
    "def ordonnee(p):\n",
    "    return p.y\n",
    "\n",
    "def milieu(A, B):\n",
    "    \"\"\"Fonction renvoyant le milieu du segment défini par deux points.\n",
    "    \n",
    "    Paramètres : deux points A et B.\n",
    "    Retour : le point correspondant au milieu du segment [AB].\n",
    "    \"\"\"\n",
    "    return creer_point((abscisse(A) + abscisse(B)) / 2,\n",
    "                       (ordonnee(A) + ordonnee(B)) / 2)\n",
    "    \n",
    "p1 = creer_point(2, 6)\n",
    "p2 = creer_point(4, 0)\n",
    "print(point_vers_chaine(milieu(p1, p2)))"
   ]
  },
  {
   "cell_type": "markdown",
   "metadata": {},
   "source": [
    "Attention, un objet est mutable !"
   ]
  },
  {
   "cell_type": "code",
   "execution_count": 53,
   "metadata": {},
   "outputs": [
    {
     "name": "stdout",
     "output_type": "stream",
     "text": [
      "Point(4, 6)\n",
      "Point(0, 0)\n"
     ]
    }
   ],
   "source": [
    "def translate(point, dx, dy):\n",
    "    \"\"\"Fonction translatant un point selon les coordonnées fournies.\n",
    "    \n",
    "    Paramètres : un point à modifier, une translation en abscisse, \n",
    "    une en ordonnée.\n",
    "    Retour : rien.\n",
    "    \"\"\"\n",
    "    return creer_point(point.x + dx, point.y + dy)\n",
    "    \n",
    "print(point_vers_chaine(translate(origine, 4, 6)))\n",
    "print(point_vers_chaine(origine))"
   ]
  },
  {
   "cell_type": "markdown",
   "metadata": {},
   "source": [
    "### Bilan d'étape (2) : classes vides + fonctions\n",
    "\n",
    "Il reste des problèmes :\n",
    "\n",
    "- Ça fait beaucoup de fonctions dans tous les sens...\n",
    "- Toutes les fonctions doivent avoir un nom différent !\n",
    "- Il faut bien s'organiser pour que le code soit maintenable.\n",
    "- Difficile de \"cacher\" les détails d'implémentation\n",
    "\n",
    "Prochaine étape : mettre l'intelligence (les fonctions) *à l'intérieur* des classes"
   ]
  },
  {
   "cell_type": "markdown",
   "metadata": {},
   "source": [
    "## Attributs de classes\n",
    "\n",
    "### Ajout d'attribut à une classe\n",
    "\n",
    "- Comme une classe est un objet, elle définit aussi un espace de nommage\n",
    "- On peut donc donner à une classe des attributs"
   ]
  },
  {
   "cell_type": "code",
   "execution_count": 59,
   "metadata": {},
   "outputs": [
    {
     "name": "stdout",
     "output_type": "stream",
     "text": [
      "5\n"
     ]
    }
   ],
   "source": [
    "class Bidule:\n",
    "    \"Classe idiote.\"\n",
    "\n",
    "Bidule.trucmuche = 5\n",
    "# On peut accéder à l'attribut \n",
    "print(Bidule.trucmuche)"
   ]
  },
  {
   "cell_type": "markdown",
   "metadata": {},
   "source": [
    "- Par commodité on peut définir les attributs directement dans le bloc `class` :"
   ]
  },
  {
   "cell_type": "code",
   "execution_count": 61,
   "metadata": {},
   "outputs": [
    {
     "name": "stdout",
     "output_type": "stream",
     "text": [
      "1\n"
     ]
    }
   ],
   "source": [
    "class Bidule:\n",
    "    \"Classe idiote avec attribut.\"\n",
    "    trucmuche = 1\n",
    "    \n",
    "print(Bidule.trucmuche)"
   ]
  },
  {
   "cell_type": "markdown",
   "metadata": {},
   "source": [
    "### Tu es mon fils, Luke\n",
    "\n",
    "- Toutes les instances d'une classe peuvent accéder à ses attributs comme à des attributs d'instance\n",
    "- On dit que chaque instance <span class=\"defterm\">hérite</span> des attributs de sa classe\n",
    "- Si on essaie d'accéder à un nom qui ne correspond pas à un attribut d'instance, on regarde dans la classe !"
   ]
  },
  {
   "cell_type": "code",
   "execution_count": 64,
   "metadata": {},
   "outputs": [
    {
     "name": "stdout",
     "output_type": "stream",
     "text": [
      "1\n"
     ]
    }
   ],
   "source": [
    "machin = Bidule()\n",
    "print(machin.trucmuche)  # c'est l'attribut de la classe !"
   ]
  },
  {
   "cell_type": "markdown",
   "metadata": {},
   "source": [
    "- Le fonctionnement des attributs de classe ressemble un peu à celui des variables globales"
   ]
  },
  {
   "cell_type": "code",
   "execution_count": 67,
   "metadata": {},
   "outputs": [
    {
     "name": "stdout",
     "output_type": "stream",
     "text": [
      "3\n",
      "4\n",
      "1\n"
     ]
    }
   ],
   "source": [
    "# une deuxième instance\n",
    "machin = Bidule()\n",
    "chose = Bidule()\n",
    "# tentons de changer l'attribut de classe\n",
    "chose.trucmuche = 3\n",
    "machin.trucmuche = 4\n",
    "# ça ne fonctionne pas comme prévu :\n",
    "print(chose.trucmuche)   # valeur dans l'instance 'chose'\n",
    "print(machin.trucmuche)  # valeur dans l'instance 'machin'\n",
    "print(Bidule.trucmuche)  # valeur dans la classe"
   ]
  },
  {
   "cell_type": "markdown",
   "metadata": {},
   "source": [
    "- Ça se complique encore si on a des attributs de classe *mutables*\n",
    "- C'est un peu subtil, ça ne sert pas toujours à grand-chose et c'est source d'erreurs, donc <strong class=\"defterm\">on évite !!</strong>"
   ]
  },
  {
   "cell_type": "markdown",
   "metadata": {},
   "source": [
    "### Méthodes : principe\n",
    "\n",
    "- Ajouter des simples valeurs comme attributs de classe n'est pas très intéressant, sauf cas particuliers\n",
    "- Par contre ajouter des fonctions comme attributs de classe, c'est génial !\n",
    "    - Rappel : chaque instance *hérite* de tous les attributs de sa classe\n",
    "    - Si une classe définit une fonction, toute instance pourra l'utiliser\n",
    "- Ce mécanisme permet de transmettre à toutes les instances les fonctions qui permettent de les manipuler !\n",
    "\n",
    "<!--\n",
    "Inclure dans la classe des fonctions décrivant la façon dont les données doivent être manipulées.\n",
    "-->"
   ]
  },
  {
   "cell_type": "markdown",
   "metadata": {},
   "source": [
    "### Méthodes : syntaxe\n",
    "\n",
    "- Chaque fonction définie dans une classe est supposée s'appliquer à une instance\n",
    "- On ajoute donc un premier paramètre par défaut, '`self`', représentant l'instance sur laquelle est appelée la méthode"
   ]
  },
  {
   "cell_type": "code",
   "execution_count": 68,
   "metadata": {
    "collapsed": true
   },
   "outputs": [],
   "source": [
    "class Point:\n",
    "    \"\"\"Manipulation de points, avec quelques méthodes.\"\"\"\n",
    "    \n",
    "    def placer(self, abscisse, ordonnee):\n",
    "        \"Place self aux coordonnées indiquées\"\n",
    "        # Ici, self représente le Point à modifier\n",
    "        # Le point est modifié sur place, pas de retour\n",
    "        self.x, self.y = abscisse, ordonnee\n",
    "        \n",
    "    def vers_chaine(self):\n",
    "        \"Convertit self en chaîne agréable à lire\"\n",
    "        return \"(\" + str(self.x) + \", \" + str(self.y) + \")\"\n",
    "        # ou, plus simple : \n",
    "        # return str((self.x, self.y))"
   ]
  },
  {
   "cell_type": "markdown",
   "metadata": {},
   "source": [
    "- La syntaxe pour appeler une méthode est particulière"
   ]
  },
  {
   "cell_type": "code",
   "execution_count": 69,
   "metadata": {},
   "outputs": [
    {
     "name": "stdout",
     "output_type": "stream",
     "text": [
      "(4, 0)\n"
     ]
    }
   ],
   "source": [
    "p = Point()\n",
    "p.placer(4, 0)         # p prend la place de l'argument self !\n",
    "print(p.vers_chaine()) # idem ! pas d'autre argument"
   ]
  },
  {
   "cell_type": "markdown",
   "metadata": {},
   "source": [
    "- Forme explicite équivalente (seulement utilisée pour un usage avancé, donc <strong class=\"defterm\">pas par vous</strong> pour l'instant) :"
   ]
  },
  {
   "cell_type": "code",
   "execution_count": 72,
   "metadata": {},
   "outputs": [
    {
     "name": "stdout",
     "output_type": "stream",
     "text": [
      "(4, 0)\n"
     ]
    }
   ],
   "source": [
    "p = Point()\n",
    "Point.placer(p, 4, 0)\n",
    "print(Point.vers_chaine(p))"
   ]
  },
  {
   "cell_type": "markdown",
   "metadata": {},
   "source": [
    "### Exercice\n",
    "\n",
    "- Convertir les fonctions `milieu` et `translate` en méthodes de la classe `Point()`\n",
    "- Écrire la méthode `symétrique` construisant le symétrique d'un point par rapport à un autre\n",
    "- Écrire la méthode `coord_polaires` renvoyant les coordonnées polaires d'un point"
   ]
  },
  {
   "cell_type": "code",
   "execution_count": null,
   "metadata": {
    "collapsed": true
   },
   "outputs": [],
   "source": [
    "class Point:\n",
    "    \n",
    "    def milieu(self, other):\n",
    "        res = Point()\n",
    "        res.x = (self.x + other.x) / 2\n",
    "        res.y = (self.y + other.y) / 2\n",
    "        return res\n",
    "    \n",
    "    def translate(self, dx, dy):\n",
    "        self.x += dx\n",
    "        self.y += dy\n",
    "    \n",
    "# p1.milieu(p2)"
   ]
  },
  {
   "cell_type": "markdown",
   "metadata": {},
   "source": [
    "### Bilan d'étape (3) : classes + méthodes\n",
    "\n",
    "Avantages intéressants :\n",
    "\n",
    "- Chaque objet est \"livré avec son mode d'emploi\" (méthodes)\n",
    "- Pas de conflit de nommage entre classes\n",
    "- Tout le code rassemblé, découpage facile du travail\n",
    "- Favorise la modularité : <span class=\"defterm\">encapsulation</span>\n",
    "\n",
    "On peut aller plus loin :\n",
    "\n",
    "- Redéfinition d'opérateurs et de fonctions par des <span class=\"defterm\">méthodes spéciales</span>\n",
    "- \"Customisation\" de classes existantes grâce à l'<span class=\"defterm\">héritage</span> (permet du code encore plus modulaire, encore moins redondant)\n",
    "- Méthodes de génie logiciel adaptées (par exemple : *design patterns*)\n",
    "\n",
    "Tout ça sera détaillé dans le module de Programmation orientée objet en L3 (en Java)"
   ]
  },
  {
   "cell_type": "markdown",
   "metadata": {
    "collapsed": true
   },
   "source": [
    "## Méthodes spéciales\n",
    "\n",
    "* Pour rendre ses objets plus agréables à utiliser, une classe peut définir des méthodes spéciales qui auront un effet particulier\n",
    "* Quand Python essaie de faire certaines choses avec un objet, il vérifie dans la classe si la méthode spéciale correspondante existe\n",
    "\n",
    "    - Initialisation d'objet : méthode `__init__(self, ...)`\n",
    "    - Conversion en chaîne avec `str(obj)` ou affichage avec `print(obj)` : méthode `__str__(self)`\n",
    "    - Test d'égalité entre deux objets : méthode `__eq__(self, other)`\n",
    "    - Addition d'un objet avec quelque chose : méthode `__add__(self, other)`\n",
    "    - Et encore plein d'autres... voir [ici](https://docs.python.org/3/reference/datamodel.html#special-method-names) pour la liste complète\n",
    "    \n",
    "### Exemple"
   ]
  },
  {
   "cell_type": "code",
   "execution_count": 77,
   "metadata": {},
   "outputs": [
    {
     "name": "stdout",
     "output_type": "stream",
     "text": [
      "Point(4, 6)\n",
      "Point(0, 0)\n"
     ]
    }
   ],
   "source": [
    "class Point:\n",
    "    \"Classe décrivant des points du plan 2D.\"\n",
    "\n",
    "    def __init__(self, abscisse=0, ordonnee=0):\n",
    "        self.x = abscisse\n",
    "        self.y = ordonnee\n",
    "        \n",
    "    def __str__(self):\n",
    "        return \"Point\" + str((self.x, self.y))\n",
    "        \n",
    "print(Point(4, 6))\n",
    "print(Point())"
   ]
  }
 ],
 "metadata": {
  "kernelspec": {
   "display_name": "Python 3",
   "language": "python",
   "name": "python3"
  },
  "language_info": {
   "codemirror_mode": {
    "name": "ipython",
    "version": 3
   },
   "file_extension": ".py",
   "mimetype": "text/x-python",
   "name": "python",
   "nbconvert_exporter": "python",
   "pygments_lexer": "ipython3",
   "version": "3.6.4"
  }
 },
 "nbformat": 4,
 "nbformat_minor": 1
}
