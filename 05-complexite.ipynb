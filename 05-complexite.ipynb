{
 "cells": [
  {
   "cell_type": "markdown",
   "metadata": {
    "slideshow": {
     "slide_type": "slide"
    }
   },
   "source": [
    "<div style='width:20em'><img src='img/logo-igm.png'></div>\n",
    "<div style='font-size:larger'><strong>Algorithmique et programmation 2</strong><br>\n",
    "L1 Mathématiques - L1 Informatique<br>\n",
    "Semestre 2\n",
    "</div>"
   ]
  },
  {
   "cell_type": "markdown",
   "metadata": {
    "slideshow": {
     "slide_type": "-"
    }
   },
   "source": [
    "# Complexité algorithmique"
   ]
  },
  {
   "cell_type": "markdown",
   "metadata": {
    "slideshow": {
     "slide_type": "slide"
    }
   },
   "source": [
    "## Motivation\n",
    "\n",
    "-   On n’exige pas seulement d’un algorithme qu’il résolve un problème,\n",
    "    c’est-à-dire :\n",
    "\n",
    "    -   qu’il donne la bonne réponse (**correction**)\n",
    "    -   en un temps fini (**terminaison**)\n",
    "    -   sur chaque instance"
   ]
  },
  {
   "cell_type": "markdown",
   "metadata": {
    "slideshow": {
     "slide_type": "slide"
    }
   },
   "source": [
    "-   On veut également qu’il soit **efficace**, c’est-à-dire :\n",
    "\n",
    "    -   rapide (en termes de temps d’exécution)\n",
    "    -   peu gourmand en ressources (mémoire utilisée)\n",
    "    \n",
    "    *(on s’intéressera pour commencer au temps d’exécution)*"
   ]
  },
  {
   "cell_type": "markdown",
   "metadata": {
    "slideshow": {
     "slide_type": "slide"
    }
   },
   "source": [
    "## Mesure de performances\n",
    "\n",
    "On peut utiliser la fonction `time()` du module `time` pour chronométrer l'exécution, pourquoi pas pour tracer des graphiques"
   ]
  },
  {
   "cell_type": "code",
   "execution_count": null,
   "metadata": {
    "slideshow": {
     "slide_type": "-"
    }
   },
   "outputs": [],
   "source": [
    "# pour chronométrer\n",
    "from time import time\n",
    "\n",
    "# enregistrer le temps de départ\n",
    "debut = time()\n",
    "\n",
    "# faire quelque chose\n",
    "for i in range(10**4):\n",
    "    pass\n",
    "\n",
    "# calculer le temps écoulé\n",
    "print(time() - debut)"
   ]
  },
  {
   "cell_type": "markdown",
   "metadata": {
    "slideshow": {
     "slide_type": "slide"
    }
   },
   "source": [
    "Un autre outil un peu plus élaboré est le module `timeit` :"
   ]
  },
  {
   "cell_type": "code",
   "execution_count": null,
   "metadata": {
    "slideshow": {
     "slide_type": "-"
    }
   },
   "outputs": [],
   "source": [
    "from timeit import timeit\n",
    "\n",
    "timeit(\"\"\"\n",
    "for i in range(10**4):\n",
    "    pass\n",
    "\"\"\", number=100)"
   ]
  },
  {
   "cell_type": "markdown",
   "metadata": {
    "slideshow": {
     "slide_type": "slide"
    }
   },
   "source": [
    "Sous Jupyter, on peut aussi utiliser les \"formules magiques\" `%%timeit` (tout une cellule) ou `%timeit` (une seule ligne) :"
   ]
  },
  {
   "cell_type": "code",
   "execution_count": null,
   "metadata": {
    "slideshow": {
     "slide_type": "-"
    }
   },
   "outputs": [],
   "source": [
    "%%timeit\n",
    "for i in range(10**6): \n",
    "    pass"
   ]
  },
  {
   "cell_type": "code",
   "execution_count": null,
   "metadata": {
    "slideshow": {
     "slide_type": "-"
    }
   },
   "outputs": [],
   "source": [
    "%timeit for i in range(10**6): pass"
   ]
  },
  {
   "cell_type": "markdown",
   "metadata": {
    "slideshow": {
     "slide_type": "slide"
    }
   },
   "source": [
    "### Exemple 1 : recherche dans une liste"
   ]
  },
  {
   "cell_type": "markdown",
   "metadata": {
    "slideshow": {
     "slide_type": "subslide"
    }
   },
   "source": [
    "#### Algorithme \"idéal\"\n",
    "\n",
    "- Soit $L$ une liste, $x$ un élément à chercher\n",
    "- Pour chaque élément tour à tour dans la liste :\n",
    "    - Si cet élément est égal à $x$, répondre \"vrai\" et arrêter\n",
    "    - Sinon continuer\n",
    "- Si on atteint la fin de la liste sans avoir trouvé $x$, répondre \"faux\""
   ]
  },
  {
   "cell_type": "markdown",
   "metadata": {
    "slideshow": {
     "slide_type": "subslide"
    }
   },
   "source": [
    "Quels sont les cas où l'algorithme prend le plus de temps (pires cas) ? \n",
    "\n",
    "Comment varie la \"quantité de travail\" à fournir en fonction de $L$ et $x$ dans ces cas ?\n",
    "\n",
    "> *Moralement*, cela devrait être (au pire) proportionnel au nombre d'éléments dans la liste : il suffit de regarder chaque élément de la liste une fois."
   ]
  },
  {
   "cell_type": "markdown",
   "metadata": {
    "slideshow": {
     "slide_type": "subslide"
    }
   },
   "source": [
    "#### Vérification expérimentale : fonction itérative"
   ]
  },
  {
   "cell_type": "code",
   "execution_count": null,
   "metadata": {
    "slideshow": {
     "slide_type": "-"
    }
   },
   "outputs": [],
   "source": [
    "def recherche_iter(L, x):\n",
    "    for elem in L:\n",
    "        if elem == x:\n",
    "            return True\n",
    "    return False"
   ]
  },
  {
   "cell_type": "code",
   "execution_count": null,
   "metadata": {
    "slideshow": {
     "slide_type": "subslide"
    }
   },
   "outputs": [],
   "source": [
    "liste_mille = list(range(1000))\n",
    "liste_deux_mille = list(range(2000))\n",
    "liste_quatre_mille = list(range(4000))\n",
    "\n",
    "%timeit recherche_iter(liste_mille, 'pas-là')\n",
    "%timeit recherche_iter(liste_deux_mille, 'absent')\n",
    "%timeit recherche_iter(liste_quatre_mille, 'non')"
   ]
  },
  {
   "cell_type": "markdown",
   "metadata": {
    "slideshow": {
     "slide_type": "fragment"
    }
   },
   "source": [
    "Ici, on voit que si la taille de la liste double, le temps de calcul est multiplié à peu près par deux. Cela semble confirmer l'hypothèse précédente."
   ]
  },
  {
   "cell_type": "markdown",
   "metadata": {
    "slideshow": {
     "slide_type": "subslide"
    }
   },
   "source": [
    "#### Vérification expérimentale : fonction récursive"
   ]
  },
  {
   "cell_type": "code",
   "execution_count": null,
   "metadata": {
    "slideshow": {
     "slide_type": "-"
    }
   },
   "outputs": [],
   "source": [
    "# pour avoir une pile plus grande\n",
    "from sys import setrecursionlimit  \n",
    "setrecursionlimit(3000)"
   ]
  },
  {
   "cell_type": "code",
   "execution_count": null,
   "metadata": {
    "slideshow": {
     "slide_type": "subslide"
    }
   },
   "outputs": [],
   "source": [
    "def recherche_rec(lst, e):\n",
    "    if len(lst) == 0:\n",
    "        return False\n",
    "    elif lst[0] == e:\n",
    "        return True\n",
    "    else:\n",
    "        return recherche_rec(lst[1:], e)"
   ]
  },
  {
   "cell_type": "code",
   "execution_count": null,
   "metadata": {
    "slideshow": {
     "slide_type": "subslide"
    }
   },
   "outputs": [],
   "source": [
    "liste_mille = list(range(1000))\n",
    "liste_deux_mille = list(range(2000))\n",
    "\n",
    "%timeit recherche_rec(liste_mille, 'nope')\n",
    "%timeit recherche_rec(liste_deux_mille, 'cherche ailleurs')"
   ]
  },
  {
   "cell_type": "markdown",
   "metadata": {
    "slideshow": {
     "slide_type": "fragment"
    }
   },
   "source": [
    "- Cette fois, pour une liste **deux** fois plus grande, le temps d'exécution est multiplié environ par **quatre** : ça n'a pas l'air proportionnel...\n",
    "\n",
    "- On remarque aussi que cette fonction est globalement **beaucoup** plus lente que la version itérative (c'est assez normal, on y reviendra)."
   ]
  },
  {
   "cell_type": "markdown",
   "metadata": {
    "slideshow": {
     "slide_type": "subslide"
    }
   },
   "source": [
    "#### Vérification expérimentale : graphique\n",
    "\n",
    "Pour y voir plus clair, essayons de tracer un graphique :"
   ]
  },
  {
   "cell_type": "code",
   "execution_count": null,
   "metadata": {
    "slideshow": {
     "slide_type": "-"
    }
   },
   "outputs": [],
   "source": [
    "# pour dessiner des graphiques\n",
    "import matplotlib.pyplot as plt\n",
    "%matplotlib inline\n",
    "# %config InlineBackend.figure_format='retina'"
   ]
  },
  {
   "cell_type": "code",
   "execution_count": null,
   "metadata": {
    "slideshow": {
     "slide_type": "subslide"
    }
   },
   "outputs": [],
   "source": [
    "def teste_recherche(fonction, tailles):\n",
    "    \"\"\"\n",
    "    Fonction cherchant 1 dans des listes de 0\n",
    "    de longueur données dans tailles.\n",
    "    Renvoie une liste des temps d'exécution.\n",
    "    \"\"\"\n",
    "    temps = []\n",
    "    for n in tailles:\n",
    "        lst = [0] * n\n",
    "        t = timeit(lambda: fonction(lst, 1), \n",
    "                   number=200, globals=globals())\n",
    "        temps.append(t)\n",
    "    return temps"
   ]
  },
  {
   "cell_type": "code",
   "execution_count": null,
   "metadata": {
    "slideshow": {
     "slide_type": "subslide"
    }
   },
   "outputs": [],
   "source": [
    "# On va tester avec les tailles ci-dessous\n",
    "tailles = list(range(0, 3000, 300))"
   ]
  },
  {
   "cell_type": "code",
   "execution_count": null,
   "metadata": {
    "slideshow": {
     "slide_type": "subslide"
    }
   },
   "outputs": [],
   "source": [
    "# On lance les tests\n",
    "temps = teste_recherche(recherche_iter, tailles)\n",
    "plt.plot(tailles, temps, 's-', label='itérative')\n",
    "\n",
    "temps = teste_recherche(recherche_rec, tailles)\n",
    "plt.plot(tailles, temps, 's-', label='récursive')\n",
    "\n",
    "plt.legend()\n",
    "pass"
   ]
  },
  {
   "cell_type": "markdown",
   "metadata": {
    "slideshow": {
     "slide_type": "subslide"
    }
   },
   "source": [
    "Le problème se confirme... la courbe pour la fonction `recherche_rec` ne ressemble pas à une droite.\n",
    "\n",
    "La raison (déjà donné au chapitre précédent) est que nous utilisons une instruction coûteuse sans en tenir compte :\n",
    "\n",
    "```python\n",
    "def recherche_rec(lst, e):\n",
    "    if len(lst) == 0:\n",
    "        return False\n",
    "    elif lst[0] == e:\n",
    "        return True\n",
    "    else:\n",
    "        return recherche_rec(lst[1:], e)\n",
    "        # lst[1:]  prend un temps proportionnel à len(lst) !!!\n",
    "```"
   ]
  },
  {
   "cell_type": "markdown",
   "metadata": {
    "slideshow": {
     "slide_type": "subslide"
    }
   },
   "source": [
    "Pour remédier au problème, on peut utiliser un argument supplémentaire (indice) et ne pas modifier la liste :"
   ]
  },
  {
   "cell_type": "code",
   "execution_count": null,
   "metadata": {
    "scrolled": true,
    "slideshow": {
     "slide_type": "-"
    }
   },
   "outputs": [],
   "source": [
    "def recherche_rec_aux(lst, e, i):\n",
    "    if len(lst) <= i:\n",
    "        return False\n",
    "    elif lst[i] == e:\n",
    "        return True\n",
    "    else:\n",
    "        return recherche_rec_aux(lst, e, i+1)\n",
    "\n",
    "def recherche_rec2(lst, e):\n",
    "    return recherche_rec_aux(lst, e, 0)"
   ]
  },
  {
   "cell_type": "code",
   "execution_count": null,
   "metadata": {
    "slideshow": {
     "slide_type": "subslide"
    }
   },
   "outputs": [],
   "source": [
    "recherche_rec2([1, 3, -5], 4)"
   ]
  },
  {
   "cell_type": "code",
   "execution_count": null,
   "metadata": {
    "slideshow": {
     "slide_type": "-"
    }
   },
   "outputs": [],
   "source": [
    "recherche_rec2([1, 3, -5], -5)"
   ]
  },
  {
   "cell_type": "markdown",
   "metadata": {
    "slideshow": {
     "slide_type": "subslide"
    }
   },
   "source": [
    "On vérifie que le problème semble résolu :"
   ]
  },
  {
   "cell_type": "code",
   "execution_count": null,
   "metadata": {
    "slideshow": {
     "slide_type": "subslide"
    }
   },
   "outputs": [],
   "source": [
    "# On lance les tests\n",
    "temps = teste_recherche(recherche_iter, tailles)\n",
    "plt.plot(tailles, temps, 's-', label='itérative')\n",
    "\n",
    "#temps = teste_recherche(recherche_rec, tailles)\n",
    "#plt.plot(tailles, temps, 's-', label='récursive avec tranche')\n",
    "\n",
    "temps = teste_recherche(recherche_rec2, tailles)\n",
    "plt.plot(tailles, temps, 's-', label='récursive avec indice')\n",
    "\n",
    "plt.legend()\n",
    "pass"
   ]
  },
  {
   "cell_type": "markdown",
   "metadata": {
    "slideshow": {
     "slide_type": "subslide"
    }
   },
   "source": [
    "La fonction récursive reste plus lente (c'est normal) mais au moins le temps d'exécution semble vaguement proportionnel à la taille de la liste."
   ]
  },
  {
   "cell_type": "markdown",
   "metadata": {
    "slideshow": {
     "slide_type": "slide"
    }
   },
   "source": [
    "### Exemple 2 : recherche de doublons"
   ]
  },
  {
   "cell_type": "code",
   "execution_count": null,
   "metadata": {
    "slideshow": {
     "slide_type": "-"
    }
   },
   "outputs": [],
   "source": [
    "def contient_doublon(lst):\n",
    "    for i in range(len(lst)):\n",
    "        for j in range(i+1, len(lst)):\n",
    "            if lst[i] == lst[j]:\n",
    "                return True\n",
    "    return False"
   ]
  },
  {
   "cell_type": "code",
   "execution_count": null,
   "metadata": {
    "slideshow": {
     "slide_type": "subslide"
    }
   },
   "outputs": [],
   "source": [
    "contient_doublon([1, 0, 3, 4, 1, 3])"
   ]
  },
  {
   "cell_type": "code",
   "execution_count": null,
   "metadata": {
    "slideshow": {
     "slide_type": "-"
    }
   },
   "outputs": [],
   "source": [
    "contient_doublon([1, 0, 3, 4, 2, -3])"
   ]
  },
  {
   "cell_type": "code",
   "execution_count": null,
   "metadata": {
    "slideshow": {
     "slide_type": "subslide"
    }
   },
   "outputs": [],
   "source": [
    "tailles = list(range(0, 10000, 1000))\n",
    "\n",
    "temps = []\n",
    "for n in tailles:\n",
    "    lst = list(range(n))\n",
    "    t = timeit('contient_doublon(lst)', \n",
    "               globals=globals(), number=10)\n",
    "    temps.append(t)\n",
    "\n",
    "plt.plot(tailles, temps, 's-')\n",
    "pass"
   ]
  },
  {
   "cell_type": "markdown",
   "metadata": {
    "slideshow": {
     "slide_type": "subslide"
    }
   },
   "source": [
    "Ça n'a toujours pas l'air linéaire... Essayons le \"test de doublement\" :"
   ]
  },
  {
   "cell_type": "code",
   "execution_count": null,
   "metadata": {
    "slideshow": {
     "slide_type": "-"
    }
   },
   "outputs": [],
   "source": [
    "liste_mille = list(range(1000))\n",
    "liste_deux_mille = list(range(2000))\n",
    "\n",
    "%timeit contient_doublon(liste_mille)\n",
    "%timeit contient_doublon(liste_deux_mille)"
   ]
  },
  {
   "cell_type": "markdown",
   "metadata": {
    "slideshow": {
     "slide_type": "fragment"
    }
   },
   "source": [
    "Pour une liste de taille **double**, le temps de calcul a **beaucoup plus que doublé**. On verra plus précisément dans la suite comment évolue le temps de calcul de cette fonction par rapport à `len(lst)`."
   ]
  },
  {
   "cell_type": "markdown",
   "metadata": {
    "slideshow": {
     "slide_type": "slide"
    }
   },
   "source": [
    "## La complexité d'un algorithme\n",
    "\n",
    "-   Inconvénients du chronométrage de programmes :\n",
    "\n",
    "    -   nécessite d’implémenter les algorithmes\n",
    "    -   mesures dépendant de nombreux facteurs (machine, langage, charge...)\n",
    "    -   peut être dur à implémenter\n",
    "    -   observations difficiles à transposer, à généraliser..."
   ]
  },
  {
   "cell_type": "markdown",
   "metadata": {
    "slideshow": {
     "slide_type": "subslide"
    }
   },
   "source": [
    "-   On veut pouvoir évaluer la qualité **théorique** des algorithmes\n",
    "\n",
    "    -   quel algorithme choisir **avant de commencer à programmer** ?\n",
    "    -   pourquoi tel programme est-il aussi lent ?\n",
    "    -   où agir pour améliorer un algorithme ?"
   ]
  },
  {
   "cell_type": "markdown",
   "metadata": {
    "slideshow": {
     "slide_type": "subslide"
    }
   },
   "source": [
    "-   La **théorie de la complexité** (algorithmique) permet aussi :\n",
    "\n",
    "    -   de classer les *algorithmes* selon leur efficacité\n",
    "    -   de comparer plusieurs algorithmes résolvant un même problème\n",
    "        *sans les implémenter*\n",
    "    -   de classer les *problèmes* selon leur difficulté\n",
    "\n",
    "\n",
    "-   **Idée de base :** *compter* le nombre d’opérations élémentaires effectuées"
   ]
  },
  {
   "cell_type": "markdown",
   "metadata": {
    "slideshow": {
     "slide_type": "slide"
    }
   },
   "source": [
    "### Comptage des opérations\n",
    "\n",
    "-   Chaque **opération élémentaire** compte pour une “unité de temps”\n",
    "    (pour simplifier)\n",
    "\n",
    "    -   exemples : `=`, `==`, `<=`, `+`, `-`, `*`, `/`, `lst[i]`...\n",
    "\n",
    "    -   considérées comme prenant un temps “constant” (indépendant de\n",
    "        l’entrée)\n",
    "\n",
    "    -   doivent être bien choisies\n",
    "\n",
    "-   Chaque **itération** d’une boucle rajoute le nombre d’unités de\n",
    "    temps prises par le corps de cette boucle\n",
    "\n",
    "-   Chaque **appel de fonction** rajoute le nombre d’unités de temps\n",
    "    prises par son exécution"
   ]
  },
  {
   "cell_type": "markdown",
   "metadata": {
    "slideshow": {
     "slide_type": "subslide"
    }
   },
   "source": [
    "### Exemple: calcul de la factorielle\n",
    "\n",
    "Version itérative :\n",
    "\n",
    "```python\n",
    "def fact_iter(n):  \n",
    "    fact = 1             # affectation :  1           \n",
    "    i = 2                # affectation :  1\n",
    "    while i <= n:        # comparaison :  1\n",
    "        fact = fact * i  # mult. + aff. : 2\n",
    "        i = i + 1        # add. + aff. :  2\n",
    "    return fact          # renvoi valeur: 1\n",
    "```\n",
    "\n",
    "-   Si $n > 1$ on a exactement $n - 1$ tours de boucle\n",
    "\n",
    "-   Nombre total d’opérations pour un appel à `fact(n)` :\n",
    "    \n",
    "    $$T(n) = 1+1+(n-1)*5+1+1=5n-1$$"
   ]
  },
  {
   "cell_type": "markdown",
   "metadata": {
    "slideshow": {
     "slide_type": "subslide"
    }
   },
   "source": [
    "Version récursive :\n",
    "\n",
    "```python\n",
    "def fact_rec(n):\n",
    "    if n <= 1:    # comparaison :   1\n",
    "        return 1  # renvoi valeur : 1\n",
    "    else:\n",
    "        return n * fact_rec(n - 1) \n",
    "        # appel récursif : T(n-1)\n",
    "        # soustr. + mult. + retour : 3\n",
    "```\n",
    "\n",
    "Nombre total d’opérations (pour $n > 0$): \n",
    "\n",
    "$$\n",
    "\\begin{cases}\n",
    "  T(1) = 2,\\\\\n",
    "  T(n) = 4 + T(n-1)\n",
    "\\end{cases}\n",
    "$$\n",
    "\n",
    "Total : $T(n) = 4n-2$"
   ]
  },
  {
   "cell_type": "markdown",
   "metadata": {
    "slideshow": {
     "slide_type": "subslide"
    }
   },
   "source": [
    "### Remarques\n",
    "\n",
    "-   Ce genre de calcul est en général inexact\n",
    "\n",
    "    -   on ne sait pas toujours combien de fois exactement on va\n",
    "        effectuer une boucle (encadrement)\n",
    "\n",
    "    -   lors d’un branchement conditionnel, le nombre d’opérations\n",
    "        effectuées n’est pas toujours le même (encadrement)\n",
    "\n",
    "    -   l’hypothèse selon laquelle chaque opération élémentaire prend le\n",
    "        même temps est en général fausse\n",
    "\n",
    "    -   un appel de fonction engendre un coût supplémentaire (gestion de\n",
    "        la pile)\n",
    "\n",
    "-   Les calculs mathématiques requis peuvent être difficiles\n",
    "\n",
    "-   Heureusement, on dispose d’outils plus simples et plus adaptés"
   ]
  },
  {
   "cell_type": "markdown",
   "metadata": {
    "slideshow": {
     "slide_type": "slide"
    }
   },
   "source": [
    "## Complexité asymptotique\n",
    "\n",
    "On appelle **\"complexité\"** d’un algorithme une mesure de sa performance\n",
    "**asymptoptique** dans le **pire cas**\n",
    "\n",
    "-   Que signifie **asymptotique**?\n",
    "    -   on considère le nombre d'opérations quand la taille de l'entrée tend vers l'infini\n",
    "    -   pourquoi ? parce que cela permet de se concentrer sur le terme dominant dans l'expression du nombre d'opérations (vitesse de croissance la plus grande)\n",
    "\n",
    "-   Que signifie **dans le pire cas** ?\n",
    "    -   pour une taille donnée, on considère la pire entrée possible de cette taille (celle qui demandera le plus de calculs)\n",
    "    -   pourquoi? parce que cela fournit une garantie sur le pire temps d'exécution possible pour une entrée de taille donnée\n",
    "\n",
    "On peut aussi regarder la complexité **au mieux** (pas toujours intéressant), ou\n",
    "**en moyenne** (intéressant mais plus difficile à calculer)"
   ]
  },
  {
   "cell_type": "markdown",
   "metadata": {
    "slideshow": {
     "slide_type": "slide"
    }
   },
   "source": [
    "### Intuition: comportement asymptotique\n",
    "\n",
    "Soient :\n",
    "\n",
    "1.  un problème à résoudre sur des données de taille $n$\n",
    "2.  deux algorithmes le résolvant en temps $f_1(n)$ et $f_2(n)$\n",
    "\n",
    "<img src='img/plot.png' width='50%'>\n",
    "\n",
    "Quel algorithme préférez-vous?"
   ]
  },
  {
   "cell_type": "markdown",
   "metadata": {
    "slideshow": {
     "slide_type": "subslide"
    }
   },
   "source": [
    "<img src='img/plot2.png' width='50%'>"
   ]
  },
  {
   "cell_type": "markdown",
   "metadata": {
    "slideshow": {
     "slide_type": "slide"
    }
   },
   "source": [
    "### La notation $O(\\cdot)$\n",
    "\n",
    "-   Calculs exacts du nombre d’opérations parfois longs et pénibles\n",
    "\n",
    "-   Degré de précision mal maîtrisé (détails dépendant de la machine, du\n",
    "    langage, de l’implémentation...) et souvent inutile\n",
    "\n",
    "-   On recourt à une **approximation** représentée par la notation\n",
    "    $O(\\cdot)$"
   ]
  },
  {
   "cell_type": "markdown",
   "metadata": {
    "slideshow": {
     "slide_type": "subslide"
    }
   },
   "source": [
    "-   Soit $n$ la taille des données à traiter; on dit qu’une fonction\n",
    "    $f(n)$ est **en $O(g(n))$** (« grand Ô de $g(n)$ ») ou **dominée asymptotiquement par $g(n)$** si\n",
    "\n",
    "    $$\n",
    "    \\exists\\ n_0 \\in \\mathbb{N},\n",
    "      \\exists\\ c \\in \\mathbb{R},\n",
    "      \\forall\\ n\\geq n_0: \\quad\n",
    "      \\left| f(n) \\right| \\leq c \\left| g(n) \\right|\n",
    "    $$\n",
    "\n",
    "\n",
    "-   Autrement dit: à\n",
    "    partir d'un certain rang $f(n)$ est toujours inférieure à $g(n)$, à\n",
    "    une constante multiplicative fixée près\n",
    "-   Autrement dit: $f(n)$ ne croît pas plus vite que $g(n)$ fois une constante quand $n$ devient grand"
   ]
  },
  {
   "cell_type": "markdown",
   "metadata": {
    "slideshow": {
     "slide_type": "slide"
    }
   },
   "source": [
    "### Illustration\n",
    "\n",
    "Quelques cas où $f(n)$ (en bleu) $\\in O(g(n))$ (en rouge) :\n",
    "\n",
    "<img src='img/plot3-0.png' width='40%'>"
   ]
  },
  {
   "cell_type": "markdown",
   "metadata": {
    "slideshow": {
     "slide_type": "subslide"
    }
   },
   "source": [
    "<img src='img/plot3-1.png' width='40%'>"
   ]
  },
  {
   "cell_type": "markdown",
   "metadata": {
    "slideshow": {
     "slide_type": "subslide"
    }
   },
   "source": [
    "<img src='img/plot3-2.png' width='40%'>\n",
    "\n",
    "Dans ce dernier cas ci-dessous, on a aussi $g(n) \\in O(f(n))$ ! (pourquoi ?)"
   ]
  },
  {
   "cell_type": "markdown",
   "metadata": {
    "slideshow": {
     "slide_type": "slide"
    }
   },
   "source": [
    "### Propriétés\n",
    "\n",
    "Soient $(f_n)_{n \\in  \\mathbb{N}}$, $(f'_n)_{n \\in  \\mathbb{N}}$, $(g_n)_{n \\in  \\mathbb{N}}$ et $(g'_n)_{n \\in  \\mathbb{N}}$ des suites réelles strictement positives à partir d'un certain rang. \n",
    "\n",
    "On a les règles de calcul suivantes:\n",
    "\n",
    "1. $f_n ∈ O(f_n)$\n",
    "\n",
    "**exemple :** $n^2 \\in O(n^2)$"
   ]
  },
  {
   "cell_type": "markdown",
   "metadata": {
    "slideshow": {
     "slide_type": "subslide"
    }
   },
   "source": [
    "2. Si $f_n \\in O(g_n)$ alors $c \\times f_n \\in O(g_n)$, pour $c \\in \\mathbb{R}$\n",
    "\n",
    "**exemples :** \n",
    "- $3n^2 \\in O(n^2)$\n",
    "- $n^2/5 \\in O(n^2)$\n",
    "- $10^6 \\in O(1)$"
   ]
  },
  {
   "cell_type": "markdown",
   "metadata": {
    "slideshow": {
     "slide_type": "subslide"
    }
   },
   "source": [
    "3. Si $f_n \\in O(g_n)$ et $f'_n \\in O(g'_n)$ alors $f_n + f'_n \\in O(\\max(g_n, g'_n))$\n",
    "\n",
    "Cas particuliers :\n",
    "  - si $f_n \\in O(g_n)$ et $f'_n \\in O(g_n)$ alors $f_n + f'_n \\in O(g_n)$\n",
    "  - $f_n + f_n \\in O(f_n)$\n",
    "  \n",
    "**exemples :** \n",
    "- $n + n \\in O(n)$\n",
    "- $n^2 + 100 \\in O(\\max(n^2, 100))$,  \n",
    "  mais comme $100 \\in O(n^2)$ on a aussi $n^2 + 100 \\in O(n^2)$"
   ]
  },
  {
   "cell_type": "markdown",
   "metadata": {
    "slideshow": {
     "slide_type": "subslide"
    }
   },
   "source": [
    "4. Si $f_n \\in O(g_n)$ et $f'_n \\in O(g'_n)$ alors $f_n \\times f'_n \\in O(g_n \\times g'_n)$\n",
    "\n",
    "  **exemples :** $(4n) \\times (\\log n/2) \\in O(n \\log n)$  \n",
    "  mais aussi $(4n) \\times (\\log n/2) \\in O(n^2)$"
   ]
  },
  {
   "cell_type": "markdown",
   "metadata": {
    "slideshow": {
     "slide_type": "slide"
    }
   },
   "source": [
    "### Échelle de fonctions\n",
    "\n",
    "On dit que $f_n$ croît plus lentement que $g_n$ ou est *dominée* par $g_n$, noté $f_n \\prec g_n$, si $\\lim_{n \\to \\infty} \\frac{f_n}{g_n} = 0$\n",
    "\n",
    "En d'autres termes, quand $n$ devient grand, $f_n$ devient négligeable devant $g_n$\n",
    "\n",
    "On écrit aussi : $f(n) \\in o(g(n))$"
   ]
  },
  {
   "cell_type": "markdown",
   "metadata": {
    "slideshow": {
     "slide_type": "subslide"
    }
   },
   "source": [
    "Pour tous réels $\\varepsilon$, $\\delta$, $c$ et $d$ avec $0 < \\varepsilon < \\delta < 1 < c < d$, on a :\n",
    "\n",
    "$$\n",
    "1 \\prec \\log n \\prec (\\log n)^c \\prec (\\log n)^d \\prec n^\\varepsilon \\prec n^\\delta \\prec n \\prec n^c \\prec n^d \\prec c^n \\prec d^n \\prec n! \\prec n^n \\prec c^{c^n}\n",
    "$$"
   ]
  },
  {
   "cell_type": "markdown",
   "metadata": {
    "slideshow": {
     "slide_type": "subslide"
    }
   },
   "source": [
    "En particulier :\n",
    "\n",
    "$$\n",
    "1 \\prec \\log n  \\prec \\sqrt{n} \\prec n \\prec n \\log n \\prec n^2 \\prec n^3 \\prec 2^n \\prec n!\n",
    "$$"
   ]
  },
  {
   "cell_type": "markdown",
   "metadata": {
    "slideshow": {
     "slide_type": "subslide"
    }
   },
   "source": [
    "#### Propriété importante :\n",
    "\n",
    "5. Si $f_n \\prec g_n$ alors $f_n \\in O(g_n)$  \n",
    "*Si une fonction croît plus lentement qu'une autre, alors elle est dominée asymptotiquement par cette fonction*\n",
    "\n",
    "**exemples :**\n",
    "- $n \\in O(n^2)$, $n^2 \\in O(n^3)$, $n^3 \\in O(n^{100})\\ldots$\n",
    "- $\\sqrt{n} \\in O(n)$\n",
    "- $n \\log n \\in O(n^2)$"
   ]
  },
  {
   "cell_type": "markdown",
   "metadata": {
    "slideshow": {
     "slide_type": "slide"
    }
   },
   "source": [
    "### Règle pratique\n",
    "\n",
    "En combinant les règles précédentes on obtient : \n",
    "\n",
    "- $O(c \\cdot f_n) = O(f_n)$ si $c$ ne dépend pas de $n$\n",
    "- $O(f_n + g_n) = O(g_n)$ si $f_n \\in O(g_n)$\n",
    "\n",
    "Cela signifie que dans une expression $O$ on peut\n",
    "- *ignorer les constantes multiplicatives*\n",
    "- *ignorer les termes dominés*"
   ]
  },
  {
   "cell_type": "markdown",
   "metadata": {
    "slideshow": {
     "slide_type": "subslide"
    }
   },
   "source": [
    "#### Exemple\n",
    "\n",
    "Soit un algorithme effectuant $g(n)=4n^3+5n^2\\log(n)+2000n+3$ opérations sur des entrées de taille $n$, on a : \n",
    "\n",
    "$$\n",
    "\\begin{aligned}\n",
    "    g(n) & \\in O(4 n^3 + 5 n^2 \\log(n) + 2000 n + 3)\\\\\n",
    "         & \\in O(4n^3) \\\\\n",
    "         & \\in O(n^3)\n",
    "\\end{aligned}\n",
    "$$"
   ]
  },
  {
   "cell_type": "markdown",
   "metadata": {
    "slideshow": {
     "slide_type": "slide"
    }
   },
   "source": [
    "### Observations\n",
    "\n",
    "Attention, la notation $O(...)$ n'est pas toujours intuitive ! Il faut bien se souvenir qu'il s'agit d'une *majoration* (à la limite et à un facteur près). En particulier, ce n'est pas une notation « symétrique ».\n",
    "\n",
    "On peut par exmple faire les observations suivantes :\n",
    "\n",
    "-   $f(n) \\in O(g(n))$ n’implique pas $g(n) \\in O(f(n))$:\n",
    "\n",
    "    -   contre-exemple: $n \\in O(n^2)$, mais $n^2 \\not\\in O(n)$;\n",
    "\n",
    "-   $f(n) \\not\\in O(g(n))$ n’implique pas $g(n) \\not\\in O(f(n))$:\n",
    "\n",
    "    -   contre-exemple: $n^3 \\not\\in O(n^2)$, mais $n^2 \\in  O(n^3)$;"
   ]
  },
  {
   "cell_type": "markdown",
   "metadata": {
    "slideshow": {
     "slide_type": "slide"
    }
   },
   "source": [
    "### Justification des conventions : pourquoi utiliser $O$ ?\n",
    "\n",
    "-   On raisonne sur des algorithmes, pas sur leurs **implémentations**\n",
    "\n",
    "    -   les processeurs actuels effectuent plusieurs milliards\n",
    "        d’opérations par seconde\n",
    "\n",
    "    -   qu’une affectation requière 2 ou 4 unités de temps ne change pas\n",
    "        grand-chose\n",
    "\n",
    "    -   et d’ailleurs on ne peut pas toujours le savoir"
   ]
  },
  {
   "cell_type": "markdown",
   "metadata": {
    "slideshow": {
     "slide_type": "subslide"
    }
   },
   "source": [
    "-   On s’intéresse plutôt à une **vitesse de croissance**\n",
    "\n",
    "    -   quand $n$ grandit, certains termes croissent plus vite, les autres deviennent négligeables\n",
    "    -   cela peut suffire à faire des prédictions sur le temps de calcul d'un programme"
   ]
  },
  {
   "cell_type": "markdown",
   "metadata": {
    "slideshow": {
     "slide_type": "slide"
    }
   },
   "source": [
    "### Analyse de complexité en pratique\n",
    "\n",
    "Les instructions de base sont supposées prendre un temps constant, noté $O(1)$. Pour les autres structures de contrôle, on applique les règles vues précédemment.\n",
    "\n",
    "#### Séquences d'instructions\n",
    "\n",
    "-   On additionne les complexités des opérations (ou on prend le maximum) :\n",
    "\n",
    "    ```python\n",
    "    une_instruction      # complexité : O(f(n))\n",
    "    instuction_suivante  # complexité : O(g(n))\n",
    "    ```\n",
    "    \n",
    "    Coût total en $O(f(n) + g(n)) = O(\\max(f(n), g(n)))$"
   ]
  },
  {
   "cell_type": "markdown",
   "metadata": {
    "slideshow": {
     "slide_type": "subslide"
    }
   },
   "source": [
    "#### Conditionnelles\n",
    "\n",
    "-   On additionne les complexités (ou on prend le maximum):\n",
    "\n",
    "    ```python\n",
    "    if condition:  # complexité : O(g(n))\n",
    "        bloc1      # complexité : O(f1(n))\n",
    "    else:\n",
    "        bloc2      # complexité : O(f2(n))\n",
    "    ```\n",
    "\n",
    "    Coût total en $O(g(n) + f_1(n) + f_2(n)) = O(\\max(g(n), f_1(n), f_2(n))$"
   ]
  },
  {
   "cell_type": "markdown",
   "metadata": {
    "slideshow": {
     "slide_type": "subslide"
    }
   },
   "source": [
    "#### Boucles\n",
    "\n",
    "-   On **multiplie** la complexité du corps par le\n",
    "    nombre d’itérations;\n",
    "\n",
    "-   La complexité d’une boucle `while` se calcule comme suit:\n",
    "\n",
    "    ```python\n",
    "    while condition:  # complexité : O(g(n))\n",
    "        bloc          # complexité : O(f(n))\n",
    "    ```\n",
    "\n",
    "    Coût total pour $m$ itérations : $O(m \\times \\max(g(n), f(n)))$  \n",
    "    *Attention :* $m$ peut dépendre de $n$ !"
   ]
  },
  {
   "cell_type": "markdown",
   "metadata": {
    "slideshow": {
     "slide_type": "subslide"
    }
   },
   "source": [
    "#### Appels de fonctions\n",
    "\n",
    "-   On calcule la complexité du corps de la fonction  \n",
    "    (exprimée en fonction de la taille de ses paramètres)\n",
    "\n",
    "-   On substitue cette complexité à la ligne de l'appel\n",
    "\n",
    "    ```python\n",
    "    def f(parametres):  # m mesure la taille des parametres\n",
    "        corps           # complexité : O(f(m))\n",
    "\n",
    "    mes_params = ...  # n mesure la taille de mes_params\n",
    "    f(mes_params)     # complexité O(f(n))\n",
    "    ```\n",
    "\n",
    "    *Attention :* bien choisir comment on mesure la taille des paramètres !"
   ]
  },
  {
   "cell_type": "markdown",
   "metadata": {
    "slideshow": {
     "slide_type": "slide"
    }
   },
   "source": [
    "### Calcul de la complexité d’un algorithme\n",
    "\n",
    "-   Pour calculer la complexité d’un algorithme:\n",
    "\n",
    "    1.  on calcule la complexité de chaque “partie” de l’algorithme;\n",
    "\n",
    "    2.  on combine ces complexités conformément aux règles qu’on vient\n",
    "        de voir;\n",
    "\n",
    "    3.  on simplifie le résultat grâce aux règles de simplifications\n",
    "        qu’on a vues;\n",
    "\n",
    "        -   élimination des constantes, et\n",
    "\n",
    "        -   conservation du (des) terme(s) dominant(s)"
   ]
  },
  {
   "cell_type": "markdown",
   "metadata": {
    "slideshow": {
     "slide_type": "subslide"
    }
   },
   "source": [
    "#### Exemple\n",
    "\n",
    "Reprenons le calcul de la factorielle, qui nécessitait $5n-1$\n",
    "opérations:\n",
    "\n",
    "```python\n",
    "def fact_iter(n):  \n",
    "    fact = 1             # affectation :  O(1)\n",
    "    i = 2                # affectation :  O(1)\n",
    "    while i <= n:        # comparaison :  O(1)\n",
    "        fact = fact * i  # mult. + aff. : O(1)\n",
    "        i = i + 1        # add. + aff. :  O(1)\n",
    "    return fact          # retour:        O(1)\n",
    "````\n",
    "\n",
    "Complexité totale : $O(1 + 1 + (n-1) \\times (1 + 1 + 1)) + 1) = O(3n + 3 - 3) = O(n)$"
   ]
  },
  {
   "cell_type": "markdown",
   "metadata": {
    "slideshow": {
     "slide_type": "subslide"
    }
   },
   "source": [
    "#### Autre méthode possible\n",
    "\n",
    "On peut aussi calculer le nombre de fois où une des instructions les plus fréquentes est effectuée\n",
    "\n",
    "- Plus facile à calculer\n",
    "- Le nombre total aura au plus la même vitesse de croissance (à un facteur près)"
   ]
  },
  {
   "cell_type": "markdown",
   "metadata": {
    "slideshow": {
     "slide_type": "subslide"
    }
   },
   "source": [
    "Dans `fact_iter`, on peut par exemple compter le nombre de multiplications :\n",
    "\n",
    "```python\n",
    "def fact_iter(n):  \n",
    "    fact = 1\n",
    "    i = 2        \n",
    "    while i <= n:\n",
    "        fact = fact * i  # une multiplication\n",
    "        i = i + 1\n",
    "    return fact\n",
    "````\n",
    "\n",
    "On obtient bien $n-1$ tours de boucles, donc $n-1$ multiplications, donc $O(n)$ opérations au total."
   ]
  },
  {
   "cell_type": "markdown",
   "metadata": {
    "slideshow": {
     "slide_type": "subslide"
    }
   },
   "source": [
    "Justification :\n",
    "- Les opérations en-dehors de la boucle ne s'exécutent qu'un nombre constant de fois, elles ne contribuent donc pas à l'expression $O(...)$. \n",
    "- Chaque tour de boucle effectue un nombre constant d'opérations. Il est donc suffisant d'en compter une choisie arbitrairement."
   ]
  },
  {
   "cell_type": "markdown",
   "metadata": {
    "slideshow": {
     "slide_type": "slide"
    }
   },
   "source": [
    "### Notation $\\Theta$\n",
    "\n",
    "On dit que deux fonctions $f(n)$ et $g(n)$ sont **asymptotiquement équivalentes à un facteur près** et on note $f(n) \\in \\Theta(g(n))$ si\n",
    "    \n",
    "$$f(n) \\in O(g(n)) \\mbox{ et } g(n) \\in O(f(n))$$\n",
    "\n",
    "autrement dit :\n",
    "\n",
    "$$\\displaystyle\n",
    "\\exists\\ n_0 \\in \\mathbb{N},\n",
    "\\exists\\ c_1, c_2 \\in \\mathbb{R},\n",
    "  \\forall\\ n\\geq n_0: \\quad\n",
    "  c_1 |g(n)| \\leq |f(n)| \\leq c_2 |g(n)|\n",
    "$$\n",
    "\n",
    "Par exemple, $5n^2 + 30n + 6 \\in \\Theta(n^2)$.\n",
    "\n",
    "Cette notation est plus précise que la notation $O$, puisqu'elle affirme qu'une fonction $f$ est à la fois minorée **et** majorée asymptotiquement par une autre fonction $g$. On l'utilise donc à chaque fois que c'est possible."
   ]
  },
  {
   "cell_type": "markdown",
   "metadata": {
    "slideshow": {
     "slide_type": "slide"
    }
   },
   "source": [
    "### Quelques familles de fonctions de complexité\n",
    "\n",
    "| **Majorant asymptotique**    | **Nom de classe** | **Exemple**\n",
    "|------------------------------|-------------------|-------------------------\n",
    "| $O(1)$                       | constante         | minimum d'une liste triée\n",
    "| $O(\\log n)$                  | logarithmique     | recherche dans une liste triée (à suivre)\n",
    "| $O(n)$                       | linéaire          | recherche dans une liste non triée\n",
    "| $O(n \\log n)$                | quasi-linéaire    | tri optimal d'une liste (à suivre)\n",
    "| $O(n^2)$                     | quadratique       | recherche de doublons, tri naïf\n",
    "| $O(n^3)$                     | cubique           | produit de matrices $n \\times n$\n",
    "| $O(2^n)$                     | exponentiel       | tours de Hanoï, sac à dos\n",
    "  "
   ]
  },
  {
   "cell_type": "markdown",
   "metadata": {
    "slideshow": {
     "slide_type": "subslide"
    }
   },
   "source": [
    "<img src='img/plot_classes-0.png' style='width:40%'>"
   ]
  },
  {
   "cell_type": "markdown",
   "metadata": {
    "slideshow": {
     "slide_type": "subslide"
    }
   },
   "source": [
    "<img src='img/plot_classes-1.png' style='width:40%'>"
   ]
  },
  {
   "cell_type": "markdown",
   "metadata": {
    "slideshow": {
     "slide_type": "subslide"
    }
   },
   "source": [
    "<img src='img/plot_classes-2.png' style='width:40%'>"
   ]
  },
  {
   "cell_type": "markdown",
   "metadata": {
    "slideshow": {
     "slide_type": "subslide"
    }
   },
   "source": [
    "<img src='img/plot_classes-3.png' style='width:40%'>"
   ]
  },
  {
   "cell_type": "markdown",
   "metadata": {
    "slideshow": {
     "slide_type": "subslide"
    }
   },
   "source": [
    "<img src='img/plot_classes-4.png' style='width:40%'>"
   ]
  },
  {
   "cell_type": "markdown",
   "metadata": {
    "slideshow": {
     "slide_type": "subslide"
    }
   },
   "source": [
    "<img src='img/plot_classes-5.png' style='width:40%'>"
   ]
  },
  {
   "cell_type": "markdown",
   "metadata": {
    "slideshow": {
     "slide_type": "subslide"
    }
   },
   "source": [
    "<img src='img/plot_classes-6.png' style='width:40%'>"
   ]
  },
  {
   "attachments": {},
   "cell_type": "markdown",
   "metadata": {},
   "source": [
    "## Exemples"
   ]
  },
  {
   "attachments": {},
   "cell_type": "markdown",
   "metadata": {},
   "source": [
    "### Exemple 1 : somme des $n$ premiers entiers"
   ]
  },
  {
   "cell_type": "code",
   "execution_count": null,
   "metadata": {},
   "outputs": [],
   "source": [
    "def somme_entiers(n):\n",
    "    acc = 0\n",
    "    for i in range(n):\n",
    "        acc = acc + i\n",
    "    return acc\n",
    "\n",
    "somme_entiers(10)"
   ]
  },
  {
   "attachments": {},
   "cell_type": "markdown",
   "metadata": {},
   "source": [
    "**Hypothèses :** `+`, affectations à `i` et à `acc`, `range(n)`, `return` en $O(1)$"
   ]
  },
  {
   "attachments": {},
   "cell_type": "markdown",
   "metadata": {},
   "source": [
    "**Complexité :** $n$ exécutions du corps de la boucle, donc $n \\times O(1) = O(n)$."
   ]
  },
  {
   "cell_type": "code",
   "execution_count": null,
   "metadata": {},
   "outputs": [],
   "source": [
    "def somme_entiers(n):\n",
    "    if n == 0:\n",
    "        return 0\n",
    "    else:\n",
    "        return (n-1) + somme_entiers(n-1)\n",
    "\n",
    "somme_entiers(10)"
   ]
  },
  {
   "attachments": {},
   "cell_type": "markdown",
   "metadata": {},
   "source": [
    "**Complexité :** \n",
    "\n",
    "\\begin{align*}\n",
    "T(n) &= O(1) + T(n-1) \\\\&= O(1) + \\cdots + O(1) \\text{\\quad($n$ fois)} \\\\ &= n \\times O(1) \\\\&= O(n)\n",
    "\\end{align*}"
   ]
  },
  {
   "attachments": {},
   "cell_type": "markdown",
   "metadata": {},
   "source": [
    "### Exemple 2 : liste des couples d'entiers entre $0$ et $n-1$"
   ]
  },
  {
   "cell_type": "code",
   "execution_count": null,
   "metadata": {},
   "outputs": [],
   "source": [
    "def liste_couples(n):\n",
    "    acc = []\n",
    "    for i in range(n):\n",
    "        for j in range(n):\n",
    "            acc.append((i, j))\n",
    "    return acc\n",
    "\n",
    "liste_couples(10)"
   ]
  },
  {
   "attachments": {},
   "cell_type": "markdown",
   "metadata": {},
   "source": [
    "**Hypothèses :** les précédentes, plus : création d'une liste vide et `append` en $O(1)$, fabrication d'un couple en $O(1)$ "
   ]
  },
  {
   "attachments": {},
   "cell_type": "markdown",
   "metadata": {},
   "source": [
    "**Complexité :** pour chaque valeur fixée de `i`, $n$ tours de la petite boucle. Total :\n",
    "\n",
    "$$\n",
    "O(\\sum_{i=0}^{n-1} n) = O(n \\times n) = O(n^2)\n",
    "$$"
   ]
  },
  {
   "attachments": {},
   "cell_type": "markdown",
   "metadata": {},
   "source": [
    "### Exemple 3 : recherche de doublons dans une liste"
   ]
  },
  {
   "cell_type": "code",
   "execution_count": null,
   "metadata": {},
   "outputs": [],
   "source": [
    "def est_sans_doublon(lst):\n",
    "    for i in range(n):\n",
    "        for j in range(i+1, n):   # /!\\\n",
    "            if list[i] == lst[j]:\n",
    "                return False\n",
    "    return True"
   ]
  },
  {
   "attachments": {},
   "cell_type": "markdown",
   "metadata": {},
   "source": [
    "**Hypothèses :** les précédentes, plus : accès élément de liste en $O(1)$, comparaison en $O(1)$ (**pas toujours vrai !!**) "
   ]
  },
  {
   "attachments": {},
   "cell_type": "markdown",
   "metadata": {},
   "source": [
    "**Complexité (au pire !) :** pour chaque valeur fixée de `i`, $n-i-1$ tours de la petite boucle. Total :\n",
    "\n",
    "\\begin{align*}\n",
    "\\sum_{i=0}^{n-1} (n-i-1) &= \\sum_{k=n-1}^{0} k & & \\text{\\quad en posant $k = n-i-1$}\\\\\n",
    "                         &= \\sum_{k=0}^{n-i-1} k \\\\\n",
    "                         &= 0 + 1 + 2 + 3 + \\cdots + (n-1)\\\\\n",
    "                         &= \\frac{n (n-1)}{2}\n",
    "\\end{align*}\n",
    "\n",
    "Comme chaque tour de la petite boucle est en $O(1)$ on obtient une complexité totale au pire de $O(n^2)$"
   ]
  },
  {
   "cell_type": "code",
   "execution_count": null,
   "metadata": {},
   "outputs": [],
   "source": [
    "# Listes récursives : toutes ces fonctions sont en O(1)\n",
    "\n",
    "def liste_vide():\n",
    "    return None\n",
    "\n",
    "def est_vide(r_liste):\n",
    "    return r_liste == None\n",
    "\n",
    "def tete(r_liste):\n",
    "    return r_liste[0]\n",
    "\n",
    "def suite(r_liste):\n",
    "    return r_liste[1]"
   ]
  },
  {
   "cell_type": "code",
   "execution_count": null,
   "metadata": {},
   "outputs": [],
   "source": [
    "def recherche(elem, rlst):\n",
    "    if est_vide(rlst):\n",
    "        return False\n",
    "    elif elem == tete(rlst):\n",
    "        return True\n",
    "    else:\n",
    "        return recherche(elem, suite(rlst))\n",
    "\n",
    "def contient_doublon(rlst):\n",
    "    if est_vide(rlst):\n",
    "        return False\n",
    "    elif recherche(tete(rlst), suite(rlst)):\n",
    "        return True\n",
    "    else:\n",
    "        return contient_doublon(suite(rlst))\n",
    "\n",
    "est_sans_doublon((3, (1, (2, (4, (7, None))))))"
   ]
  },
  {
   "attachments": {},
   "cell_type": "markdown",
   "metadata": {},
   "source": [
    "**Complexité dans le pire cas :**\n",
    "\n",
    "- `recherche(elem, rlst)` est en $O(k)$ où $k$ est la longueur de `rlst` (Cf. exemple 1)\n",
    "- `est_sans_doublon` fait un appel à `recherche(elem, rlst)` avec `rlst` de longueur $n-1$, puis $n-2$, etc. \n",
    "- Total : $O(n-1 + \\cdots + 1 + 0) = O(n^2)$ (même calcul que précédemment)"
   ]
  },
  {
   "attachments": {},
   "cell_type": "markdown",
   "metadata": {},
   "source": [
    "### Exemple 4 : recherche récursive buggée sur une liste Python"
   ]
  },
  {
   "cell_type": "code",
   "execution_count": null,
   "metadata": {},
   "outputs": [],
   "source": [
    "def recherche_rec(lst, e):\n",
    "    if len(lst) == 0:\n",
    "        return False\n",
    "    elif lst[0] == e:\n",
    "        return True\n",
    "    else:\n",
    "        return recherche_rec(lst[1:], e)"
   ]
  },
  {
   "attachments": {},
   "cell_type": "markdown",
   "metadata": {},
   "source": [
    "**Hypothèse :** `lst[1:]` compte comme $n-1$ affectations (recopie de tous les éléments sauf un)"
   ]
  },
  {
   "attachments": {},
   "cell_type": "markdown",
   "metadata": {},
   "source": [
    "**Complexité (au pire !) :** On calcule $n$ fois `lst[1:]` pour `lst` de taille $n$ jusqu'à 1. Total :\n",
    "\n",
    "\\begin{align*}\n",
    "\\sum_{i=n}^{1} (i-1)  &= \\sum_{i=n-1}^{0} i \\\\\n",
    "                      &= \\sum_{i=0}^{n-1} i \\\\\n",
    "                      &= 0 + 1 + 2 + \\cdots + (n-1)\\\\\n",
    "                      &= \\frac{n (n-1)}{2}\n",
    "\\end{align*}\n",
    "\n",
    "Ceci confirme nos observations de début de chapitre ! Cette version est de complexité $O(n^2)$ au lieu de $O(n)$ (d'où la courbe à l'allure de parabole)"
   ]
  },
  {
   "attachments": {},
   "cell_type": "markdown",
   "metadata": {},
   "source": [
    "### Exemple 5 : test de primalité naïf"
   ]
  },
  {
   "cell_type": "code",
   "execution_count": null,
   "metadata": {},
   "outputs": [],
   "source": [
    "def est_premier(n):\n",
    "    for i in range(2, n):  # ne pas commencer à 0 ou à 1 !!\n",
    "        if n % i == 0:\n",
    "            return False\n",
    "    return True\n",
    "\n",
    "est_premier(331999)"
   ]
  },
  {
   "cell_type": "markdown",
   "metadata": {},
   "source": [
    "**Complexité au pire :** $O(n)$ sous les hypothèses habituelles"
   ]
  },
  {
   "attachments": {},
   "cell_type": "markdown",
   "metadata": {},
   "source": [
    "**Proposition :** pour tout $n >= 2$, si $n$ n'est pas premier alors il existe $a, b \\in \\mathbb{N}$, avec $2 \\leq a \\leq \\sqrt{n}$, tels que $n = ab$"
   ]
  },
  {
   "cell_type": "code",
   "execution_count": null,
   "metadata": {},
   "outputs": [],
   "source": [
    "def est_premier_bis(n):\n",
    "    i = 2\n",
    "    while i*i <= n:\n",
    "        if n % i == 0:\n",
    "            return False\n",
    "        i += 1\n",
    "    return True\n",
    "\n",
    "est_premier_bis(331999)"
   ]
  },
  {
   "attachments": {},
   "cell_type": "markdown",
   "metadata": {},
   "source": [
    "**Complexité :** ??"
   ]
  },
  {
   "cell_type": "markdown",
   "metadata": {
    "slideshow": {
     "slide_type": "slide"
    }
   },
   "source": [
    "## Exercice (tiré du TP 6) : puissance rapide\n",
    "\n",
    "On souhaite tester et comparer plusieurs algorithmes calculant $a^n$, pour $a$ flottant ou entier et $n$ entier positif. Pour cela, on considère plusieurs définitions de $a^n$."
   ]
  },
  {
   "attachments": {},
   "cell_type": "markdown",
   "metadata": {
    "slideshow": {
     "slide_type": "subslide"
    }
   },
   "source": [
    "$$\n",
    "a^n=\\begin{cases}\n",
    "a*a^{n-1} & \\text{ si $n>0$},\\\\\n",
    "1 & \\text{ si $n=0$}.\n",
    "\\end{cases}\n",
    "$$"
   ]
  },
  {
   "cell_type": "markdown",
   "metadata": {},
   "source": [
    "\n",
    "$$\n",
    "a^n=\\begin{cases}\n",
    "(a^2)^{n/2}         & \\text{ si $n>0$ est pair},\\\\\n",
    "a*((a^2)^{(n-1)/2}) & \\text{ si $n$ est impair},\\\\\n",
    "1 & \\text{ si $n=0$}.\n",
    "\\end{cases}\n",
    "$$"
   ]
  },
  {
   "cell_type": "markdown",
   "metadata": {},
   "source": [
    "\n",
    "$$\n",
    "a^n=\\begin{cases}\n",
    "(a^{n/2})^2       & \\text{ si $n>0$ est pair},\\\\\n",
    "a*(a^{(n-1)/2})^2 & \\text{ si $n$ est impair},\\\\\n",
    "1 & \\text{ si $n=0$}.\n",
    "\\end{cases}\n",
    "$$"
   ]
  },
  {
   "cell_type": "markdown",
   "metadata": {
    "slideshow": {
     "slide_type": "subslide"
    }
   },
   "source": [
    "Chacune de ces définitions fournit un algorithme récursif. Pour chacun de ces trois algorithmes :\n",
    "\n",
    "1. Appliquez à la main l'algorithme pour calculer $a^{10}$ pour $a$ quelconque, et comptez le nombre de multiplications nécessaires\n",
    "2. Cherchez une expression du nombre total de multiplications nécessaires pour calculer $a^n$ en fonction de $n$\n",
    "3. Donnez une implémentation en Python de l'algorithme"
   ]
  },
  {
   "cell_type": "code",
   "execution_count": null,
   "metadata": {},
   "outputs": [],
   "source": []
  }
 ],
 "metadata": {
  "celltoolbar": "Diaporama",
  "kernelspec": {
   "display_name": "Python 3 (ipykernel)",
   "language": "python",
   "name": "python3"
  },
  "language_info": {
   "codemirror_mode": {
    "name": "ipython",
    "version": 3
   },
   "file_extension": ".py",
   "mimetype": "text/x-python",
   "name": "python",
   "nbconvert_exporter": "python",
   "pygments_lexer": "ipython3",
   "version": "3.11.6"
  },
  "vscode": {
   "interpreter": {
    "hash": "916dbcbb3f70747c44a77c7bcd40155683ae19c65e1c03b4aa3499c5328201f1"
   }
  }
 },
 "nbformat": 4,
 "nbformat_minor": 4
}
