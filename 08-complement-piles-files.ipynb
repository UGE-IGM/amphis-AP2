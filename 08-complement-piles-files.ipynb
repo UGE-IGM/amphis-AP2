{
 "cells": [
  {
   "attachments": {},
   "cell_type": "markdown",
   "metadata": {},
   "source": [
    "<div>\n",
    "<div style='float:left; margin-right:20pt; width:15%'><img src='img/logo-igm.png'></div>\n",
    "<strong>Algorithmique et programmation 2</strong><br>\n",
    "L1 Mathématiques - L1 Informatique<br>\n",
    "Semestre 2\n",
    "</div>"
   ]
  },
  {
   "attachments": {},
   "cell_type": "markdown",
   "metadata": {},
   "source": [
    "# Piles et files\n",
    "\n",
    "## Le type *pile*\n",
    "\n",
    "### Principe\n",
    "\n",
    "* Conteneur avec politique « dernier arrivé, premier sorti » (LIFO)\n",
    "* Utilisé partout en informatique (pile d'exécution, analyse syntaxique...)\n",
    "* Type abstrait de données (défini par ses opérations)\n",
    "\n",
    "    - ajout au sommet (souvent appelé *push*)\n",
    "    - retrait du sommet (souvent appelé *pop*)\n",
    "    - test si pile vide"
   ]
  },
  {
   "attachments": {},
   "cell_type": "markdown",
   "metadata": {},
   "source": [
    "### Implémentations\n",
    "\n",
    "Avec des `list` :\n",
    "- ajout au sommet avec `lst.append(x)`\n",
    "- retrait du sommet avec `lst.pop()`\n",
    "- test si vide avec `len(lst) == 0`\n",
    "\n",
    "Complexité : tout en $O(1)$ !"
   ]
  },
  {
   "attachments": {},
   "cell_type": "markdown",
   "metadata": {},
   "source": [
    "Avec des listes récursives :\n",
    "\n",
    "- ajout au sommet avec `ajout_debut(lst, x)`\n",
    "- retrait du sommet avec `tete(lst)` et `suite(lst)`\n",
    "- test du vide avec `est_vide(lst)`\n",
    "\n",
    "Complexité : tout en $O(1)$ !"
   ]
  },
  {
   "cell_type": "markdown",
   "metadata": {},
   "source": [
    "### Exemple d'utilisation : évaluation d'expressions arithmétiques\n",
    "\n",
    "* Calculateur d'expressions arithmétiques parenthésées (notation « infixe »)\n",
    "* Une pile pour stocker les opérandes, une pour les opérateurs\n",
    "\n",
    "*expression utilisée dans l'exemple : $1 + (2 + 3) \\times (4 \\times 5)$*"
   ]
  },
  {
   "cell_type": "code",
   "execution_count": 1,
   "metadata": {},
   "outputs": [
    {
     "data": {
      "text/plain": [
       "56"
      ]
     },
     "execution_count": 1,
     "metadata": {},
     "output_type": "execute_result"
    }
   ],
   "source": [
    "def evaluer(expr):\n",
    "    nombres = []     # pile !\n",
    "    operateurs = []  # pile !\n",
    "    i = 0  # curseur dans l'expression\n",
    "    \n",
    "    while i < len(expr):\n",
    "        if expr[i] in \" (\":\n",
    "            i += 1\n",
    "            continue\n",
    "        if expr[i] in \"0123456789\":\n",
    "            nb = 0\n",
    "            while expr[i] in \"0123456789\":\n",
    "                nb = nb * 10 + int(expr[i])\n",
    "                i += 1\n",
    "            nombres.append(nb)\n",
    "            continue\n",
    "        if expr[i] == \"+\":\n",
    "            operateurs.append(lambda a, b: a + b) \n",
    "        elif expr[i] == \"*\":\n",
    "            operateurs.append(lambda a, b: a * b) \n",
    "        # etc.\n",
    "        elif expr[i] == \")\":\n",
    "            op = operateurs.pop()  # on dépile un opérateur\n",
    "            nbd = nombres.pop()    # puis deux opérandes\n",
    "            nbg = nombres.pop()\n",
    "            nombres.append(op(nbg, nbd))\n",
    "        i += 1\n",
    "    return nombres.pop()\n",
    "    \n",
    "une_exp = \"(11 + ((2 + 3) * (4 + 5)))\"\n",
    "evaluer(une_exp)"
   ]
  },
  {
   "cell_type": "markdown",
   "metadata": {},
   "source": [
    "Il se passe un truc rigolo si on déplace les opérateurs (sans dépasser les parenthèses) :"
   ]
  },
  {
   "cell_type": "code",
   "execution_count": 2,
   "metadata": {},
   "outputs": [
    {
     "data": {
      "text/plain": [
       "56"
      ]
     },
     "execution_count": 2,
     "metadata": {},
     "output_type": "execute_result"
    }
   ],
   "source": [
    "autre_exp = \"(+ 11 (* (+ 2 3) (+ 4 5)))\"\n",
    "evaluer(autre_exp)"
   ]
  },
  {
   "cell_type": "code",
   "execution_count": 3,
   "metadata": {},
   "outputs": [
    {
     "name": "stdout",
     "output_type": "stream",
     "text": [
      "56\n"
     ]
    }
   ],
   "source": [
    "troisieme_exp = \"(11 ((2 3 +) (4 5 +) *) +)\"\n",
    "print(evaluer(troisieme_exp))"
   ]
  },
  {
   "cell_type": "markdown",
   "metadata": {},
   "source": [
    "En réalité, si l'expression est en notation polonaise inversée (postfixe) :\n",
    "\n",
    "* On peut complètement supprimer les parenthèses\n",
    "* L'évaluateur devient plus simple (pas besoin de pile d'opérateurs)\n",
    "* En notation préfixe ça fonctionne aussi (en lisant à l'envers)"
   ]
  },
  {
   "cell_type": "code",
   "execution_count": 7,
   "metadata": {},
   "outputs": [
    {
     "name": "stdout",
     "output_type": "stream",
     "text": [
      "56\n"
     ]
    }
   ],
   "source": [
    "def evaluer_postfixe(expr):\n",
    "    nombres = []  # pile d'opérandes !\n",
    "    # pas de pile d'opérateurs !\n",
    "    i = 0\n",
    "    \n",
    "    while i < len(expr):\n",
    "        if expr[i] == \" \":\n",
    "            i += 1\n",
    "            continue\n",
    "        if expr[i] in \"0123456789\":\n",
    "            nb = 0\n",
    "            while expr[i] in \"0123456789\":\n",
    "                nb = nb * 10 + int(expr[i])\n",
    "                i += 1\n",
    "            nombres.append(nb)\n",
    "            continue\n",
    "        \n",
    "        nbd = nombres.pop()\n",
    "        nbg = nombres.pop()\n",
    "        if expr[i] == \"+\":\n",
    "            nombres.append(nbg + nbd)\n",
    "        elif expr[i] == \"*\":\n",
    "            nombres.append(nbg * nbd)\n",
    "        i += 1\n",
    "    return nombres.pop()\n",
    "\n",
    "exp_postfixe = \"11 2 3 + 4 5 + * +\"\n",
    "print(evaluer_postfixe(exp_postfixe))"
   ]
  },
  {
   "cell_type": "markdown",
   "metadata": {},
   "source": [
    "Il existe encore d'autres variantes :\n",
    "\n",
    "* Expressions partiellement parenthésées (règles d'associativité et de priorité d'opérateurs)\n",
    "* Conversion d'un format à l'autre\n",
    "\n",
    "Thème abordé en L3 info dans les cours « analyse syntaxique » et « compilation »"
   ]
  },
  {
   "cell_type": "markdown",
   "metadata": {},
   "source": [
    "## Le type « file »"
   ]
  },
  {
   "attachments": {},
   "cell_type": "markdown",
   "metadata": {},
   "source": [
    "### Principe\n",
    "\n",
    "* Conteneur avec politique « premier arrivé, premier sorti » (FIFO)\n",
    "* Très courant également (files d'attente de paquets TCP/IP, buffers divers...)\n",
    "* Type abstrait de données (défini par ses opérations)\n",
    "\n",
    "    - ajout en **fin** de file (souvent appelé *enqueue*)\n",
    "    - retrait du **début** de file (souvent appelé *dequeue*)\n",
    "    - test si file vide"
   ]
  },
  {
   "cell_type": "markdown",
   "metadata": {},
   "source": [
    "\n",
    "### Implémentations\n",
    "\n",
    "#### Avec des `list`\n",
    "\n",
    "Version avec dernier arrivé en fin de liste :\n",
    "\n",
    "- ajout en fin de file : `lst.append(x)`\n",
    "- retrait en début de file : `lst.pop(0)`\n",
    "\n",
    "**OU :**\n",
    "\n",
    "Version avec dernier arrivé en début de liste :\n",
    "\n",
    "- ajout en fin de file : `lst.insert(0, x)`\n",
    "- retrait en début de file : `lst.pop()`"
   ]
  },
  {
   "cell_type": "markdown",
   "metadata": {},
   "source": [
    "\n",
    "#### Avec des listes récursives\n",
    "\n",
    "Même dilemme à résoudre... \n",
    "\n",
    "**Exercice :** décrire l'implémentation de chacune des opérations"
   ]
  },
  {
   "attachments": {},
   "cell_type": "markdown",
   "metadata": {},
   "source": [
    "### Un point sur la complexité\n",
    "\n",
    "Problème sur les files : avec les listes Python comme avec les listes récursives, *enqueue* et *dequeue* ne peuvent pas être efficaces toutes les deux.\n",
    "\n",
    "<table>\n",
    "<tr>\n",
    "<th>Opération</th>\n",
    "<td>Ajout en tête</td>\n",
    "<td>Retrait en tête</td>\n",
    "<td>Ajout en queue</td>\n",
    "<td>Retrait en queue</td>\n",
    "</tr>\n",
    "<tr>\n",
    "<th>Type `list`</th>\n",
    "<td>O(n)</td>\n",
    "<td>O(n)</td>\n",
    "<td>O(1)</td>\n",
    "<td>O(1)</td>\n",
    "</tr>\n",
    "<tr>\n",
    "<th>Liste récursive</th>\n",
    "<td>O(1)</td>\n",
    "<td>O(1)</td>\n",
    "<td>O(n)</td>\n",
    "<td>O(n)</td>\n",
    "</tr>\n",
    "</table>"
   ]
  },
  {
   "attachments": {},
   "cell_type": "markdown",
   "metadata": {},
   "source": [
    "Amélioration possible (un peu technique) : \n",
    "* Deux curseurs : `debut` et `fin`\n",
    "* Ne pas décaler les éléments, tolérer un \"trou\" dans la liste\n",
    "* Liste considérée comme circulaire (passage de `len(lst)-1` à `0`)\n",
    "* Si la liste est pleine, redimensionner et \"recaler\" à 0\n",
    "\n",
    "Il existe d'autres *structures de données* qui répondent au problème (notamment listes chaînées, vues en L2)"
   ]
  },
  {
   "cell_type": "markdown",
   "metadata": {},
   "source": [
    "### Variante : file à double sens (« *deque* »)\n",
    "\n",
    "* « deque » : *double-ended queue* (« file à deux bouts »)\n",
    "* Opérations possibles : ajout et retrait efficaces en début ou en fin\n",
    "* Demande encore une adaptation du modèle de liste..."
   ]
  },
  {
   "cell_type": "code",
   "execution_count": 8,
   "metadata": {},
   "outputs": [
    {
     "data": {
      "text/plain": [
       "['__add__',\n",
       " '__bool__',\n",
       " '__class__',\n",
       " '__contains__',\n",
       " '__copy__',\n",
       " '__delattr__',\n",
       " '__delitem__',\n",
       " '__dir__',\n",
       " '__doc__',\n",
       " '__eq__',\n",
       " '__format__',\n",
       " '__ge__',\n",
       " '__getattribute__',\n",
       " '__getitem__',\n",
       " '__gt__',\n",
       " '__hash__',\n",
       " '__iadd__',\n",
       " '__imul__',\n",
       " '__init__',\n",
       " '__init_subclass__',\n",
       " '__iter__',\n",
       " '__le__',\n",
       " '__len__',\n",
       " '__lt__',\n",
       " '__mul__',\n",
       " '__ne__',\n",
       " '__new__',\n",
       " '__reduce__',\n",
       " '__reduce_ex__',\n",
       " '__repr__',\n",
       " '__reversed__',\n",
       " '__rmul__',\n",
       " '__setattr__',\n",
       " '__setitem__',\n",
       " '__sizeof__',\n",
       " '__str__',\n",
       " '__subclasshook__',\n",
       " 'append',\n",
       " 'appendleft',\n",
       " 'clear',\n",
       " 'copy',\n",
       " 'count',\n",
       " 'extend',\n",
       " 'extendleft',\n",
       " 'index',\n",
       " 'insert',\n",
       " 'maxlen',\n",
       " 'pop',\n",
       " 'popleft',\n",
       " 'remove',\n",
       " 'reverse',\n",
       " 'rotate']"
      ]
     },
     "execution_count": 8,
     "metadata": {},
     "output_type": "execute_result"
    }
   ],
   "source": [
    "from collections import deque\n",
    "dir(deque)"
   ]
  },
  {
   "cell_type": "markdown",
   "metadata": {},
   "source": [
    "## Exemple final : recherche de chemin dans un graphe\n",
    "\n",
    "Semblable au coloriage de zone (chapitre sur la récursivité)\n",
    "\n",
    "* Avec une fonction récursive ou en stockant les cases à visiter dans une pile : recherche \"en profondeur d'abord\"<br>\n",
    "  Avantages de la pile : *(remarque pour les pros)*\n",
    "    + potentiellement moins de mémoire utilisée\n",
    "    + pas de souci avec la limite de récursion\n",
    "* En stockant les cases à visiter dans une file : coloriage du plus proche au plus lointain\n",
    "* Sujet approfondi dans le module « Algorithmique des graphes » en L3 info (parcours de graphes)"
   ]
  }
 ],
 "metadata": {
  "kernelspec": {
   "display_name": "Python 3",
   "language": "python",
   "name": "python3"
  },
  "language_info": {
   "codemirror_mode": {
    "name": "ipython",
    "version": 3
   },
   "file_extension": ".py",
   "mimetype": "text/x-python",
   "name": "python",
   "nbconvert_exporter": "python",
   "pygments_lexer": "ipython3",
   "version": "3.10.7"
  }
 },
 "nbformat": 4,
 "nbformat_minor": 1
}
