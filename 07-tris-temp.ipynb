{
 "cells": [
  {
   "cell_type": "code",
   "execution_count": null,
   "metadata": {},
   "outputs": [],
   "source": [
    "def recherche_pos_insertion(lst, e, debut=0, fin=None):\n",
    "    if fin is None:\n",
    "        fin = len(lst)\n",
    "    while fin > debut:\n",
    "        i = (debut + fin) // 2\n",
    "        if lst[i] < e:\n",
    "            debut = i+1\n",
    "        else:\n",
    "            fin = i\n",
    "    return debut"
   ]
  },
  {
   "cell_type": "code",
   "execution_count": null,
   "metadata": {},
   "outputs": [],
   "source": [
    "recherche_pos_insertion([1, 1], 1)"
   ]
  },
  {
   "cell_type": "code",
   "execution_count": null,
   "metadata": {},
   "outputs": [],
   "source": [
    "def tri_insertion_custom(lst):\n",
    "    res = []\n",
    "    for e in lst:\n",
    "        i = recherche_pos_insertion(res, e)\n",
    "        res.insert(i, e)\n",
    "    return res"
   ]
  },
  {
   "cell_type": "code",
   "execution_count": null,
   "metadata": {},
   "outputs": [],
   "source": [
    "from random import shuffle\n",
    "lst = list(range(10))\n",
    "shuffle(lst)\n",
    "tri_insertion_custom(lst)"
   ]
  },
  {
   "cell_type": "code",
   "execution_count": null,
   "metadata": {},
   "outputs": [],
   "source": [
    "def partition(lst):\n",
    "    inf, egal, sup = [], [], []\n",
    "    pivot = lst[0]\n",
    "    for e in lst:\n",
    "        if e < pivot:\n",
    "            inf.append(e)\n",
    "        elif e == pivot:\n",
    "            egal.append(e)\n",
    "        else:\n",
    "            sup.append(e)\n",
    "    return inf, egal, sup\n",
    "            \n",
    "def tri_pivot_custom(lst):\n",
    "    if lst == []:\n",
    "        return []\n",
    "    inf, egal, sup = partition(lst)\n",
    "    return tri_pivot_custom(inf) + egal + tri_pivot_custom(sup)"
   ]
  },
  {
   "cell_type": "code",
   "execution_count": null,
   "metadata": {},
   "outputs": [],
   "source": [
    "from random import shuffle\n",
    "lst = list(range(10))\n",
    "shuffle(lst)\n",
    "tri_pivot_custom(lst)"
   ]
  },
  {
   "cell_type": "code",
   "execution_count": null,
   "metadata": {},
   "outputs": [],
   "source": [
    "def fusion(lst1, lst2):\n",
    "    i, j = 0, 0\n",
    "    res = []\n",
    "    while i < len(lst1) and j < len(lst2):\n",
    "        a, b = lst1[i], lst2[j]\n",
    "        if a <= b:\n",
    "            res.append(a)\n",
    "            i += 1\n",
    "        else:\n",
    "            res.append(b)\n",
    "            j += 1\n",
    "    res.extend(lst1[i:])\n",
    "    res.extend(lst2[j:])\n",
    "    return res\n",
    "\n",
    "def tri_fusion_custom(lst):\n",
    "    if len(lst) <= 1:\n",
    "        return lst.copy()\n",
    "    i = len(lst) // 2\n",
    "    lst1 = tri_fusion_custom(lst[:i])\n",
    "    lst2 = tri_fusion_custom(lst[i:])\n",
    "    return fusion(lst1, lst2)"
   ]
  },
  {
   "cell_type": "code",
   "execution_count": null,
   "metadata": {},
   "outputs": [],
   "source": [
    "from random import shuffle\n",
    "lst = list(range(10))\n",
    "shuffle(lst)\n",
    "tri_fusion_custom(lst)"
   ]
  },
  {
   "cell_type": "code",
   "execution_count": null,
   "metadata": {},
   "outputs": [],
   "source": [
    "from random import randint\n",
    "\n",
    "def partition(lst, debut, pivot, fin):\n",
    "    lst[debut], lst[pivot] = lst[pivot], lst[debut]\n",
    "    curseur1, curseur2 = debut + 1, fin\n",
    "    while curseur1 <= curseur2:\n",
    "        while curseur1 <= curseur2 and lst[curseur1] <= lst[debut]:\n",
    "            curseur1 += 1\n",
    "        while lst[curseur2] > lst[debut]:\n",
    "            curseur2 -= 1\n",
    "        if curseur1 < curseur2:\n",
    "            lst[curseur1], lst[curseur2] = lst[curseur2], lst[curseur1]\n",
    "            curseur1 += 1\n",
    "            curseur2 -= 1\n",
    "    lst[debut], lst[curseur2] = lst[curseur2], lst[debut]\n",
    "    return curseur2\n",
    "\n",
    "def plus_petit(lst, k):\n",
    "    debut = 0\n",
    "    fin = len(lst)-1\n",
    "    while True:\n",
    "        p = randint(debut, fin)\n",
    "        p = partition(lst, debut, p, fin)\n",
    "        if p == k:\n",
    "            return lst[k]\n",
    "        elif p < k:\n",
    "            debut = p+1\n",
    "        else:\n",
    "            fin = p-1"
   ]
  },
  {
   "cell_type": "code",
   "execution_count": null,
   "metadata": {},
   "outputs": [],
   "source": [
    "from random import shuffle\n",
    "lst = list(range(10))\n",
    "shuffle(lst)\n",
    "plus_petit(lst, 7)"
   ]
  }
 ],
 "metadata": {
  "language_info": {
   "name": "python"
  },
  "orig_nbformat": 4
 },
 "nbformat": 4,
 "nbformat_minor": 2
}
