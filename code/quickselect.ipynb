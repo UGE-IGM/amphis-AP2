{
 "cells": [
  {
   "cell_type": "code",
   "execution_count": null,
   "metadata": {
    "collapsed": true
   },
   "outputs": [],
   "source": []
  },
  {
   "cell_type": "code",
   "execution_count": null,
   "metadata": {
    "collapsed": true
   },
   "outputs": [],
   "source": [
    "def selectionne(lst, k):\n",
    "    debut = 0\n",
    "    fin = len(lst)-1\n",
    "    while True:\n",
    "        p = randint(debut, fin)\n",
    "        p = partitionne(lst, debut, p, fin)\n",
    "        if p == k:\n",
    "            return lst[k]\n",
    "        elif p < k:\n",
    "            debut = p+1\n",
    "        else:\n",
    "            fin = p-1"
   ]
  }
 ],
 "metadata": {
  "kernelspec": {
   "display_name": "Python 3",
   "language": "python",
   "name": "python3"
  },
  "language_info": {
   "codemirror_mode": {
    "name": "ipython",
    "version": 3
   },
   "file_extension": ".py",
   "mimetype": "text/x-python",
   "name": "python",
   "nbconvert_exporter": "python",
   "pygments_lexer": "ipython3",
   "version": "3.7.6"
  }
 },
 "nbformat": 4,
 "nbformat_minor": 1
}
