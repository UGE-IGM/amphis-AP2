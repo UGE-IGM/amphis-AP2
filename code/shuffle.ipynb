{
 "cells": [
  {
   "cell_type": "code",
   "execution_count": 5,
   "metadata": {
    "collapsed": false
   },
   "outputs": [
    {
     "data": {
      "text/plain": [
       "[[3, 2, 1], [2, 3, 1], [3, 1, 2], [1, 3, 2], [1, 2, 3], [2, 1, 3]]"
      ]
     },
     "execution_count": 5,
     "metadata": {},
     "output_type": "execute_result"
    }
   ],
   "source": [
    "def insere_partout(lstlst, elem):\n",
    "    for lst in lstlst:\n",
    "        lst.append(elem)\n",
    "    return lstlst\n",
    "\n",
    "def permutations(lst, index=0):\n",
    "    if index == len(lst):\n",
    "        return [[]]\n",
    "    else:\n",
    "        res = []\n",
    "        for j in range(index, len(lst)):\n",
    "            lst[index], lst[j] = lst[j], lst[index]\n",
    "            temp = permutations(lst, index+1)\n",
    "            temp = insere_partout(temp, lst[index])\n",
    "            res.extend(temp)\n",
    "            lst[j], lst[index] = lst[index], lst[j]\n",
    "        return res\n",
    "    \n",
    "permutations([1, 2, 3])"
   ]
  },
  {
   "cell_type": "code",
   "execution_count": 11,
   "metadata": {
    "collapsed": false
   },
   "outputs": [
    {
     "name": "stdout",
     "output_type": "stream",
     "text": [
      "[1, 2, 3] 100.0 %\n",
      "[1, 3, 2] 0.0 %\n",
      "[2, 1, 3] 0.0 %\n",
      "[2, 3, 1] 0.0 %\n",
      "[3, 1, 2] 0.0 %\n",
      "[3, 2, 1] 0.0 %\n"
     ]
    }
   ],
   "source": [
    "def fact(n):\n",
    "    res = 1\n",
    "    for i in range(2, n+1):\n",
    "        res *= i\n",
    "    return res\n",
    "\n",
    "def test_shuffle(shuffle, nb_tirages=0, lst=None):\n",
    "    if lst is None:\n",
    "        lst = [1, 2, 3]\n",
    "    if nb_tirages == 0:\n",
    "        nb_tirages = fact(len(lst)) * 100000\n",
    "    perms = permutations(lst)\n",
    "    dico = dict()\n",
    "    for _ in range(nb_tirages):\n",
    "        temp = lst[:]\n",
    "        shuffle(temp)\n",
    "        key = tuple(temp)\n",
    "        dico[key] = dico.get(key, 0) + 1\n",
    "    for lst in sorted(perms):\n",
    "        print(lst, 100 * dico.get(tuple(lst), 0) / nb_tirages, \"%\")\n",
    "        \n",
    "test_shuffle(lambda lst: lst)"
   ]
  },
  {
   "cell_type": "code",
   "execution_count": 7,
   "metadata": {
    "collapsed": false
   },
   "outputs": [
    {
     "name": "stdout",
     "output_type": "stream",
     "text": [
      "[1, 2, 3] 14.7945 %\n",
      "[1, 3, 2] 18.541833333333333 %\n",
      "[2, 1, 3] 18.538666666666668 %\n",
      "[2, 3, 1] 18.437833333333334 %\n",
      "[3, 1, 2] 14.793166666666666 %\n",
      "[3, 2, 1] 14.894 %\n"
     ]
    }
   ],
   "source": [
    "from random import randrange\n",
    "\n",
    "def bad_shuffle(lst):\n",
    "    for i in range(len(lst)):\n",
    "        k = randrange(len(lst))\n",
    "        lst[i], lst[k] = lst[k], lst[i]\n",
    "        \n",
    "test_shuffle(bad_shuffle)"
   ]
  },
  {
   "cell_type": "code",
   "execution_count": 8,
   "metadata": {
    "collapsed": false
   },
   "outputs": [
    {
     "name": "stdout",
     "output_type": "stream",
     "text": [
      "[1, 2, 3] 18.484666666666666 %\n",
      "[1, 3, 2] 17.288 %\n",
      "[2, 1, 3] 17.2675 %\n",
      "[2, 3, 1] 14.820333333333334 %\n",
      "[3, 1, 2] 14.833333333333334 %\n",
      "[3, 2, 1] 17.306166666666666 %\n"
     ]
    }
   ],
   "source": [
    "def other_shuffle(lst):\n",
    "    for i in range(len(lst)):\n",
    "        j = randrange(len(lst))\n",
    "        k = randrange(len(lst))\n",
    "        lst[j], lst[k] = lst[k], lst[j]\n",
    "        \n",
    "test_shuffle(other_shuffle)"
   ]
  },
  {
   "cell_type": "code",
   "execution_count": 35,
   "metadata": {
    "collapsed": false
   },
   "outputs": [
    {
     "name": "stdout",
     "output_type": "stream",
     "text": [
      "[1, 2, 3] 16.679666666666666 %\n",
      "[1, 3, 2] 16.6085 %\n",
      "[2, 1, 3] 16.695166666666665 %\n",
      "[2, 3, 1] 16.697166666666668 %\n",
      "[3, 1, 2] 16.689 %\n",
      "[3, 2, 1] 16.6305 %\n"
     ]
    }
   ],
   "source": [
    "def good_shuffle(lst):\n",
    "    for i in range(len(lst)):\n",
    "        k = randrange(i, len(lst))\n",
    "        lst[i], lst[k] = lst[k], lst[i]\n",
    "        \n",
    "test_shuffle(good_shuffle)"
   ]
  }
 ],
 "metadata": {
  "kernelspec": {
   "display_name": "Python 3",
   "language": "python",
   "name": "python3"
  },
  "language_info": {
   "codemirror_mode": {
    "name": "ipython",
    "version": 3
   },
   "file_extension": ".py",
   "mimetype": "text/x-python",
   "name": "python",
   "nbconvert_exporter": "python",
   "pygments_lexer": "ipython3",
   "version": "3.5.1"
  }
 },
 "nbformat": 4,
 "nbformat_minor": 0
}
