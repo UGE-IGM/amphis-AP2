{
 "cells": [
  {
   "cell_type": "code",
   "execution_count": 3,
   "id": "f8d39d91",
   "metadata": {},
   "outputs": [],
   "source": [
    "def recherche_pos_insertion(lst, e, debut=0, fin=None):\n",
    "    if fin is None:\n",
    "        fin = len(lst)\n",
    "    while fin > debut:\n",
    "        i = (debut + fin) // 2\n",
    "        if lst[i] < e:\n",
    "            debut = i+1\n",
    "        else:\n",
    "            fin = i\n",
    "    return debut"
   ]
  },
  {
   "cell_type": "code",
   "execution_count": 9,
   "id": "9aa507e5",
   "metadata": {},
   "outputs": [
    {
     "data": {
      "text/plain": [
       "0"
      ]
     },
     "execution_count": 9,
     "metadata": {},
     "output_type": "execute_result"
    }
   ],
   "source": [
    "recherche_pos_insertion([1, 1], 1)"
   ]
  },
  {
   "cell_type": "code",
   "execution_count": 14,
   "id": "f98b9240",
   "metadata": {},
   "outputs": [],
   "source": [
    "def tri_insertion_custom(lst):\n",
    "    res = []\n",
    "    for e in lst:\n",
    "        i = recherche_pos_insertion(res, e)\n",
    "        res.insert(i, e)\n",
    "    return res"
   ]
  },
  {
   "cell_type": "code",
   "execution_count": 15,
   "id": "14dd1eeb",
   "metadata": {},
   "outputs": [
    {
     "data": {
      "text/plain": [
       "[0, 1, 2, 3, 4, 5, 6, 7, 8, 9]"
      ]
     },
     "execution_count": 15,
     "metadata": {},
     "output_type": "execute_result"
    }
   ],
   "source": [
    "from random import shuffle\n",
    "lst = list(range(10))\n",
    "shuffle(lst)\n",
    "tri_insertion_custom(lst)"
   ]
  },
  {
   "cell_type": "code",
   "execution_count": 18,
   "id": "a4f2dbe4",
   "metadata": {},
   "outputs": [],
   "source": [
    "def partition(lst):\n",
    "    inf, egal, sup = [], [], []\n",
    "    pivot = lst[0]\n",
    "    for e in lst:\n",
    "        if e < pivot:\n",
    "            inf.append(e)\n",
    "        elif e == pivot:\n",
    "            egal.append(e)\n",
    "        else:\n",
    "            sup.append(e)\n",
    "    return inf, egal, sup\n",
    "            \n",
    "def tri_pivot_custom(lst):\n",
    "    if lst == []:\n",
    "        return []\n",
    "    inf, egal, sup = partition(lst)\n",
    "    return tri_pivot_custom(inf) + egal + tri_pivot_custom(sup)"
   ]
  },
  {
   "cell_type": "code",
   "execution_count": 19,
   "id": "917d8c16",
   "metadata": {},
   "outputs": [
    {
     "data": {
      "text/plain": [
       "[0, 1, 2, 3, 4, 5, 6, 7, 8, 9]"
      ]
     },
     "execution_count": 19,
     "metadata": {},
     "output_type": "execute_result"
    }
   ],
   "source": [
    "from random import shuffle\n",
    "lst = list(range(10))\n",
    "shuffle(lst)\n",
    "tri_pivot_custom(lst)"
   ]
  },
  {
   "cell_type": "code",
   "execution_count": 22,
   "id": "6f677b4b",
   "metadata": {},
   "outputs": [],
   "source": [
    "def fusion(lst1, lst2):\n",
    "    i, j = 0, 0\n",
    "    res = []\n",
    "    while i < len(lst1) and j < len(lst2):\n",
    "        a, b = lst1[i], lst2[j]\n",
    "        if a <= b:\n",
    "            res.append(a)\n",
    "            i += 1\n",
    "        else:\n",
    "            res.append(b)\n",
    "            j += 1\n",
    "    res.extend(lst1[i:])\n",
    "    res.extend(lst2[j:])\n",
    "    return res\n",
    "\n",
    "def tri_fusion_custom(lst):\n",
    "    if len(lst) <= 1:\n",
    "        return lst.copy()\n",
    "    i = len(lst) // 2\n",
    "    lst1 = tri_fusion_custom(lst[:i])\n",
    "    lst2 = tri_fusion_custom(lst[i:])\n",
    "    return fusion(lst1, lst2)"
   ]
  },
  {
   "cell_type": "code",
   "execution_count": 23,
   "id": "3c198b50",
   "metadata": {},
   "outputs": [
    {
     "data": {
      "text/plain": [
       "[0, 1, 2, 3, 4, 5, 6, 7, 8, 9]"
      ]
     },
     "execution_count": 23,
     "metadata": {},
     "output_type": "execute_result"
    }
   ],
   "source": [
    "from random import shuffle\n",
    "lst = list(range(10))\n",
    "shuffle(lst)\n",
    "tri_fusion_custom(lst)"
   ]
  },
  {
   "cell_type": "code",
   "execution_count": 30,
   "id": "2a3711d5",
   "metadata": {},
   "outputs": [],
   "source": [
    "from random import randint\n",
    "\n",
    "def partition(lst, debut, pivot, fin):\n",
    "    lst[debut], lst[pivot] = lst[pivot], lst[debut]\n",
    "    curseur1, curseur2 = debut + 1, fin\n",
    "    while curseur1 <= curseur2:\n",
    "        while curseur1 <= curseur2 and lst[curseur1] <= lst[debut]:\n",
    "            curseur1 += 1\n",
    "        while lst[curseur2] > lst[debut]:\n",
    "            curseur2 -= 1\n",
    "        if curseur1 < curseur2:\n",
    "            lst[curseur1], lst[curseur2] = lst[curseur2], lst[curseur1]\n",
    "            curseur1 += 1\n",
    "            curseur2 -= 1\n",
    "    lst[debut], lst[curseur2] = lst[curseur2], lst[debut]\n",
    "    return curseur2\n",
    "\n",
    "def plus_petit(lst, k):\n",
    "    debut = 0\n",
    "    fin = len(lst)-1\n",
    "    while True:\n",
    "        p = randint(debut, fin)\n",
    "        p = partition(lst, debut, p, fin)\n",
    "        if p == k:\n",
    "            return lst[k]\n",
    "        elif p < k:\n",
    "            debut = p+1\n",
    "        else:\n",
    "            fin = p-1"
   ]
  },
  {
   "cell_type": "code",
   "execution_count": 32,
   "id": "e7bb369d",
   "metadata": {},
   "outputs": [
    {
     "data": {
      "text/plain": [
       "7"
      ]
     },
     "execution_count": 32,
     "metadata": {},
     "output_type": "execute_result"
    }
   ],
   "source": [
    "from random import shuffle\n",
    "lst = list(range(10))\n",
    "shuffle(lst)\n",
    "plus_petit(lst, 7)"
   ]
  },
  {
   "cell_type": "code",
   "execution_count": null,
   "id": "b76bdac4",
   "metadata": {},
   "outputs": [],
   "source": []
  }
 ],
 "metadata": {
  "kernelspec": {
   "display_name": "Python 3 (ipykernel)",
   "language": "python",
   "name": "python3"
  },
  "language_info": {
   "codemirror_mode": {
    "name": "ipython",
    "version": 3
   },
   "file_extension": ".py",
   "mimetype": "text/x-python",
   "name": "python",
   "nbconvert_exporter": "python",
   "pygments_lexer": "ipython3",
   "version": "3.9.10"
  }
 },
 "nbformat": 4,
 "nbformat_minor": 5
}
