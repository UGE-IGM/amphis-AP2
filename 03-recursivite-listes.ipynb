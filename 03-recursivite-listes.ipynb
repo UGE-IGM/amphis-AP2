{
 "cells": [
  {
   "cell_type": "code",
   "execution_count": 1,
   "metadata": {
    "slideshow": {
     "slide_type": "skip"
    }
   },
   "outputs": [],
   "source": [
    "# dé-commenter cette ligne si nbtutor n'est pas installé\n",
    "%load_ext nbtutor"
   ]
  },
  {
   "cell_type": "code",
   "execution_count": 2,
   "metadata": {
    "slideshow": {
     "slide_type": "skip"
    }
   },
   "outputs": [],
   "source": [
    "from callstats import CallRecorder"
   ]
  },
  {
   "cell_type": "code",
   "execution_count": 3,
   "metadata": {
    "slideshow": {
     "slide_type": "skip"
    }
   },
   "outputs": [
    {
     "data": {
      "text/html": [
       "<style>.defterm {\n",
       "  font-weight: bold;\n",
       "  color: red;\n",
       "}\n",
       "\n",
       "span.remarque {\n",
       "\tcolor: grey;\n",
       "}\n",
       "\n",
       "span.footnote {\n",
       "\tcolor: darkgray;\n",
       "}\n",
       "\n",
       "table.centered td, table.centered th {\n",
       "\ttext-align: center;\n",
       "}\n",
       "\n",
       "div.rounded {\n",
       "\tmargin: 2px;\n",
       "\tpadding: 2px;\n",
       "\tborder-radius: 5px;\t\n",
       "}\n",
       "\n",
       "div.rounded.pink {\n",
       "\tbackground-color: pink;\n",
       "}\n",
       "\n",
       "div.rounded.blue {\n",
       "\tbackground-color: lightblue;\n",
       "}\n",
       "\n",
       "div.rounded.green {\n",
       "\tbackground-color: lightgreen;\n",
       "}</style>"
      ],
      "text/plain": [
       "<IPython.core.display.HTML object>"
      ]
     },
     "execution_count": 3,
     "metadata": {},
     "output_type": "execute_result"
    }
   ],
   "source": [
    "from IPython.core.display import HTML\n",
    "\n",
    "def _set_css_style(css_file_path):\n",
    "   \"\"\"\n",
    "   Read the custom CSS file and load it into Jupyter.\n",
    "   Pass the file path to the CSS file.\n",
    "   \"\"\"\n",
    "\n",
    "   styles = open(css_file_path, \"r\").read()\n",
    "   s = '<style>%s</style>' % styles     \n",
    "   return HTML(s)\n",
    "\n",
    "_set_css_style('custom/custom.css')"
   ]
  },
  {
   "cell_type": "markdown",
   "metadata": {
    "slideshow": {
     "slide_type": "slide"
    }
   },
   "source": [
    "<div style='width:20em'><img src='img/logo-igm.png'></div>\n",
    "<div style='font-size:larger'><strong>Algorithmique et programmation 2</strong><br>\n",
    "L1 Mathématiques - L1 Informatique<br>\n",
    "Semestre 2\n",
    "</div>\n",
    "\n",
    "# Récursivité et listes"
   ]
  },
  {
   "cell_type": "markdown",
   "metadata": {
    "slideshow": {
     "slide_type": "subslide"
    }
   },
   "source": [
    "1. Un type de données récursif : les listes chaînées\n",
    "2. Fonctions récursives sur les listes chaînées\n",
    "3. Récursivité et listes Python"
   ]
  },
  {
   "cell_type": "markdown",
   "metadata": {
    "slideshow": {
     "slide_type": "slide"
    }
   },
   "source": [
    "## Un type de données récursif : les listes chaînées"
   ]
  },
  {
   "cell_type": "markdown",
   "metadata": {
    "slideshow": {
     "slide_type": "subslide"
    }
   },
   "source": [
    "### Rappel : définition récursive d'une fonction\n",
    "\n",
    "On distingue un ou plusieurs cas \"de base\" et un cas \"général\"\n",
    "\n",
    "Factorielle :\n",
    "\n",
    "$$\n",
    "n! = \\begin{cases}\n",
    "      1 \\text{ si $n = 0$}\\\\\n",
    "      n \\times (n-1)! \\text{ sinon}\n",
    "    \\end{cases}\n",
    "$$"
   ]
  },
  {
   "cell_type": "markdown",
   "metadata": {
    "slideshow": {
     "slide_type": "subslide"
    }
   },
   "source": [
    "### Nouveauté : définir un type récursivement\n",
    "\n",
    "**Idée :** une **liste** est\n",
    "- Soit vide (elle ne contient aucun élément)\n",
    "- Soit constituéé d'un premier élément et de la **liste** des éléments suivants\n",
    "\n",
    "On définit l'ensemble des listes en faisant référence... à l'ensemble des listes"
   ]
  },
  {
   "cell_type": "markdown",
   "metadata": {
    "slideshow": {
     "slide_type": "subslide"
    }
   },
   "source": [
    "On appelle ces listes des **listes (simplement) chaînées** :\n",
    "\n",
    "![liste chaînée](img/Singly-linked-list.png)"
   ]
  },
  {
   "cell_type": "markdown",
   "metadata": {
    "slideshow": {
     "slide_type": "subslide"
    }
   },
   "source": [
    "### En Python\n",
    "\n",
    "On peut choisir de représenter :\n",
    "\n",
    "- La liste vide par `None`\n",
    "- La liste constituée du premier élément `tete` suivi de la liste d'éléments `suite` par le tuple `(tete, suite)`\n",
    "\n",
    "**Remarque importante :** on représente ici des listes **immutables** !"
   ]
  },
  {
   "cell_type": "markdown",
   "metadata": {
    "slideshow": {
     "slide_type": "subslide"
    }
   },
   "source": [
    "#### Exemples :"
   ]
  },
  {
   "cell_type": "code",
   "execution_count": 4,
   "metadata": {
    "slideshow": {
     "slide_type": "-"
    }
   },
   "outputs": [],
   "source": [
    "vide = None  # liste à 0 éléments"
   ]
  },
  {
   "cell_type": "code",
   "execution_count": 6,
   "metadata": {
    "slideshow": {
     "slide_type": "subslide"
    }
   },
   "outputs": [],
   "source": [
    "%%nbtutor -r -f\n",
    "\n",
    "nombres = (12, (99, (37, None)))"
   ]
  },
  {
   "cell_type": "code",
   "execution_count": 7,
   "metadata": {
    "slideshow": {
     "slide_type": "subslide"
    }
   },
   "outputs": [],
   "source": [
    "%%nbtutor -r -f\n",
    "\n",
    "saisons = ('printemps', \n",
    "              ('été', \n",
    "                  ('automne', \n",
    "                      ('hiver', None))))"
   ]
  },
  {
   "cell_type": "markdown",
   "metadata": {
    "slideshow": {
     "slide_type": "subslide"
    }
   },
   "source": [
    "**Attention :** ce ne sont pas du tout les listes habituelles de Python ! \n",
    "\n",
    "Pour éviter la confusion on distinguera\n",
    "- **\"listes chaînées\"** ou **\"listes récursives\"**\n",
    "- **\"listes Python\"** ou **\"listes classiques\"**"
   ]
  },
  {
   "cell_type": "markdown",
   "metadata": {
    "slideshow": {
     "slide_type": "subslide"
    }
   },
   "source": [
    "### Fonctions utilitaires"
   ]
  },
  {
   "cell_type": "code",
   "execution_count": 8,
   "metadata": {
    "slideshow": {
     "slide_type": "-"
    }
   },
   "outputs": [],
   "source": [
    "def liste_vide():\n",
    "    return None\n",
    "\n",
    "def est_vide(r_liste):\n",
    "    return r_liste == None"
   ]
  },
  {
   "cell_type": "code",
   "execution_count": 9,
   "metadata": {
    "slideshow": {
     "slide_type": "-"
    }
   },
   "outputs": [
    {
     "data": {
      "text/plain": [
       "True"
      ]
     },
     "execution_count": 9,
     "metadata": {},
     "output_type": "execute_result"
    }
   ],
   "source": [
    "r_liste = liste_vide()\n",
    "est_vide(r_liste)"
   ]
  },
  {
   "cell_type": "code",
   "execution_count": 10,
   "metadata": {
    "slideshow": {
     "slide_type": "subslide"
    }
   },
   "outputs": [],
   "source": [
    "def tete(r_liste):\n",
    "    # ATTENTION : plante si liste vide !\n",
    "    return r_liste[0]\n",
    "\n",
    "def suite(r_liste):\n",
    "    return r_liste[1]"
   ]
  },
  {
   "cell_type": "code",
   "execution_count": 11,
   "metadata": {},
   "outputs": [
    {
     "data": {
      "text/plain": [
       "12"
      ]
     },
     "execution_count": 11,
     "metadata": {},
     "output_type": "execute_result"
    }
   ],
   "source": [
    "nombres = (12, (99, (37, None)))\n",
    "tete(nombres)"
   ]
  },
  {
   "cell_type": "code",
   "execution_count": 12,
   "metadata": {},
   "outputs": [
    {
     "data": {
      "text/plain": [
       "(99, (37, None))"
      ]
     },
     "execution_count": 12,
     "metadata": {},
     "output_type": "execute_result"
    }
   ],
   "source": [
    "suite(nombres)"
   ]
  },
  {
   "cell_type": "code",
   "execution_count": 13,
   "metadata": {
    "slideshow": {
     "slide_type": "subslide"
    }
   },
   "outputs": [],
   "source": [
    "def cons(v, r_liste):\n",
    "    return (v, r_liste)"
   ]
  },
  {
   "cell_type": "code",
   "execution_count": 14,
   "metadata": {},
   "outputs": [
    {
     "data": {
      "text/plain": [
       "('c', ('b', ('a', None)))"
      ]
     },
     "execution_count": 14,
     "metadata": {},
     "output_type": "execute_result"
    }
   ],
   "source": [
    "r_liste = liste_vide()\n",
    "r_liste = cons('a', r_liste)\n",
    "r_liste = cons('b', r_liste)\n",
    "r_liste = cons('c', r_liste)\n",
    "r_liste"
   ]
  },
  {
   "cell_type": "markdown",
   "metadata": {
    "slideshow": {
     "slide_type": "slide"
    }
   },
   "source": [
    "## Parcours (récursif) de listes (récursives)\n",
    "\n",
    "-   **Idée :** traiter un élément, puis appel récursif sur le reste\n",
    "-   **Cas d'arrêt :** liste vide, ou liste réduite à un élément"
   ]
  },
  {
   "cell_type": "markdown",
   "metadata": {
    "slideshow": {
     "slide_type": "subslide"
    }
   },
   "source": [
    "<img src=\"img/reclistes.png\" width=70%></img>"
   ]
  },
  {
   "cell_type": "markdown",
   "metadata": {
    "slideshow": {
     "slide_type": "-"
    }
   },
   "source": [
    "Nombreuses variantes possibles *(dans l'autre sens, deux éléments à la fois...)*  "
   ]
  },
  {
   "cell_type": "markdown",
   "metadata": {
    "slideshow": {
     "slide_type": "subslide"
    }
   },
   "source": [
    "### Calculer la longueur d'une liste récursive\n",
    "\n",
    "\n",
    "**Algorithme :**\n",
    "La longueur d'une liste `r_liste` est :\n",
    "- 0 si `r_liste` est vide\n",
    "- la longueur de la liste `suite` plus 1 si `r_liste` est de la forme `(tete, suite)`"
   ]
  },
  {
   "cell_type": "markdown",
   "metadata": {
    "slideshow": {
     "slide_type": "subslide"
    }
   },
   "source": [
    "**Implémentation :**"
   ]
  },
  {
   "cell_type": "code",
   "execution_count": 15,
   "metadata": {
    "slideshow": {
     "slide_type": "-"
    }
   },
   "outputs": [],
   "source": [
    "def longueur(r_liste):\n",
    "    if est_vide(r_liste):\n",
    "        return 0\n",
    "    else:\n",
    "        return 1 + longueur(suite(r_liste))"
   ]
  },
  {
   "cell_type": "code",
   "execution_count": 16,
   "metadata": {
    "slideshow": {
     "slide_type": "subslide"
    }
   },
   "outputs": [
    {
     "data": {
      "text/plain": [
       "0"
      ]
     },
     "execution_count": 16,
     "metadata": {},
     "output_type": "execute_result"
    }
   ],
   "source": [
    "vide = None\n",
    "longueur(vide)"
   ]
  },
  {
   "cell_type": "code",
   "execution_count": 17,
   "metadata": {
    "slideshow": {
     "slide_type": "-"
    }
   },
   "outputs": [
    {
     "data": {
      "text/plain": [
       "3"
      ]
     },
     "execution_count": 17,
     "metadata": {},
     "output_type": "execute_result"
    }
   ],
   "source": [
    "nombres = (12, (99, (37, None)))\n",
    "longueur(nombres)"
   ]
  },
  {
   "cell_type": "code",
   "execution_count": 18,
   "metadata": {
    "slideshow": {
     "slide_type": "-"
    }
   },
   "outputs": [
    {
     "data": {
      "text/plain": [
       "4"
      ]
     },
     "execution_count": 18,
     "metadata": {},
     "output_type": "execute_result"
    }
   ],
   "source": [
    "saisons = ('printemps', ('été', ('automne', ('hiver', None))))\n",
    "longueur(saisons)"
   ]
  },
  {
   "cell_type": "markdown",
   "metadata": {
    "slideshow": {
     "slide_type": "subslide"
    }
   },
   "source": [
    "### Rechercher un élément dans une liste récursive\n",
    "\n",
    "Soit `r_liste` une liste récursive et `v` une valeur quelconque, on veut savoir si `v` apparaît dans `r_liste`.\n",
    "\n",
    "**Algorithme :**\n",
    "- si `r_liste` est vide : c'est **faux**\n",
    "- si `r_liste` est de la forme `(tete, suite)` avec `tete == v` : c'est **vrai**\n",
    "- si `r_liste` est de la forme `(tete, suite)` avec `tete != v` : on recherche `v` dans `suite`"
   ]
  },
  {
   "cell_type": "markdown",
   "metadata": {
    "slideshow": {
     "slide_type": "subslide"
    }
   },
   "source": [
    "**Implémentation :**"
   ]
  },
  {
   "cell_type": "code",
   "execution_count": 19,
   "metadata": {
    "slideshow": {
     "slide_type": "-"
    }
   },
   "outputs": [],
   "source": [
    "def est_dans(v, r_liste):\n",
    "    if est_vide(r_liste):\n",
    "        return False\n",
    "    elif tete(r_liste) == v:\n",
    "        return True\n",
    "    else:\n",
    "        return est_dans(v, suite(r_liste))"
   ]
  },
  {
   "cell_type": "code",
   "execution_count": 20,
   "metadata": {
    "slideshow": {
     "slide_type": "subslide"
    }
   },
   "outputs": [
    {
     "data": {
      "text/plain": [
       "True"
      ]
     },
     "execution_count": 20,
     "metadata": {},
     "output_type": "execute_result"
    }
   ],
   "source": [
    "est_dans(\"automne\", saisons)"
   ]
  },
  {
   "cell_type": "code",
   "execution_count": 21,
   "metadata": {
    "slideshow": {
     "slide_type": "-"
    }
   },
   "outputs": [
    {
     "data": {
      "text/plain": [
       "False"
      ]
     },
     "execution_count": 21,
     "metadata": {},
     "output_type": "execute_result"
    }
   ],
   "source": [
    "est_dans(\"juillet\", saisons)"
   ]
  },
  {
   "cell_type": "markdown",
   "metadata": {
    "slideshow": {
     "slide_type": "subslide"
    }
   },
   "source": [
    "### Chercher la position d'un élément dans une liste récursive\n",
    "\n",
    "Soit `r_liste` une liste récursive et `v` une valeur quelconque, on veut savoir à quelle position `v` apparaît pour la première fois dans `r_liste` (en comptant à partir de 0). \n",
    "\n",
    "On fixera par convention le résultat à `None` si la liste ne contient pas `v`, en particulier si la liste est vide."
   ]
  },
  {
   "cell_type": "markdown",
   "metadata": {
    "slideshow": {
     "slide_type": "subslide"
    }
   },
   "source": [
    "**Algorithme :**\n",
    "- si `r_liste` est de la forme `(tete, suite)` avec `tete == v` : le résultat est `0`\n",
    "- si `r_liste` est de la forme `(tete, suite)` avec `tete != v` : le résultat est 1 + la poisition de `v` dans `suite`"
   ]
  },
  {
   "cell_type": "markdown",
   "metadata": {
    "slideshow": {
     "slide_type": "subslide"
    }
   },
   "source": [
    "**Implémentation :**"
   ]
  },
  {
   "cell_type": "code",
   "execution_count": 22,
   "metadata": {
    "slideshow": {
     "slide_type": "-"
    }
   },
   "outputs": [],
   "source": [
    "def premier_indice(v, r_liste):\n",
    "    if est_vide(r_liste):\n",
    "        return None\n",
    "    elif tete(r_liste) == v:\n",
    "        return 0\n",
    "    else:\n",
    "        return 1 + premier_indice(v, suite(r_liste))"
   ]
  },
  {
   "cell_type": "code",
   "execution_count": 23,
   "metadata": {},
   "outputs": [
    {
     "data": {
      "text/plain": [
       "1"
      ]
     },
     "execution_count": 23,
     "metadata": {},
     "output_type": "execute_result"
    }
   ],
   "source": [
    "r_liste = (0, (1, (0, (1, 0))))\n",
    "premier_indice(1, r_liste)"
   ]
  },
  {
   "cell_type": "code",
   "execution_count": 24,
   "metadata": {
    "slideshow": {
     "slide_type": "subslide"
    }
   },
   "outputs": [
    {
     "data": {
      "text/plain": [
       "2"
      ]
     },
     "execution_count": 24,
     "metadata": {},
     "output_type": "execute_result"
    }
   ],
   "source": [
    "premier_indice(\"automne\", saisons)"
   ]
  },
  {
   "cell_type": "markdown",
   "metadata": {
    "slideshow": {
     "slide_type": "subslide"
    }
   },
   "source": [
    "#### Variantes\n",
    "\n",
    "Recherche du dernier indice où apparaît un élément"
   ]
  },
  {
   "cell_type": "code",
   "execution_count": 34,
   "metadata": {
    "slideshow": {
     "slide_type": "-"
    }
   },
   "outputs": [],
   "source": [
    "def dernier_indice(v, r_liste):\n",
    "    if est_vide(r_liste):\n",
    "        return None\n",
    "    else:\n",
    "        res = dernier_indice(v, suite(r_liste))\n",
    "        if tete(r_liste) != v and res == None:\n",
    "            return None\n",
    "        elif res == None:\n",
    "            return 0\n",
    "        else:\n",
    "            return 1 + res"
   ]
  },
  {
   "cell_type": "code",
   "execution_count": 35,
   "metadata": {
    "slideshow": {
     "slide_type": "-"
    }
   },
   "outputs": [
    {
     "data": {
      "text/plain": [
       "3"
      ]
     },
     "execution_count": 35,
     "metadata": {},
     "output_type": "execute_result"
    }
   ],
   "source": [
    "r_liste = (0, (1, (0, (1, (0, None)))))\n",
    "dernier_indice(1, r_liste)"
   ]
  },
  {
   "cell_type": "code",
   "execution_count": 36,
   "metadata": {
    "slideshow": {
     "slide_type": "-"
    }
   },
   "outputs": [],
   "source": [
    "dernier_indice(2, r_liste)"
   ]
  },
  {
   "cell_type": "markdown",
   "metadata": {
    "slideshow": {
     "slide_type": "subslide"
    }
   },
   "source": [
    "Liste des indices où apparaît un élément"
   ]
  },
  {
   "cell_type": "code",
   "execution_count": 37,
   "metadata": {
    "slideshow": {
     "slide_type": "-"
    }
   },
   "outputs": [],
   "source": [
    "def liste_indices(v, r_liste):\n",
    "    if est_vide(r_liste):\n",
    "        return liste_vide()\n",
    "    else:\n",
    "        res = liste_indices(v, suite(r_liste))\n",
    "        if tete(r_liste) == v:\n",
    "            return cons(0, res)\n",
    "        else:\n",
    "            return res"
   ]
  },
  {
   "cell_type": "code",
   "execution_count": 38,
   "metadata": {
    "slideshow": {
     "slide_type": "-"
    }
   },
   "outputs": [
    {
     "data": {
      "text/plain": [
       "(0, (0, (0, None)))"
      ]
     },
     "execution_count": 38,
     "metadata": {},
     "output_type": "execute_result"
    }
   ],
   "source": [
    "liste_indices(0, r_liste)"
   ]
  },
  {
   "cell_type": "markdown",
   "metadata": {
    "slideshow": {
     "slide_type": "subslide"
    }
   },
   "source": [
    "Nouvelle tentative :"
   ]
  },
  {
   "cell_type": "code",
   "execution_count": 45,
   "metadata": {
    "slideshow": {
     "slide_type": "-"
    }
   },
   "outputs": [],
   "source": [
    "def ajouter_un_partout(r_liste):\n",
    "    if est_vide(r_liste):\n",
    "        return liste_vide()\n",
    "    else:\n",
    "        res = ajouter_un_partout(suite(r_liste))\n",
    "        return cons(tete(r_liste) + 1, res)\n",
    "\n",
    "def liste_indices(v, r_liste):\n",
    "    if est_vide(r_liste):\n",
    "        return liste_vide()\n",
    "    else:\n",
    "        res = liste_indices(v, suite(r_liste))\n",
    "        res = ajouter_un_partout(res)\n",
    "        if tete(r_liste) == v:\n",
    "            return cons(0, res)\n",
    "        else:\n",
    "            return res"
   ]
  },
  {
   "cell_type": "code",
   "execution_count": 47,
   "metadata": {
    "slideshow": {
     "slide_type": "-"
    }
   },
   "outputs": [
    {
     "data": {
      "text/plain": [
       "(0, (2, (4, None)))"
      ]
     },
     "execution_count": 47,
     "metadata": {},
     "output_type": "execute_result"
    }
   ],
   "source": [
    "r_liste = (0, (1, (0, (1, (0, None)))))\n",
    "liste_indices(0, r_liste)"
   ]
  },
  {
   "cell_type": "markdown",
   "metadata": {
    "slideshow": {
     "slide_type": "subslide"
    }
   },
   "source": [
    "Dernière tentative :"
   ]
  },
  {
   "cell_type": "code",
   "execution_count": 48,
   "metadata": {
    "slideshow": {
     "slide_type": "-"
    }
   },
   "outputs": [],
   "source": [
    "def liste_indices(v, r_liste, decalage=0):\n",
    "    if est_vide(r_liste):\n",
    "        return liste_vide()\n",
    "    else:\n",
    "        res = liste_indices(v, suite(r_liste), decalage+1)\n",
    "        if tete(r_liste) == v:\n",
    "            return cons(decalage, res)\n",
    "        else:\n",
    "            return res"
   ]
  },
  {
   "cell_type": "code",
   "execution_count": 49,
   "metadata": {
    "slideshow": {
     "slide_type": "-"
    }
   },
   "outputs": [
    {
     "data": {
      "text/plain": [
       "(0, (2, (4, None)))"
      ]
     },
     "execution_count": 49,
     "metadata": {},
     "output_type": "execute_result"
    }
   ],
   "source": [
    "r_liste = (0, (1, (0, (1, (0, None)))))\n",
    "liste_indices(0, r_liste)"
   ]
  },
  {
   "cell_type": "markdown",
   "metadata": {
    "slideshow": {
     "slide_type": "subslide"
    }
   },
   "source": [
    "### Convertir une liste récursive en chaîne de caractères\n",
    "\n",
    "... par exemple pour pouvoir l'afficher joliment.\n",
    "\n",
    "**Algorithme :**\n",
    "- si la liste est vide, on renvoie la chaîne vide `\"\"`\n",
    "- sinon, on convertit la tête et la suite de la liste en chaîne et on renvoie leur concaténation"
   ]
  },
  {
   "cell_type": "markdown",
   "metadata": {
    "slideshow": {
     "slide_type": "subslide"
    }
   },
   "source": [
    "**Implémentation :**"
   ]
  },
  {
   "cell_type": "code",
   "execution_count": 60,
   "metadata": {
    "slideshow": {
     "slide_type": "-"
    }
   },
   "outputs": [],
   "source": [
    "def liste_vers_chaine(r_liste):\n",
    "    if est_vide(r_liste):\n",
    "        return \"\"\n",
    "    else:\n",
    "        return str(tete(r_liste)) + \" -> \" + liste_vers_chaine(suite(r_liste))"
   ]
  },
  {
   "cell_type": "code",
   "execution_count": 61,
   "metadata": {},
   "outputs": [
    {
     "data": {
      "text/plain": [
       "'12 -> 99 -> 37 -> '"
      ]
     },
     "execution_count": 61,
     "metadata": {},
     "output_type": "execute_result"
    }
   ],
   "source": [
    "liste_vers_chaine(nombres)"
   ]
  },
  {
   "cell_type": "markdown",
   "metadata": {
    "slideshow": {
     "slide_type": "subslide"
    }
   },
   "source": [
    "**Implémentation (deuxième essai) :**"
   ]
  },
  {
   "cell_type": "code",
   "execution_count": 62,
   "metadata": {},
   "outputs": [],
   "source": [
    "def liste_vers_chaine(r_liste):\n",
    "    if est_vide(r_liste):\n",
    "        return \"()\"\n",
    "    else:\n",
    "        res = str(tete(r_liste))\n",
    "        s = suite(r_liste)\n",
    "        if not est_vide(s):\n",
    "            res += \" -> \" + liste_vers_chaine(s)\n",
    "        return res"
   ]
  },
  {
   "cell_type": "code",
   "execution_count": 64,
   "metadata": {},
   "outputs": [
    {
     "data": {
      "text/plain": [
       "'()'"
      ]
     },
     "execution_count": 64,
     "metadata": {},
     "output_type": "execute_result"
    }
   ],
   "source": [
    "liste_vers_chaine(liste_vide())"
   ]
  },
  {
   "cell_type": "code",
   "execution_count": 63,
   "metadata": {},
   "outputs": [
    {
     "data": {
      "text/plain": [
       "'12 -> 99 -> 37'"
      ]
     },
     "execution_count": 63,
     "metadata": {},
     "output_type": "execute_result"
    }
   ],
   "source": [
    "liste_vers_chaine(nombres)"
   ]
  },
  {
   "cell_type": "markdown",
   "metadata": {
    "slideshow": {
     "slide_type": "subslide"
    }
   },
   "source": [
    "## Récursivité sur les listes Python\n",
    "\n",
    "**Question :** peut-on aussi écrire des fonctions récursives pour parcourir des listes Python ?\n",
    "\n",
    "La réponse est bien sûr **oui**, mais avec quelques points de vigilance..."
   ]
  },
  {
   "cell_type": "markdown",
   "metadata": {
    "slideshow": {
     "slide_type": "subslide"
    }
   },
   "source": [
    "Reprenons un exemple traité plus haut :\n",
    "\n",
    "**Recherche** : Écrivez une fonction Python prenant en argument une liste et un objet quelconque, et renvoyant `True` si l'objet est dans la liste, `False` sinon... *sans utiliser de boucle ni le mot-clé `in`*."
   ]
  },
  {
   "cell_type": "markdown",
   "metadata": {
    "slideshow": {
     "slide_type": "subslide"
    }
   },
   "source": [
    "#### Premier essai : avec une *slice*"
   ]
  },
  {
   "cell_type": "code",
   "execution_count": 89,
   "metadata": {
    "scrolled": true,
    "slideshow": {
     "slide_type": "-"
    }
   },
   "outputs": [
    {
     "ename": "IndexError",
     "evalue": "list index out of range",
     "output_type": "error",
     "traceback": [
      "\u001b[0;31m---------------------------------------------------------------------------\u001b[0m",
      "\u001b[0;31mIndexError\u001b[0m                                Traceback (most recent call last)",
      "Cell \u001b[0;32mIn[89], line 7\u001b[0m\n\u001b[1;32m      4\u001b[0m     \u001b[38;5;28;01melse\u001b[39;00m:\n\u001b[1;32m      5\u001b[0m         \u001b[38;5;28;01mreturn\u001b[39;00m est_dans_1(elem, lst[\u001b[38;5;241m1\u001b[39m:\u001b[38;5;28mlen\u001b[39m(lst)])\n\u001b[0;32m----> 7\u001b[0m \u001b[43mest_dans_1\u001b[49m\u001b[43m(\u001b[49m\u001b[38;5;241;43m0\u001b[39;49m\u001b[43m,\u001b[49m\u001b[43m \u001b[49m\u001b[43m[\u001b[49m\u001b[38;5;241;43m1\u001b[39;49m\u001b[43m,\u001b[49m\u001b[43m \u001b[49m\u001b[38;5;241;43m2\u001b[39;49m\u001b[43m,\u001b[49m\u001b[43m \u001b[49m\u001b[38;5;241;43m3\u001b[39;49m\u001b[43m]\u001b[49m\u001b[43m)\u001b[49m\n",
      "Cell \u001b[0;32mIn[89], line 5\u001b[0m, in \u001b[0;36mest_dans_1\u001b[0;34m(elem, lst)\u001b[0m\n\u001b[1;32m      3\u001b[0m     \u001b[38;5;28;01mreturn\u001b[39;00m \u001b[38;5;28;01mTrue\u001b[39;00m\n\u001b[1;32m      4\u001b[0m \u001b[38;5;28;01melse\u001b[39;00m:\n\u001b[0;32m----> 5\u001b[0m     \u001b[38;5;28;01mreturn\u001b[39;00m \u001b[43mest_dans_1\u001b[49m\u001b[43m(\u001b[49m\u001b[43melem\u001b[49m\u001b[43m,\u001b[49m\u001b[43m \u001b[49m\u001b[43mlst\u001b[49m\u001b[43m[\u001b[49m\u001b[38;5;241;43m1\u001b[39;49m\u001b[43m:\u001b[49m\u001b[38;5;28;43mlen\u001b[39;49m\u001b[43m(\u001b[49m\u001b[43mlst\u001b[49m\u001b[43m)\u001b[49m\u001b[43m]\u001b[49m\u001b[43m)\u001b[49m\n",
      "Cell \u001b[0;32mIn[89], line 5\u001b[0m, in \u001b[0;36mest_dans_1\u001b[0;34m(elem, lst)\u001b[0m\n\u001b[1;32m      3\u001b[0m     \u001b[38;5;28;01mreturn\u001b[39;00m \u001b[38;5;28;01mTrue\u001b[39;00m\n\u001b[1;32m      4\u001b[0m \u001b[38;5;28;01melse\u001b[39;00m:\n\u001b[0;32m----> 5\u001b[0m     \u001b[38;5;28;01mreturn\u001b[39;00m \u001b[43mest_dans_1\u001b[49m\u001b[43m(\u001b[49m\u001b[43melem\u001b[49m\u001b[43m,\u001b[49m\u001b[43m \u001b[49m\u001b[43mlst\u001b[49m\u001b[43m[\u001b[49m\u001b[38;5;241;43m1\u001b[39;49m\u001b[43m:\u001b[49m\u001b[38;5;28;43mlen\u001b[39;49m\u001b[43m(\u001b[49m\u001b[43mlst\u001b[49m\u001b[43m)\u001b[49m\u001b[43m]\u001b[49m\u001b[43m)\u001b[49m\n",
      "Cell \u001b[0;32mIn[89], line 5\u001b[0m, in \u001b[0;36mest_dans_1\u001b[0;34m(elem, lst)\u001b[0m\n\u001b[1;32m      3\u001b[0m     \u001b[38;5;28;01mreturn\u001b[39;00m \u001b[38;5;28;01mTrue\u001b[39;00m\n\u001b[1;32m      4\u001b[0m \u001b[38;5;28;01melse\u001b[39;00m:\n\u001b[0;32m----> 5\u001b[0m     \u001b[38;5;28;01mreturn\u001b[39;00m \u001b[43mest_dans_1\u001b[49m\u001b[43m(\u001b[49m\u001b[43melem\u001b[49m\u001b[43m,\u001b[49m\u001b[43m \u001b[49m\u001b[43mlst\u001b[49m\u001b[43m[\u001b[49m\u001b[38;5;241;43m1\u001b[39;49m\u001b[43m:\u001b[49m\u001b[38;5;28;43mlen\u001b[39;49m\u001b[43m(\u001b[49m\u001b[43mlst\u001b[49m\u001b[43m)\u001b[49m\u001b[43m]\u001b[49m\u001b[43m)\u001b[49m\n",
      "Cell \u001b[0;32mIn[89], line 2\u001b[0m, in \u001b[0;36mest_dans_1\u001b[0;34m(elem, lst)\u001b[0m\n\u001b[1;32m      1\u001b[0m \u001b[38;5;28;01mdef\u001b[39;00m \u001b[38;5;21mest_dans_1\u001b[39m(elem, lst):\n\u001b[0;32m----> 2\u001b[0m     \u001b[38;5;28;01mif\u001b[39;00m \u001b[43mlst\u001b[49m\u001b[43m[\u001b[49m\u001b[38;5;241;43m0\u001b[39;49m\u001b[43m]\u001b[49m \u001b[38;5;241m==\u001b[39m elem:\n\u001b[1;32m      3\u001b[0m         \u001b[38;5;28;01mreturn\u001b[39;00m \u001b[38;5;28;01mTrue\u001b[39;00m\n\u001b[1;32m      4\u001b[0m     \u001b[38;5;28;01melse\u001b[39;00m:\n",
      "\u001b[0;31mIndexError\u001b[0m: list index out of range"
     ]
    }
   ],
   "source": [
    "def est_dans_1(elem, lst):\n",
    "    if lst[0] == elem:\n",
    "        return True\n",
    "    else:\n",
    "        return est_dans_1(elem, lst[1:len(lst)])\n",
    "    \n",
    "est_dans_1(0, [1, 2, 3])"
   ]
  },
  {
   "cell_type": "markdown",
   "metadata": {
    "slideshow": {
     "slide_type": "-"
    }
   },
   "source": [
    "*Problème :* oubli d'un cas d'arrêt"
   ]
  },
  {
   "cell_type": "markdown",
   "metadata": {
    "slideshow": {
     "slide_type": "subslide"
    }
   },
   "source": [
    "#### Second essai : *slice* et arrêt sur liste vide"
   ]
  },
  {
   "cell_type": "code",
   "execution_count": 87,
   "metadata": {
    "slideshow": {
     "slide_type": "-"
    }
   },
   "outputs": [
    {
     "data": {
      "text/plain": [
       "False"
      ]
     },
     "execution_count": 87,
     "metadata": {},
     "output_type": "execute_result"
    }
   ],
   "source": [
    "def est_dans_2(elem, lst):\n",
    "    if len(lst) == 0:\n",
    "        return False\n",
    "    elif lst[0] == elem:\n",
    "        return True\n",
    "    else:\n",
    "        return est_dans_2(elem, lst[1:])\n",
    "        \n",
    "est_dans_2(0, [1, 2, 3])"
   ]
  },
  {
   "cell_type": "markdown",
   "metadata": {},
   "source": [
    "*Problème :* calculer `lst[1:]` à chaque appel est **trop coûteux**"
   ]
  },
  {
   "cell_type": "code",
   "execution_count": 90,
   "metadata": {
    "slideshow": {
     "slide_type": "subslide"
    }
   },
   "outputs": [
    {
     "data": {
      "text/plain": [
       "True"
      ]
     },
     "execution_count": 90,
     "metadata": {},
     "output_type": "execute_result"
    }
   ],
   "source": [
    "def est_dans_3(elem, lst, debut):\n",
    "    if debut >= len(lst):\n",
    "        return False\n",
    "    elif lst[debut] == elem:\n",
    "        return True\n",
    "    else:\n",
    "        return est_dans_3(elem, lst, debut+1)  \n",
    "    \n",
    "lst = ['a', 'b', 'c']\n",
    "est_dans_3('b', lst, 0)"
   ]
  },
  {
   "cell_type": "markdown",
   "metadata": {
    "slideshow": {
     "slide_type": "subslide"
    }
   },
   "source": [
    "- Avantage : travaille toujours sur la même liste\n",
    "- Défaut : change la signature de la fonction (3 paramètres)"
   ]
  },
  {
   "cell_type": "markdown",
   "metadata": {},
   "source": [
    "#### Variante : paramètre par défaut"
   ]
  },
  {
   "cell_type": "code",
   "execution_count": 91,
   "metadata": {
    "slideshow": {
     "slide_type": "subslide"
    }
   },
   "outputs": [
    {
     "data": {
      "text/plain": [
       "True"
      ]
     },
     "execution_count": 91,
     "metadata": {},
     "output_type": "execute_result"
    }
   ],
   "source": [
    "def est_dans_4(elem, lst, debut=0):\n",
    "    if debut >= len(lst):\n",
    "        return False\n",
    "    elif lst[debut] == elem:\n",
    "        return True\n",
    "    else:\n",
    "        return est_dans_4(elem, lst, debut+1)  \n",
    "    \n",
    "lst = ['a', 'b', 'c']\n",
    "est_dans_4('b', lst)"
   ]
  },
  {
   "cell_type": "markdown",
   "metadata": {
    "slideshow": {
     "slide_type": "-"
    }
   },
   "source": [
    "-   Avantage : travaille toujours sur la même liste\n",
    "-   Valeur par défaut de `debut` si absent (`debut=0`)\n",
    "-   Appel sans le troisième argument : cherche sur toute la liste"
   ]
  },
  {
   "cell_type": "markdown",
   "metadata": {
    "slideshow": {
     "slide_type": "slide"
    }
   },
   "source": [
    "## Conclusion"
   ]
  },
  {
   "cell_type": "markdown",
   "metadata": {
    "slideshow": {
     "slide_type": "subslide"
    }
   },
   "source": [
    "### Pourquoi programmer des fonctions récursives ?\n",
    "\n",
    "-   On peut tout calculer de cette façon (sans boucles !)\n",
    "-   Certains problèmes plus simples à résoudre\n",
    "    \n",
    "    -   Bien adapté à des structures de données récursives\n",
    "    -   Solutions souvent plus concises et compréhensibles\n",
    "    -   Algorithmes parfois plus faciles à analyser\n",
    "    "
   ]
  },
  {
   "cell_type": "markdown",
   "metadata": {
    "slideshow": {
     "slide_type": "subslide"
    }
   },
   "source": [
    "-   Certains le sont beaucoup moins...\n",
    "    \n",
    "    -   Complexité parfois plus difficile à évaluer\n",
    "    -   Opérations parfois inadaptées (ex : listes Python)\n",
    "    \n",
    "-   Peut entraîner un surcoût\n",
    "    \n",
    "    -   Temps de gestion de la pile\n",
    "    -   Espace mémoire pour chaque appel imbriqué\n",
    "    -   Recopies si on n'est pas prudent"
   ]
  },
  {
   "cell_type": "markdown",
   "metadata": {
    "slideshow": {
     "slide_type": "subslide"
    }
   },
   "source": [
    "### Bilan de la récursivité\n",
    "\n",
    "-   Avantages:\n",
    "    \n",
    "    - $\\checkmark$ simplifie la vie quand on a compris le ``truc''\n",
    "    - $\\checkmark$ code souvent plus court et donc plus lisible\n",
    "    \n",
    "-   Inconvénients:\n",
    "\n",
    "    - $\\times$ il faut comprendre le truc...\n",
    "    - $\\times$ tous les langages ne s'y prêtent pas aussi bien\n",
    "    - $\\times$ souvent moins performant *($\\rightarrow$ dérécursification, récursion terminale...)*"
   ]
  },
  {
   "cell_type": "markdown",
   "metadata": {
    "slideshow": {
     "slide_type": "slide"
    }
   },
   "source": [
    "## <img src='img/non-exigible.png' style='display:inline; width:1.5em'> Raffinement du parcours de listes *(non exigible)*\n",
    "\n",
    "**Problème :** \n",
    "- Le parcours récursif de listes Python vu précédemment recopie une portion de la liste à chaque appel (tous les éléments sauf 1) !\n",
    "- C'est très coûteux en temps d'exécution et en mémoire."
   ]
  },
  {
   "cell_type": "code",
   "execution_count": 1,
   "metadata": {
    "slideshow": {
     "slide_type": "subslide"
    }
   },
   "outputs": [
    {
     "data": {
      "text/plain": [
       "False"
      ]
     },
     "execution_count": 1,
     "metadata": {},
     "output_type": "execute_result"
    }
   ],
   "source": [
    "#%%nbtutor -r -f -d 11 -i\n",
    "\n",
    "def est_dans_2(lst, elem):\n",
    "    if len(lst) == 0:\n",
    "        return False\n",
    "    elif lst[0] == elem:\n",
    "        return True\n",
    "    else:\n",
    "        return est_dans_2(lst[1:], elem)\n",
    "\n",
    "est_dans_2(list(range(10)), 14)"
   ]
  },
  {
   "cell_type": "markdown",
   "metadata": {
    "slideshow": {
     "slide_type": "subslide"
    }
   },
   "source": [
    "Cela revient (en plus rapide) à écrire une fonction `queue(lst)` qui renvoie une copie de `lst` privée de son premier élément :"
   ]
  },
  {
   "cell_type": "code",
   "execution_count": 2,
   "metadata": {
    "slideshow": {
     "slide_type": "-"
    }
   },
   "outputs": [
    {
     "data": {
      "text/plain": [
       "True"
      ]
     },
     "execution_count": 2,
     "metadata": {},
     "output_type": "execute_result"
    }
   ],
   "source": [
    "def queue(lst):\n",
    "    res = []\n",
    "    for i in range(1, len(lst)):\n",
    "        res.append(lst[i])\n",
    "    return res\n",
    "\n",
    "def est_dans_2_bis(lst, elem):\n",
    "    if len(lst) == 0:\n",
    "        return False\n",
    "    elif lst[0] == elem:\n",
    "        return True\n",
    "    else:\n",
    "        return est_dans_2_bis(queue(lst), elem)\n",
    "    \n",
    "est_dans_2_bis(list(range(10)), 9)"
   ]
  },
  {
   "cell_type": "code",
   "execution_count": 3,
   "metadata": {
    "slideshow": {
     "slide_type": "subslide"
    }
   },
   "outputs": [
    {
     "data": {
      "text/plain": [
       "False"
      ]
     },
     "execution_count": 3,
     "metadata": {},
     "output_type": "execute_result"
    }
   ],
   "source": [
    "est_dans_2_bis([0, 0, 0, 0, 0], 1)"
   ]
  },
  {
   "cell_type": "code",
   "execution_count": 4,
   "metadata": {
    "slideshow": {
     "slide_type": "subslide"
    }
   },
   "outputs": [
    {
     "data": {
      "text/plain": [
       "True"
      ]
     },
     "execution_count": 4,
     "metadata": {},
     "output_type": "execute_result"
    }
   ],
   "source": [
    "est_dans_2_bis([0, 0, 0, 0, 1], 1)"
   ]
  },
  {
   "attachments": {},
   "cell_type": "markdown",
   "metadata": {
    "slideshow": {
     "slide_type": "subslide"
    }
   },
   "source": [
    "**Exercice :** compter le nombre d'appels à la fonction `append`\n",
    "-   au cours de l'appel `est_dans_2_bis([0, 0, 0, 0, 0], 1)`\n",
    "-   au cours de l'appel `est_dans_2_bis([0] * n, 1)` pour `n` un naturel quelconque"
   ]
  },
  {
   "cell_type": "code",
   "execution_count": 5,
   "metadata": {
    "slideshow": {
     "slide_type": "subslide"
    }
   },
   "outputs": [],
   "source": [
    "def queue(lst):\n",
    "    res = []\n",
    "    cpt = 0\n",
    "    for i in range(1, len(lst)):\n",
    "        res.append(lst[i])\n",
    "        cpt += 1\n",
    "    return res, cpt\n",
    "\n",
    "def est_dans_2_ter(lst, elem):\n",
    "    if len(lst) == 0:\n",
    "        return False, 0\n",
    "    elif lst[0] == elem:\n",
    "        return True, 0\n",
    "    else:\n",
    "        tmp, cpt = queue(lst)\n",
    "        res, cpt2 = est_dans_2_ter(tmp, elem)\n",
    "        return res, cpt + cpt2        "
   ]
  },
  {
   "cell_type": "code",
   "execution_count": 6,
   "metadata": {
    "slideshow": {
     "slide_type": "subslide"
    }
   },
   "outputs": [
    {
     "data": {
      "text/plain": [
       "(False, 10)"
      ]
     },
     "execution_count": 6,
     "metadata": {},
     "output_type": "execute_result"
    }
   ],
   "source": [
    "est_dans_2_ter([0, 0, 0, 0, 0], 1)"
   ]
  },
  {
   "cell_type": "code",
   "execution_count": 7,
   "metadata": {
    "slideshow": {
     "slide_type": "subslide"
    }
   },
   "outputs": [
    {
     "data": {
      "text/plain": [
       "(True, 10)"
      ]
     },
     "execution_count": 7,
     "metadata": {},
     "output_type": "execute_result"
    }
   ],
   "source": [
    "est_dans_2_ter([0, 0, 0, 0, 1], 1)"
   ]
  },
  {
   "cell_type": "code",
   "execution_count": 8,
   "metadata": {},
   "outputs": [
    {
     "data": {
      "text/plain": [
       "(False, 499500)"
      ]
     },
     "execution_count": 8,
     "metadata": {},
     "output_type": "execute_result"
    }
   ],
   "source": [
    "est_dans_2_ter([0]*1000, 1)"
   ]
  },
  {
   "cell_type": "markdown",
   "metadata": {
    "slideshow": {
     "slide_type": "subslide"
    }
   },
   "source": [
    "#### Troisième essai : avec `pop(0)`"
   ]
  },
  {
   "cell_type": "code",
   "execution_count": 9,
   "metadata": {
    "slideshow": {
     "slide_type": "-"
    }
   },
   "outputs": [
    {
     "name": "stdout",
     "output_type": "stream",
     "text": [
      "True\n",
      "[]\n",
      "False\n"
     ]
    }
   ],
   "source": [
    "def est_dans_3(lst, elem):\n",
    "    if len(lst) == 0:\n",
    "        return False \n",
    "    premier = lst.pop(0)\n",
    "    if premier == elem:\n",
    "        return True\n",
    "    else:\n",
    "        return est_dans_3(lst, elem)\n",
    "\n",
    "lst = [1, 2, 3]\n",
    "print(est_dans_3(lst, 3))\n",
    "print(lst)\n",
    "print(est_dans_3(lst, 3))"
   ]
  },
  {
   "attachments": {},
   "cell_type": "markdown",
   "metadata": {
    "slideshow": {
     "slide_type": "subslide"
    }
   },
   "source": [
    "*Avantage :* une seule copie, mais... \n",
    "- détruit la liste !\n",
    "- toujours inefficace ! (`pop(0)` décale toute la liste)"
   ]
  },
  {
   "cell_type": "markdown",
   "metadata": {
    "slideshow": {
     "slide_type": "subslide"
    }
   },
   "source": [
    "#### Quatrième essai : avec `pop()`"
   ]
  },
  {
   "cell_type": "code",
   "execution_count": 10,
   "metadata": {
    "slideshow": {
     "slide_type": "-"
    }
   },
   "outputs": [],
   "source": [
    "def est_dans_4(lst, elem):\n",
    "    if len(lst) == 0:\n",
    "        return False \n",
    "    dernier = lst.pop()\n",
    "    if dernier == elem:\n",
    "        return True\n",
    "    else:\n",
    "        return est_dans_4(lst, elem)\n",
    "    "
   ]
  },
  {
   "cell_type": "code",
   "execution_count": 11,
   "metadata": {
    "slideshow": {
     "slide_type": "subslide"
    }
   },
   "outputs": [
    {
     "data": {
      "text/plain": [
       "True"
      ]
     },
     "execution_count": 11,
     "metadata": {},
     "output_type": "execute_result"
    }
   ],
   "source": [
    "lst = ['a', 'b', 'c']\n",
    "est_dans_4(lst, 'b')"
   ]
  },
  {
   "cell_type": "code",
   "execution_count": 12,
   "metadata": {
    "slideshow": {
     "slide_type": "-"
    }
   },
   "outputs": [
    {
     "data": {
      "text/plain": [
       "False"
      ]
     },
     "execution_count": 12,
     "metadata": {},
     "output_type": "execute_result"
    }
   ],
   "source": [
    "est_dans_4(lst, 'b')"
   ]
  },
  {
   "cell_type": "markdown",
   "metadata": {
    "slideshow": {
     "slide_type": "-"
    }
   },
   "source": [
    "-   Parcourt la liste depuis la fin \n",
    "-   Plus efficace, mais... détruit toujours la liste !  "
   ]
  },
  {
   "cell_type": "markdown",
   "metadata": {
    "slideshow": {
     "slide_type": "subslide"
    }
   },
   "source": [
    "#### Cinquième essai : avec un indice"
   ]
  },
  {
   "cell_type": "markdown",
   "metadata": {
    "slideshow": {
     "slide_type": "-"
    }
   },
   "source": [
    "<img src=\"img/reclistes2.png\" width=70%></img>"
   ]
  },
  {
   "cell_type": "code",
   "execution_count": 13,
   "metadata": {
    "slideshow": {
     "slide_type": "subslide"
    }
   },
   "outputs": [
    {
     "data": {
      "text/plain": [
       "True"
      ]
     },
     "execution_count": 13,
     "metadata": {},
     "output_type": "execute_result"
    }
   ],
   "source": [
    "def est_dans_5(lst, elem, indice):\n",
    "    if indice >= len(lst):\n",
    "        return False\n",
    "    elif lst[indice] == elem:\n",
    "        return True\n",
    "    else:\n",
    "        return est_dans_5(lst, elem, indice+1)  \n",
    "    \n",
    "lst = ['a', 'b', 'c']\n",
    "est_dans_5(lst, 'b', 0)"
   ]
  },
  {
   "cell_type": "markdown",
   "metadata": {
    "slideshow": {
     "slide_type": "subslide"
    }
   },
   "source": [
    "- Avantage : travaille toujours sur la même liste\n",
    "- Défaut : change la signature de la fonction (3 paramètres)"
   ]
  },
  {
   "cell_type": "markdown",
   "metadata": {
    "slideshow": {
     "slide_type": "subslide"
    }
   },
   "source": [
    "#### Sixième essai : avec un paramètre par défaut"
   ]
  },
  {
   "cell_type": "code",
   "execution_count": 14,
   "metadata": {
    "slideshow": {
     "slide_type": "-"
    }
   },
   "outputs": [],
   "source": [
    "def est_dans_6(lst, elem, indice=0):\n",
    "    if indice >= len(lst):\n",
    "        return False\n",
    "    elif lst[indice] == elem:\n",
    "        return True\n",
    "    else:\n",
    "        return est_dans_6(lst, elem, indice+1)\n",
    "       "
   ]
  },
  {
   "cell_type": "code",
   "execution_count": 15,
   "metadata": {
    "slideshow": {
     "slide_type": "subslide"
    }
   },
   "outputs": [
    {
     "data": {
      "text/plain": [
       "False"
      ]
     },
     "execution_count": 15,
     "metadata": {},
     "output_type": "execute_result"
    }
   ],
   "source": [
    "lst = ['a', 'b', 'c']\n",
    "est_dans_6(lst, 'd')"
   ]
  },
  {
   "cell_type": "markdown",
   "metadata": {
    "slideshow": {
     "slide_type": "-"
    }
   },
   "source": [
    "-   Avantage : travaille toujours sur la même liste\n",
    "-   Valeur par défaut de `indice` si absent (`indice=0`)\n",
    "-   Appel sans le troisième argument : cherche sur toute la liste"
   ]
  },
  {
   "cell_type": "markdown",
   "metadata": {
    "slideshow": {
     "slide_type": "subslide"
    }
   },
   "source": [
    "#### Une dernière forme : avec une fonction interne"
   ]
  },
  {
   "cell_type": "code",
   "execution_count": 16,
   "metadata": {
    "slideshow": {
     "slide_type": "-"
    }
   },
   "outputs": [
    {
     "data": {
      "text/plain": [
       "True"
      ]
     },
     "execution_count": 16,
     "metadata": {},
     "output_type": "execute_result"
    }
   ],
   "source": [
    "def est_dans_7(lst, elem):\n",
    "\n",
    "    # fonction auxiliaire récursive!\n",
    "    def aux(indice):  \n",
    "        if indice >= len(lst):\n",
    "            return False\n",
    "        elif lst[indice] == elem:\n",
    "            return True\n",
    "        else:\n",
    "            return aux(indice + 1)\n",
    "\n",
    "    return aux(0)\n",
    "\n",
    "lst = ['a', 'b', 'c']\n",
    "est_dans_7(lst, 'c')"
   ]
  },
  {
   "cell_type": "markdown",
   "metadata": {
    "slideshow": {
     "slide_type": "subslide"
    }
   },
   "source": [
    "**On compare !**\n",
    "\n",
    "Pour voir un peu comment ces fonctions se comportent en pratique, on va les chronométrer avec `timeit` sur des entrées de la forme `[0] * n`."
   ]
  },
  {
   "cell_type": "code",
   "execution_count": 17,
   "metadata": {
    "slideshow": {
     "slide_type": "-"
    }
   },
   "outputs": [],
   "source": [
    "n = 20000"
   ]
  },
  {
   "cell_type": "code",
   "execution_count": 18,
   "metadata": {
    "slideshow": {
     "slide_type": "-"
    }
   },
   "outputs": [],
   "source": [
    "from sys import setrecursionlimit\n",
    "setrecursionlimit(2*n)"
   ]
  },
  {
   "cell_type": "code",
   "execution_count": 20,
   "metadata": {
    "slideshow": {
     "slide_type": "-"
    }
   },
   "outputs": [
    {
     "name": "stdout",
     "output_type": "stream",
     "text": [
      "1.84 s ± 7.16 ms per loop (mean ± std. dev. of 7 runs, 1 loop each)\n",
      "57.9 ms ± 340 µs per loop (mean ± std. dev. of 7 runs, 10 loops each)\n",
      "4.87 ms ± 72.1 µs per loop (mean ± std. dev. of 7 runs, 100 loops each)\n"
     ]
    }
   ],
   "source": [
    "%timeit est_dans_2([0] * n, 1)\n",
    "%timeit est_dans_3([0] * n, 1)\n",
    "%timeit est_dans_6([0] * n, 1)"
   ]
  },
  {
   "cell_type": "markdown",
   "metadata": {
    "slideshow": {
     "slide_type": "subslide"
    }
   },
   "source": [
    "Test de doublement :"
   ]
  },
  {
   "cell_type": "code",
   "execution_count": 21,
   "metadata": {
    "slideshow": {
     "slide_type": "-"
    }
   },
   "outputs": [
    {
     "name": "stdout",
     "output_type": "stream",
     "text": [
      "14.5 ms ± 90.1 µs per loop (mean ± std. dev. of 7 runs, 100 loops each)\n",
      "57 ms ± 280 µs per loop (mean ± std. dev. of 7 runs, 10 loops each)\n"
     ]
    }
   ],
   "source": [
    "n = 10000\n",
    "%timeit est_dans_3([0] * n, 1)\n",
    "%timeit est_dans_3([0] * (n*2), 1)"
   ]
  },
  {
   "cell_type": "markdown",
   "metadata": {
    "slideshow": {
     "slide_type": "-"
    }
   },
   "source": [
    "Le temps n'est pas *du tout* proportionnel à la taille de l'entrée !\n",
    "\n",
    "Logique : si $n (n-1) / 2 = x$, combien vaut $(2n) (2n-1) / 2$ ?"
   ]
  },
  {
   "cell_type": "code",
   "execution_count": 23,
   "metadata": {
    "slideshow": {
     "slide_type": "-"
    }
   },
   "outputs": [
    {
     "name": "stdout",
     "output_type": "stream",
     "text": [
      "2.29 ms ± 38.4 µs per loop (mean ± std. dev. of 7 runs, 100 loops each)\n",
      "4.83 ms ± 25.1 µs per loop (mean ± std. dev. of 7 runs, 100 loops each)\n"
     ]
    }
   ],
   "source": [
    "n = 10000\n",
    "%timeit est_dans_6([0] * n, 1)\n",
    "%timeit est_dans_6([0] * (n*2), 1)"
   ]
  },
  {
   "attachments": {},
   "cell_type": "markdown",
   "metadata": {
    "slideshow": {
     "slide_type": "-"
    }
   },
   "source": [
    "Le temps est *à peu près* proportionnel à la taille de l'entrée !"
   ]
  }
 ],
 "metadata": {
  "celltoolbar": "Slideshow",
  "kernelspec": {
   "display_name": "Python 3 (ipykernel)",
   "language": "python",
   "name": "python3"
  },
  "language_info": {
   "codemirror_mode": {
    "name": "ipython",
    "version": 3
   },
   "file_extension": ".py",
   "mimetype": "text/x-python",
   "name": "python",
   "nbconvert_exporter": "python",
   "pygments_lexer": "ipython3",
   "version": "3.11.1"
  },
  "vscode": {
   "interpreter": {
    "hash": "1a1af0ee75eeea9e2e1ee996c87e7a2b11a0bebd85af04bb136d915cefc0abce"
   }
  }
 },
 "nbformat": 4,
 "nbformat_minor": 2
}
