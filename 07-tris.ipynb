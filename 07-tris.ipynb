{
 "cells": [
  {
   "cell_type": "markdown",
   "id": "cfa4bae9",
   "metadata": {},
   "source": [
    "<div style='width:20em'><img src='img/logo-igm.png'></div>\n",
    "<div style='font-size:larger'><strong>Algorithmique et programmation 2</strong><br>\n",
    "L1 Mathématiques - L1 Informatique<br>\n",
    "Semestre 2\n",
    "</div>"
   ]
  },
  {
   "attachments": {},
   "cell_type": "markdown",
   "id": "5be40568",
   "metadata": {},
   "source": [
    "# Algorithmes de tri"
   ]
  },
  {
   "attachments": {},
   "cell_type": "markdown",
   "id": "fc7a458c",
   "metadata": {},
   "source": [
    "## Introduction et rappels"
   ]
  },
  {
   "attachments": {},
   "cell_type": "markdown",
   "id": "35eee112",
   "metadata": {},
   "source": [
    "Chercher un élément dans une liste non triée de taille $n$ peut se faire par *recherche exhaustive*\n",
    " \n",
    "- Complexité $O(n)$\n",
    "- Sans autre hypothèse on ne peut pas faire mieux"
   ]
  },
  {
   "attachments": {},
   "cell_type": "markdown",
   "id": "a4b506f3",
   "metadata": {},
   "source": [
    "\n",
    "Chercher un élément dans une liste *triée* de taille $n$ peut se faire par *recherche binaire* (ou *dichotomie*)\n",
    "\n",
    "- Complexité $O(\\log n)$ (exponentiellement plus rapide !!)\n",
    "- Sans autre hypothèse on ne peut pas faire mieux"
   ]
  },
  {
   "attachments": {},
   "cell_type": "markdown",
   "id": "b892a6db",
   "metadata": {},
   "source": [
    "\n",
    "Conclusion : si on a besoin de chercher fréquemment, on a intérêt à trier (ou à maintenir les données triées)\n",
    "\n",
    "- Si ce n'est pas trop coûteux !\n",
    "- D'où l'intérêt d'algorithmes *efficaces*"
   ]
  },
  {
   "attachments": {},
   "cell_type": "markdown",
   "id": "a22a6d1c",
   "metadata": {},
   "source": [
    "**Problème du tri**\n",
    "\n",
    "- *Données:* une liste `lst`\n",
    "- *Résultat:* une liste contenant les mêmes éléments que `lst` dans l'ordre croissant\n",
    "\n",
    "**Variantes possibles :**\n",
    "- Création d'une nouvelle liste ou modification de la liste reçue\n",
    "- Tri selon d'autres critères\n",
    "\n",
    "**Remarques:**\n",
    "- On suppose que les éléments de `lst` sont comparables\n",
    "- On travaille ici sur des listes croissantes d'entiers, mais le raisonnement reste le même pour d'autres types"
   ]
  },
  {
   "attachments": {},
   "cell_type": "markdown",
   "id": "e8531243",
   "metadata": {},
   "source": [
    "Le problème du tri peut être résolu par plusieurs algorithmes d'efficacités diverses\n",
    "\n",
    "- Trois algorithmes basiques :\n",
    "\n",
    "    - tri à bulle\n",
    "    - tri par sélection\n",
    "    - tri par insertion\n",
    "\n",
    "- Deux algorithmes plus efficaces :\n",
    "\n",
    "    - le tri par pivot\n",
    "    - le tri par fusion\n",
    "\n",
    "*(Si on a le temps,)* quelques algorithmes plus inhabituels"
   ]
  },
  {
   "attachments": {},
   "cell_type": "markdown",
   "id": "002378f8",
   "metadata": {},
   "source": [
    "## Tri à bulle (sur place)\n",
    "\n",
    "\n",
    "### Algorithme\n",
    "\n",
    "Paramètre : `lst`\n",
    "\n",
    "Pour chaque indice `i` de 0 à `len(lst)-1` :\n",
    "- on parcourt les `n-i` derniers éléments depuis la fin\n",
    "- on intervertit les éléments voisins mal ordonnés"
   ]
  },
  {
   "attachments": {},
   "cell_type": "markdown",
   "id": "8a1ec2e6",
   "metadata": {},
   "source": [
    "### Arguments de correction\n",
    "  \n",
    "- **Invariant :** après $k$ passages, les $k$ premiers éléments de `lst` sont\n",
    "  les plus petits et sont triés *(par récurrence)*\n",
    "    - C'est vrai après 0 passage\n",
    "    - Au $k$-eme passage (`i` = $k-1$), le plus petit élément parmi les `n-i` derniers remonte en\n",
    "      position `i`\n",
    "- Donc après le dernier passage la liste entière est triée\n"
   ]
  },
  {
   "attachments": {},
   "cell_type": "markdown",
   "id": "07d11cd9",
   "metadata": {},
   "source": [
    "### Implémentation"
   ]
  },
  {
   "cell_type": "code",
   "execution_count": 1,
   "id": "c92497fb",
   "metadata": {},
   "outputs": [],
   "source": [
    "def echange(lst, i, j):\n",
    "    lst[i], lst[j] = lst[j], lst[i]"
   ]
  },
  {
   "cell_type": "code",
   "execution_count": 2,
   "id": "c96dd29a",
   "metadata": {},
   "outputs": [],
   "source": [
    "\n",
    "def tri_bulle(lst):\n",
    "    n = len(lst)\n",
    "    # on fait croître la portion triée\n",
    "    for i in range(0, n-1):\n",
    "        # on fait remonter la bulle dans la portion non triée\n",
    "        for j in range(n-1, i, -1):\n",
    "            # échange si voisins mal ordonnés\n",
    "            if lst[j-1] > lst[j]:\n",
    "                echange(lst, j, j-1)"
   ]
  },
  {
   "cell_type": "code",
   "execution_count": 3,
   "id": "bf303c90",
   "metadata": {},
   "outputs": [],
   "source": [
    "une_liste = [5, 0, 7, 8, 6, 2, 4, 3, 1]\n",
    "tri_bulle(une_liste)"
   ]
  },
  {
   "cell_type": "code",
   "execution_count": 4,
   "id": "4d987565",
   "metadata": {},
   "outputs": [
    {
     "data": {
      "text/plain": [
       "[0, 1, 2, 3, 4, 5, 6, 7, 8]"
      ]
     },
     "execution_count": 4,
     "metadata": {},
     "output_type": "execute_result"
    }
   ],
   "source": [
    "une_liste"
   ]
  },
  {
   "attachments": {},
   "cell_type": "markdown",
   "id": "4c5a1ad0",
   "metadata": {},
   "source": [
    "### Complexité\n",
    "\n",
    "Pour chaque valeur de `i` entre 0 et n-2 :\n",
    "    \n",
    "    - `n-i-1` comparaisons dans tous les cas\n",
    "    - `n-i-1` échanges au pire (0 au mieux)\n",
    "    - pire cas : liste décroissante\n",
    "    - meilleur cas : liste croissante\n",
    "    \n",
    "Nombre total de comparaisons dans tous les cas:\n",
    "    $$\n",
    "    \\sum_{i=0}^{n-2} n-i-1 = \\sum_{i=1}^{n-1} i = \\frac{n(n-1)}{2} \\in O(n^2)\n",
    "    $$\n",
    "\n",
    "Nombre total d'échanges : 0 au mieux, $O(n^2)$ au pire"
   ]
  },
  {
   "cell_type": "markdown",
   "id": "891eb642",
   "metadata": {},
   "source": [
    "\n",
    "### Amélioration possible\n",
    "\n",
    "Arrêter les comparaisons à la dernière position d'échange"
   ]
  },
  {
   "attachments": {},
   "cell_type": "markdown",
   "id": "80418cb2",
   "metadata": {},
   "source": [
    "## Tri par sélection"
   ]
  },
  {
   "cell_type": "markdown",
   "id": "1523d4c6",
   "metadata": {},
   "source": [
    "\n",
    "### En construisant une nouvelle liste"
   ]
  },
  {
   "attachments": {},
   "cell_type": "markdown",
   "id": "71551858",
   "metadata": {},
   "source": [
    "#### Algorithme\n",
    "\n",
    "Paramètre : `lst`\n",
    "\n",
    "On initialise une liste `resultat` (vide), et tant qu'il reste des éléments à\n",
    "traiter :\n",
    "- on cherche et on retire un élément minimal de `lst`\n",
    "- on place cet élément en fin de `resultat`"
   ]
  },
  {
   "cell_type": "markdown",
   "id": "27750738",
   "metadata": {},
   "source": [
    "\n",
    "#### Correction\n",
    "\n",
    "- **Invariant :** Après $k$ itérations :\n",
    "    - Tous les éléments de `resultat` sont plus petits que ceux de `lst`\n",
    "    - `resultat` contient $k$ éléments et est triée\n",
    "- Après la dernière étape, `resultat` est triée et contient tous les éléments de\n",
    "  `lst`"
   ]
  },
  {
   "attachments": {},
   "cell_type": "markdown",
   "id": "8800bf3e",
   "metadata": {},
   "source": [
    "#### Implémentation"
   ]
  },
  {
   "cell_type": "code",
   "execution_count": 5,
   "id": "c9c626a1",
   "metadata": {},
   "outputs": [],
   "source": [
    "def extrait_min(lst):\n",
    "    i_min = 0\n",
    "    for i in range(1, len(lst)):\n",
    "        if lst[i] < lst[i_min]:\n",
    "            i_min = i\n",
    "    return lst.pop(i_min)  # WARNING: modifie lst !"
   ]
  },
  {
   "cell_type": "code",
   "execution_count": 6,
   "id": "6d40f63c",
   "metadata": {},
   "outputs": [],
   "source": [
    "def tri_selection(lst):\n",
    "    res = []\n",
    "    while len(lst) > 0:\n",
    "        res.append(extrait_min(lst))\n",
    "    return res"
   ]
  },
  {
   "cell_type": "code",
   "execution_count": 7,
   "id": "7e21b722",
   "metadata": {},
   "outputs": [
    {
     "data": {
      "text/plain": [
       "[0, 1, 2, 3, 4, 5, 6, 7, 8]"
      ]
     },
     "execution_count": 7,
     "metadata": {},
     "output_type": "execute_result"
    }
   ],
   "source": [
    "une_liste = [5, 0, 7, 8, 6, 2, 4, 3, 1]\n",
    "tri_selection(une_liste)"
   ]
  },
  {
   "cell_type": "code",
   "execution_count": 8,
   "id": "001e5fc0",
   "metadata": {},
   "outputs": [
    {
     "data": {
      "text/plain": [
       "[]"
      ]
     },
     "execution_count": 8,
     "metadata": {},
     "output_type": "execute_result"
    }
   ],
   "source": [
    "tri_selection(une_liste)  # WARNING !"
   ]
  },
  {
   "attachments": {},
   "cell_type": "markdown",
   "id": "d27edef9",
   "metadata": {},
   "source": [
    "**Problème :** détruit `lst` (il suffit de commencer par faire une copie) !"
   ]
  },
  {
   "cell_type": "code",
   "execution_count": 9,
   "id": "52e200cf",
   "metadata": {},
   "outputs": [],
   "source": [
    "def tri_selection(lst):\n",
    "    lst = lst.copy()\n",
    "    res = []\n",
    "    while len(lst) > 0:\n",
    "        res.append(extrait_min(lst))\n",
    "    return res"
   ]
  },
  {
   "cell_type": "code",
   "execution_count": 10,
   "id": "4674585b",
   "metadata": {},
   "outputs": [
    {
     "data": {
      "text/plain": [
       "[0, 1, 2, 3, 4, 5, 6, 7, 8]"
      ]
     },
     "execution_count": 10,
     "metadata": {},
     "output_type": "execute_result"
    }
   ],
   "source": [
    "une_liste = [5, 0, 7, 8, 6, 2, 4, 3, 1]\n",
    "tri_selection(une_liste)"
   ]
  },
  {
   "cell_type": "code",
   "execution_count": 11,
   "id": "3f1ccd68",
   "metadata": {},
   "outputs": [
    {
     "data": {
      "text/plain": [
       "[0, 1, 2, 3, 4, 5, 6, 7, 8]"
      ]
     },
     "execution_count": 11,
     "metadata": {},
     "output_type": "execute_result"
    }
   ],
   "source": [
    "tri_selection(une_liste)"
   ]
  },
  {
   "attachments": {},
   "cell_type": "markdown",
   "id": "a8cf2dad",
   "metadata": {},
   "source": [
    "**Problème :** l'instruction `lst.pop(i_min)` n'est pas très efficace...\n",
    "($O($`len(lst)`$)$ au pire)"
   ]
  },
  {
   "attachments": {},
   "cell_type": "markdown",
   "id": "8e6b94ec",
   "metadata": {},
   "source": [
    "### Sur place"
   ]
  },
  {
   "attachments": {},
   "cell_type": "markdown",
   "id": "31118256",
   "metadata": {},
   "source": [
    "\n",
    "#### Algorithme\n",
    "\n",
    "Pour chaque indice `i` entre 0 et `len(lst)-2` :\n",
    "- on cherche un élément minimal de `lst[i:]`\n",
    "- on échange cet élément avec l'élément d'indice `i` "
   ]
  },
  {
   "attachments": {},
   "cell_type": "markdown",
   "id": "91b2c252",
   "metadata": {},
   "source": [
    "\n",
    "#### Correction\n",
    "\n",
    "**Invariant :** Après $k$ itérations :\n",
    "- Les $k$ premiers éléments de `lst` sont plus petits que tous les suivants\n",
    "- Les $k$ premiers éléments de `lst` sont triés dans l'ordre croissant\n",
    "\n",
    "En particulier, après la dernière étape, `lst` est triée"
   ]
  },
  {
   "cell_type": "markdown",
   "id": "dd1479da",
   "metadata": {},
   "source": [
    "#### Implémentation"
   ]
  },
  {
   "cell_type": "code",
   "execution_count": 12,
   "id": "a5e9d360",
   "metadata": {},
   "outputs": [],
   "source": [
    "def indice_min(lst, debut):\n",
    "    i_min = debut\n",
    "    for i in range(debut + 1, len(lst)):\n",
    "        if lst[i] < lst[i_min]:\n",
    "            i_min = i\n",
    "    return i_min"
   ]
  },
  {
   "cell_type": "code",
   "execution_count": 13,
   "id": "ebea3fae",
   "metadata": {},
   "outputs": [],
   "source": [
    "def tri_selection(lst):\n",
    "    for i in range(len(lst)-1):\n",
    "        i_min = indice_min(lst, i)\n",
    "        echange(lst, i, i_min)"
   ]
  },
  {
   "cell_type": "code",
   "execution_count": 14,
   "id": "fcadc6f3",
   "metadata": {},
   "outputs": [],
   "source": [
    "une_liste = [5, 0, 7, 8, 6, 2, 4, 3, 1]\n",
    "tri_selection(une_liste)  # ne renvoie rien !"
   ]
  },
  {
   "cell_type": "code",
   "execution_count": 15,
   "id": "fe9e1cba",
   "metadata": {},
   "outputs": [
    {
     "data": {
      "text/plain": [
       "[0, 1, 2, 3, 4, 5, 6, 7, 8]"
      ]
     },
     "execution_count": 15,
     "metadata": {},
     "output_type": "execute_result"
    }
   ],
   "source": [
    "une_liste  # modifiée ! l'ordre d'origine est perdu"
   ]
  },
  {
   "attachments": {},
   "cell_type": "markdown",
   "id": "3ed74b90",
   "metadata": {},
   "source": [
    "#### Complexité\n",
    "  \n",
    "Pour chaque valeur de `i` entre 0 et $n-2$ :\n",
    "    \n",
    "- `n-i-1` comparaisons pour trouver le plus petit élément à partir de l'indice `i`\n",
    "- un seul échange\n",
    "    \n",
    "Nombre total de comparaisons (dans tous les cas) :\n",
    "\n",
    "$$\n",
    "\\sum_{i=0}^{n-2} n-i-1 = \\sum_{i=1}^{n-1} i = \\frac{n(n-1)}{2} \\in O(n^2)\n",
    "$$\n",
    "\n",
    "Nombre total d'échanges : $n-1$ (dans tous les cas)\n",
    "\n",
    "**Remarque :** Pas de pire ni de meilleur cas (complexité indépendante du contenu de la liste)"
   ]
  },
  {
   "attachments": {},
   "cell_type": "markdown",
   "id": "8c79c466",
   "metadata": {},
   "source": [
    "## Tri par insertion\n",
    "\n",
    "« Tri du joueur de cartes »"
   ]
  },
  {
   "attachments": {},
   "cell_type": "markdown",
   "id": "80297920",
   "metadata": {},
   "source": [
    "### Version créant une nouvelle liste"
   ]
  },
  {
   "attachments": {},
   "cell_type": "markdown",
   "id": "d25d9c44",
   "metadata": {},
   "source": [
    "#### Algorithme\n",
    "\n",
    "Paramètre : `lst`\n",
    "\n",
    "- On crée une liste vide `resultat`\n",
    "- Pour chaque élément `e` de `lst`, on insère `e` « à la bonne place » dans `resultat`"
   ]
  },
  {
   "attachments": {},
   "cell_type": "markdown",
   "id": "8b43616d",
   "metadata": {},
   "source": [
    "#### Correction\n",
    "\n",
    "**Invariant :** Après $k$ itérations, `resultat` contient les $k$ premiers éléments de `lst`, dans l'ordre croissant.\n",
    "\n",
    "En particulier, après la dernière itération, `resultat` contient tous les éléments de `lst` dans l'ordre croissant"
   ]
  },
  {
   "cell_type": "markdown",
   "id": "54f72ed8",
   "metadata": {},
   "source": [
    "#### Implémentation"
   ]
  },
  {
   "cell_type": "code",
   "execution_count": 16,
   "id": "c72651b6",
   "metadata": {},
   "outputs": [],
   "source": [
    "def inserer(e, lst):\n",
    "    i = len(lst)  # on parcourt la liste depuis la fin (pourquoi pas...)\n",
    "    while i > 0 and lst[i-1] > e:\n",
    "        i -= 1\n",
    "    lst.insert(i, e)  # WARNING : modifie lst !"
   ]
  },
  {
   "cell_type": "code",
   "execution_count": 17,
   "id": "8ec15294",
   "metadata": {},
   "outputs": [
    {
     "data": {
      "text/plain": [
       "[0, 1, 2, 3]"
      ]
     },
     "execution_count": 17,
     "metadata": {},
     "output_type": "execute_result"
    }
   ],
   "source": [
    "lst = [1, 2, 3]\n",
    "inserer(0, lst)\n",
    "lst"
   ]
  },
  {
   "cell_type": "code",
   "execution_count": 18,
   "id": "7ec23eb7",
   "metadata": {},
   "outputs": [
    {
     "data": {
      "text/plain": [
       "[0, 1, 2, 2.5, 3]"
      ]
     },
     "execution_count": 18,
     "metadata": {},
     "output_type": "execute_result"
    }
   ],
   "source": [
    "inserer(2.5, lst)\n",
    "lst"
   ]
  },
  {
   "cell_type": "code",
   "execution_count": 19,
   "id": "0cd71b7c",
   "metadata": {},
   "outputs": [
    {
     "data": {
      "text/plain": [
       "[0, 1, 2, 2.5, 3, 4]"
      ]
     },
     "execution_count": 19,
     "metadata": {},
     "output_type": "execute_result"
    }
   ],
   "source": [
    "inserer(4, lst)\n",
    "lst"
   ]
  },
  {
   "cell_type": "code",
   "execution_count": 20,
   "id": "6106268c",
   "metadata": {},
   "outputs": [],
   "source": [
    "def tri_insertion(lst):\n",
    "    resultat = []\n",
    "    for e in lst:\n",
    "        inserer(e, resultat)\n",
    "    return resultat  # lst n'est pas modifiée !"
   ]
  },
  {
   "cell_type": "code",
   "execution_count": 21,
   "id": "9c7b1c74",
   "metadata": {},
   "outputs": [
    {
     "data": {
      "text/plain": [
       "[0, 1, 2, 3, 4, 5, 6, 7, 8]"
      ]
     },
     "execution_count": 21,
     "metadata": {},
     "output_type": "execute_result"
    }
   ],
   "source": [
    "une_liste = [5, 0, 7, 8, 6, 2, 4, 3, 1]\n",
    "tri_insertion(une_liste)"
   ]
  },
  {
   "attachments": {},
   "cell_type": "markdown",
   "id": "dd120b67",
   "metadata": {},
   "source": [
    "### Version sur place"
   ]
  },
  {
   "attachments": {},
   "cell_type": "markdown",
   "id": "0de94510",
   "metadata": {},
   "source": [
    "\n",
    "#### Algorithme\n",
    "\n",
    "Paramètre : `lst`\n",
    "\n",
    "Pour chaque indice `i` de 1 à `len(lst)-1`, on insère `lst[i]` « à la bonne place » parmi les éléments précédents"
   ]
  },
  {
   "attachments": {},
   "cell_type": "markdown",
   "id": "f6df6e4c",
   "metadata": {},
   "source": [
    "**Insertion :** on procède en trois étapes\n",
    "\n",
    "- sauvegarder l'élément `e` à déplacer\n",
    "- décaler les éléments précédents plus grands que `e` d'une position vers la\n",
    "  droite\n",
    "- affecter la valeur de `e` à la destination"
   ]
  },
  {
   "attachments": {},
   "cell_type": "markdown",
   "id": "aea76a2e",
   "metadata": {},
   "source": [
    "#### Correction\n",
    "\n",
    "**Invariant :** Après $k$ itérations, `lst[:`$k+1$`]` est triée\n",
    "\n",
    "En particulier, après la dernière itération, `lst` est triée"
   ]
  },
  {
   "attachments": {},
   "cell_type": "markdown",
   "id": "4e5fff90",
   "metadata": {},
   "source": [
    "#### Implémentation"
   ]
  },
  {
   "cell_type": "code",
   "execution_count": 22,
   "id": "254289bc",
   "metadata": {},
   "outputs": [],
   "source": [
    "def decalage(lst, i):\n",
    "    e = lst[i]  # on sauvegarde l'élément à déplacer\n",
    "    # on décale d'un cran les éléments précédents plus grands que e\n",
    "    k = i\n",
    "    while k > 0 and lst[k-1] > e:\n",
    "        lst[k] = lst[k-1]\n",
    "        k = k - 1\n",
    "    # on insèrer e en position k\n",
    "    lst[k] = e"
   ]
  },
  {
   "cell_type": "code",
   "execution_count": 23,
   "id": "652e9ce1",
   "metadata": {},
   "outputs": [
    {
     "data": {
      "text/plain": [
       "[0, 1, 2, 3]"
      ]
     },
     "execution_count": 23,
     "metadata": {},
     "output_type": "execute_result"
    }
   ],
   "source": [
    "lst = [0, 2, 3, 1]\n",
    "decalage(lst, 3)\n",
    "lst"
   ]
  },
  {
   "cell_type": "code",
   "execution_count": 24,
   "id": "3937436c",
   "metadata": {},
   "outputs": [
    {
     "data": {
      "text/plain": [
       "[-1, 0, 2, 3]"
      ]
     },
     "execution_count": 24,
     "metadata": {},
     "output_type": "execute_result"
    }
   ],
   "source": [
    "lst = [0, 2, 3, -1]\n",
    "decalage(lst, 3)\n",
    "lst"
   ]
  },
  {
   "cell_type": "code",
   "execution_count": 25,
   "id": "f41bd17e",
   "metadata": {},
   "outputs": [
    {
     "data": {
      "text/plain": [
       "[0, 2, 3, 5]"
      ]
     },
     "execution_count": 25,
     "metadata": {},
     "output_type": "execute_result"
    }
   ],
   "source": [
    "lst = [0, 2, 3, 5]\n",
    "decalage(lst, 3)\n",
    "lst"
   ]
  },
  {
   "cell_type": "code",
   "execution_count": 26,
   "id": "7b656c59",
   "metadata": {},
   "outputs": [],
   "source": [
    "def tri_insertion(lst):\n",
    "    for i in range(1, len(lst)):\n",
    "        decalage(lst, i)\n",
    "    # WARNING : modifie lst, ne renvoie rien"
   ]
  },
  {
   "cell_type": "code",
   "execution_count": 27,
   "id": "46b4c7ef",
   "metadata": {},
   "outputs": [],
   "source": [
    "une_liste = [5, 0, 7, 8, 6, 2, 4, 3, 1]\n",
    "tri_insertion(une_liste)  # ne renvoie rien !"
   ]
  },
  {
   "cell_type": "code",
   "execution_count": 28,
   "id": "8af1e82d",
   "metadata": {},
   "outputs": [
    {
     "data": {
      "text/plain": [
       "[0, 1, 2, 3, 4, 5, 6, 7, 8]"
      ]
     },
     "execution_count": 28,
     "metadata": {},
     "output_type": "execute_result"
    }
   ],
   "source": [
    "une_liste"
   ]
  },
  {
   "attachments": {},
   "cell_type": "markdown",
   "id": "f888eba5",
   "metadata": {},
   "source": [
    "### Complexité (deux versions)\n",
    "  \n",
    "Pour chaque valeur de `i` entre 1 et $n$-1 :\n",
    "  \n",
    "- Entre 1 et $n$-`i`-1 comparaisons pour trouver l'indice d'insertion\n",
    "- Entre 0 et $n$-`i`-1 affectations pour décaler les éléments plus grands\n",
    "  \n",
    "Nombre de comparaisons ou d'affectations au pire (liste décroissante) :\n",
    "$$\n",
    "\\sum_{i=0}^{n-2} n-i-1 = \\sum_{i=1}^{n-1} i = \\frac{n(n-1)}{2} \\in O(n^2)\n",
    "$$\n",
    "\n",
    "Meilleur cas : $O(n)$ sur liste croissante (aucun décalage)"
   ]
  },
  {
   "cell_type": "markdown",
   "id": "2253900f",
   "metadata": {},
   "source": [
    "\n",
    "### Amélioration possible\n",
    "\n",
    "Chercher la position finale de chaque élément par dichotomie sur le début de la\n",
    "liste (ne change pas le nombre d'affectations nécessaire)\n",
    "  \n"
   ]
  },
  {
   "attachments": {},
   "cell_type": "markdown",
   "id": "51166482",
   "metadata": {},
   "source": [
    "## Autres tris\n",
    "\n",
    "Les algorithmes de tri déjà présentés ont une complexité élevée ($O(n^2)$).\n",
    "On va voir maintenant des algorithmes plus performants :\n",
    "- le tri rapide\n",
    "- le tri par fusion"
   ]
  },
  {
   "cell_type": "markdown",
   "id": "bc7431ea",
   "metadata": {},
   "source": [
    "## Tri par pivot / tri rapide"
   ]
  },
  {
   "attachments": {},
   "cell_type": "markdown",
   "id": "50bd70ca",
   "metadata": {
    "slideshow": {
     "slide_type": "skip"
    }
   },
   "source": [
    "*-- snip --*\n",
    "\n",
    "<!-- % -----------------------------------------------------------------------------\n",
    "\n",
    "    \\frametitle{Echauffement: le tri pair / impair}\n",
    "\n",
    "    \\item A titre d'échauffement, essayons de résoudre le problème suivant:\n",
    "\n",
    "  \\begin{probleme}[tri pair / impair]\\small\n",
    "    **Objectif:** une liste `lst` de naturels\\\\\n",
    "    **Données:** mettre les éléments pairs de `i` au début et les impairs à la fin\n",
    "  \\end{probleme}\n",
    "\n",
    "    \\item Comment résoudre ce problème de manière efficace?\n",
    "\n",
    "\n",
    "\n",
    "% TODO: il y a sûrement plusieurs options possibles, si d'autres options intermédiaires vous semblent intéressantes\n",
    "% d'un point de vue pédagogique, n'hésitez pas\n",
    "\n",
    "% -----------------------------------------------------------------------------\n",
    "\n",
    "    \\frametitle{Echauffement: le tri pair / impair}\n",
    "\n",
    "    \\item Une solution possible: parcourir la liste simultanément avec deux curseurs `len(lst)-1` et `n-i`\n",
    "    \\item Les deux curseurs progressent l'un vers l'autre au départ des extrémités\n",
    "    \\item A chaque fois qu'on tombe sur un couple (`i`, `n-i`) d'éléments mal placés, on les échange\n",
    "\n",
    "\\vfill\n",
    "    \\begin{center}\n",
    "\\begin{tikzpicture}\n",
    "\\tableau{16}{1};\n",
    "\\node (c1) at (0, -.5) {c1};\n",
    "\\node (c2) at (8, -.5) {c2};\n",
    "\n",
    "\\draw[>=stealth,->] (0,-0.25) to (3, -.25);\n",
    "\\draw[>=stealth,->] (8,-0.25) to (5, -.25);\n",
    "\\end{tikzpicture}\n",
    "    \\end{center}\n",
    "\n",
    "\n",
    "% Exemple à dérouler sur : [7, 7, 10, 0, 1, 0, 9, 9, 5, 10, 8, 5, 3, 10, 5, 0]\n",
    "\n",
    " \\frametitle{Le tri pair / impair en action}\n",
    "\n",
    "% \n",
    "%     \\item Avant de présenter l'algorithme, illustrons son action sur un exemple simple:\n",
    "\\begin{exemple}\n",
    "\\bigskip\n",
    "\\centering\n",
    "\\begin{tikzpicture}\n",
    "\\node (c1) at (0, -1) {curseur 1};\n",
    "\\node (c2) at (8, -1) {curseur 2};\n",
    "\n",
    "% Etapes pour les curseurs:\n",
    "\\only<1-2> {\n",
    "    \\draw[>=stealth,->] (c1) to (.25, -.05);\n",
    "    \\draw[>=stealth,->] (c2) to (7.75, -.05);\n",
    "}\n",
    "\n",
    "\\only<3-4> {\n",
    "    \\draw[>=stealth,->] (c1) to (.75, -.05);\n",
    "    \\draw[>=stealth,->] (c2) to (6.75, -.05);\n",
    "}\n",
    "\n",
    "\\only<5-6> {\n",
    "    \\draw[>=stealth,->] (c1) to (2.25, -.05);\n",
    "    \\draw[>=stealth,->] (c2) to (5.25, -.05);\n",
    "}\n",
    "\n",
    "\\only<7-8> {\n",
    "    \\draw[>=stealth,->] (c1) to (3.25, -.05);\n",
    "    \\draw[>=stealth,->] (c2) to (4.75, -.05);\n",
    "}\n",
    "\n",
    "\\only<9> {\n",
    "    \\draw[>=stealth,->] (c1) to (3.75, -.05);\n",
    "    \\draw[>=stealth,->] (c2) to (3.25, -.05);\n",
    "}\n",
    "\n",
    "% Affichage en vert des préfixes et suffixes auxquels on ne touchera plus:\n",
    "\\only<1>{\n",
    "    \\node[fill=red,opacity=.5,inner sep=7pt] at (0.25, 0.25) {};\n",
    "    \\node[fill=red,opacity=.5,inner sep=7pt] at (7.75, 0.25) {};\n",
    "}\n",
    "\n",
    "\\uncover<2->{\n",
    "    % préfixe\n",
    "    \\node[fill=green,opacity=.5,inner sep=7pt] at (0.25, 0.25) {};\n",
    "    % suffixe\n",
    "    \\node[fill=green,opacity=.5,inner sep=7pt] at (7.75, 0.25) {};\n",
    "}\n",
    "\n",
    "\\uncover<3->{\n",
    "    % préfixe\n",
    "    % suffixe\n",
    "    \\node[fill=green,opacity=.5,inner sep=7pt] at (7.25, 0.25) {};\n",
    "}\n",
    "\n",
    "\\only<3>{\n",
    "    \\node[fill=red,opacity=.5,inner sep=7pt] at (0.75, 0.25) {};\n",
    "    \\node[fill=red,opacity=.5,inner sep=7pt] at (6.75, 0.25) {};\n",
    "}\n",
    "\n",
    "\\uncover<4->{\n",
    "    % préfixe\n",
    "    \\foreach \\abscisse in {0.75}\n",
    "        \\node[fill=green,opacity=.5,inner sep=7pt] at (\\abscisse, 0.25) {};\n",
    "    % suffixe\n",
    "    \\foreach \\abscisse in {6.75}\n",
    "        \\node[fill=green,opacity=.5,inner sep=7pt] at (\\abscisse, 0.25) {};\n",
    "}\n",
    "\n",
    "\\uncover<5->{\n",
    "    % préfixe\n",
    "    \\foreach \\abscisse in {1.25, 1.75}\n",
    "        \\node[fill=green,opacity=.5,inner sep=7pt] at (\\abscisse, 0.25) {};\n",
    "    % suffixe\n",
    "    \\foreach \\abscisse in {6.25, 5.75}\n",
    "        \\node[fill=green,opacity=.5,inner sep=7pt] at (\\abscisse, 0.25) {};\n",
    "}\n",
    "\n",
    "\\only<5>{\n",
    "    \\node[fill=red,opacity=.5,inner sep=7pt] at (2.25, 0.25) {};\n",
    "    \\node[fill=red,opacity=.5,inner sep=7pt] at (5.25, 0.25) {};\n",
    "}\n",
    "\n",
    "\\uncover<6->{\n",
    "    % préfixe\n",
    "    \\foreach \\abscisse in {2.25}\n",
    "        \\node[fill=green,opacity=.5,inner sep=7pt] at (\\abscisse, 0.25) {};\n",
    "    % suffixe\n",
    "    \\foreach \\abscisse in {5.25}\n",
    "        \\node[fill=green,opacity=.5,inner sep=7pt] at (\\abscisse, 0.25) {};\n",
    "}\n",
    "\n",
    "\\only<7>{\n",
    "    \\node[fill=red,opacity=.5,inner sep=7pt] at (3.25, 0.25) {};\n",
    "    \\node[fill=red,opacity=.5,inner sep=7pt] at (4.75, 0.25) {};\n",
    "}\n",
    "\n",
    "\\uncover<7->{\n",
    "    % préfixe\n",
    "    \\foreach \\abscisse in {2.75}\n",
    "        \\node[fill=green,opacity=.5,inner sep=7pt] at (\\abscisse, 0.25) {};\n",
    "    % suffixe\n",
    "}\n",
    "\n",
    "\\uncover<8->{\n",
    "    % préfixe\n",
    "    \\foreach \\abscisse in {3.25}\n",
    "        \\node[fill=green,opacity=.5,inner sep=7pt] at (\\abscisse, 0.25) {};\n",
    "    % suffixe\n",
    "    \\foreach \\abscisse in {4.75}\n",
    "        \\node[fill=green,opacity=.5,inner sep=7pt] at (\\abscisse, 0.25) {};\n",
    "}\n",
    "\n",
    "\\uncover<9>{\n",
    "    \\foreach \\abscisse in {3.75, 4.25}\n",
    "        \\node[fill=green,opacity=.5,inner sep=7pt] at (\\abscisse, 0.25) {};\n",
    "}\n",
    "\n",
    "\n",
    "% Etapes pour le contenu :\n",
    "\\tableau{16}{1};\n",
    "\n",
    "\\only<1>{\n",
    "\\foreach[count=\\i] \\valeur in {7, 7, 10, 0, 1, 0, 9, 9, 5, 10, 8, 5, 3, 10, 5, 0}\n",
    "    \\node at (-0.25+\\i/2,0.25) {\\tiny \\valeur};\n",
    "}\n",
    "\n",
    "\\only<2-3>{\n",
    "\\foreach[count=\\i] \\valeur in {0, 7, 10, 0, 1, 0, 9, 9, 5, 10, 8, 5, 3, 10, 5, 7}\n",
    "    \\node at (-0.25+\\i/2,0.25) {\\tiny \\valeur};\n",
    "}\n",
    "\n",
    "\\only<4-5>{\n",
    "\\foreach[count=\\i] \\valeur in {0, 10, 10, 0, 1, 0, 9, 9, 5, 10, 8, 5, 3, 7, 5, 7}\n",
    "    \\node at (-0.25+\\i/2,0.25) {\\tiny \\valeur};\n",
    "}\n",
    "\n",
    "\\only<6-7>{\n",
    "\\foreach[count=\\i] \\valeur in {0, 10, 10, 0, 8, 0, 9, 9, 5, 10, 1, 5, 3, 7, 5, 7}\n",
    "    \\node at (-0.25+\\i/2,0.25) {\\tiny \\valeur};\n",
    "}\n",
    "\n",
    "\\only<8->{\n",
    "\\foreach[count=\\i] \\valeur in {0, 10, 10, 0, 8, 0, 10, 9, 5, 9, 1, 5, 3, 7, 5, 7}\n",
    "    \\node at (-0.25+\\i/2,0.25) {\\tiny \\valeur};\n",
    "}\n",
    "\n",
    "\\end{tikzpicture}\n",
    "\n",
    "\\end{exemple}\n",
    "\n",
    "\n",
    "\\item<9> L'algorithme s'arrête quand les curseurs se croisent\n",
    "\n",
    "\n",
    "\n",
    "\n",
    "% -----------------------------------------------------------------------------\n",
    "\n",
    "[fragile]\n",
    "    \\frametitle{Le tri pair / impair en Python}\n",
    "\n",
    "{\n",
    "\\scriptsize\n",
    "\\begin{pyframe}{}\n",
    "def pair_impair(lst):\n",
    "    curseur1, curseur2 = 0, len(lst) - 1\n",
    "    while curseur1 <= curseur2:\n",
    "        # repérer le premier élément impair en partant du début\n",
    "        while curseur1 <= curseur2 and lst[curseur1] % 2 == 0:\n",
    "            curseur1 += 1\n",
    "\n",
    "        # repérer le premier élément pair en partant de la fin\n",
    "        while curseur1 <= curseur2 and lst[curseur2] % 2 != 0:\n",
    "            curseur2 -= 1\n",
    "\n",
    "        # si nécessaire, procéder à l'échange\n",
    "        if curseur1 < curseur2:\n",
    "            lst[curseur1], lst[curseur2] = lst[curseur2], lst[curseur1]\n",
    "            curseur1 += 1\n",
    "            curseur2 -= 1\n",
    "\\end{pyframe}\n",
    "}\n",
    "\n",
    "\\item Complexité?  \\pause \\defterm{Temps $O(n)$, espace\n",
    "    $O(1)$}\n",
    "\n",
    "\n",
    "\n",
    "\n",
    "% -----------------------------------------------------------------------------\n",
    "\n",
    "\n",
    "    \\frametitle{Généralisation}\n",
    "\n",
    "    \\item On peut utiliser ce principe pour *trier* la liste\n",
    "    \\item Au lieu de se contenter de mettre les pairs au début et les\n",
    "      impairs à la fin, on peut mettre les éléments inférieurs à une\n",
    "      certaine valeur avant elle et les autres après elle\n",
    "    \\item Ce principe est à la base du *tri rapide*\n",
    "\n",
    "\n",
    "\n",
    "% ----------------------------------------------------------------------------- -->"
   ]
  },
  {
   "attachments": {},
   "cell_type": "markdown",
   "id": "a81ddd5a",
   "metadata": {},
   "source": [
    "### Version créant une nouvelle liste"
   ]
  },
  {
   "attachments": {},
   "cell_type": "markdown",
   "id": "f3a7d8c7",
   "metadata": {},
   "source": [
    "#### Algorithme\n",
    "\n",
    "**Paramètre :** liste `lst` de taille $n$\n",
    "\n",
    "Si `lst` contient un seul élément ou moins, en renvoyer une copie, sinon :\n",
    "\n",
    "- Sélectionner un *pivot*, c'est-à-dire une *valeur* `p` de référence dans la\n",
    "  liste (par exemple la première)\n",
    "\n",
    "- *Partitionner* `lst` en deux nouvelles listes `inf` et `sup` (ne contenant pas `p`)\n",
    "      \n",
    "  - `inf` contient toutes les valeurs inférieures ou égales à `p`\n",
    "  - `sup` contient toutes les valeurs strictement supérieures à `p`\n",
    "      \n",
    "- Trier *récursivement* `inf` et `sup` et renvoyer la concaténation des listes\n",
    "  obtenues, en plaçant `p` entre les deux"
   ]
  },
  {
   "attachments": {},
   "cell_type": "markdown",
   "id": "88b62ca3",
   "metadata": {},
   "source": [
    "#### Terminaison\n",
    "\n",
    "Chaque appel récursif se fait sur une liste strictement plus courte, car le pivot n'est ajouté ni à `inf`, ni à `sup`"
   ]
  },
  {
   "attachments": {},
   "cell_type": "markdown",
   "id": "b684a35b",
   "metadata": {},
   "source": [
    "#### Correction\n",
    "\n",
    "Par récurrence (complète) sur la taille de la liste à trier\n",
    "\n",
    "- si `lst` contient zéro ou un élément, elle est déjà triée\n",
    "- sinon, on suppose l'algorithme correct sur toute liste de longueur $< n$ :\n",
    "  - l'étape de partition sépare `lst` en `inf` et `sup` contenant au plus $n$-1\n",
    "    éléments\n",
    "  - par hypothèse de récurrence, l'étape de tri renvoie deux listes `inf'` et\n",
    "    `sup'` correctement triées\n",
    "  - tous les éléments de `inf'` sont inférieurs ou égaux à `p` et tous ceux de\n",
    "    `sup'` sont supérieurs à `p`\n",
    "  - donc `inf' + [p] + sup'` est correctement triée"
   ]
  },
  {
   "attachments": {},
   "cell_type": "markdown",
   "id": "b080cb5b",
   "metadata": {},
   "source": [
    "#### Implémentation"
   ]
  },
  {
   "cell_type": "code",
   "execution_count": 29,
   "id": "79079bda",
   "metadata": {},
   "outputs": [],
   "source": [
    "def partition(lst):\n",
    "    p = lst[0]\n",
    "    inf, sup = [], []\n",
    "    for i in range(1, len(lst)):\n",
    "        e = lst[i]\n",
    "        if e <= p:\n",
    "            inf.append(e)\n",
    "        else:\n",
    "            sup.append(e)\n",
    "    return p, inf, sup"
   ]
  },
  {
   "cell_type": "code",
   "execution_count": 30,
   "id": "7ca62d87",
   "metadata": {},
   "outputs": [],
   "source": [
    "def tri_rapide(lst):\n",
    "    if len(lst) <= 1:\n",
    "        return lst.copy()  # WARNING : pas lst elle-même !\n",
    "    else:\n",
    "        p, inf, sup = partition(lst)\n",
    "        inf = tri_rapide(inf)\n",
    "        sup = tri_rapide(sup)\n",
    "        return inf + [p] + sup"
   ]
  },
  {
   "cell_type": "code",
   "execution_count": 31,
   "id": "1939e57f",
   "metadata": {},
   "outputs": [
    {
     "data": {
      "text/plain": [
       "[0, 1, 2, 3, 4, 5, 6, 7, 8]"
      ]
     },
     "execution_count": 31,
     "metadata": {},
     "output_type": "execute_result"
    }
   ],
   "source": [
    "une_liste = [5, 0, 7, 8, 6, 2, 4, 3, 1]\n",
    "tri_rapide(une_liste)"
   ]
  },
  {
   "cell_type": "code",
   "execution_count": 32,
   "id": "14cc1930",
   "metadata": {},
   "outputs": [],
   "source": [
    "def tri_rapide(lst, alinea=0):  # version pour comprendre\n",
    "    if len(lst) <= 1:\n",
    "        return lst.copy()\n",
    "    else:\n",
    "        p, inf, sup = partition(lst)\n",
    "        print(\" \"*alinea, \"p :\", inf, p, sup)\n",
    "        inf = tri_rapide(inf, alinea+4)\n",
    "        sup = tri_rapide(sup, alinea+4)\n",
    "        print(\" \"*alinea, \"r :\", inf, p, sup)\n",
    "        return inf + [p] + sup"
   ]
  },
  {
   "cell_type": "code",
   "execution_count": 33,
   "id": "f93e7f8c",
   "metadata": {},
   "outputs": [
    {
     "name": "stdout",
     "output_type": "stream",
     "text": [
      " p : [0, 2, 4, 3, 1] 5 [7, 8, 6]\n",
      "     p : [] 0 [2, 4, 3, 1]\n",
      "         p : [1] 2 [4, 3]\n",
      "             p : [3] 4 []\n",
      "             r : [3] 4 []\n",
      "         r : [1] 2 [3, 4]\n",
      "     r : [] 0 [1, 2, 3, 4]\n",
      "     p : [6] 7 [8]\n",
      "     r : [6] 7 [8]\n",
      " r : [0, 1, 2, 3, 4] 5 [6, 7, 8]\n"
     ]
    },
    {
     "data": {
      "text/plain": [
       "[0, 1, 2, 3, 4, 5, 6, 7, 8]"
      ]
     },
     "execution_count": 33,
     "metadata": {},
     "output_type": "execute_result"
    }
   ],
   "source": [
    "une_liste = [5, 0, 7, 8, 6, 2, 4, 3, 1]\n",
    "tri_rapide(une_liste)"
   ]
  },
  {
   "cell_type": "code",
   "execution_count": 34,
   "id": "e836e655",
   "metadata": {},
   "outputs": [],
   "source": [
    "from callstats import CallRecorder\n",
    "\n",
    "@CallRecorder\n",
    "def tri_rapide(lst):\n",
    "    if len(lst) <= 1:\n",
    "        return lst.copy()  # WARNING : pas lst elle-même !\n",
    "    else:\n",
    "        p, inf, sup = partition(lst)\n",
    "        inf = tri_rapide(inf)\n",
    "        sup = tri_rapide(sup)\n",
    "        return inf + [p] + sup"
   ]
  },
  {
   "cell_type": "code",
   "execution_count": 35,
   "id": "f5da6ae7",
   "metadata": {},
   "outputs": [
    {
     "data": {
      "image/svg+xml": "<?xml version=\"1.0\" encoding=\"UTF-8\" standalone=\"no\"?>\n<!DOCTYPE svg PUBLIC \"-//W3C//DTD SVG 1.1//EN\"\n \"http://www.w3.org/Graphics/SVG/1.1/DTD/svg11.dtd\">\n<!-- Generated by graphviz version 2.43.0 (0)\n -->\n<!-- Title: %3 Pages: 1 -->\n<svg width=\"748pt\" height=\"527pt\"\n viewBox=\"0.00 0.00 748.00 527.00\" xmlns=\"http://www.w3.org/2000/svg\" xmlns:xlink=\"http://www.w3.org/1999/xlink\">\n<g id=\"graph0\" class=\"graph\" transform=\"scale(1 1) rotate(0) translate(4 523)\">\n<title>%3</title>\n<polygon fill=\"white\" stroke=\"transparent\" points=\"-4,4 -4,-523 744,-523 744,4 -4,4\"/>\n<!-- node0 -->\n<g id=\"node1\" class=\"node\">\n<title>node0</title>\n<text text-anchor=\"start\" x=\"357.5\" y=\"-500.3\" font-family=\"Times,serif\" font-style=\"italic\" font-size=\"14.00\" fill=\"darkgreen\">appel 1</text>\n<path fill=\"none\" stroke=\"black\" d=\"M227,-470.5C227,-470.5 541,-470.5 541,-470.5 544.5,-470.5 548,-474 548,-477.5 548,-477.5 548,-484.5 548,-484.5 548,-488 544.5,-491.5 541,-491.5 541,-491.5 227,-491.5 227,-491.5 223.5,-491.5 220,-488 220,-484.5 220,-484.5 220,-477.5 220,-477.5 220,-474 223.5,-470.5 227,-470.5\"/>\n<text text-anchor=\"start\" x=\"223\" y=\"-477.3\" font-family=\"Courier,monospace\" font-size=\"14.00\">tri_rapide([5, 0, 7, 8, 6, 2, 4, 3, 1])</text>\n<text text-anchor=\"start\" x=\"237.5\" y=\"-456.3\" font-family=\"Times,serif\" font-size=\"14.00\" fill=\"red\">résultat : </text>\n<text text-anchor=\"start\" x=\"307.5\" y=\"-456.3\" font-family=\"Courier,monospace\" font-size=\"14.00\" fill=\"red\">[0, 1, 2, 3, 4, 5, 6, 7, 8]</text>\n</g>\n<!-- node1 -->\n<g id=\"node2\" class=\"node\">\n<title>node1</title>\n<text text-anchor=\"start\" x=\"237\" y=\"-389.3\" font-family=\"Times,serif\" font-style=\"italic\" font-size=\"14.00\" fill=\"darkgreen\">appel 2</text>\n<path fill=\"none\" stroke=\"black\" d=\"M156,-359.5C156,-359.5 371,-359.5 371,-359.5 374.5,-359.5 378,-363 378,-366.5 378,-366.5 378,-373.5 378,-373.5 378,-377 374.5,-380.5 371,-380.5 371,-380.5 156,-380.5 156,-380.5 152.5,-380.5 149,-377 149,-373.5 149,-373.5 149,-366.5 149,-366.5 149,-363 152.5,-359.5 156,-359.5\"/>\n<text text-anchor=\"start\" x=\"152\" y=\"-366.3\" font-family=\"Courier,monospace\" font-size=\"14.00\">tri_rapide([0, 2, 4, 3, 1])</text>\n<text text-anchor=\"start\" x=\"166.5\" y=\"-345.3\" font-family=\"Times,serif\" font-size=\"14.00\" fill=\"red\">résultat : </text>\n<text text-anchor=\"start\" x=\"236.5\" y=\"-345.3\" font-family=\"Courier,monospace\" font-size=\"14.00\" fill=\"red\">[0, 1, 2, 3, 4]</text>\n</g>\n<!-- node0&#45;&#45;node1 -->\n<g id=\"edge1\" class=\"edge\">\n<title>node0&#45;&#45;node1</title>\n<path fill=\"none\" stroke=\"black\" d=\"M343.37,-443.9C330.6,-432.4 316.5,-419.7 303.73,-408.19\"/>\n</g>\n<!-- node8 -->\n<g id=\"node9\" class=\"node\">\n<title>node8</title>\n<text text-anchor=\"start\" x=\"479.5\" y=\"-389.3\" font-family=\"Times,serif\" font-style=\"italic\" font-size=\"14.00\" fill=\"darkgreen\">appel 9</text>\n<path fill=\"none\" stroke=\"black\" d=\"M423,-359.5C423,-359.5 589,-359.5 589,-359.5 592.5,-359.5 596,-363 596,-366.5 596,-366.5 596,-373.5 596,-373.5 596,-377 592.5,-380.5 589,-380.5 589,-380.5 423,-380.5 423,-380.5 419.5,-380.5 416,-377 416,-373.5 416,-373.5 416,-366.5 416,-366.5 416,-363 419.5,-359.5 423,-359.5\"/>\n<text text-anchor=\"start\" x=\"419\" y=\"-366.3\" font-family=\"Courier,monospace\" font-size=\"14.00\">tri_rapide([7, 8, 6])</text>\n<text text-anchor=\"start\" x=\"433.5\" y=\"-345.3\" font-family=\"Times,serif\" font-size=\"14.00\" fill=\"red\">résultat : </text>\n<text text-anchor=\"start\" x=\"503.5\" y=\"-345.3\" font-family=\"Courier,monospace\" font-size=\"14.00\" fill=\"red\">[6, 7, 8]</text>\n</g>\n<!-- node0&#45;&#45;node8 -->\n<g id=\"edge8\" class=\"edge\">\n<title>node0&#45;&#45;node8</title>\n<path fill=\"none\" stroke=\"black\" d=\"M424.96,-443.9C437.84,-432.4 452.05,-419.7 464.94,-408.19\"/>\n</g>\n<!-- node2 -->\n<g id=\"node3\" class=\"node\">\n<title>node2</title>\n<text text-anchor=\"start\" x=\"44.5\" y=\"-278.3\" font-family=\"Times,serif\" font-style=\"italic\" font-size=\"14.00\" fill=\"darkgreen\">appel 3</text>\n<path fill=\"none\" stroke=\"black\" d=\"M17,-248.5C17,-248.5 125,-248.5 125,-248.5 128.5,-248.5 132,-252 132,-255.5 132,-255.5 132,-262.5 132,-262.5 132,-266 128.5,-269.5 125,-269.5 125,-269.5 17,-269.5 17,-269.5 13.5,-269.5 10,-266 10,-262.5 10,-262.5 10,-255.5 10,-255.5 10,-252 13.5,-248.5 17,-248.5\"/>\n<text text-anchor=\"start\" x=\"13\" y=\"-255.3\" font-family=\"Courier,monospace\" font-size=\"14.00\">tri_rapide([])</text>\n<text text-anchor=\"start\" x=\"27.5\" y=\"-234.3\" font-family=\"Times,serif\" font-size=\"14.00\" fill=\"red\">résultat : </text>\n<text text-anchor=\"start\" x=\"97.5\" y=\"-234.3\" font-family=\"Courier,monospace\" font-size=\"14.00\" fill=\"red\">[]</text>\n</g>\n<!-- node1&#45;&#45;node2 -->\n<g id=\"edge2\" class=\"edge\">\n<title>node1&#45;&#45;node2</title>\n<path fill=\"none\" stroke=\"black\" d=\"M198.53,-332.9C178.16,-321.34 155.66,-308.56 135.3,-297\"/>\n</g>\n<!-- node3 -->\n<g id=\"node4\" class=\"node\">\n<title>node3</title>\n<text text-anchor=\"start\" x=\"247\" y=\"-278.3\" font-family=\"Times,serif\" font-style=\"italic\" font-size=\"14.00\" fill=\"darkgreen\">appel 4</text>\n<path fill=\"none\" stroke=\"black\" d=\"M178,-248.5C178,-248.5 369,-248.5 369,-248.5 372.5,-248.5 376,-252 376,-255.5 376,-255.5 376,-262.5 376,-262.5 376,-266 372.5,-269.5 369,-269.5 369,-269.5 178,-269.5 178,-269.5 174.5,-269.5 171,-266 171,-262.5 171,-262.5 171,-255.5 171,-255.5 171,-252 174.5,-248.5 178,-248.5\"/>\n<text text-anchor=\"start\" x=\"174\" y=\"-255.3\" font-family=\"Courier,monospace\" font-size=\"14.00\">tri_rapide([2, 4, 3, 1])</text>\n<text text-anchor=\"start\" x=\"188.5\" y=\"-234.3\" font-family=\"Times,serif\" font-size=\"14.00\" fill=\"red\">résultat : </text>\n<text text-anchor=\"start\" x=\"258.5\" y=\"-234.3\" font-family=\"Courier,monospace\" font-size=\"14.00\" fill=\"red\">[1, 2, 3, 4]</text>\n</g>\n<!-- node1&#45;&#45;node3 -->\n<g id=\"edge3\" class=\"edge\">\n<title>node1&#45;&#45;node3</title>\n<path fill=\"none\" stroke=\"black\" d=\"M266.36,-332.9C267.41,-321.4 268.58,-308.7 269.63,-297.19\"/>\n</g>\n<!-- node4 -->\n<g id=\"node5\" class=\"node\">\n<title>node4</title>\n<text text-anchor=\"start\" x=\"156.5\" y=\"-167.3\" font-family=\"Times,serif\" font-style=\"italic\" font-size=\"14.00\" fill=\"darkgreen\">appel 5</text>\n<path fill=\"none\" stroke=\"black\" d=\"M125,-137.5C125,-137.5 241,-137.5 241,-137.5 244.5,-137.5 248,-141 248,-144.5 248,-144.5 248,-151.5 248,-151.5 248,-155 244.5,-158.5 241,-158.5 241,-158.5 125,-158.5 125,-158.5 121.5,-158.5 118,-155 118,-151.5 118,-151.5 118,-144.5 118,-144.5 118,-141 121.5,-137.5 125,-137.5\"/>\n<text text-anchor=\"start\" x=\"121\" y=\"-144.3\" font-family=\"Courier,monospace\" font-size=\"14.00\">tri_rapide([1])</text>\n<text text-anchor=\"start\" x=\"135.5\" y=\"-123.3\" font-family=\"Times,serif\" font-size=\"14.00\" fill=\"red\">résultat : </text>\n<text text-anchor=\"start\" x=\"205.5\" y=\"-123.3\" font-family=\"Courier,monospace\" font-size=\"14.00\" fill=\"red\">[1]</text>\n</g>\n<!-- node3&#45;&#45;node4 -->\n<g id=\"edge4\" class=\"edge\">\n<title>node3&#45;&#45;node4</title>\n<path fill=\"none\" stroke=\"black\" d=\"M242.78,-221.9C233.28,-210.4 222.8,-197.7 213.29,-186.19\"/>\n</g>\n<!-- node5 -->\n<g id=\"node6\" class=\"node\">\n<title>node5</title>\n<text text-anchor=\"start\" x=\"338\" y=\"-167.3\" font-family=\"Times,serif\" font-style=\"italic\" font-size=\"14.00\" fill=\"darkgreen\">appel 6</text>\n<path fill=\"none\" stroke=\"black\" d=\"M294,-137.5C294,-137.5 435,-137.5 435,-137.5 438.5,-137.5 442,-141 442,-144.5 442,-144.5 442,-151.5 442,-151.5 442,-155 438.5,-158.5 435,-158.5 435,-158.5 294,-158.5 294,-158.5 290.5,-158.5 287,-155 287,-151.5 287,-151.5 287,-144.5 287,-144.5 287,-141 290.5,-137.5 294,-137.5\"/>\n<text text-anchor=\"start\" x=\"290\" y=\"-144.3\" font-family=\"Courier,monospace\" font-size=\"14.00\">tri_rapide([4, 3])</text>\n<text text-anchor=\"start\" x=\"304.5\" y=\"-123.3\" font-family=\"Times,serif\" font-size=\"14.00\" fill=\"red\">résultat : </text>\n<text text-anchor=\"start\" x=\"374.5\" y=\"-123.3\" font-family=\"Courier,monospace\" font-size=\"14.00\" fill=\"red\">[3, 4]</text>\n</g>\n<!-- node3&#45;&#45;node5 -->\n<g id=\"edge5\" class=\"edge\">\n<title>node3&#45;&#45;node5</title>\n<path fill=\"none\" stroke=\"black\" d=\"M303.55,-221.9C313.16,-210.4 323.76,-197.7 333.37,-186.19\"/>\n</g>\n<!-- node6 -->\n<g id=\"node7\" class=\"node\">\n<title>node6</title>\n<text text-anchor=\"start\" x=\"255.5\" y=\"-56.3\" font-family=\"Times,serif\" font-style=\"italic\" font-size=\"14.00\" fill=\"darkgreen\">appel 7</text>\n<path fill=\"none\" stroke=\"black\" d=\"M224,-26.5C224,-26.5 340,-26.5 340,-26.5 343.5,-26.5 347,-30 347,-33.5 347,-33.5 347,-40.5 347,-40.5 347,-44 343.5,-47.5 340,-47.5 340,-47.5 224,-47.5 224,-47.5 220.5,-47.5 217,-44 217,-40.5 217,-40.5 217,-33.5 217,-33.5 217,-30 220.5,-26.5 224,-26.5\"/>\n<text text-anchor=\"start\" x=\"220\" y=\"-33.3\" font-family=\"Courier,monospace\" font-size=\"14.00\">tri_rapide([3])</text>\n<text text-anchor=\"start\" x=\"234.5\" y=\"-12.3\" font-family=\"Times,serif\" font-size=\"14.00\" fill=\"red\">résultat : </text>\n<text text-anchor=\"start\" x=\"304.5\" y=\"-12.3\" font-family=\"Courier,monospace\" font-size=\"14.00\" fill=\"red\">[3]</text>\n</g>\n<!-- node5&#45;&#45;node6 -->\n<g id=\"edge6\" class=\"edge\">\n<title>node5&#45;&#45;node6</title>\n<path fill=\"none\" stroke=\"black\" d=\"M336.47,-110.9C327.81,-99.4 318.26,-86.7 309.6,-75.19\"/>\n</g>\n<!-- node7 -->\n<g id=\"node8\" class=\"node\">\n<title>node7</title>\n<text text-anchor=\"start\" x=\"419.5\" y=\"-56.3\" font-family=\"Times,serif\" font-style=\"italic\" font-size=\"14.00\" fill=\"darkgreen\">appel 8</text>\n<path fill=\"none\" stroke=\"black\" d=\"M392,-26.5C392,-26.5 500,-26.5 500,-26.5 503.5,-26.5 507,-30 507,-33.5 507,-33.5 507,-40.5 507,-40.5 507,-44 503.5,-47.5 500,-47.5 500,-47.5 392,-47.5 392,-47.5 388.5,-47.5 385,-44 385,-40.5 385,-40.5 385,-33.5 385,-33.5 385,-30 388.5,-26.5 392,-26.5\"/>\n<text text-anchor=\"start\" x=\"388\" y=\"-33.3\" font-family=\"Courier,monospace\" font-size=\"14.00\">tri_rapide([])</text>\n<text text-anchor=\"start\" x=\"402.5\" y=\"-12.3\" font-family=\"Times,serif\" font-size=\"14.00\" fill=\"red\">résultat : </text>\n<text text-anchor=\"start\" x=\"472.5\" y=\"-12.3\" font-family=\"Courier,monospace\" font-size=\"14.00\" fill=\"red\">[]</text>\n</g>\n<!-- node5&#45;&#45;node7 -->\n<g id=\"edge7\" class=\"edge\">\n<title>node5&#45;&#45;node7</title>\n<path fill=\"none\" stroke=\"black\" d=\"M391.53,-110.9C400.19,-99.4 409.74,-86.7 418.4,-75.19\"/>\n</g>\n<!-- node9 -->\n<g id=\"node10\" class=\"node\">\n<title>node9</title>\n<text text-anchor=\"start\" x=\"466\" y=\"-278.3\" font-family=\"Times,serif\" font-style=\"italic\" font-size=\"14.00\" fill=\"darkgreen\">appel 10</text>\n<path fill=\"none\" stroke=\"black\" d=\"M439,-248.5C439,-248.5 555,-248.5 555,-248.5 558.5,-248.5 562,-252 562,-255.5 562,-255.5 562,-262.5 562,-262.5 562,-266 558.5,-269.5 555,-269.5 555,-269.5 439,-269.5 439,-269.5 435.5,-269.5 432,-266 432,-262.5 432,-262.5 432,-255.5 432,-255.5 432,-252 435.5,-248.5 439,-248.5\"/>\n<text text-anchor=\"start\" x=\"435\" y=\"-255.3\" font-family=\"Courier,monospace\" font-size=\"14.00\">tri_rapide([6])</text>\n<text text-anchor=\"start\" x=\"449.5\" y=\"-234.3\" font-family=\"Times,serif\" font-size=\"14.00\" fill=\"red\">résultat : </text>\n<text text-anchor=\"start\" x=\"519.5\" y=\"-234.3\" font-family=\"Courier,monospace\" font-size=\"14.00\" fill=\"red\">[6]</text>\n</g>\n<!-- node8&#45;&#45;node9 -->\n<g id=\"edge9\" class=\"edge\">\n<title>node8&#45;&#45;node9</title>\n<path fill=\"none\" stroke=\"black\" d=\"M502.98,-332.9C502.03,-321.4 500.98,-308.7 500.03,-297.19\"/>\n</g>\n<!-- node10 -->\n<g id=\"node11\" class=\"node\">\n<title>node10</title>\n<text text-anchor=\"start\" x=\"634\" y=\"-278.3\" font-family=\"Times,serif\" font-style=\"italic\" font-size=\"14.00\" fill=\"darkgreen\">appel 11</text>\n<path fill=\"none\" stroke=\"black\" d=\"M607,-248.5C607,-248.5 723,-248.5 723,-248.5 726.5,-248.5 730,-252 730,-255.5 730,-255.5 730,-262.5 730,-262.5 730,-266 726.5,-269.5 723,-269.5 723,-269.5 607,-269.5 607,-269.5 603.5,-269.5 600,-266 600,-262.5 600,-262.5 600,-255.5 600,-255.5 600,-252 603.5,-248.5 607,-248.5\"/>\n<text text-anchor=\"start\" x=\"603\" y=\"-255.3\" font-family=\"Courier,monospace\" font-size=\"14.00\">tri_rapide([8])</text>\n<text text-anchor=\"start\" x=\"617.5\" y=\"-234.3\" font-family=\"Times,serif\" font-size=\"14.00\" fill=\"red\">résultat : </text>\n<text text-anchor=\"start\" x=\"687.5\" y=\"-234.3\" font-family=\"Courier,monospace\" font-size=\"14.00\" fill=\"red\">[8]</text>\n</g>\n<!-- node8&#45;&#45;node10 -->\n<g id=\"edge10\" class=\"edge\">\n<title>node8&#45;&#45;node10</title>\n<path fill=\"none\" stroke=\"black\" d=\"M559.39,-332.9C576.26,-321.34 594.89,-308.56 611.75,-297\"/>\n</g>\n</g>\n</svg>\n",
      "text/plain": [
       "<graphviz.graphs.Graph at 0x7fc78c614970>"
      ]
     },
     "execution_count": 35,
     "metadata": {},
     "output_type": "execute_result"
    }
   ],
   "source": [
    "une_liste = [5, 0, 7, 8, 6, 2, 4, 3, 1]\n",
    "call = tri_rapide(une_liste)\n",
    "call.graph()"
   ]
  },
  {
   "attachments": {},
   "cell_type": "markdown",
   "id": "207be047",
   "metadata": {},
   "source": [
    "#### Complexité\n",
    "\n",
    "Calculer `partition(lst)` est en $O($`len(lst)`$)$ soit $O(n)$\n",
    "\n",
    "Calculer `inf + [p] + sup` est en $O($`len(inf)` $+$ `len(sup)` $+1)$ soit $O(n)$\n",
    "\n",
    "Donc le tri complet prend dans le pire cas :\n",
    "$$\n",
    "T(n) = \\max_{k=0}^{n-1} (T(k) + T(n-k) + O(n))\n",
    "$$\n",
    "où $k$ représente la taille de `inf`, qui varie entre 0 et $n-1$\n",
    "\n",
    "Cas particuliers (calculs admis) :\n",
    "- Le pire cas correspond à $k = 0$, et on obtient $T(n) \\in O(n^2)$\n",
    "- Le meilleur cas correspond à $k = n/2$, on obtient une complexité $O(n \\log n)$\n",
    "- En moyenne (liste aléatoire), on obtient aussi $O(n \\log n)$"
   ]
  },
  {
   "attachments": {},
   "cell_type": "markdown",
   "id": "a179fb18",
   "metadata": {},
   "source": [
    "#### Inconvénients\n",
    "\n",
    "- Créer de nouvelles listes `inf` et `sup` à chaque appel consomme de la mémoire\n",
    "- Construire une nouvelle liste `inf + [p] + sup` à chaque appel consomme de la\n",
    "  mémoire et prend du temps"
   ]
  },
  {
   "attachments": {},
   "cell_type": "markdown",
   "id": "84c3b3e4",
   "metadata": {},
   "source": [
    "### Version sur place <img src='img/warning.png' style='display:inline; width:1.5em'>\n",
    "\n",
    "**Idée :** faire l'étape de partitionnement sans créer de nouvelle liste"
   ]
  },
  {
   "attachments": {},
   "cell_type": "markdown",
   "id": "7ef1397f",
   "metadata": {},
   "source": [
    "#### Algorithme "
   ]
  },
  {
   "attachments": {},
   "cell_type": "markdown",
   "id": "f0e5348b",
   "metadata": {},
   "source": [
    "\n",
    "##### Partitionnement\n",
    "\n",
    "**Paramètres :** liste `lst`, indices `debut` et `fin`\n",
    "\n",
    "- On pose `p = lst[debut]`, `i = debut+1`, `j = fin`\n",
    "- Tant que les curseurs `i` et `j` ne se sont pas croisés : \n",
    "    - on fait avancer le curseur `i` jusqu'à un élément `> p`\n",
    "    - on fait reculer le curseur `j` jusqu'à un élément `<= p`\n",
    "    - si nécessaire, on intervertit les valeurs d'indices `i` et `j`\n",
    "- Enfin, on intervertit les valeurs d'indices `debut` (pivot) et `j` (dernière\n",
    "  valeur `<= p`)\n",
    "\n",
    "**Résultat :** position finale du pivot (`j`)"
   ]
  },
  {
   "cell_type": "markdown",
   "id": "a3ebead4",
   "metadata": {},
   "source": [
    "\n",
    "##### Tri\n",
    "\n",
    "**Paramètres :** liste `lst`, indices `debut` et `fin`\n",
    "\n",
    "Si `debut >= fin` on ne fait rien, sinon :\n",
    "- On partitionne `lst` entre `debut` et `fin` et on récupère la nouvelle\n",
    "  position `ip` du pivot\n",
    "- On trie récursivement `lst` entre `debut` et `ip - 1` puis entre `i_p + 1` et\n",
    "  `fin`"
   ]
  },
  {
   "attachments": {},
   "cell_type": "markdown",
   "id": "116e9110",
   "metadata": {},
   "source": [
    "#### Terminaison (du partitionnement)\n",
    "\n",
    "À chaque itération, au moins l'un des deux curseurs progresse strictement"
   ]
  },
  {
   "attachments": {},
   "cell_type": "markdown",
   "id": "51b13026",
   "metadata": {},
   "source": [
    "\n",
    "#### Correction\n",
    "\n",
    "**Partitionnement :** Après chaque itération,\n",
    "- `lst[debut+1:i]` contient seulement des valeurs `<= p`\n",
    "- `lst[j:fin+1]` contient seulement des valeurs `> p`\n",
    "\n",
    "En particulier, en fin de partitionnement, `lst[debut:j+1]` contient seulement\n",
    "des valeurs `<= p` et `lst[j+1:fin+1]` contient seulement des valeurs `> p`\n",
    "\n",
    "**Tri :** mêmes arguments que précédemment"
   ]
  },
  {
   "attachments": {},
   "cell_type": "markdown",
   "id": "43e5c700",
   "metadata": {},
   "source": [
    "#### Implémentation"
   ]
  },
  {
   "cell_type": "code",
   "execution_count": 36,
   "id": "c8fc3cf5",
   "metadata": {},
   "outputs": [],
   "source": [
    "def partition(lst, debut, fin):\n",
    "    p, i, j = lst[debut], debut+1, fin\n",
    "    while i <= j:\n",
    "        # i avance jusqu'à un élément grand (s'il existe)\n",
    "        while i <= j and lst[i] <= p: i += 1\n",
    "        # j recule jusqu'à un élément petit\n",
    "        while lst[j] > p:  j -= 1\n",
    "        if i < j:  # si nécessaire, échange\n",
    "            echange(lst, i, j)\n",
    "            i += 1\n",
    "            j -= 1\n",
    "    # on place le pivot à la frontière (si nécessaire)\n",
    "    if debut < j:\n",
    "        echange(lst, debut, j)\n",
    "    return j  # position finale du pivot"
   ]
  },
  {
   "cell_type": "code",
   "execution_count": 37,
   "id": "37021394",
   "metadata": {},
   "outputs": [
    {
     "data": {
      "text/plain": [
       "5"
      ]
     },
     "execution_count": 37,
     "metadata": {},
     "output_type": "execute_result"
    }
   ],
   "source": [
    "une_liste = [5, 0, 7, 8, 6, 2, 4, 3, 1]\n",
    "partition(une_liste, 0, len(une_liste)-1)"
   ]
  },
  {
   "cell_type": "code",
   "execution_count": 38,
   "id": "0c6bd169",
   "metadata": {},
   "outputs": [
    {
     "data": {
      "text/plain": [
       "[2, 0, 1, 3, 4, 5, 6, 8, 7]"
      ]
     },
     "execution_count": 38,
     "metadata": {},
     "output_type": "execute_result"
    }
   ],
   "source": [
    "une_liste"
   ]
  },
  {
   "cell_type": "code",
   "execution_count": 39,
   "id": "f1728e21",
   "metadata": {},
   "outputs": [],
   "source": [
    "def partition_(lst, debut, fin):  # version pour comprendre\n",
    "    p, i, j = lst[debut], debut + 1, fin\n",
    "\n",
    "    while i <= j:\n",
    "        # i avance jusqu'à un élément grand (s'il existe)\n",
    "        while i <= j and lst[i] <= p: i += 1  \n",
    "        # j recule jusqu'à un élément petit\n",
    "        while lst[j] > p:  j -= 1\n",
    "        if i < j:  # si nécessaire, échange\n",
    "            print(f\"echange({i}, {j}) : {lst[i]} et {lst[j]}\")\n",
    "            echange(lst, i, j)\n",
    "            i += 1\n",
    "            j -= 1\n",
    "    # on place le pivot à la frontière (si nécessaire)\n",
    "    if debut < j:\n",
    "        print(f\"echange({debut}, {j}) : {lst[debut]} (pivot) et {lst[j]}\")\n",
    "        echange(lst, debut, j)\n",
    "    return j  # position finale du pivot"
   ]
  },
  {
   "cell_type": "code",
   "execution_count": 40,
   "id": "512503a5",
   "metadata": {},
   "outputs": [
    {
     "name": "stdout",
     "output_type": "stream",
     "text": [
      "echange(2, 8) : 7 et 1\n",
      "echange(3, 7) : 8 et 3\n",
      "echange(4, 6) : 6 et 4\n",
      "echange(0, 5) : 5 (pivot) et 2\n"
     ]
    },
    {
     "data": {
      "text/plain": [
       "5"
      ]
     },
     "execution_count": 40,
     "metadata": {},
     "output_type": "execute_result"
    }
   ],
   "source": [
    "une_liste = [5, 0, 7, 8, 6, 2, 4, 3, 1]\n",
    "partition_(une_liste, 0, len(une_liste)-1)"
   ]
  },
  {
   "cell_type": "code",
   "execution_count": 41,
   "id": "3b2786c5",
   "metadata": {},
   "outputs": [
    {
     "data": {
      "text/plain": [
       "[2, 0, 1, 3, 4, 5, 6, 8, 7]"
      ]
     },
     "execution_count": 41,
     "metadata": {},
     "output_type": "execute_result"
    }
   ],
   "source": [
    "une_liste"
   ]
  },
  {
   "cell_type": "code",
   "execution_count": 44,
   "id": "15470a35",
   "metadata": {},
   "outputs": [],
   "source": [
    "def tri_pivot_aux(lst, debut, fin):\n",
    "    if debut < fin:\n",
    "        ip = partition(lst, debut, fin)\n",
    "        tri_pivot_aux(lst, debut, ip-1)\n",
    "        tri_pivot_aux(lst, ip+1, fin)\n",
    "\n",
    "def tri_pivot(lst):\n",
    "    tri_pivot_aux(lst, 0, len(lst)-1)"
   ]
  },
  {
   "cell_type": "code",
   "execution_count": 45,
   "id": "f8316cae",
   "metadata": {},
   "outputs": [],
   "source": [
    "une_liste = [5, 0, 7, 8, 6, 2, 4, 3, 1]\n",
    "tri_pivot(une_liste)"
   ]
  },
  {
   "cell_type": "code",
   "execution_count": 46,
   "id": "0bc32b0a",
   "metadata": {},
   "outputs": [
    {
     "data": {
      "text/plain": [
       "[0, 1, 2, 3, 4, 5, 6, 7, 8]"
      ]
     },
     "execution_count": 46,
     "metadata": {},
     "output_type": "execute_result"
    }
   ],
   "source": [
    "une_liste"
   ]
  },
  {
   "attachments": {},
   "cell_type": "markdown",
   "id": "f69664ae",
   "metadata": {},
   "source": [
    "#### Avantages\n",
    "\n",
    "Consommation mémoire moindre grâce au partitionnement sur place\n",
    "\n",
    "Coût en temps moindre (inutile de rassembler les sous-listes après les appels récursifs)\n",
    "\n",
    "**Mais :** toujours $O(n^2)$ au pire (quand la liste est déjà triée ou presque) !! \n",
    "\n",
    "**Problème :** cas fréquent en pratique... (au moins) 2 solutions :\n",
    "\n",
    "- Mélanger la liste avant de commencer (`random.shuffle`, détails à suivre)\n",
    "- Choisir un pivot au hasard avant de partitionner\n",
    "\n",
    "On peut montrer qu'un temps de calcul proche de $n^2$ devient *extrêmement peu probable* "
   ]
  },
  {
   "cell_type": "code",
   "execution_count": 47,
   "id": "386abfc3",
   "metadata": {},
   "outputs": [],
   "source": [
    "from random import shuffle\n",
    "\n",
    "def tri_pivot(lst):\n",
    "    shuffle(lst)\n",
    "    tri_pivot_aux(lst, 0, len(lst)-1)"
   ]
  },
  {
   "attachments": {},
   "cell_type": "markdown",
   "id": "5287d34f",
   "metadata": {
    "slideshow": {
     "slide_type": "skip"
    }
   },
   "source": [
    "*-- snip --*\n",
    "\n",
    "<!-- \\begin{exemple}\n",
    "\\centering\n",
    "\\begin{tikzpicture}\n",
    "\\visible<1-5> {\n",
    "  \\node (c1) at (0, -1) {curseur 1};\n",
    "  \\node (c2) at (4, -1) {curseur 2};\n",
    "}\n",
    "\n",
    "% Etapes pour les curseurs:\n",
    "\\only<1> {\n",
    "    \\draw[>=stealth,->] (c1) to (.75, -.05);\n",
    "    \\draw[>=stealth,->] (c2) to (3.75, -.05);\n",
    "}\n",
    "\n",
    "\\only<2-3> {\n",
    "    \\draw[>=stealth,->] (c1) to (1.75, -.05);\n",
    "    \\draw[>=stealth,->] (c2) to (3.25, -.05);\n",
    "}\n",
    "\n",
    "\\only<4-5> {\n",
    "    \\draw[>=stealth,->] (c1) to (2.25, -.05);\n",
    "    \\draw[>=stealth,->] (c2) to (1.75, -.05);\n",
    "}\n",
    "\n",
    "\\only<1-4>{\n",
    "    %pivot\n",
    "    \\node[fill=blue,opacity=.5,inner sep=7pt] at (0.25, 0.25) {};\n",
    "}\n",
    "\n",
    "% Affichage en vert des préfixes et suffixes auxquels on ne touchera plus:\n",
    "\\only<2-4>{\n",
    "    % préfixe\n",
    "    \\foreach \\abscisse in {0.75, 1.25}\n",
    "        \\node[fill=green,opacity=.5,inner sep=7pt] at (\\abscisse, 0.25) {};\n",
    "    % suffixe\n",
    "    \\foreach \\abscisse in {3.75}\n",
    "        \\node[fill=green,opacity=.5,inner sep=7pt] at (\\abscisse, 0.25) {};\n",
    "}\n",
    "\n",
    "\\only<3>{\n",
    "    % échange\n",
    "    \\foreach \\abscisse in {1.75, 3.25}\n",
    "        \\node[fill=red,opacity=.5,inner sep=7pt] at (\\abscisse, 0.25) {};\n",
    "}\n",
    "\n",
    "\n",
    "\\only<4>{\n",
    "    \\foreach \\abscisse in {1.75, 2.25, 2.75, 3.25}\n",
    "        \\node[fill=green,opacity=.5,inner sep=7pt] at (\\abscisse, 0.25) {};\n",
    "}\n",
    "\n",
    "% Placement du pivot\n",
    "\n",
    "\\only<5> {\n",
    "  \\node[fill=red,opacity=.5,inner sep=7pt] at (0.25, 0.25) {};\n",
    "  \\node[fill=blue,opacity=.5,inner sep=7pt] at (1.75, 0.25) {};\n",
    "}\n",
    "\\only<6> {\n",
    "  \\node[fill=blue,opacity=.5,inner sep=7pt] at (1.75, 0.25) {};\n",
    "}\n",
    "\n",
    "% Etapes pour le contenu:\n",
    "\\tableau{8}{1};\n",
    "\n",
    "\\only<1-2>{\n",
    "\\foreach[count=\\i] \\valeur in {3, 2, 1, 6, 4, 7, 2, 5}\n",
    "    \\node at (-0.25+\\i/2,0.25) {\\tiny \\valeur};\n",
    "}\n",
    "\n",
    "\\only<3-4>{\n",
    "\\foreach[count=\\i] \\valeur in {3, 2, 1, 2, 4, 7, 6, 5}\n",
    "    \\node at (-0.25+\\i/2,0.25) {\\tiny \\valeur};\n",
    "}\n",
    "\n",
    "\\only<5->{\n",
    "\\foreach[count=\\i] \\valeur in {2, 2, 1, 3, 4, 7, 6, 5}\n",
    "    \\node at (-0.25+\\i/2,0.25) {\\tiny \\valeur};\n",
    "}\n",
    "\n",
    "\\end{tikzpicture}\n",
    "\\end{exemple} -->"
   ]
  },
  {
   "attachments": {},
   "cell_type": "markdown",
   "id": "9ff737b8",
   "metadata": {},
   "source": [
    "### Conclusion sur le tri par pivot\n",
    "\n",
    "Algorithme mauvais dans le pire cas (probabilité faible), mais très efficace en pratique"
   ]
  },
  {
   "attachments": {},
   "cell_type": "markdown",
   "id": "f7b7adc1",
   "metadata": {},
   "source": [
    "## Tri par fusion\n",
    "\n",
    "Ce tri se décrit plus facilement en créant une nouvelle liste\n",
    "\n",
    "### Algorithme (tri)\n",
    "\n",
    "**Paramètre :** liste `lst`\n",
    "\n",
    "Si `lst` contient 0 ou 1 élément, on en renvoie une copie. Sinon :\n",
    "- On divise `lst` en deux listes de tailles à peu près égales\n",
    "- On trie les deux sous-listes\n",
    "- On fusionne les résultats en une seule liste\n"
   ]
  },
  {
   "cell_type": "markdown",
   "id": "39740b9b",
   "metadata": {},
   "source": [
    "\n",
    "<img src='img/fusion.png'>"
   ]
  },
  {
   "attachments": {},
   "cell_type": "markdown",
   "id": "ad06eefa",
   "metadata": {},
   "source": [
    "### Algorithme (fusion)\n",
    "\n",
    "**Paramètres :** listes triées `lst1`, `lst2`\n",
    "\n",
    "On utilise deux curseurs `i` et `j` parcourant `lst1` et `lst2` en parallèle\n",
    "dans le même sens, et on initialise une liste vide `resultat`\n",
    "- À chaque étape, on ajoute `min(lst1[i], lst2[j])` en fin de `resultat`\n",
    "- Si une des listes est épuisée on recopie la fin de l'autre dans `resultat`"
   ]
  },
  {
   "attachments": {},
   "cell_type": "markdown",
   "id": "104d1730",
   "metadata": {},
   "source": [
    "### Terminaison\n",
    "\n",
    "Chaque appel récursif à l'algorithme de tri se fait sur une liste strictement plus courte, car `lst` contient au moins deux éléments et on la coupe (à peu près) au milieu"
   ]
  },
  {
   "attachments": {},
   "cell_type": "markdown",
   "id": "5c7fd23d",
   "metadata": {},
   "source": [
    "### Correction"
   ]
  },
  {
   "cell_type": "markdown",
   "id": "7bb5e900",
   "metadata": {},
   "source": [
    "\n",
    "#### Fusion\n",
    "\n",
    "**Invariant (boucle `while`):** `resultat` contient les `i + j` plus petits éléments de la\n",
    "réunion de `lst1` et `lst2`, dans l'ordre croissant\n",
    "\n",
    "Preuve : par récurrence sur le nombre d'itérations en utilisant le fait que\n",
    "`lst1` et `lst2` sont triées\n",
    "\n",
    "Après la sortie du `while`, l'une des deux listes est épuisée, l'autre contient\n",
    "uniquement des éléments plus grands que ceux de `resultat`. Donc seul l'une des instructions `extend` a un effet, et elle conserve la propriété que `resultat` est triée\n",
    "\n",
    "En fin d'algo, `resultat` contient bien tous les éléments de `lst1` et `lst2`\n",
    "dans l'ordre croissant"
   ]
  },
  {
   "cell_type": "markdown",
   "id": "1b477971",
   "metadata": {},
   "source": [
    "\n",
    "#### Algorithme principal\n",
    "\n",
    "Par récurrence (complète) sur la taille de la liste à trier, en supposant\n",
    "l'étape de fusion correcte\n",
    "\n",
    "- si `lst` contient zéro ou un élément, elle est déjà triée\n",
    "- sinon, on suppose l'algorithme correct sur toute liste de longueur $< n$ :\n",
    "  - on sépare `lst` en deux listes strictement plus courtes contenant tous les\n",
    "    éléments de `lst`\n",
    "  - par hypothèse de récurrence, l'étape de tri renvoie deux listes correctement\n",
    "    triées\n",
    "  - par correction de l'agorithme de fusion, le résultat est correctement trié"
   ]
  },
  {
   "attachments": {},
   "cell_type": "markdown",
   "id": "b8a23785",
   "metadata": {},
   "source": [
    "### Implémentation possible"
   ]
  },
  {
   "cell_type": "code",
   "execution_count": 48,
   "id": "9ddbdfa6",
   "metadata": {},
   "outputs": [],
   "source": [
    "def fusionner(lst1, lst2):\n",
    "    i, j, resultat = 0, 0, []\n",
    "    while i < len(lst1) and j < len(lst2):\n",
    "        if lst1[i] <= lst2[j]:\n",
    "            resultat.append(lst1[i])\n",
    "            i += 1\n",
    "        else:\n",
    "            resultat.append(lst2[j])\n",
    "            j += 1\n",
    "    resultat.extend(lst1[i:])\n",
    "    resultat.extend(lst2[j:])\n",
    "    return resultat"
   ]
  },
  {
   "cell_type": "code",
   "execution_count": 49,
   "id": "557aa27f",
   "metadata": {},
   "outputs": [
    {
     "data": {
      "text/plain": [
       "[0, 1, 2, 3, 4, 5, 6, 7, 8]"
      ]
     },
     "execution_count": 49,
     "metadata": {},
     "output_type": "execute_result"
    }
   ],
   "source": [
    "fusionner([0, 2, 3, 5, 7, 8], [1, 4, 6])"
   ]
  },
  {
   "cell_type": "code",
   "execution_count": 50,
   "id": "3cab7ad2",
   "metadata": {},
   "outputs": [],
   "source": [
    "def tri_fusion(lst):\n",
    "    n = len(lst)\n",
    "    if n <= 1:\n",
    "        return lst.copy()\n",
    "    else:\n",
    "        i = n // 2\n",
    "        lst1, lst2 = lst[:i], lst[i:]\n",
    "        lst1 = tri_fusion(lst1)\n",
    "        lst2 = tri_fusion(lst2)\n",
    "        return fusionner(lst1, lst2)"
   ]
  },
  {
   "cell_type": "code",
   "execution_count": 51,
   "id": "9140aaf5",
   "metadata": {},
   "outputs": [
    {
     "data": {
      "text/plain": [
       "[0, 1, 2, 3, 4, 5, 6, 7, 8]"
      ]
     },
     "execution_count": 51,
     "metadata": {},
     "output_type": "execute_result"
    }
   ],
   "source": [
    "une_liste = [5, 0, 7, 8, 6, 2, 4, 3, 1]\n",
    "tri_fusion(une_liste)"
   ]
  },
  {
   "cell_type": "code",
   "execution_count": 52,
   "id": "dbe084d2",
   "metadata": {},
   "outputs": [],
   "source": [
    "def tri_fusion(lst, alinea=0):\n",
    "    n = len(lst)\n",
    "    if n <= 1:\n",
    "        return lst.copy()\n",
    "    else:\n",
    "        i = n // 2\n",
    "        print(\" \"*alinea, \"--- début\")\n",
    "        print(\" \"*alinea, \"lst :      \", lst)\n",
    "        lst1, lst2 = lst[:i], lst[i:]\n",
    "        print(\" \"*alinea, \"découpe :  \", lst1, lst2)\n",
    "        lst1 = tri_fusion(lst1, alinea+4)\n",
    "        lst2 = tri_fusion(lst2, alinea+4)\n",
    "        print(\" \"*alinea, \"après tri :\", lst1, lst2)\n",
    "        res = fusionner(lst1, lst2)\n",
    "        print(\" \"*alinea, \"res :      \", res)\n",
    "        print(\" \"*alinea, \"--- fin\")\n",
    "        return res"
   ]
  },
  {
   "cell_type": "code",
   "execution_count": 53,
   "id": "7a400597",
   "metadata": {},
   "outputs": [
    {
     "name": "stdout",
     "output_type": "stream",
     "text": [
      " --- début\n",
      " lst :       [5, 0, 7, 8, 6, 2, 4, 3, 1]\n",
      " découpe :   [5, 0, 7, 8] [6, 2, 4, 3, 1]\n",
      "     --- début\n",
      "     lst :       [5, 0, 7, 8]\n",
      "     découpe :   [5, 0] [7, 8]\n",
      "         --- début\n",
      "         lst :       [5, 0]\n",
      "         découpe :   [5] [0]\n",
      "         après tri : [5] [0]\n",
      "         res :       [0, 5]\n",
      "         --- fin\n",
      "         --- début\n",
      "         lst :       [7, 8]\n",
      "         découpe :   [7] [8]\n",
      "         après tri : [7] [8]\n",
      "         res :       [7, 8]\n",
      "         --- fin\n",
      "     après tri : [0, 5] [7, 8]\n",
      "     res :       [0, 5, 7, 8]\n",
      "     --- fin\n",
      "     --- début\n",
      "     lst :       [6, 2, 4, 3, 1]\n",
      "     découpe :   [6, 2] [4, 3, 1]\n",
      "         --- début\n",
      "         lst :       [6, 2]\n",
      "         découpe :   [6] [2]\n",
      "         après tri : [6] [2]\n",
      "         res :       [2, 6]\n",
      "         --- fin\n",
      "         --- début\n",
      "         lst :       [4, 3, 1]\n",
      "         découpe :   [4] [3, 1]\n",
      "             --- début\n",
      "             lst :       [3, 1]\n",
      "             découpe :   [3] [1]\n",
      "             après tri : [3] [1]\n",
      "             res :       [1, 3]\n",
      "             --- fin\n",
      "         après tri : [4] [1, 3]\n",
      "         res :       [1, 3, 4]\n",
      "         --- fin\n",
      "     après tri : [2, 6] [1, 3, 4]\n",
      "     res :       [1, 2, 3, 4, 6]\n",
      "     --- fin\n",
      " après tri : [0, 5, 7, 8] [1, 2, 3, 4, 6]\n",
      " res :       [0, 1, 2, 3, 4, 5, 6, 7, 8]\n",
      " --- fin\n"
     ]
    },
    {
     "data": {
      "text/plain": [
       "[0, 1, 2, 3, 4, 5, 6, 7, 8]"
      ]
     },
     "execution_count": 53,
     "metadata": {},
     "output_type": "execute_result"
    }
   ],
   "source": [
    "une_liste = [5, 0, 7, 8, 6, 2, 4, 3, 1]\n",
    "tri_fusion(une_liste)"
   ]
  },
  {
   "cell_type": "code",
   "execution_count": 54,
   "id": "a99253cb",
   "metadata": {},
   "outputs": [],
   "source": [
    "from callstats import CallRecorder\n",
    "\n",
    "@CallRecorder\n",
    "def tri_fusion(lst):\n",
    "    n = len(lst)\n",
    "    if n <= 1:\n",
    "        return lst.copy()\n",
    "    else:\n",
    "        i = n // 2\n",
    "        lst1, lst2 = lst[:i], lst[i:]\n",
    "        lst1 = tri_fusion(lst1)\n",
    "        lst2 = tri_fusion(lst2)\n",
    "        return fusionner(lst1, lst2)"
   ]
  },
  {
   "cell_type": "code",
   "execution_count": 55,
   "id": "cb6d0295",
   "metadata": {},
   "outputs": [
    {
     "data": {
      "image/svg+xml": "<?xml version=\"1.0\" encoding=\"UTF-8\" standalone=\"no\"?>\n<!DOCTYPE svg PUBLIC \"-//W3C//DTD SVG 1.1//EN\"\n \"http://www.w3.org/Graphics/SVG/1.1/DTD/svg11.dtd\">\n<!-- Generated by graphviz version 2.43.0 (0)\n -->\n<!-- Title: %3 Pages: 1 -->\n<svg width=\"1431pt\" height=\"527pt\"\n viewBox=\"0.00 0.00 1431.00 527.00\" xmlns=\"http://www.w3.org/2000/svg\" xmlns:xlink=\"http://www.w3.org/1999/xlink\">\n<g id=\"graph0\" class=\"graph\" transform=\"scale(1 1) rotate(0) translate(4 523)\">\n<title>%3</title>\n<polygon fill=\"white\" stroke=\"transparent\" points=\"-4,4 -4,-523 1427,-523 1427,4 -4,4\"/>\n<!-- node0 -->\n<g id=\"node1\" class=\"node\">\n<title>node0</title>\n<text text-anchor=\"start\" x=\"592.5\" y=\"-500.3\" font-family=\"Times,serif\" font-style=\"italic\" font-size=\"14.00\" fill=\"darkgreen\">appel 1</text>\n<path fill=\"none\" stroke=\"black\" d=\"M462,-470.5C462,-470.5 776,-470.5 776,-470.5 779.5,-470.5 783,-474 783,-477.5 783,-477.5 783,-484.5 783,-484.5 783,-488 779.5,-491.5 776,-491.5 776,-491.5 462,-491.5 462,-491.5 458.5,-491.5 455,-488 455,-484.5 455,-484.5 455,-477.5 455,-477.5 455,-474 458.5,-470.5 462,-470.5\"/>\n<text text-anchor=\"start\" x=\"458\" y=\"-477.3\" font-family=\"Courier,monospace\" font-size=\"14.00\">tri_fusion([5, 0, 7, 8, 6, 2, 4, 3, 1])</text>\n<text text-anchor=\"start\" x=\"472.5\" y=\"-456.3\" font-family=\"Times,serif\" font-size=\"14.00\" fill=\"red\">résultat : </text>\n<text text-anchor=\"start\" x=\"542.5\" y=\"-456.3\" font-family=\"Courier,monospace\" font-size=\"14.00\" fill=\"red\">[0, 1, 2, 3, 4, 5, 6, 7, 8]</text>\n</g>\n<!-- node1 -->\n<g id=\"node2\" class=\"node\">\n<title>node1</title>\n<text text-anchor=\"start\" x=\"438\" y=\"-389.3\" font-family=\"Times,serif\" font-style=\"italic\" font-size=\"14.00\" fill=\"darkgreen\">appel 2</text>\n<path fill=\"none\" stroke=\"black\" d=\"M369,-359.5C369,-359.5 560,-359.5 560,-359.5 563.5,-359.5 567,-363 567,-366.5 567,-366.5 567,-373.5 567,-373.5 567,-377 563.5,-380.5 560,-380.5 560,-380.5 369,-380.5 369,-380.5 365.5,-380.5 362,-377 362,-373.5 362,-373.5 362,-366.5 362,-366.5 362,-363 365.5,-359.5 369,-359.5\"/>\n<text text-anchor=\"start\" x=\"365\" y=\"-366.3\" font-family=\"Courier,monospace\" font-size=\"14.00\">tri_fusion([5, 0, 7, 8])</text>\n<text text-anchor=\"start\" x=\"379.5\" y=\"-345.3\" font-family=\"Times,serif\" font-size=\"14.00\" fill=\"red\">résultat : </text>\n<text text-anchor=\"start\" x=\"449.5\" y=\"-345.3\" font-family=\"Courier,monospace\" font-size=\"14.00\" fill=\"red\">[0, 5, 7, 8]</text>\n</g>\n<!-- node0&#45;&#45;node1 -->\n<g id=\"edge1\" class=\"edge\">\n<title>node0&#45;&#45;node1</title>\n<path fill=\"none\" stroke=\"black\" d=\"M566.96,-443.9C550.51,-432.34 532.34,-419.56 515.91,-408\"/>\n</g>\n<!-- node8 -->\n<g id=\"node9\" class=\"node\">\n<title>node8</title>\n<text text-anchor=\"start\" x=\"786\" y=\"-389.3\" font-family=\"Times,serif\" font-style=\"italic\" font-size=\"14.00\" fill=\"darkgreen\">appel 9</text>\n<path fill=\"none\" stroke=\"black\" d=\"M705,-359.5C705,-359.5 920,-359.5 920,-359.5 923.5,-359.5 927,-363 927,-366.5 927,-366.5 927,-373.5 927,-373.5 927,-377 923.5,-380.5 920,-380.5 920,-380.5 705,-380.5 705,-380.5 701.5,-380.5 698,-377 698,-373.5 698,-373.5 698,-366.5 698,-366.5 698,-363 701.5,-359.5 705,-359.5\"/>\n<text text-anchor=\"start\" x=\"701\" y=\"-366.3\" font-family=\"Courier,monospace\" font-size=\"14.00\">tri_fusion([6, 2, 4, 3, 1])</text>\n<text text-anchor=\"start\" x=\"715.5\" y=\"-345.3\" font-family=\"Times,serif\" font-size=\"14.00\" fill=\"red\">résultat : </text>\n<text text-anchor=\"start\" x=\"785.5\" y=\"-345.3\" font-family=\"Courier,monospace\" font-size=\"14.00\" fill=\"red\">[1, 2, 3, 4, 6]</text>\n</g>\n<!-- node0&#45;&#45;node8 -->\n<g id=\"edge8\" class=\"edge\">\n<title>node0&#45;&#45;node8</title>\n<path fill=\"none\" stroke=\"black\" d=\"M683.8,-443.9C704.28,-432.34 726.9,-419.56 747.37,-408\"/>\n</g>\n<!-- node2 -->\n<g id=\"node3\" class=\"node\">\n<title>node2</title>\n<text text-anchor=\"start\" x=\"217\" y=\"-278.3\" font-family=\"Times,serif\" font-style=\"italic\" font-size=\"14.00\" fill=\"darkgreen\">appel 3</text>\n<path fill=\"none\" stroke=\"black\" d=\"M173,-248.5C173,-248.5 314,-248.5 314,-248.5 317.5,-248.5 321,-252 321,-255.5 321,-255.5 321,-262.5 321,-262.5 321,-266 317.5,-269.5 314,-269.5 314,-269.5 173,-269.5 173,-269.5 169.5,-269.5 166,-266 166,-262.5 166,-262.5 166,-255.5 166,-255.5 166,-252 169.5,-248.5 173,-248.5\"/>\n<text text-anchor=\"start\" x=\"169\" y=\"-255.3\" font-family=\"Courier,monospace\" font-size=\"14.00\">tri_fusion([5, 0])</text>\n<text text-anchor=\"start\" x=\"183.5\" y=\"-234.3\" font-family=\"Times,serif\" font-size=\"14.00\" fill=\"red\">résultat : </text>\n<text text-anchor=\"start\" x=\"253.5\" y=\"-234.3\" font-family=\"Courier,monospace\" font-size=\"14.00\" fill=\"red\">[0, 5]</text>\n</g>\n<!-- node1&#45;&#45;node2 -->\n<g id=\"edge2\" class=\"edge\">\n<title>node1&#45;&#45;node2</title>\n<path fill=\"none\" stroke=\"black\" d=\"M389.8,-332.9C366.35,-321.34 340.44,-308.56 317.01,-297\"/>\n</g>\n<!-- node5 -->\n<g id=\"node6\" class=\"node\">\n<title>node5</title>\n<text text-anchor=\"start\" x=\"438\" y=\"-278.3\" font-family=\"Times,serif\" font-style=\"italic\" font-size=\"14.00\" fill=\"darkgreen\">appel 6</text>\n<path fill=\"none\" stroke=\"black\" d=\"M394,-248.5C394,-248.5 535,-248.5 535,-248.5 538.5,-248.5 542,-252 542,-255.5 542,-255.5 542,-262.5 542,-262.5 542,-266 538.5,-269.5 535,-269.5 535,-269.5 394,-269.5 394,-269.5 390.5,-269.5 387,-266 387,-262.5 387,-262.5 387,-255.5 387,-255.5 387,-252 390.5,-248.5 394,-248.5\"/>\n<text text-anchor=\"start\" x=\"390\" y=\"-255.3\" font-family=\"Courier,monospace\" font-size=\"14.00\">tri_fusion([7, 8])</text>\n<text text-anchor=\"start\" x=\"404.5\" y=\"-234.3\" font-family=\"Times,serif\" font-size=\"14.00\" fill=\"red\">résultat : </text>\n<text text-anchor=\"start\" x=\"474.5\" y=\"-234.3\" font-family=\"Courier,monospace\" font-size=\"14.00\" fill=\"red\">[7, 8]</text>\n</g>\n<!-- node1&#45;&#45;node5 -->\n<g id=\"edge5\" class=\"edge\">\n<title>node1&#45;&#45;node5</title>\n<path fill=\"none\" stroke=\"black\" d=\"M464,-332.9C464,-321.4 464,-308.7 464,-297.19\"/>\n</g>\n<!-- node3 -->\n<g id=\"node4\" class=\"node\">\n<title>node3</title>\n<text text-anchor=\"start\" x=\"48.5\" y=\"-167.3\" font-family=\"Times,serif\" font-style=\"italic\" font-size=\"14.00\" fill=\"darkgreen\">appel 4</text>\n<path fill=\"none\" stroke=\"black\" d=\"M17,-137.5C17,-137.5 133,-137.5 133,-137.5 136.5,-137.5 140,-141 140,-144.5 140,-144.5 140,-151.5 140,-151.5 140,-155 136.5,-158.5 133,-158.5 133,-158.5 17,-158.5 17,-158.5 13.5,-158.5 10,-155 10,-151.5 10,-151.5 10,-144.5 10,-144.5 10,-141 13.5,-137.5 17,-137.5\"/>\n<text text-anchor=\"start\" x=\"13\" y=\"-144.3\" font-family=\"Courier,monospace\" font-size=\"14.00\">tri_fusion([5])</text>\n<text text-anchor=\"start\" x=\"27.5\" y=\"-123.3\" font-family=\"Times,serif\" font-size=\"14.00\" fill=\"red\">résultat : </text>\n<text text-anchor=\"start\" x=\"97.5\" y=\"-123.3\" font-family=\"Courier,monospace\" font-size=\"14.00\" fill=\"red\">[5]</text>\n</g>\n<!-- node2&#45;&#45;node3 -->\n<g id=\"edge3\" class=\"edge\">\n<title>node2&#45;&#45;node3</title>\n<path fill=\"none\" stroke=\"black\" d=\"M186.59,-221.9C168.77,-210.34 149.08,-197.56 131.26,-186\"/>\n</g>\n<!-- node4 -->\n<g id=\"node5\" class=\"node\">\n<title>node4</title>\n<text text-anchor=\"start\" x=\"216.5\" y=\"-167.3\" font-family=\"Times,serif\" font-style=\"italic\" font-size=\"14.00\" fill=\"darkgreen\">appel 5</text>\n<path fill=\"none\" stroke=\"black\" d=\"M185,-137.5C185,-137.5 301,-137.5 301,-137.5 304.5,-137.5 308,-141 308,-144.5 308,-144.5 308,-151.5 308,-151.5 308,-155 304.5,-158.5 301,-158.5 301,-158.5 185,-158.5 185,-158.5 181.5,-158.5 178,-155 178,-151.5 178,-151.5 178,-144.5 178,-144.5 178,-141 181.5,-137.5 185,-137.5\"/>\n<text text-anchor=\"start\" x=\"181\" y=\"-144.3\" font-family=\"Courier,monospace\" font-size=\"14.00\">tri_fusion([0])</text>\n<text text-anchor=\"start\" x=\"195.5\" y=\"-123.3\" font-family=\"Times,serif\" font-size=\"14.00\" fill=\"red\">résultat : </text>\n<text text-anchor=\"start\" x=\"265.5\" y=\"-123.3\" font-family=\"Courier,monospace\" font-size=\"14.00\" fill=\"red\">[0]</text>\n</g>\n<!-- node2&#45;&#45;node4 -->\n<g id=\"edge4\" class=\"edge\">\n<title>node2&#45;&#45;node4</title>\n<path fill=\"none\" stroke=\"black\" d=\"M243,-221.9C243,-210.4 243,-197.7 243,-186.19\"/>\n</g>\n<!-- node6 -->\n<g id=\"node7\" class=\"node\">\n<title>node6</title>\n<text text-anchor=\"start\" x=\"384.5\" y=\"-167.3\" font-family=\"Times,serif\" font-style=\"italic\" font-size=\"14.00\" fill=\"darkgreen\">appel 7</text>\n<path fill=\"none\" stroke=\"black\" d=\"M353,-137.5C353,-137.5 469,-137.5 469,-137.5 472.5,-137.5 476,-141 476,-144.5 476,-144.5 476,-151.5 476,-151.5 476,-155 472.5,-158.5 469,-158.5 469,-158.5 353,-158.5 353,-158.5 349.5,-158.5 346,-155 346,-151.5 346,-151.5 346,-144.5 346,-144.5 346,-141 349.5,-137.5 353,-137.5\"/>\n<text text-anchor=\"start\" x=\"349\" y=\"-144.3\" font-family=\"Courier,monospace\" font-size=\"14.00\">tri_fusion([7])</text>\n<text text-anchor=\"start\" x=\"363.5\" y=\"-123.3\" font-family=\"Times,serif\" font-size=\"14.00\" fill=\"red\">résultat : </text>\n<text text-anchor=\"start\" x=\"433.5\" y=\"-123.3\" font-family=\"Courier,monospace\" font-size=\"14.00\" fill=\"red\">[7]</text>\n</g>\n<!-- node5&#45;&#45;node6 -->\n<g id=\"edge6\" class=\"edge\">\n<title>node5&#45;&#45;node6</title>\n<path fill=\"none\" stroke=\"black\" d=\"M446.2,-221.9C440.61,-210.4 434.44,-197.7 428.84,-186.19\"/>\n</g>\n<!-- node7 -->\n<g id=\"node8\" class=\"node\">\n<title>node7</title>\n<text text-anchor=\"start\" x=\"552.5\" y=\"-167.3\" font-family=\"Times,serif\" font-style=\"italic\" font-size=\"14.00\" fill=\"darkgreen\">appel 8</text>\n<path fill=\"none\" stroke=\"black\" d=\"M521,-137.5C521,-137.5 637,-137.5 637,-137.5 640.5,-137.5 644,-141 644,-144.5 644,-144.5 644,-151.5 644,-151.5 644,-155 640.5,-158.5 637,-158.5 637,-158.5 521,-158.5 521,-158.5 517.5,-158.5 514,-155 514,-151.5 514,-151.5 514,-144.5 514,-144.5 514,-141 517.5,-137.5 521,-137.5\"/>\n<text text-anchor=\"start\" x=\"517\" y=\"-144.3\" font-family=\"Courier,monospace\" font-size=\"14.00\">tri_fusion([8])</text>\n<text text-anchor=\"start\" x=\"531.5\" y=\"-123.3\" font-family=\"Times,serif\" font-size=\"14.00\" fill=\"red\">résultat : </text>\n<text text-anchor=\"start\" x=\"601.5\" y=\"-123.3\" font-family=\"Courier,monospace\" font-size=\"14.00\" fill=\"red\">[8]</text>\n</g>\n<!-- node5&#45;&#45;node7 -->\n<g id=\"edge7\" class=\"edge\">\n<title>node5&#45;&#45;node7</title>\n<path fill=\"none\" stroke=\"black\" d=\"M502.61,-221.9C514.75,-210.4 528.15,-197.7 540.29,-186.19\"/>\n</g>\n<!-- node9 -->\n<g id=\"node10\" class=\"node\">\n<title>node9</title>\n<text text-anchor=\"start\" x=\"781.5\" y=\"-278.3\" font-family=\"Times,serif\" font-style=\"italic\" font-size=\"14.00\" fill=\"darkgreen\">appel 10</text>\n<path fill=\"none\" stroke=\"black\" d=\"M742,-248.5C742,-248.5 883,-248.5 883,-248.5 886.5,-248.5 890,-252 890,-255.5 890,-255.5 890,-262.5 890,-262.5 890,-266 886.5,-269.5 883,-269.5 883,-269.5 742,-269.5 742,-269.5 738.5,-269.5 735,-266 735,-262.5 735,-262.5 735,-255.5 735,-255.5 735,-252 738.5,-248.5 742,-248.5\"/>\n<text text-anchor=\"start\" x=\"738\" y=\"-255.3\" font-family=\"Courier,monospace\" font-size=\"14.00\">tri_fusion([6, 2])</text>\n<text text-anchor=\"start\" x=\"752.5\" y=\"-234.3\" font-family=\"Times,serif\" font-size=\"14.00\" fill=\"red\">résultat : </text>\n<text text-anchor=\"start\" x=\"822.5\" y=\"-234.3\" font-family=\"Courier,monospace\" font-size=\"14.00\" fill=\"red\">[2, 6]</text>\n</g>\n<!-- node8&#45;&#45;node9 -->\n<g id=\"edge9\" class=\"edge\">\n<title>node8&#45;&#45;node9</title>\n<path fill=\"none\" stroke=\"black\" d=\"M812,-332.9C812,-321.4 812,-308.7 812,-297.19\"/>\n</g>\n<!-- node12 -->\n<g id=\"node13\" class=\"node\">\n<title>node12</title>\n<text text-anchor=\"start\" x=\"1052\" y=\"-278.3\" font-family=\"Times,serif\" font-style=\"italic\" font-size=\"14.00\" fill=\"darkgreen\">appel 13</text>\n<path fill=\"none\" stroke=\"black\" d=\"M1000,-248.5C1000,-248.5 1166,-248.5 1166,-248.5 1169.5,-248.5 1173,-252 1173,-255.5 1173,-255.5 1173,-262.5 1173,-262.5 1173,-266 1169.5,-269.5 1166,-269.5 1166,-269.5 1000,-269.5 1000,-269.5 996.5,-269.5 993,-266 993,-262.5 993,-262.5 993,-255.5 993,-255.5 993,-252 996.5,-248.5 1000,-248.5\"/>\n<text text-anchor=\"start\" x=\"996\" y=\"-255.3\" font-family=\"Courier,monospace\" font-size=\"14.00\">tri_fusion([4, 3, 1])</text>\n<text text-anchor=\"start\" x=\"1010.5\" y=\"-234.3\" font-family=\"Times,serif\" font-size=\"14.00\" fill=\"red\">résultat : </text>\n<text text-anchor=\"start\" x=\"1080.5\" y=\"-234.3\" font-family=\"Courier,monospace\" font-size=\"14.00\" fill=\"red\">[1, 3, 4]</text>\n</g>\n<!-- node8&#45;&#45;node12 -->\n<g id=\"edge12\" class=\"edge\">\n<title>node8&#45;&#45;node12</title>\n<path fill=\"none\" stroke=\"black\" d=\"M902.99,-332.9C931.75,-321.34 963.51,-308.56 992.25,-297\"/>\n</g>\n<!-- node10 -->\n<g id=\"node11\" class=\"node\">\n<title>node10</title>\n<text text-anchor=\"start\" x=\"716\" y=\"-167.3\" font-family=\"Times,serif\" font-style=\"italic\" font-size=\"14.00\" fill=\"darkgreen\">appel 11</text>\n<path fill=\"none\" stroke=\"black\" d=\"M689,-137.5C689,-137.5 805,-137.5 805,-137.5 808.5,-137.5 812,-141 812,-144.5 812,-144.5 812,-151.5 812,-151.5 812,-155 808.5,-158.5 805,-158.5 805,-158.5 689,-158.5 689,-158.5 685.5,-158.5 682,-155 682,-151.5 682,-151.5 682,-144.5 682,-144.5 682,-141 685.5,-137.5 689,-137.5\"/>\n<text text-anchor=\"start\" x=\"685\" y=\"-144.3\" font-family=\"Courier,monospace\" font-size=\"14.00\">tri_fusion([6])</text>\n<text text-anchor=\"start\" x=\"699.5\" y=\"-123.3\" font-family=\"Times,serif\" font-size=\"14.00\" fill=\"red\">résultat : </text>\n<text text-anchor=\"start\" x=\"769.5\" y=\"-123.3\" font-family=\"Courier,monospace\" font-size=\"14.00\" fill=\"red\">[6]</text>\n</g>\n<!-- node9&#45;&#45;node10 -->\n<g id=\"edge10\" class=\"edge\">\n<title>node9&#45;&#45;node10</title>\n<path fill=\"none\" stroke=\"black\" d=\"M790.18,-221.9C783.32,-210.4 775.74,-197.7 768.88,-186.19\"/>\n</g>\n<!-- node11 -->\n<g id=\"node12\" class=\"node\">\n<title>node11</title>\n<text text-anchor=\"start\" x=\"884\" y=\"-167.3\" font-family=\"Times,serif\" font-style=\"italic\" font-size=\"14.00\" fill=\"darkgreen\">appel 12</text>\n<path fill=\"none\" stroke=\"black\" d=\"M857,-137.5C857,-137.5 973,-137.5 973,-137.5 976.5,-137.5 980,-141 980,-144.5 980,-144.5 980,-151.5 980,-151.5 980,-155 976.5,-158.5 973,-158.5 973,-158.5 857,-158.5 857,-158.5 853.5,-158.5 850,-155 850,-151.5 850,-151.5 850,-144.5 850,-144.5 850,-141 853.5,-137.5 857,-137.5\"/>\n<text text-anchor=\"start\" x=\"853\" y=\"-144.3\" font-family=\"Courier,monospace\" font-size=\"14.00\">tri_fusion([2])</text>\n<text text-anchor=\"start\" x=\"867.5\" y=\"-123.3\" font-family=\"Times,serif\" font-size=\"14.00\" fill=\"red\">résultat : </text>\n<text text-anchor=\"start\" x=\"937.5\" y=\"-123.3\" font-family=\"Courier,monospace\" font-size=\"14.00\" fill=\"red\">[2]</text>\n</g>\n<!-- node9&#45;&#45;node11 -->\n<g id=\"edge11\" class=\"edge\">\n<title>node9&#45;&#45;node11</title>\n<path fill=\"none\" stroke=\"black\" d=\"M846.58,-221.9C857.45,-210.4 869.46,-197.7 880.33,-186.19\"/>\n</g>\n<!-- node13 -->\n<g id=\"node14\" class=\"node\">\n<title>node13</title>\n<text text-anchor=\"start\" x=\"1052\" y=\"-167.3\" font-family=\"Times,serif\" font-style=\"italic\" font-size=\"14.00\" fill=\"darkgreen\">appel 14</text>\n<path fill=\"none\" stroke=\"black\" d=\"M1025,-137.5C1025,-137.5 1141,-137.5 1141,-137.5 1144.5,-137.5 1148,-141 1148,-144.5 1148,-144.5 1148,-151.5 1148,-151.5 1148,-155 1144.5,-158.5 1141,-158.5 1141,-158.5 1025,-158.5 1025,-158.5 1021.5,-158.5 1018,-155 1018,-151.5 1018,-151.5 1018,-144.5 1018,-144.5 1018,-141 1021.5,-137.5 1025,-137.5\"/>\n<text text-anchor=\"start\" x=\"1021\" y=\"-144.3\" font-family=\"Courier,monospace\" font-size=\"14.00\">tri_fusion([4])</text>\n<text text-anchor=\"start\" x=\"1035.5\" y=\"-123.3\" font-family=\"Times,serif\" font-size=\"14.00\" fill=\"red\">résultat : </text>\n<text text-anchor=\"start\" x=\"1105.5\" y=\"-123.3\" font-family=\"Courier,monospace\" font-size=\"14.00\" fill=\"red\">[4]</text>\n</g>\n<!-- node12&#45;&#45;node13 -->\n<g id=\"edge13\" class=\"edge\">\n<title>node12&#45;&#45;node13</title>\n<path fill=\"none\" stroke=\"black\" d=\"M1083,-221.9C1083,-210.4 1083,-197.7 1083,-186.19\"/>\n</g>\n<!-- node14 -->\n<g id=\"node15\" class=\"node\">\n<title>node14</title>\n<text text-anchor=\"start\" x=\"1233.5\" y=\"-167.3\" font-family=\"Times,serif\" font-style=\"italic\" font-size=\"14.00\" fill=\"darkgreen\">appel 15</text>\n<path fill=\"none\" stroke=\"black\" d=\"M1194,-137.5C1194,-137.5 1335,-137.5 1335,-137.5 1338.5,-137.5 1342,-141 1342,-144.5 1342,-144.5 1342,-151.5 1342,-151.5 1342,-155 1338.5,-158.5 1335,-158.5 1335,-158.5 1194,-158.5 1194,-158.5 1190.5,-158.5 1187,-155 1187,-151.5 1187,-151.5 1187,-144.5 1187,-144.5 1187,-141 1190.5,-137.5 1194,-137.5\"/>\n<text text-anchor=\"start\" x=\"1190\" y=\"-144.3\" font-family=\"Courier,monospace\" font-size=\"14.00\">tri_fusion([3, 1])</text>\n<text text-anchor=\"start\" x=\"1204.5\" y=\"-123.3\" font-family=\"Times,serif\" font-size=\"14.00\" fill=\"red\">résultat : </text>\n<text text-anchor=\"start\" x=\"1274.5\" y=\"-123.3\" font-family=\"Courier,monospace\" font-size=\"14.00\" fill=\"red\">[1, 3]</text>\n</g>\n<!-- node12&#45;&#45;node14 -->\n<g id=\"edge14\" class=\"edge\">\n<title>node12&#45;&#45;node14</title>\n<path fill=\"none\" stroke=\"black\" d=\"M1143.77,-221.9C1162.98,-210.34 1184.19,-197.56 1203.39,-186\"/>\n</g>\n<!-- node15 -->\n<g id=\"node16\" class=\"node\">\n<title>node15</title>\n<text text-anchor=\"start\" x=\"1149\" y=\"-56.3\" font-family=\"Times,serif\" font-style=\"italic\" font-size=\"14.00\" fill=\"darkgreen\">appel 16</text>\n<path fill=\"none\" stroke=\"black\" d=\"M1122,-26.5C1122,-26.5 1238,-26.5 1238,-26.5 1241.5,-26.5 1245,-30 1245,-33.5 1245,-33.5 1245,-40.5 1245,-40.5 1245,-44 1241.5,-47.5 1238,-47.5 1238,-47.5 1122,-47.5 1122,-47.5 1118.5,-47.5 1115,-44 1115,-40.5 1115,-40.5 1115,-33.5 1115,-33.5 1115,-30 1118.5,-26.5 1122,-26.5\"/>\n<text text-anchor=\"start\" x=\"1118\" y=\"-33.3\" font-family=\"Courier,monospace\" font-size=\"14.00\">tri_fusion([3])</text>\n<text text-anchor=\"start\" x=\"1132.5\" y=\"-12.3\" font-family=\"Times,serif\" font-size=\"14.00\" fill=\"red\">résultat : </text>\n<text text-anchor=\"start\" x=\"1202.5\" y=\"-12.3\" font-family=\"Courier,monospace\" font-size=\"14.00\" fill=\"red\">[3]</text>\n</g>\n<!-- node14&#45;&#45;node15 -->\n<g id=\"edge15\" class=\"edge\">\n<title>node14&#45;&#45;node15</title>\n<path fill=\"none\" stroke=\"black\" d=\"M1235.8,-110.9C1226.93,-99.4 1217.14,-86.7 1208.27,-75.19\"/>\n</g>\n<!-- node16 -->\n<g id=\"node17\" class=\"node\">\n<title>node16</title>\n<text text-anchor=\"start\" x=\"1317\" y=\"-56.3\" font-family=\"Times,serif\" font-style=\"italic\" font-size=\"14.00\" fill=\"darkgreen\">appel 17</text>\n<path fill=\"none\" stroke=\"black\" d=\"M1290,-26.5C1290,-26.5 1406,-26.5 1406,-26.5 1409.5,-26.5 1413,-30 1413,-33.5 1413,-33.5 1413,-40.5 1413,-40.5 1413,-44 1409.5,-47.5 1406,-47.5 1406,-47.5 1290,-47.5 1290,-47.5 1286.5,-47.5 1283,-44 1283,-40.5 1283,-40.5 1283,-33.5 1283,-33.5 1283,-30 1286.5,-26.5 1290,-26.5\"/>\n<text text-anchor=\"start\" x=\"1286\" y=\"-33.3\" font-family=\"Courier,monospace\" font-size=\"14.00\">tri_fusion([1])</text>\n<text text-anchor=\"start\" x=\"1300.5\" y=\"-12.3\" font-family=\"Times,serif\" font-size=\"14.00\" fill=\"red\">résultat : </text>\n<text text-anchor=\"start\" x=\"1370.5\" y=\"-12.3\" font-family=\"Courier,monospace\" font-size=\"14.00\" fill=\"red\">[1]</text>\n</g>\n<!-- node14&#45;&#45;node16 -->\n<g id=\"edge16\" class=\"edge\">\n<title>node14&#45;&#45;node16</title>\n<path fill=\"none\" stroke=\"black\" d=\"M1292.2,-110.9C1301.07,-99.4 1310.86,-86.7 1319.73,-75.19\"/>\n</g>\n</g>\n</svg>\n",
      "text/plain": [
       "<graphviz.graphs.Graph at 0x7fc78c615ea0>"
      ]
     },
     "execution_count": 55,
     "metadata": {},
     "output_type": "execute_result"
    }
   ],
   "source": [
    "une_liste = [5, 0, 7, 8, 6, 2, 4, 3, 1]\n",
    "call = tri_fusion(une_liste)\n",
    "call.graph()"
   ]
  },
  {
   "attachments": {},
   "cell_type": "markdown",
   "id": "438c0f48",
   "metadata": {},
   "source": [
    "#### Complexité\n",
    "\n",
    "Coût de la séparation de `lst` : $O($`len(lst)`$)$\n",
    "\n",
    "Coût de la fusion de `lst1` et `lst2` : $O($`len(lst1)`$+$`len(lst2)`$)$\n",
    "\n",
    "À chaque « étage » de récursion la somme des longueurs des listes manipulées est la même ($n$), donc le coût total par « étage » est $O(n)$\n",
    "\n",
    "Comme un divise la taille des listes par deux à chaque étape et qu'on s'arrête quand une liste est de taille 0 ou 1, le nombre d'« étages » est au plus $\\lfloor\\log_2 n\\rfloor+1$\n",
    "\n",
    "Complexité totale : $O(n \\log n)$\n",
    "\n"
   ]
  },
  {
   "attachments": {},
   "cell_type": "markdown",
   "id": "52fff768",
   "metadata": {},
   "source": [
    "### Bilan\n",
    "\n",
    "On peut montrer que cet algorithme est **optimal**\n",
    "- dans ce modèle de calcul\n",
    "- sans autre hypothèse sur `lst`\n",
    "- asymptotiquement\n",
    "- dans le pire cas\n",
    "\n",
    "En pratique, il utilise plus de mémoire que le tri rapide, et peut être un peu plus lent en moyenne\n",
    "\n",
    "C'est un tri *stable* (des éléments égaux de `lst` restent dans le même ordre dans le résultat), contrairement au tri rapide\n",
    "\n",
    "Plusieurs variantes possibles"
   ]
  },
  {
   "attachments": {},
   "cell_type": "markdown",
   "id": "3ec06693",
   "metadata": {},
   "source": [
    "## Le tri de Python\n",
    "\n",
    "Méthode `sort` : tri sur place de liste\n",
    "\n",
    "- Algo hybride entre tri par fusion et tri par insertion (*Timsort*)\n",
    "- Stable, $O(n \\log n)$ en temps (au pire et en moyenne), $O(n)$ en espace\n",
    "- Utilisé par d'autres langages de programmation (par ex. Java)\n",
    "- **Attention :** trie sur place, ne renvoie pas de liste !\n",
    "- Possibilité de trier selon un critère donné (`key=f`), ou à l'envers (`reverse=True`)\n",
    "\n",
    "Variante sans modification de la liste : fonction `sorted`"
   ]
  },
  {
   "cell_type": "code",
   "execution_count": 56,
   "id": "dc52cadd",
   "metadata": {},
   "outputs": [
    {
     "data": {
      "text/plain": [
       "['Amritsar', 'Calcutta', 'Chennai', 'Delhi', 'Kochi', 'Mumbai']"
      ]
     },
     "execution_count": 56,
     "metadata": {},
     "output_type": "execute_result"
    }
   ],
   "source": [
    "lst = [\"Chennai\", \"Mumbai\", \"Kochi\", \"Delhi\", \"Calcutta\", \"Amritsar\"]\n",
    "lst.sort()\n",
    "lst"
   ]
  },
  {
   "cell_type": "code",
   "execution_count": 57,
   "id": "bf2c5ca9",
   "metadata": {},
   "outputs": [
    {
     "data": {
      "text/plain": [
       "['Mumbai', 'Kochi', 'Delhi', 'Chennai', 'Calcutta', 'Amritsar']"
      ]
     },
     "execution_count": 57,
     "metadata": {},
     "output_type": "execute_result"
    }
   ],
   "source": [
    "lst.sort(reverse=True)\n",
    "lst"
   ]
  },
  {
   "cell_type": "code",
   "execution_count": 58,
   "id": "6d0ce303",
   "metadata": {},
   "outputs": [
    {
     "data": {
      "text/plain": [
       "['Kochi', 'Delhi', 'Mumbai', 'Chennai', 'Calcutta', 'Amritsar']"
      ]
     },
     "execution_count": 58,
     "metadata": {},
     "output_type": "execute_result"
    }
   ],
   "source": [
    "lst.sort(key=len)\n",
    "lst"
   ]
  },
  {
   "cell_type": "code",
   "execution_count": 59,
   "id": "e3884a43",
   "metadata": {},
   "outputs": [
    {
     "data": {
      "text/plain": [
       "['Calcutta', 'Kochi', 'Delhi', 'Mumbai', 'Chennai', 'Amritsar']"
      ]
     },
     "execution_count": 59,
     "metadata": {},
     "output_type": "execute_result"
    }
   ],
   "source": [
    "def derniere_lettre(s):\n",
    "   return s[-1]\n",
    "\n",
    "sorted(lst, key=derniere_lettre)"
   ]
  },
  {
   "attachments": {},
   "cell_type": "markdown",
   "id": "e6859e95",
   "metadata": {},
   "source": [
    "## Variations autour du tri"
   ]
  },
  {
   "attachments": {},
   "cell_type": "markdown",
   "id": "fd225ba3",
   "metadata": {},
   "source": [
    "### Mélange de liste\n",
    "\n",
    "On a vu comment trier une liste, mais comment la mélanger uniformément (même probabilité pour chaque mélange) ?"
   ]
  },
  {
   "attachments": {},
   "cell_type": "markdown",
   "id": "e3552978",
   "metadata": {},
   "source": [
    "#### Première tentative"
   ]
  },
  {
   "cell_type": "code",
   "execution_count": 60,
   "id": "8bed8391",
   "metadata": {},
   "outputs": [],
   "source": [
    "from random import randrange\n",
    "\n",
    "def melange(lst):\n",
    "    lst = lst.copy()\n",
    "    for i in range(len(lst)):\n",
    "        k = randrange(len(lst))\n",
    "        echange(lst, i, k)\n",
    "    return lst"
   ]
  },
  {
   "cell_type": "code",
   "execution_count": 61,
   "id": "219d1cd3",
   "metadata": {},
   "outputs": [],
   "source": [
    "from itertools import permutations\n",
    "\n",
    "lst = [1, 2, 3]\n",
    "perms = list(permutations(lst))"
   ]
  },
  {
   "cell_type": "code",
   "execution_count": 62,
   "id": "2fe8ecab",
   "metadata": {},
   "outputs": [
    {
     "data": {
      "text/plain": [
       "[14923, 18387, 18440, 18455, 14880, 14915]"
      ]
     },
     "execution_count": 62,
     "metadata": {},
     "output_type": "execute_result"
    }
   ],
   "source": [
    "n = 100000\n",
    "tmp = [melange(lst) for _ in range(n)]\n",
    "counts = [tmp.count(list(p)) for p in perms]\n",
    "counts"
   ]
  },
  {
   "cell_type": "code",
   "execution_count": 63,
   "id": "7148c649",
   "metadata": {},
   "outputs": [
    {
     "data": {
      "image/png": "[encoded data removed]",
      "text/plain": [
       "<Figure size 640x480 with 1 Axes>"
      ]
     },
     "metadata": {},
     "output_type": "display_data"
    }
   ],
   "source": [
    "from matplotlib import pyplot as plt\n",
    "\n",
    "fig, ax = plt.subplots()\n",
    "ax.bar(list(map(str, perms)), counts)\n",
    "ax.xaxis.set_tick_params(rotation=90)"
   ]
  },
  {
   "attachments": {},
   "cell_type": "markdown",
   "id": "1f6ad1e0",
   "metadata": {},
   "source": [
    "**Exercice :** Quelle est la fréquence d'apparition de chaque résultat possible sur une liste de longueur 3 ?"
   ]
  },
  {
   "cell_type": "code",
   "execution_count": 64,
   "id": "89cb9056",
   "metadata": {},
   "outputs": [],
   "source": [
    "def melanges(lst):\n",
    "    res = [lst]\n",
    "    for i in range(len(lst)):\n",
    "        res2 = []\n",
    "        for lst2 in res:\n",
    "            for k in range(len(lst)):\n",
    "                lst3 = lst2.copy()\n",
    "                echange(lst3, i, k)\n",
    "                res2.append(lst3)\n",
    "        res = res2\n",
    "    return res"
   ]
  },
  {
   "cell_type": "code",
   "execution_count": 65,
   "id": "bcc61698",
   "metadata": {},
   "outputs": [
    {
     "data": {
      "text/plain": [
       "[4, 5, 5, 5, 4, 4]"
      ]
     },
     "execution_count": 65,
     "metadata": {},
     "output_type": "execute_result"
    }
   ],
   "source": [
    "tmp = melanges(lst)\n",
    "perms = list(permutations(lst))\n",
    "counts = [tmp.count(list(p)) for p in perms]\n",
    "counts"
   ]
  },
  {
   "cell_type": "code",
   "execution_count": 66,
   "id": "1a4ff220",
   "metadata": {},
   "outputs": [
    {
     "data": {
      "image/png": "[encoded data removed]",
      "text/plain": [
       "<Figure size 640x480 with 1 Axes>"
      ]
     },
     "metadata": {},
     "output_type": "display_data"
    }
   ],
   "source": [
    "from matplotlib import pyplot as plt\n",
    "\n",
    "fig, ax = plt.subplots()\n",
    "ax.bar(list(map(str, perms)), counts)\n",
    "ax.xaxis.set_tick_params(rotation=90)"
   ]
  },
  {
   "attachments": {},
   "cell_type": "markdown",
   "id": "41edfcfa",
   "metadata": {},
   "source": [
    "Cet algorithme de mélange est **incorrect !** (non uniforme)\n",
    "\n",
    "- Nombre de permutations possibles : $n!$\n",
    "- Nombre d'exécutions possibles de l'algorithme : $n^n$ (beaucoup plus)\n",
    "- $n^n$ non divisible par $n!$ en général $\\rightarrow$ répartition égale impossible\n"
   ]
  },
  {
   "attachments": {},
   "cell_type": "markdown",
   "id": "478c8ab6",
   "metadata": {},
   "source": [
    "#### Nouvelle tentative"
   ]
  },
  {
   "cell_type": "code",
   "execution_count": 67,
   "id": "8e1f9a22",
   "metadata": {},
   "outputs": [],
   "source": [
    "def melange(lst):\n",
    "    lst = lst.copy()\n",
    "    for i in range(len(lst)-1):\n",
    "        k = randrange(i, len(lst))  # changement ici !\n",
    "        echange(lst, i, k)\n",
    "    return lst"
   ]
  },
  {
   "cell_type": "code",
   "execution_count": 68,
   "id": "3f12d490",
   "metadata": {},
   "outputs": [],
   "source": [
    "lst = [1, 2, 3, 4]\n",
    "perms = list(permutations(lst))"
   ]
  },
  {
   "cell_type": "code",
   "execution_count": 69,
   "id": "2757a580",
   "metadata": {},
   "outputs": [],
   "source": [
    "n = 100000\n",
    "tmp = [melange(lst) for _ in range(n)]\n",
    "counts = [tmp.count(list(p)) for p in perms]"
   ]
  },
  {
   "cell_type": "code",
   "execution_count": 70,
   "id": "38af0161",
   "metadata": {},
   "outputs": [
    {
     "data": {
      "image/png": "[encoded data removed]",
      "text/plain": [
       "<Figure size 640x480 with 1 Axes>"
      ]
     },
     "metadata": {},
     "output_type": "display_data"
    }
   ],
   "source": [
    "from matplotlib import pyplot as plt\n",
    "\n",
    "fig, ax = plt.subplots()\n",
    "ax.bar(list(map(str, perms)), counts)\n",
    "ax.xaxis.set_tick_params(rotation=90)"
   ]
  },
  {
   "cell_type": "markdown",
   "id": "65145f8e",
   "metadata": {},
   "source": [
    "**Exercice :** Quelle est la fréquence d'apparition de chaque résultat possible sur une liste de longueur 3 ?"
   ]
  },
  {
   "cell_type": "code",
   "execution_count": 71,
   "id": "87dffe95",
   "metadata": {},
   "outputs": [],
   "source": [
    "def melanges(lst):\n",
    "    res = [lst]\n",
    "    for i in range(len(lst)):\n",
    "        res2 = []\n",
    "        for lst2 in res:\n",
    "            for k in range(i, len(lst)):\n",
    "                lst3 = lst2.copy()\n",
    "                echange(lst3, i, k)\n",
    "                res2.append(lst3)\n",
    "        res = res2\n",
    "    return res"
   ]
  },
  {
   "cell_type": "code",
   "execution_count": 72,
   "id": "40416161",
   "metadata": {},
   "outputs": [],
   "source": [
    "tmp = melanges(lst)\n",
    "perms = list(permutations(lst))\n",
    "counts = [tmp.count(list(p)) for p in perms]"
   ]
  },
  {
   "cell_type": "code",
   "execution_count": 73,
   "id": "fb373d73",
   "metadata": {},
   "outputs": [
    {
     "data": {
      "image/png": "[encoded data removed]",
      "text/plain": [
       "<Figure size 640x480 with 1 Axes>"
      ]
     },
     "metadata": {},
     "output_type": "display_data"
    }
   ],
   "source": [
    "from matplotlib import pyplot as plt\n",
    "\n",
    "fig, ax = plt.subplots()\n",
    "ax.bar(list(map(str, perms)), counts)\n",
    "ax.xaxis.set_tick_params(rotation=90)"
   ]
  },
  {
   "attachments": {},
   "cell_type": "markdown",
   "id": "9b9f586e",
   "metadata": {},
   "source": [
    "### Recherche de la médiane\n",
    "\n",
    "Étant donnée une liste `lst` de $n$ éléments comparables, on cherche un élément médian de `lst`\n",
    "\n",
    "(*Élément médian :* autants d'éléments inférieurs que supérieurs dans `lst`, à 1 près)\n",
    "\n",
    "**Plus généralement :** on cherche le $k$-e plus petit élément de `lst`"
   ]
  },
  {
   "attachments": {},
   "cell_type": "markdown",
   "id": "72b359ba",
   "metadata": {},
   "source": [
    "#### Algorithmes naïfs"
   ]
  },
  {
   "attachments": {},
   "cell_type": "markdown",
   "id": "339aa32f",
   "metadata": {},
   "source": [
    "**Idée 1 :** On trie partiellement jusqu'à avoir les $k$ plus petits éléments (et on renvoie le plus grand)\n",
    "- tri à bulle : on fait \"remonter la bulle\" $k$ fois\n",
    "- tri par sélection : on cherche le plus petit élément $k$ fois\n",
    "- tri par insertion : on trie en ne mémorisant que les $k$ plus petits éléments\n",
    "\n",
    "*Note :* cette idée résoud en fait un problème plus général, celui de trouver les $k$ plus petits éléments de `lst` (lien avec le programme de NSI : problème des $k$ plus proches voisins)\n",
    "\n",
    "*Problème :* pas très efficace avec ces algorithmes... ($O(nk)$)"
   ]
  },
  {
   "cell_type": "markdown",
   "id": "6f50cadc",
   "metadata": {},
   "source": [
    "\n",
    "**Idée 2 :** On trie la liste entière avec un algorithme efficace et on prend l'élément d'indice $k-1$\n",
    "\n",
    "Complexité acceptable, mais peut-on faire mieux ?"
   ]
  },
  {
   "attachments": {},
   "cell_type": "markdown",
   "id": "9eeb7da1",
   "metadata": {},
   "source": [
    "#### Algorithme efficace : « sélection rapide »"
   ]
  },
  {
   "attachments": {},
   "cell_type": "markdown",
   "id": "9882e6a0",
   "metadata": {},
   "source": [
    "Inspiré du tri rapide\n",
    "\n",
    "**Idée :** On partitionne la liste, puis on ne s'intéresse qu'au côté qui contient le $k$-e plus petit élément (et on ne trie pas l'autre côté)"
   ]
  },
  {
   "cell_type": "code",
   "execution_count": 74,
   "id": "cf938384",
   "metadata": {},
   "outputs": [],
   "source": [
    "from random import randint\n",
    "\n",
    "def plus_petit(lst, k):\n",
    "    debut = 0\n",
    "    fin = len(lst)-1\n",
    "    while True:\n",
    "        p = partition(lst, debut, fin)\n",
    "        if p == k:\n",
    "            return lst[k]\n",
    "        elif p < k:\n",
    "            debut = p+1\n",
    "        else:\n",
    "            fin = p-1"
   ]
  },
  {
   "cell_type": "code",
   "execution_count": 75,
   "id": "993e62f8",
   "metadata": {},
   "outputs": [
    {
     "data": {
      "text/plain": [
       "3"
      ]
     },
     "execution_count": 75,
     "metadata": {},
     "output_type": "execute_result"
    }
   ],
   "source": [
    "lst = [3, 1, 7, 8, 4, 2, 9, 0, 5, 6]\n",
    "plus_petit(lst, 3)"
   ]
  },
  {
   "attachments": {},
   "cell_type": "markdown",
   "id": "0a907508",
   "metadata": {},
   "source": [
    "**Complexité :** $O(n)$ en temps (en moyenne !) et $O(1)$ en espace\n",
    "\n",
    "(Et au pire ?)"
   ]
  }
 ],
 "metadata": {
  "kernelspec": {
   "display_name": "Python 3 (ipykernel)",
   "language": "python",
   "name": "python3"
  },
  "language_info": {
   "codemirror_mode": {
    "name": "ipython",
    "version": 3
   },
   "file_extension": ".py",
   "mimetype": "text/x-python",
   "name": "python",
   "nbconvert_exporter": "python",
   "pygments_lexer": "ipython3",
   "version": "3.10.7"
  }
 },
 "nbformat": 4,
 "nbformat_minor": 5
}
