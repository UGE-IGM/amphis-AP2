{
 "cells": [
  {
   "cell_type": "markdown",
   "id": "cfa4bae9",
   "metadata": {},
   "source": [
    "<div style='width:20em'><img src='img/logo-igm.png'></div>\n",
    "<div style='font-size:larger'><strong>Algorithmique et programmation 2</strong><br>\n",
    "L1 Mathématiques - L1 Informatique<br>\n",
    "Semestre 2\n",
    "</div>"
   ]
  },
  {
   "cell_type": "markdown",
   "id": "5be40568",
   "metadata": {},
   "source": [
    "# Algorithmes de tri"
   ]
  },
  {
   "cell_type": "markdown",
   "id": "fc7a458c",
   "metadata": {},
   "source": [
    "## Introduction et rappels"
   ]
  },
  {
   "cell_type": "markdown",
   "id": "35eee112",
   "metadata": {},
   "source": [
    "Chercher un élément dans une liste non triée de taille $n$ peut se faire par *recherche exhaustive*\n",
    " \n",
    "- Complexité $O(n)$\n",
    "- Sans autre hypothèse on ne peut pas faire mieux"
   ]
  },
  {
   "cell_type": "markdown",
   "id": "a4b506f3",
   "metadata": {},
   "source": [
    "\n",
    "Chercher un élément dans une liste *triée* de taille $n$ peut se faire par *recherche binaire* (ou *dichotomie*)\n",
    "\n",
    "- Complexité $O(\\log n)$ (exponentiellement plus rapide !!)\n",
    "- Sans autre hypothèse on ne peut pas faire mieux"
   ]
  },
  {
   "cell_type": "markdown",
   "id": "b892a6db",
   "metadata": {},
   "source": [
    "\n",
    "Conclusion : si on a besoin de chercher fréquemment, on a intérêt à trier (ou à maintenir les données triées)\n",
    "\n",
    "- Si ce n'est pas trop coûteux !\n",
    "- D'où l'intérêt d'algorithmes *efficaces*"
   ]
  },
  {
   "cell_type": "markdown",
   "id": "a22a6d1c",
   "metadata": {},
   "source": [
    "**Problème du tri**\n",
    "\n",
    "- *Données:* une liste `lst`\n",
    "- *Résultat:* une liste contenant les mêmes éléments que `lst` dans l'ordre croissant\n",
    "\n",
    "**Variantes possibles :**\n",
    "- Création d'une nouvelle liste ou modification de la liste reçue\n",
    "- Tri selon d'autres critères\n",
    "\n",
    "**Remarques:**\n",
    "- On suppose que les éléments de `lst` sont comparables\n",
    "- On travaille ici sur des listes croissantes d'entiers, mais le raisonnement reste le même pour d'autres types"
   ]
  },
  {
   "cell_type": "markdown",
   "id": "e8531243",
   "metadata": {},
   "source": [
    "Le problème du tri peut être résolu par plusieurs algorithmes d'efficacités diverses\n",
    "\n",
    "- Trois algorithmes basiques :\n",
    "\n",
    "    - tri à bulle\n",
    "    - tri par sélection\n",
    "    - tri par insertion\n",
    "\n",
    "- Deux algorithmes plus efficaces :\n",
    "\n",
    "    - le tri par pivot\n",
    "    - le tri par fusion\n",
    "\n",
    "*(Si on a le temps,)* quelques algorithmes plus inhabituels"
   ]
  },
  {
   "cell_type": "markdown",
   "id": "002378f8",
   "metadata": {},
   "source": [
    "## Tri à bulle (sur place)\n",
    "\n",
    "\n",
    "### Algorithme\n",
    "\n",
    "Paramètre : `lst`\n",
    "\n",
    "Pour chaque indice `i` de 0 à `len(lst)-1` :\n",
    "- on parcourt les `n-i` derniers éléments depuis la fin\n",
    "- on intervertit les éléments voisins mal ordonnés"
   ]
  },
  {
   "cell_type": "markdown",
   "id": "8a1ec2e6",
   "metadata": {},
   "source": [
    "### Arguments de correction\n",
    "  \n",
    "- **Invariant :** après $k$ passages, les $k$ premiers éléments de `lst` sont\n",
    "  les plus petits et sont triés *(par récurrence)*\n",
    "    - C'est vrai après 0 passage\n",
    "    - Au $k$-eme passage (`i` = $k-1$), le plus petit élément parmi les `n-i` derniers remonte en\n",
    "      position `i`\n",
    "- Donc après le dernier passage la liste entière est triée\n"
   ]
  },
  {
   "cell_type": "markdown",
   "id": "07d11cd9",
   "metadata": {},
   "source": [
    "### Implémentation"
   ]
  },
  {
   "cell_type": "code",
   "execution_count": null,
   "id": "c92497fb",
   "metadata": {},
   "outputs": [],
   "source": [
    "def echange(lst, i, j):\n",
    "    lst[i], lst[j] = lst[j], lst[i]"
   ]
  },
  {
   "cell_type": "code",
   "execution_count": null,
   "id": "c96dd29a",
   "metadata": {},
   "outputs": [],
   "source": [
    "\n",
    "def tri_bulle(lst):\n",
    "    n = len(lst)\n",
    "    # on fait croître la portion triée\n",
    "    for i in range(0, n-1):\n",
    "        # on fait remonter la bulle dans la portion non triée\n",
    "        for j in range(n-1, i, -1):\n",
    "            # échange si voisins mal ordonnés\n",
    "            if lst[j-1] > lst[j]:\n",
    "                echange(lst, j, j-1)"
   ]
  },
  {
   "cell_type": "code",
   "execution_count": null,
   "id": "bf303c90",
   "metadata": {},
   "outputs": [],
   "source": [
    "une_liste = [5, 0, 7, 8, 6, 2, 4, 3, 1]\n",
    "tri_bulle(une_liste)"
   ]
  },
  {
   "cell_type": "code",
   "execution_count": null,
   "id": "4d987565",
   "metadata": {},
   "outputs": [],
   "source": [
    "une_liste"
   ]
  },
  {
   "cell_type": "markdown",
   "id": "4c5a1ad0",
   "metadata": {},
   "source": [
    "### Complexité\n",
    "\n",
    "Pour chaque valeur de `i` entre 0 et n-2 :\n",
    "    \n",
    "- `n-i-1` comparaisons dans tous les cas\n",
    "- `n-i-1` échanges au pire (0 au mieux)\n",
    "- pire cas : liste décroissante\n",
    "- meilleur cas : liste croissante\n",
    "    \n",
    "Nombre total de comparaisons dans tous les cas:\n",
    "    $$\n",
    "    \\sum_{i=0}^{n-2} n-i-1 = \\sum_{i=1}^{n-1} i = \\frac{n(n-1)}{2} \\in O(n^2)\n",
    "    $$\n",
    "\n",
    "Nombre total d'échanges : 0 au mieux, $O(n^2)$ au pire"
   ]
  },
  {
   "cell_type": "markdown",
   "id": "891eb642",
   "metadata": {},
   "source": [
    "\n",
    "### Amélioration possible\n",
    "\n",
    "Arrêter les comparaisons à la dernière position d'échange"
   ]
  },
  {
   "cell_type": "markdown",
   "id": "80418cb2",
   "metadata": {},
   "source": [
    "## Tri par sélection"
   ]
  },
  {
   "cell_type": "markdown",
   "id": "1523d4c6",
   "metadata": {},
   "source": [
    "\n",
    "### En construisant une nouvelle liste"
   ]
  },
  {
   "cell_type": "markdown",
   "id": "71551858",
   "metadata": {},
   "source": [
    "#### Algorithme\n",
    "\n",
    "Paramètre : `lst`\n",
    "\n",
    "On initialise une liste `resultat` (vide), et tant qu'il reste des éléments à\n",
    "traiter :\n",
    "- on cherche et on retire un élément minimal de `lst`\n",
    "- on place cet élément en fin de `resultat`"
   ]
  },
  {
   "cell_type": "markdown",
   "id": "27750738",
   "metadata": {},
   "source": [
    "\n",
    "#### Correction\n",
    "\n",
    "- **Invariant :** Après $k$ itérations :\n",
    "    - Tous les éléments de `resultat` sont plus petits que ceux de `lst`\n",
    "    - `resultat` contient $k$ éléments et est triée\n",
    "- Après la dernière étape, `resultat` est triée et contient tous les éléments de\n",
    "  `lst`"
   ]
  },
  {
   "cell_type": "markdown",
   "id": "8800bf3e",
   "metadata": {},
   "source": [
    "#### Implémentation"
   ]
  },
  {
   "cell_type": "code",
   "execution_count": null,
   "id": "c9c626a1",
   "metadata": {},
   "outputs": [],
   "source": [
    "def extrait_min(lst):\n",
    "    i_min = 0\n",
    "    for i in range(1, len(lst)):\n",
    "        if lst[i] < lst[i_min]:\n",
    "            i_min = i\n",
    "    return lst.pop(i_min)  # WARNING: modifie lst !"
   ]
  },
  {
   "cell_type": "code",
   "execution_count": null,
   "id": "6d40f63c",
   "metadata": {},
   "outputs": [],
   "source": [
    "def tri_selection(lst):\n",
    "    res = []\n",
    "    while len(lst) > 0:\n",
    "        res.append(extrait_min(lst))\n",
    "    return res"
   ]
  },
  {
   "cell_type": "code",
   "execution_count": null,
   "id": "7e21b722",
   "metadata": {},
   "outputs": [],
   "source": [
    "une_liste = [5, 0, 7, 8, 6, 2, 4, 3, 1]\n",
    "tri_selection(une_liste)"
   ]
  },
  {
   "cell_type": "code",
   "execution_count": null,
   "id": "001e5fc0",
   "metadata": {},
   "outputs": [],
   "source": [
    "tri_selection(une_liste)  # WARNING !"
   ]
  },
  {
   "cell_type": "markdown",
   "id": "d27edef9",
   "metadata": {},
   "source": [
    "**Problème :** détruit `lst` (il suffit de commencer par faire une copie) !"
   ]
  },
  {
   "cell_type": "code",
   "execution_count": null,
   "id": "52e200cf",
   "metadata": {},
   "outputs": [],
   "source": [
    "def tri_selection(lst):\n",
    "    lst = lst.copy()\n",
    "    res = []\n",
    "    while len(lst) > 0:\n",
    "        res.append(extrait_min(lst))\n",
    "    return res"
   ]
  },
  {
   "cell_type": "code",
   "execution_count": null,
   "id": "4674585b",
   "metadata": {},
   "outputs": [],
   "source": [
    "une_liste = [5, 0, 7, 8, 6, 2, 4, 3, 1]\n",
    "tri_selection(une_liste)"
   ]
  },
  {
   "cell_type": "code",
   "execution_count": null,
   "id": "3f1ccd68",
   "metadata": {},
   "outputs": [],
   "source": [
    "tri_selection(une_liste)"
   ]
  },
  {
   "cell_type": "markdown",
   "id": "a8cf2dad",
   "metadata": {},
   "source": [
    "**Problème :** l'instruction `lst.pop(i_min)` n'est pas très efficace...\n",
    "($O($`len(lst)`$)$ au pire)"
   ]
  },
  {
   "cell_type": "markdown",
   "id": "8e6b94ec",
   "metadata": {},
   "source": [
    "### Sur place"
   ]
  },
  {
   "cell_type": "markdown",
   "id": "31118256",
   "metadata": {},
   "source": [
    "\n",
    "#### Algorithme\n",
    "\n",
    "Pour chaque indice `i` entre 0 et `len(lst)-2` :\n",
    "- on cherche un élément minimal de `lst[i:]`\n",
    "- on échange cet élément avec l'élément d'indice `i` "
   ]
  },
  {
   "cell_type": "markdown",
   "id": "91b2c252",
   "metadata": {},
   "source": [
    "\n",
    "#### Correction\n",
    "\n",
    "**Invariant :** Après $k$ itérations :\n",
    "- Les $k$ premiers éléments de `lst` sont plus petits que tous les suivants\n",
    "- Les $k$ premiers éléments de `lst` sont triés dans l'ordre croissant\n",
    "\n",
    "En particulier, après la dernière étape, `lst` est triée"
   ]
  },
  {
   "cell_type": "markdown",
   "id": "dd1479da",
   "metadata": {},
   "source": [
    "#### Implémentation"
   ]
  },
  {
   "cell_type": "code",
   "execution_count": null,
   "id": "a5e9d360",
   "metadata": {},
   "outputs": [],
   "source": [
    "def indice_min(lst, debut):\n",
    "    i_min = debut\n",
    "    for i in range(debut + 1, len(lst)):\n",
    "        if lst[i] < lst[i_min]:\n",
    "            i_min = i\n",
    "    return i_min"
   ]
  },
  {
   "cell_type": "code",
   "execution_count": null,
   "id": "ebea3fae",
   "metadata": {},
   "outputs": [],
   "source": [
    "def tri_selection(lst):\n",
    "    for i in range(len(lst)-1):\n",
    "        i_min = indice_min(lst, i)\n",
    "        echange(lst, i, i_min)"
   ]
  },
  {
   "cell_type": "code",
   "execution_count": null,
   "id": "fcadc6f3",
   "metadata": {},
   "outputs": [],
   "source": [
    "une_liste = [5, 0, 7, 8, 6, 2, 4, 3, 1]\n",
    "tri_selection(une_liste)  # ne renvoie rien !"
   ]
  },
  {
   "cell_type": "code",
   "execution_count": null,
   "id": "fe9e1cba",
   "metadata": {},
   "outputs": [],
   "source": [
    "une_liste  # modifiée ! l'ordre d'origine est perdu"
   ]
  },
  {
   "cell_type": "markdown",
   "id": "3ed74b90",
   "metadata": {},
   "source": [
    "#### Complexité\n",
    "  \n",
    "Pour chaque valeur de `i` entre 0 et $n-2$ :\n",
    "    \n",
    "- `n-i-1` comparaisons pour trouver le plus petit élément à partir de l'indice `i`\n",
    "- un seul échange\n",
    "    \n",
    "Nombre total de comparaisons (dans tous les cas) :\n",
    "\n",
    "$$\n",
    "\\sum_{i=0}^{n-2} n-i-1 = \\sum_{i=1}^{n-1} i = \\frac{n(n-1)}{2} \\in O(n^2)\n",
    "$$\n",
    "\n",
    "Nombre total d'échanges : $n-1$ (dans tous les cas)\n",
    "\n",
    "**Remarque :** Pas de pire ni de meilleur cas (complexité indépendante du contenu de la liste)"
   ]
  },
  {
   "cell_type": "markdown",
   "id": "8c79c466",
   "metadata": {},
   "source": [
    "## Tri par insertion\n",
    "\n",
    "« Tri du joueur de cartes »"
   ]
  },
  {
   "cell_type": "markdown",
   "id": "80297920",
   "metadata": {},
   "source": [
    "### Version créant une nouvelle liste"
   ]
  },
  {
   "cell_type": "markdown",
   "id": "d25d9c44",
   "metadata": {},
   "source": [
    "#### Algorithme\n",
    "\n",
    "Paramètre : `lst`\n",
    "\n",
    "- On crée une liste vide `resultat`\n",
    "- Pour chaque élément `e` de `lst`, on insère `e` « à la bonne place » dans `resultat`"
   ]
  },
  {
   "cell_type": "markdown",
   "id": "8b43616d",
   "metadata": {},
   "source": [
    "#### Correction\n",
    "\n",
    "**Invariant :** Après $k$ itérations, `resultat` contient les $k$ premiers éléments de `lst`, dans l'ordre croissant.\n",
    "\n",
    "En particulier, après la dernière itération, `resultat` contient tous les éléments de `lst` dans l'ordre croissant"
   ]
  },
  {
   "cell_type": "markdown",
   "id": "54f72ed8",
   "metadata": {},
   "source": [
    "#### Implémentation"
   ]
  },
  {
   "cell_type": "code",
   "execution_count": null,
   "id": "c72651b6",
   "metadata": {},
   "outputs": [],
   "source": [
    "def inserer(e, lst):\n",
    "    i = len(lst)  # on parcourt la liste depuis la fin (pourquoi pas...)\n",
    "    while i > 0 and lst[i-1] > e:\n",
    "        i -= 1\n",
    "    lst.insert(i, e)  # WARNING : modifie lst !"
   ]
  },
  {
   "cell_type": "code",
   "execution_count": null,
   "id": "8ec15294",
   "metadata": {},
   "outputs": [],
   "source": [
    "lst = [1, 2, 3]\n",
    "inserer(0, lst)\n",
    "lst"
   ]
  },
  {
   "cell_type": "code",
   "execution_count": null,
   "id": "7ec23eb7",
   "metadata": {},
   "outputs": [],
   "source": [
    "inserer(2.5, lst)\n",
    "lst"
   ]
  },
  {
   "cell_type": "code",
   "execution_count": null,
   "id": "0cd71b7c",
   "metadata": {},
   "outputs": [],
   "source": [
    "inserer(4, lst)\n",
    "lst"
   ]
  },
  {
   "cell_type": "code",
   "execution_count": null,
   "id": "6106268c",
   "metadata": {},
   "outputs": [],
   "source": [
    "def tri_insertion(lst):\n",
    "    resultat = []\n",
    "    for e in lst:\n",
    "        inserer(e, resultat)\n",
    "    return resultat  # lst n'est pas modifiée !"
   ]
  },
  {
   "cell_type": "code",
   "execution_count": null,
   "id": "9c7b1c74",
   "metadata": {},
   "outputs": [],
   "source": [
    "une_liste = [5, 0, 7, 8, 6, 2, 4, 3, 1]\n",
    "tri_insertion(une_liste)"
   ]
  },
  {
   "cell_type": "markdown",
   "id": "dd120b67",
   "metadata": {},
   "source": [
    "### Version sur place"
   ]
  },
  {
   "cell_type": "markdown",
   "id": "0de94510",
   "metadata": {},
   "source": [
    "\n",
    "#### Algorithme\n",
    "\n",
    "Paramètre : `lst`\n",
    "\n",
    "Pour chaque indice `i` de 1 à `len(lst)-1`, on insère `lst[i]` « à la bonne place » parmi les éléments précédents"
   ]
  },
  {
   "cell_type": "markdown",
   "id": "f6df6e4c",
   "metadata": {},
   "source": [
    "**Insertion :** on procède en trois étapes\n",
    "\n",
    "- sauvegarder l'élément `e` à déplacer\n",
    "- décaler les éléments précédents plus grands que `e` d'une position vers la\n",
    "  droite\n",
    "- affecter la valeur de `e` à la destination"
   ]
  },
  {
   "cell_type": "markdown",
   "id": "aea76a2e",
   "metadata": {},
   "source": [
    "#### Correction\n",
    "\n",
    "**Invariant :** Après $k$ itérations, `lst[:`$k+1$`]` est triée\n",
    "\n",
    "En particulier, après la dernière itération, `lst` est triée"
   ]
  },
  {
   "cell_type": "markdown",
   "id": "4e5fff90",
   "metadata": {},
   "source": [
    "#### Implémentation"
   ]
  },
  {
   "cell_type": "code",
   "execution_count": null,
   "id": "254289bc",
   "metadata": {},
   "outputs": [],
   "source": [
    "def decalage(lst, i):\n",
    "    e = lst[i]  # on sauvegarde l'élément à déplacer\n",
    "    # on décale d'un cran les éléments précédents plus grands que e\n",
    "    k = i\n",
    "    while k > 0 and lst[k-1] > e:\n",
    "        lst[k] = lst[k-1]\n",
    "        k = k - 1\n",
    "    # on insèrer e en position k\n",
    "    lst[k] = e"
   ]
  },
  {
   "cell_type": "code",
   "execution_count": null,
   "id": "652e9ce1",
   "metadata": {},
   "outputs": [],
   "source": [
    "lst = [0, 2, 3, 1]\n",
    "decalage(lst, 3)\n",
    "lst"
   ]
  },
  {
   "cell_type": "code",
   "execution_count": null,
   "id": "3937436c",
   "metadata": {},
   "outputs": [],
   "source": [
    "lst = [0, 2, 3, -1]\n",
    "decalage(lst, 3)\n",
    "lst"
   ]
  },
  {
   "cell_type": "code",
   "execution_count": null,
   "id": "f41bd17e",
   "metadata": {},
   "outputs": [],
   "source": [
    "lst = [0, 2, 3, 5]\n",
    "decalage(lst, 3)\n",
    "lst"
   ]
  },
  {
   "cell_type": "code",
   "execution_count": null,
   "id": "7b656c59",
   "metadata": {},
   "outputs": [],
   "source": [
    "def tri_insertion(lst):\n",
    "    for i in range(1, len(lst)):\n",
    "        decalage(lst, i)\n",
    "    # WARNING : modifie lst, ne renvoie rien"
   ]
  },
  {
   "cell_type": "code",
   "execution_count": null,
   "id": "46b4c7ef",
   "metadata": {},
   "outputs": [],
   "source": [
    "une_liste = [5, 0, 7, 8, 6, 2, 4, 3, 1]\n",
    "tri_insertion(une_liste)  # ne renvoie rien !"
   ]
  },
  {
   "cell_type": "code",
   "execution_count": null,
   "id": "8af1e82d",
   "metadata": {},
   "outputs": [],
   "source": [
    "une_liste"
   ]
  },
  {
   "cell_type": "markdown",
   "id": "f888eba5",
   "metadata": {},
   "source": [
    "### Complexité (deux versions)\n",
    "  \n",
    "Pour chaque valeur de `i` entre 1 et $n$-1 :\n",
    "  \n",
    "- Entre 1 et $n$-`i`-1 comparaisons pour trouver l'indice d'insertion\n",
    "- Entre 0 et $n$-`i`-1 affectations pour décaler les éléments plus grands\n",
    "  \n",
    "Nombre de comparaisons ou d'affectations au pire (liste décroissante) :\n",
    "$$\n",
    "\\sum_{i=0}^{n-2} n-i-1 = \\sum_{i=1}^{n-1} i = \\frac{n(n-1)}{2} \\in O(n^2)\n",
    "$$\n",
    "\n",
    "Meilleur cas : $O(n)$ sur liste croissante (aucun décalage)"
   ]
  },
  {
   "cell_type": "markdown",
   "id": "2253900f",
   "metadata": {},
   "source": [
    "\n",
    "### Amélioration possible\n",
    "\n",
    "Chercher la position finale de chaque élément par dichotomie sur le début de la\n",
    "liste (ne change pas le nombre d'affectations nécessaire)\n",
    "  \n"
   ]
  },
  {
   "cell_type": "markdown",
   "id": "51166482",
   "metadata": {},
   "source": [
    "## Autres tris\n",
    "\n",
    "Les algorithmes de tri déjà présentés ont une complexité élevée ($O(n^2)$).\n",
    "On va voir maintenant des algorithmes plus performants :\n",
    "- le tri rapide\n",
    "- le tri par fusion"
   ]
  },
  {
   "cell_type": "markdown",
   "id": "bc7431ea",
   "metadata": {},
   "source": [
    "## Tri par pivot / tri rapide"
   ]
  },
  {
   "cell_type": "markdown",
   "id": "50bd70ca",
   "metadata": {
    "slideshow": {
     "slide_type": "skip"
    }
   },
   "source": [
    "*-- snip --*\n",
    "\n",
    "<!-- % -----------------------------------------------------------------------------\n",
    "\n",
    "    \\frametitle{Echauffement: le tri pair / impair}\n",
    "\n",
    "    \\item A titre d'échauffement, essayons de résoudre le problème suivant:\n",
    "\n",
    "  \\begin{probleme}[tri pair / impair]\\small\n",
    "    **Objectif:** une liste `lst` de naturels\\\\\n",
    "    **Données:** mettre les éléments pairs de `i` au début et les impairs à la fin\n",
    "  \\end{probleme}\n",
    "\n",
    "    \\item Comment résoudre ce problème de manière efficace?\n",
    "\n",
    "\n",
    "\n",
    "% TODO: il y a sûrement plusieurs options possibles, si d'autres options intermédiaires vous semblent intéressantes\n",
    "% d'un point de vue pédagogique, n'hésitez pas\n",
    "\n",
    "% -----------------------------------------------------------------------------\n",
    "\n",
    "    \\frametitle{Echauffement: le tri pair / impair}\n",
    "\n",
    "    \\item Une solution possible: parcourir la liste simultanément avec deux curseurs `len(lst)-1` et `n-i`\n",
    "    \\item Les deux curseurs progressent l'un vers l'autre au départ des extrémités\n",
    "    \\item A chaque fois qu'on tombe sur un couple (`i`, `n-i`) d'éléments mal placés, on les échange\n",
    "\n",
    "\\vfill\n",
    "    \\begin{center}\n",
    "\\begin{tikzpicture}\n",
    "\\tableau{16}{1};\n",
    "\\node (c1) at (0, -.5) {c1};\n",
    "\\node (c2) at (8, -.5) {c2};\n",
    "\n",
    "\\draw[>=stealth,->] (0,-0.25) to (3, -.25);\n",
    "\\draw[>=stealth,->] (8,-0.25) to (5, -.25);\n",
    "\\end{tikzpicture}\n",
    "    \\end{center}\n",
    "\n",
    "\n",
    "% Exemple à dérouler sur : [7, 7, 10, 0, 1, 0, 9, 9, 5, 10, 8, 5, 3, 10, 5, 0]\n",
    "\n",
    " \\frametitle{Le tri pair / impair en action}\n",
    "\n",
    "% \n",
    "%     \\item Avant de présenter l'algorithme, illustrons son action sur un exemple simple:\n",
    "\\begin{exemple}\n",
    "\\bigskip\n",
    "\\centering\n",
    "\\begin{tikzpicture}\n",
    "\\node (c1) at (0, -1) {curseur 1};\n",
    "\\node (c2) at (8, -1) {curseur 2};\n",
    "\n",
    "% Etapes pour les curseurs:\n",
    "\\only<1-2> {\n",
    "    \\draw[>=stealth,->] (c1) to (.25, -.05);\n",
    "    \\draw[>=stealth,->] (c2) to (7.75, -.05);\n",
    "}\n",
    "\n",
    "\\only<3-4> {\n",
    "    \\draw[>=stealth,->] (c1) to (.75, -.05);\n",
    "    \\draw[>=stealth,->] (c2) to (6.75, -.05);\n",
    "}\n",
    "\n",
    "\\only<5-6> {\n",
    "    \\draw[>=stealth,->] (c1) to (2.25, -.05);\n",
    "    \\draw[>=stealth,->] (c2) to (5.25, -.05);\n",
    "}\n",
    "\n",
    "\\only<7-8> {\n",
    "    \\draw[>=stealth,->] (c1) to (3.25, -.05);\n",
    "    \\draw[>=stealth,->] (c2) to (4.75, -.05);\n",
    "}\n",
    "\n",
    "\\only<9> {\n",
    "    \\draw[>=stealth,->] (c1) to (3.75, -.05);\n",
    "    \\draw[>=stealth,->] (c2) to (3.25, -.05);\n",
    "}\n",
    "\n",
    "% Affichage en vert des préfixes et suffixes auxquels on ne touchera plus:\n",
    "\\only<1>{\n",
    "    \\node[fill=red,opacity=.5,inner sep=7pt] at (0.25, 0.25) {};\n",
    "    \\node[fill=red,opacity=.5,inner sep=7pt] at (7.75, 0.25) {};\n",
    "}\n",
    "\n",
    "\\uncover<2->{\n",
    "    % préfixe\n",
    "    \\node[fill=green,opacity=.5,inner sep=7pt] at (0.25, 0.25) {};\n",
    "    % suffixe\n",
    "    \\node[fill=green,opacity=.5,inner sep=7pt] at (7.75, 0.25) {};\n",
    "}\n",
    "\n",
    "\\uncover<3->{\n",
    "    % préfixe\n",
    "    % suffixe\n",
    "    \\node[fill=green,opacity=.5,inner sep=7pt] at (7.25, 0.25) {};\n",
    "}\n",
    "\n",
    "\\only<3>{\n",
    "    \\node[fill=red,opacity=.5,inner sep=7pt] at (0.75, 0.25) {};\n",
    "    \\node[fill=red,opacity=.5,inner sep=7pt] at (6.75, 0.25) {};\n",
    "}\n",
    "\n",
    "\\uncover<4->{\n",
    "    % préfixe\n",
    "    \\foreach \\abscisse in {0.75}\n",
    "        \\node[fill=green,opacity=.5,inner sep=7pt] at (\\abscisse, 0.25) {};\n",
    "    % suffixe\n",
    "    \\foreach \\abscisse in {6.75}\n",
    "        \\node[fill=green,opacity=.5,inner sep=7pt] at (\\abscisse, 0.25) {};\n",
    "}\n",
    "\n",
    "\\uncover<5->{\n",
    "    % préfixe\n",
    "    \\foreach \\abscisse in {1.25, 1.75}\n",
    "        \\node[fill=green,opacity=.5,inner sep=7pt] at (\\abscisse, 0.25) {};\n",
    "    % suffixe\n",
    "    \\foreach \\abscisse in {6.25, 5.75}\n",
    "        \\node[fill=green,opacity=.5,inner sep=7pt] at (\\abscisse, 0.25) {};\n",
    "}\n",
    "\n",
    "\\only<5>{\n",
    "    \\node[fill=red,opacity=.5,inner sep=7pt] at (2.25, 0.25) {};\n",
    "    \\node[fill=red,opacity=.5,inner sep=7pt] at (5.25, 0.25) {};\n",
    "}\n",
    "\n",
    "\\uncover<6->{\n",
    "    % préfixe\n",
    "    \\foreach \\abscisse in {2.25}\n",
    "        \\node[fill=green,opacity=.5,inner sep=7pt] at (\\abscisse, 0.25) {};\n",
    "    % suffixe\n",
    "    \\foreach \\abscisse in {5.25}\n",
    "        \\node[fill=green,opacity=.5,inner sep=7pt] at (\\abscisse, 0.25) {};\n",
    "}\n",
    "\n",
    "\\only<7>{\n",
    "    \\node[fill=red,opacity=.5,inner sep=7pt] at (3.25, 0.25) {};\n",
    "    \\node[fill=red,opacity=.5,inner sep=7pt] at (4.75, 0.25) {};\n",
    "}\n",
    "\n",
    "\\uncover<7->{\n",
    "    % préfixe\n",
    "    \\foreach \\abscisse in {2.75}\n",
    "        \\node[fill=green,opacity=.5,inner sep=7pt] at (\\abscisse, 0.25) {};\n",
    "    % suffixe\n",
    "}\n",
    "\n",
    "\\uncover<8->{\n",
    "    % préfixe\n",
    "    \\foreach \\abscisse in {3.25}\n",
    "        \\node[fill=green,opacity=.5,inner sep=7pt] at (\\abscisse, 0.25) {};\n",
    "    % suffixe\n",
    "    \\foreach \\abscisse in {4.75}\n",
    "        \\node[fill=green,opacity=.5,inner sep=7pt] at (\\abscisse, 0.25) {};\n",
    "}\n",
    "\n",
    "\\uncover<9>{\n",
    "    \\foreach \\abscisse in {3.75, 4.25}\n",
    "        \\node[fill=green,opacity=.5,inner sep=7pt] at (\\abscisse, 0.25) {};\n",
    "}\n",
    "\n",
    "\n",
    "% Etapes pour le contenu :\n",
    "\\tableau{16}{1};\n",
    "\n",
    "\\only<1>{\n",
    "\\foreach[count=\\i] \\valeur in {7, 7, 10, 0, 1, 0, 9, 9, 5, 10, 8, 5, 3, 10, 5, 0}\n",
    "    \\node at (-0.25+\\i/2,0.25) {\\tiny \\valeur};\n",
    "}\n",
    "\n",
    "\\only<2-3>{\n",
    "\\foreach[count=\\i] \\valeur in {0, 7, 10, 0, 1, 0, 9, 9, 5, 10, 8, 5, 3, 10, 5, 7}\n",
    "    \\node at (-0.25+\\i/2,0.25) {\\tiny \\valeur};\n",
    "}\n",
    "\n",
    "\\only<4-5>{\n",
    "\\foreach[count=\\i] \\valeur in {0, 10, 10, 0, 1, 0, 9, 9, 5, 10, 8, 5, 3, 7, 5, 7}\n",
    "    \\node at (-0.25+\\i/2,0.25) {\\tiny \\valeur};\n",
    "}\n",
    "\n",
    "\\only<6-7>{\n",
    "\\foreach[count=\\i] \\valeur in {0, 10, 10, 0, 8, 0, 9, 9, 5, 10, 1, 5, 3, 7, 5, 7}\n",
    "    \\node at (-0.25+\\i/2,0.25) {\\tiny \\valeur};\n",
    "}\n",
    "\n",
    "\\only<8->{\n",
    "\\foreach[count=\\i] \\valeur in {0, 10, 10, 0, 8, 0, 10, 9, 5, 9, 1, 5, 3, 7, 5, 7}\n",
    "    \\node at (-0.25+\\i/2,0.25) {\\tiny \\valeur};\n",
    "}\n",
    "\n",
    "\\end{tikzpicture}\n",
    "\n",
    "\\end{exemple}\n",
    "\n",
    "\n",
    "\\item<9> L'algorithme s'arrête quand les curseurs se croisent\n",
    "\n",
    "\n",
    "\n",
    "\n",
    "% -----------------------------------------------------------------------------\n",
    "\n",
    "[fragile]\n",
    "    \\frametitle{Le tri pair / impair en Python}\n",
    "\n",
    "{\n",
    "\\scriptsize\n",
    "\\begin{pyframe}{}\n",
    "def pair_impair(lst):\n",
    "    curseur1, curseur2 = 0, len(lst) - 1\n",
    "    while curseur1 <= curseur2:\n",
    "        # repérer le premier élément impair en partant du début\n",
    "        while curseur1 <= curseur2 and lst[curseur1] % 2 == 0:\n",
    "            curseur1 += 1\n",
    "\n",
    "        # repérer le premier élément pair en partant de la fin\n",
    "        while curseur1 <= curseur2 and lst[curseur2] % 2 != 0:\n",
    "            curseur2 -= 1\n",
    "\n",
    "        # si nécessaire, procéder à l'échange\n",
    "        if curseur1 < curseur2:\n",
    "            lst[curseur1], lst[curseur2] = lst[curseur2], lst[curseur1]\n",
    "            curseur1 += 1\n",
    "            curseur2 -= 1\n",
    "\\end{pyframe}\n",
    "}\n",
    "\n",
    "\\item Complexité?  \\pause \\defterm{Temps $O(n)$, espace\n",
    "    $O(1)$}\n",
    "\n",
    "\n",
    "\n",
    "\n",
    "% -----------------------------------------------------------------------------\n",
    "\n",
    "\n",
    "    \\frametitle{Généralisation}\n",
    "\n",
    "    \\item On peut utiliser ce principe pour *trier* la liste\n",
    "    \\item Au lieu de se contenter de mettre les pairs au début et les\n",
    "      impairs à la fin, on peut mettre les éléments inférieurs à une\n",
    "      certaine valeur avant elle et les autres après elle\n",
    "    \\item Ce principe est à la base du *tri rapide*\n",
    "\n",
    "\n",
    "\n",
    "% ----------------------------------------------------------------------------- -->"
   ]
  },
  {
   "cell_type": "markdown",
   "id": "a81ddd5a",
   "metadata": {},
   "source": [
    "### Version créant une nouvelle liste"
   ]
  },
  {
   "cell_type": "markdown",
   "id": "f3a7d8c7",
   "metadata": {},
   "source": [
    "#### Algorithme\n",
    "\n",
    "**Paramètre :** liste `lst` de taille $n$\n",
    "\n",
    "Si `lst` contient un seul élément ou moins, en renvoyer une copie, sinon :\n",
    "\n",
    "- Sélectionner un *pivot*, c'est-à-dire une *valeur* `p` de référence dans la\n",
    "  liste (par exemple la première)\n",
    "\n",
    "- *Partitionner* `lst` en deux nouvelles listes `inf` et `sup` (ne contenant pas `p`)\n",
    "      \n",
    "  - `inf` contient toutes les valeurs inférieures ou égales à `p`\n",
    "  - `sup` contient toutes les valeurs strictement supérieures à `p`\n",
    "      \n",
    "- Trier *récursivement* `inf` et `sup` et renvoyer la concaténation des listes\n",
    "  obtenues, en plaçant `p` entre les deux"
   ]
  },
  {
   "cell_type": "markdown",
   "id": "88b62ca3",
   "metadata": {},
   "source": [
    "#### Terminaison\n",
    "\n",
    "Chaque appel récursif se fait sur une liste strictement plus courte, car le pivot n'est ajouté ni à `inf`, ni à `sup`"
   ]
  },
  {
   "cell_type": "markdown",
   "id": "b684a35b",
   "metadata": {},
   "source": [
    "#### Correction\n",
    "\n",
    "Par récurrence (complète) sur la taille de la liste à trier\n",
    "\n",
    "- si `lst` contient zéro ou un élément, elle est déjà triée\n",
    "- sinon, on suppose l'algorithme correct sur toute liste de longueur $< n$ :\n",
    "  - l'étape de partition sépare `lst` en `inf` et `sup` contenant au plus $n$-1\n",
    "    éléments\n",
    "  - par hypothèse de récurrence, l'étape de tri renvoie deux listes `inf'` et\n",
    "    `sup'` correctement triées\n",
    "  - tous les éléments de `inf'` sont inférieurs ou égaux à `p` et tous ceux de\n",
    "    `sup'` sont supérieurs à `p`\n",
    "  - donc `inf' + [p] + sup'` est correctement triée"
   ]
  },
  {
   "cell_type": "markdown",
   "id": "b080cb5b",
   "metadata": {},
   "source": [
    "#### Implémentation"
   ]
  },
  {
   "cell_type": "code",
   "execution_count": null,
   "id": "79079bda",
   "metadata": {},
   "outputs": [],
   "source": [
    "def partition(lst):\n",
    "    p = lst[0]\n",
    "    inf, sup = [], []\n",
    "    for i in range(1, len(lst)):\n",
    "        e = lst[i]\n",
    "        if e <= p:\n",
    "            inf.append(e)\n",
    "        else:\n",
    "            sup.append(e)\n",
    "    return p, inf, sup"
   ]
  },
  {
   "cell_type": "code",
   "execution_count": null,
   "id": "7ca62d87",
   "metadata": {},
   "outputs": [],
   "source": [
    "def tri_rapide(lst):\n",
    "    if len(lst) <= 1:\n",
    "        return lst.copy()  # WARNING : pas lst elle-même !\n",
    "    else:\n",
    "        p, inf, sup = partition(lst)\n",
    "        inf = tri_rapide(inf)\n",
    "        sup = tri_rapide(sup)\n",
    "        return inf + [p] + sup"
   ]
  },
  {
   "cell_type": "code",
   "execution_count": null,
   "id": "1939e57f",
   "metadata": {},
   "outputs": [],
   "source": [
    "une_liste = [5, 0, 7, 8, 6, 2, 4, 3, 1]\n",
    "tri_rapide(une_liste)"
   ]
  },
  {
   "cell_type": "code",
   "execution_count": null,
   "id": "14cc1930",
   "metadata": {},
   "outputs": [],
   "source": [
    "def tri_rapide(lst, alinea=0):  # version pour comprendre\n",
    "    if len(lst) <= 1:\n",
    "        return lst.copy()\n",
    "    else:\n",
    "        p, inf, sup = partition(lst)\n",
    "        print(\" \"*alinea, \"p :\", inf, p, sup)\n",
    "        inf = tri_rapide(inf, alinea+4)\n",
    "        sup = tri_rapide(sup, alinea+4)\n",
    "        print(\" \"*alinea, \"r :\", inf, p, sup)\n",
    "        return inf + [p] + sup"
   ]
  },
  {
   "cell_type": "code",
   "execution_count": null,
   "id": "f93e7f8c",
   "metadata": {},
   "outputs": [],
   "source": [
    "une_liste = [5, 0, 7, 8, 6, 2, 4, 3, 1]\n",
    "tri_rapide(une_liste)"
   ]
  },
  {
   "cell_type": "code",
   "execution_count": null,
   "id": "e836e655",
   "metadata": {},
   "outputs": [],
   "source": [
    "from callstats import CallRecorder\n",
    "\n",
    "@CallRecorder\n",
    "def tri_rapide(lst):\n",
    "    if len(lst) <= 1:\n",
    "        return lst.copy()  # WARNING : pas lst elle-même !\n",
    "    else:\n",
    "        p, inf, sup = partition(lst)\n",
    "        inf = tri_rapide(inf)\n",
    "        sup = tri_rapide(sup)\n",
    "        return inf + [p] + sup"
   ]
  },
  {
   "cell_type": "code",
   "execution_count": null,
   "id": "f5da6ae7",
   "metadata": {},
   "outputs": [],
   "source": [
    "une_liste = [5, 0, 7, 8, 6, 2, 4, 3, 1]\n",
    "call = tri_rapide(une_liste)\n",
    "call.graph()"
   ]
  },
  {
   "cell_type": "markdown",
   "id": "207be047",
   "metadata": {},
   "source": [
    "#### Complexité\n",
    "\n",
    "Calculer `partition(lst)` est en $O($`len(lst)`$)$ soit $O(n)$\n",
    "\n",
    "Calculer `inf + [p] + sup` est en $O($`len(inf)` $+$ `len(sup)` $+1)$ soit $O(n)$\n",
    "\n",
    "Donc le tri complet prend dans le pire cas :\n",
    "$$\n",
    "T(n) = \\max_{k=0}^{n-1} (T(k) + T(n-k-1) + O(n))\n",
    "$$\n",
    "où $k$ représente la taille de `inf`, qui varie entre 0 et $n-1$\n",
    "\n",
    "Cas particuliers (calculs admis) :\n",
    "- Le pire cas correspond à $k = 0$, et on obtient $T(n) \\in O(n^2)$\n",
    "- Le meilleur cas correspond à $k = n/2$, on obtient une complexité $O(n \\log n)$\n",
    "- En moyenne (liste aléatoire), on obtient aussi $O(n \\log n)$"
   ]
  },
  {
   "cell_type": "markdown",
   "id": "a179fb18",
   "metadata": {},
   "source": [
    "#### Inconvénients\n",
    "\n",
    "- Créer de nouvelles listes `inf` et `sup` à chaque appel consomme de la mémoire\n",
    "- Construire une nouvelle liste `inf + [p] + sup` à chaque appel consomme de la\n",
    "  mémoire et prend du temps"
   ]
  },
  {
   "cell_type": "markdown",
   "id": "84c3b3e4",
   "metadata": {},
   "source": [
    "### Version sur place <img src='img/warning.png' style='display:inline; width:1.5em'>\n",
    "\n",
    "**Idée :** faire l'étape de partitionnement sans créer de nouvelle liste"
   ]
  },
  {
   "cell_type": "markdown",
   "id": "7ef1397f",
   "metadata": {},
   "source": [
    "#### Algorithme "
   ]
  },
  {
   "cell_type": "markdown",
   "id": "f0e5348b",
   "metadata": {},
   "source": [
    "\n",
    "##### Partitionnement\n",
    "\n",
    "**Paramètres :** liste `lst`, indices `debut` et `fin`\n",
    "\n",
    "- On pose `p = lst[debut]`, `i = debut+1`, `j = fin`\n",
    "- Tant que les curseurs `i` et `j` ne se sont pas croisés : \n",
    "    - on fait avancer le curseur `i` jusqu'à un élément `> p`\n",
    "    - on fait reculer le curseur `j` jusqu'à un élément `<= p`\n",
    "    - si nécessaire, on intervertit les valeurs d'indices `i` et `j`\n",
    "- Enfin, on intervertit les valeurs d'indices `debut` (pivot) et `j` (dernière\n",
    "  valeur `<= p`)\n",
    "\n",
    "**Résultat :** position finale du pivot (`j`)"
   ]
  },
  {
   "cell_type": "markdown",
   "id": "a3ebead4",
   "metadata": {},
   "source": [
    "\n",
    "##### Tri\n",
    "\n",
    "**Paramètres :** liste `lst`, indices `debut` et `fin`\n",
    "\n",
    "Si `debut >= fin` on ne fait rien, sinon :\n",
    "- On partitionne `lst` entre `debut` et `fin` et on récupère la nouvelle\n",
    "  position `ip` du pivot\n",
    "- On trie récursivement `lst` entre `debut` et `ip - 1` puis entre `i_p + 1` et\n",
    "  `fin`"
   ]
  },
  {
   "cell_type": "markdown",
   "id": "116e9110",
   "metadata": {},
   "source": [
    "#### Terminaison (du partitionnement)\n",
    "\n",
    "À chaque itération, au moins l'un des deux curseurs progresse strictement"
   ]
  },
  {
   "cell_type": "markdown",
   "id": "51b13026",
   "metadata": {},
   "source": [
    "\n",
    "#### Correction\n",
    "\n",
    "**Partitionnement :** Après chaque itération,\n",
    "- `lst[debut+1:i]` contient seulement des valeurs `<= p`\n",
    "- `lst[j:fin+1]` contient seulement des valeurs `> p`\n",
    "\n",
    "En particulier, en fin de partitionnement, `lst[debut:j+1]` contient seulement\n",
    "des valeurs `<= p` et `lst[j+1:fin+1]` contient seulement des valeurs `> p`\n",
    "\n",
    "**Tri :** mêmes arguments que précédemment"
   ]
  },
  {
   "cell_type": "markdown",
   "id": "43e5c700",
   "metadata": {},
   "source": [
    "#### Implémentation"
   ]
  },
  {
   "cell_type": "code",
   "execution_count": null,
   "id": "c8fc3cf5",
   "metadata": {},
   "outputs": [],
   "source": [
    "def partition(lst, debut, fin):\n",
    "    p, i, j = lst[debut], debut+1, fin\n",
    "    while i <= j:\n",
    "        # i avance jusqu'à un élément grand (s'il existe)\n",
    "        while i <= j and lst[i] <= p: i += 1\n",
    "        # j recule jusqu'à un élément petit\n",
    "        while lst[j] > p:  j -= 1\n",
    "        if i < j:  # si nécessaire, échange\n",
    "            echange(lst, i, j)\n",
    "            i += 1\n",
    "            j -= 1\n",
    "    # on place le pivot à la frontière (si nécessaire)\n",
    "    if debut < j:\n",
    "        echange(lst, debut, j)\n",
    "    return j  # position finale du pivot"
   ]
  },
  {
   "cell_type": "code",
   "execution_count": null,
   "id": "37021394",
   "metadata": {},
   "outputs": [],
   "source": [
    "une_liste = [5, 0, 7, 8, 6, 2, 4, 3, 1]\n",
    "partition(une_liste, 0, len(une_liste)-1)"
   ]
  },
  {
   "cell_type": "code",
   "execution_count": null,
   "id": "0c6bd169",
   "metadata": {},
   "outputs": [],
   "source": [
    "une_liste"
   ]
  },
  {
   "cell_type": "code",
   "execution_count": null,
   "id": "f1728e21",
   "metadata": {},
   "outputs": [],
   "source": [
    "def partition_(lst, debut, fin):  # version pour comprendre\n",
    "    p, i, j = lst[debut], debut + 1, fin\n",
    "\n",
    "    while i <= j:\n",
    "        # i avance jusqu'à un élément grand (s'il existe)\n",
    "        while i <= j and lst[i] <= p: i += 1  \n",
    "        # j recule jusqu'à un élément petit\n",
    "        while lst[j] > p:  j -= 1\n",
    "        if i < j:  # si nécessaire, échange\n",
    "            print(f\"echange({i}, {j}) : {lst[i]} et {lst[j]}\")\n",
    "            echange(lst, i, j)\n",
    "            i += 1\n",
    "            j -= 1\n",
    "    # on place le pivot à la frontière (si nécessaire)\n",
    "    if debut < j:\n",
    "        print(f\"echange({debut}, {j}) : {lst[debut]} (pivot) et {lst[j]}\")\n",
    "        echange(lst, debut, j)\n",
    "    return j  # position finale du pivot"
   ]
  },
  {
   "cell_type": "code",
   "execution_count": null,
   "id": "512503a5",
   "metadata": {},
   "outputs": [],
   "source": [
    "une_liste = [5, 0, 7, 8, 6, 2, 4, 3, 1]\n",
    "partition_(une_liste, 0, len(une_liste)-1)"
   ]
  },
  {
   "cell_type": "code",
   "execution_count": null,
   "id": "3b2786c5",
   "metadata": {},
   "outputs": [],
   "source": [
    "une_liste"
   ]
  },
  {
   "cell_type": "code",
   "execution_count": null,
   "id": "15470a35",
   "metadata": {},
   "outputs": [],
   "source": [
    "def tri_pivot_aux(lst, debut, fin):\n",
    "    if debut < fin:\n",
    "        ip = partition(lst, debut, fin)\n",
    "        tri_pivot_aux(lst, debut, ip-1)\n",
    "        tri_pivot_aux(lst, ip+1, fin)\n",
    "\n",
    "def tri_pivot(lst):\n",
    "    tri_pivot_aux(lst, 0, len(lst)-1)"
   ]
  },
  {
   "cell_type": "code",
   "execution_count": null,
   "id": "f8316cae",
   "metadata": {},
   "outputs": [],
   "source": [
    "une_liste = [5, 0, 7, 8, 6, 2, 4, 3, 1]\n",
    "tri_pivot(une_liste)"
   ]
  },
  {
   "cell_type": "code",
   "execution_count": null,
   "id": "0bc32b0a",
   "metadata": {},
   "outputs": [],
   "source": [
    "une_liste"
   ]
  },
  {
   "cell_type": "markdown",
   "id": "f69664ae",
   "metadata": {},
   "source": [
    "#### Avantages\n",
    "\n",
    "Consommation mémoire moindre grâce au partitionnement sur place\n",
    "\n",
    "Coût en temps moindre (inutile de rassembler les sous-listes après les appels récursifs)\n",
    "\n",
    "**Mais :** toujours $O(n^2)$ au pire (quand la liste est déjà triée ou presque) !! \n",
    "\n",
    "**Problème :** cas fréquent en pratique... (au moins) 2 solutions :\n",
    "\n",
    "- Mélanger la liste avant de commencer (`random.shuffle`, détails à suivre)\n",
    "- Choisir un pivot au hasard avant de partitionner\n",
    "\n",
    "On peut montrer qu'un temps de calcul proche de $n^2$ devient *extrêmement peu probable* "
   ]
  },
  {
   "cell_type": "code",
   "execution_count": null,
   "id": "386abfc3",
   "metadata": {},
   "outputs": [],
   "source": [
    "from random import shuffle\n",
    "\n",
    "def tri_pivot(lst):\n",
    "    shuffle(lst)\n",
    "    tri_pivot_aux(lst, 0, len(lst)-1)"
   ]
  },
  {
   "cell_type": "markdown",
   "id": "5287d34f",
   "metadata": {
    "slideshow": {
     "slide_type": "skip"
    }
   },
   "source": [
    "*-- snip --*\n",
    "\n",
    "<!-- \\begin{exemple}\n",
    "\\centering\n",
    "\\begin{tikzpicture}\n",
    "\\visible<1-5> {\n",
    "  \\node (c1) at (0, -1) {curseur 1};\n",
    "  \\node (c2) at (4, -1) {curseur 2};\n",
    "}\n",
    "\n",
    "% Etapes pour les curseurs:\n",
    "\\only<1> {\n",
    "    \\draw[>=stealth,->] (c1) to (.75, -.05);\n",
    "    \\draw[>=stealth,->] (c2) to (3.75, -.05);\n",
    "}\n",
    "\n",
    "\\only<2-3> {\n",
    "    \\draw[>=stealth,->] (c1) to (1.75, -.05);\n",
    "    \\draw[>=stealth,->] (c2) to (3.25, -.05);\n",
    "}\n",
    "\n",
    "\\only<4-5> {\n",
    "    \\draw[>=stealth,->] (c1) to (2.25, -.05);\n",
    "    \\draw[>=stealth,->] (c2) to (1.75, -.05);\n",
    "}\n",
    "\n",
    "\\only<1-4>{\n",
    "    %pivot\n",
    "    \\node[fill=blue,opacity=.5,inner sep=7pt] at (0.25, 0.25) {};\n",
    "}\n",
    "\n",
    "% Affichage en vert des préfixes et suffixes auxquels on ne touchera plus:\n",
    "\\only<2-4>{\n",
    "    % préfixe\n",
    "    \\foreach \\abscisse in {0.75, 1.25}\n",
    "        \\node[fill=green,opacity=.5,inner sep=7pt] at (\\abscisse, 0.25) {};\n",
    "    % suffixe\n",
    "    \\foreach \\abscisse in {3.75}\n",
    "        \\node[fill=green,opacity=.5,inner sep=7pt] at (\\abscisse, 0.25) {};\n",
    "}\n",
    "\n",
    "\\only<3>{\n",
    "    % échange\n",
    "    \\foreach \\abscisse in {1.75, 3.25}\n",
    "        \\node[fill=red,opacity=.5,inner sep=7pt] at (\\abscisse, 0.25) {};\n",
    "}\n",
    "\n",
    "\n",
    "\\only<4>{\n",
    "    \\foreach \\abscisse in {1.75, 2.25, 2.75, 3.25}\n",
    "        \\node[fill=green,opacity=.5,inner sep=7pt] at (\\abscisse, 0.25) {};\n",
    "}\n",
    "\n",
    "% Placement du pivot\n",
    "\n",
    "\\only<5> {\n",
    "  \\node[fill=red,opacity=.5,inner sep=7pt] at (0.25, 0.25) {};\n",
    "  \\node[fill=blue,opacity=.5,inner sep=7pt] at (1.75, 0.25) {};\n",
    "}\n",
    "\\only<6> {\n",
    "  \\node[fill=blue,opacity=.5,inner sep=7pt] at (1.75, 0.25) {};\n",
    "}\n",
    "\n",
    "% Etapes pour le contenu:\n",
    "\\tableau{8}{1};\n",
    "\n",
    "\\only<1-2>{\n",
    "\\foreach[count=\\i] \\valeur in {3, 2, 1, 6, 4, 7, 2, 5}\n",
    "    \\node at (-0.25+\\i/2,0.25) {\\tiny \\valeur};\n",
    "}\n",
    "\n",
    "\\only<3-4>{\n",
    "\\foreach[count=\\i] \\valeur in {3, 2, 1, 2, 4, 7, 6, 5}\n",
    "    \\node at (-0.25+\\i/2,0.25) {\\tiny \\valeur};\n",
    "}\n",
    "\n",
    "\\only<5->{\n",
    "\\foreach[count=\\i] \\valeur in {2, 2, 1, 3, 4, 7, 6, 5}\n",
    "    \\node at (-0.25+\\i/2,0.25) {\\tiny \\valeur};\n",
    "}\n",
    "\n",
    "\\end{tikzpicture}\n",
    "\\end{exemple} -->"
   ]
  },
  {
   "cell_type": "markdown",
   "id": "9ff737b8",
   "metadata": {},
   "source": [
    "### Conclusion sur le tri par pivot\n",
    "\n",
    "Algorithme mauvais dans le pire cas (probabilité faible), mais très efficace en pratique"
   ]
  },
  {
   "cell_type": "markdown",
   "id": "f7b7adc1",
   "metadata": {},
   "source": [
    "## Tri par fusion\n",
    "\n",
    "Ce tri se décrit plus facilement en créant une nouvelle liste\n",
    "\n",
    "### Algorithme (tri)\n",
    "\n",
    "**Paramètre :** liste `lst`\n",
    "\n",
    "Si `lst` contient 0 ou 1 élément, on en renvoie une copie. Sinon :\n",
    "- On divise `lst` en deux listes de tailles à peu près égales\n",
    "- On trie les deux sous-listes\n",
    "- On fusionne les résultats en une seule liste\n"
   ]
  },
  {
   "cell_type": "markdown",
   "id": "39740b9b",
   "metadata": {},
   "source": [
    "\n",
    "<img src='img/fusion.png'>"
   ]
  },
  {
   "cell_type": "markdown",
   "id": "ad06eefa",
   "metadata": {},
   "source": [
    "### Algorithme (fusion)\n",
    "\n",
    "**Paramètres :** listes triées `lst1`, `lst2`\n",
    "\n",
    "On utilise deux curseurs `i` et `j` parcourant `lst1` et `lst2` en parallèle\n",
    "dans le même sens, et on initialise une liste vide `resultat`\n",
    "- À chaque étape, on ajoute `min(lst1[i], lst2[j])` en fin de `resultat`\n",
    "- Si une des listes est épuisée on recopie la fin de l'autre dans `resultat`"
   ]
  },
  {
   "cell_type": "markdown",
   "id": "104d1730",
   "metadata": {},
   "source": [
    "### Terminaison\n",
    "\n",
    "Chaque appel récursif à l'algorithme de tri se fait sur une liste strictement plus courte, car `lst` contient au moins deux éléments et on la coupe (à peu près) au milieu"
   ]
  },
  {
   "cell_type": "markdown",
   "id": "5c7fd23d",
   "metadata": {},
   "source": [
    "### Correction"
   ]
  },
  {
   "cell_type": "markdown",
   "id": "7bb5e900",
   "metadata": {},
   "source": [
    "\n",
    "#### Fusion\n",
    "\n",
    "**Invariant (boucle `while`):** `resultat` contient les `i + j` plus petits éléments de la\n",
    "réunion de `lst1` et `lst2`, dans l'ordre croissant\n",
    "\n",
    "Preuve : par récurrence sur le nombre d'itérations en utilisant le fait que\n",
    "`lst1` et `lst2` sont triées\n",
    "\n",
    "Après la sortie du `while`, l'une des deux listes est épuisée, l'autre contient\n",
    "uniquement des éléments plus grands que ceux de `resultat`. Donc seul l'une des instructions `extend` a un effet, et elle conserve la propriété que `resultat` est triée\n",
    "\n",
    "En fin d'algo, `resultat` contient bien tous les éléments de `lst1` et `lst2`\n",
    "dans l'ordre croissant"
   ]
  },
  {
   "cell_type": "markdown",
   "id": "1b477971",
   "metadata": {},
   "source": [
    "\n",
    "#### Algorithme principal\n",
    "\n",
    "Par récurrence (complète) sur la taille de la liste à trier, en supposant\n",
    "l'étape de fusion correcte\n",
    "\n",
    "- si `lst` contient zéro ou un élément, elle est déjà triée\n",
    "- sinon, on suppose l'algorithme correct sur toute liste de longueur $< n$ :\n",
    "  - on sépare `lst` en deux listes strictement plus courtes contenant tous les\n",
    "    éléments de `lst`\n",
    "  - par hypothèse de récurrence, l'étape de tri renvoie deux listes correctement\n",
    "    triées\n",
    "  - par correction de l'agorithme de fusion, le résultat est correctement trié"
   ]
  },
  {
   "cell_type": "markdown",
   "id": "b8a23785",
   "metadata": {},
   "source": [
    "### Implémentation possible"
   ]
  },
  {
   "cell_type": "code",
   "execution_count": null,
   "id": "9ddbdfa6",
   "metadata": {},
   "outputs": [],
   "source": [
    "def fusionner(lst1, lst2):\n",
    "    i, j, resultat = 0, 0, []\n",
    "    while i < len(lst1) and j < len(lst2):\n",
    "        if lst1[i] <= lst2[j]:\n",
    "            resultat.append(lst1[i])\n",
    "            i += 1\n",
    "        else:\n",
    "            resultat.append(lst2[j])\n",
    "            j += 1\n",
    "    resultat.extend(lst1[i:])\n",
    "    resultat.extend(lst2[j:])\n",
    "    return resultat"
   ]
  },
  {
   "cell_type": "code",
   "execution_count": null,
   "id": "557aa27f",
   "metadata": {},
   "outputs": [],
   "source": [
    "fusionner([0, 2, 3, 5, 7, 8], [1, 4, 6])"
   ]
  },
  {
   "cell_type": "code",
   "execution_count": null,
   "id": "3cab7ad2",
   "metadata": {},
   "outputs": [],
   "source": [
    "def tri_fusion(lst):\n",
    "    n = len(lst)\n",
    "    if n <= 1:\n",
    "        return lst.copy()\n",
    "    else:\n",
    "        i = n // 2\n",
    "        lst1, lst2 = lst[:i], lst[i:]\n",
    "        lst1 = tri_fusion(lst1)\n",
    "        lst2 = tri_fusion(lst2)\n",
    "        return fusionner(lst1, lst2)"
   ]
  },
  {
   "cell_type": "code",
   "execution_count": null,
   "id": "9140aaf5",
   "metadata": {},
   "outputs": [],
   "source": [
    "une_liste = [5, 0, 7, 8, 6, 2, 4, 3, 1]\n",
    "tri_fusion(une_liste)"
   ]
  },
  {
   "cell_type": "code",
   "execution_count": null,
   "id": "dbe084d2",
   "metadata": {},
   "outputs": [],
   "source": [
    "def tri_fusion(lst, alinea=0):\n",
    "    n = len(lst)\n",
    "    if n <= 1:\n",
    "        return lst.copy()\n",
    "    else:\n",
    "        i = n // 2\n",
    "        print(\" \"*alinea, \"--- début\")\n",
    "        print(\" \"*alinea, \"lst :      \", lst)\n",
    "        lst1, lst2 = lst[:i], lst[i:]\n",
    "        print(\" \"*alinea, \"découpe :  \", lst1, lst2)\n",
    "        lst1 = tri_fusion(lst1, alinea+4)\n",
    "        lst2 = tri_fusion(lst2, alinea+4)\n",
    "        print(\" \"*alinea, \"après tri :\", lst1, lst2)\n",
    "        res = fusionner(lst1, lst2)\n",
    "        print(\" \"*alinea, \"res :      \", res)\n",
    "        print(\" \"*alinea, \"--- fin\")\n",
    "        return res"
   ]
  },
  {
   "cell_type": "code",
   "execution_count": null,
   "id": "7a400597",
   "metadata": {},
   "outputs": [],
   "source": [
    "une_liste = [5, 0, 7, 8, 6, 2, 4, 3, 1]\n",
    "tri_fusion(une_liste)"
   ]
  },
  {
   "cell_type": "code",
   "execution_count": null,
   "id": "a99253cb",
   "metadata": {},
   "outputs": [],
   "source": [
    "from callstats import CallRecorder\n",
    "\n",
    "@CallRecorder\n",
    "def tri_fusion(lst):\n",
    "    n = len(lst)\n",
    "    if n <= 1:\n",
    "        return lst.copy()\n",
    "    else:\n",
    "        i = n // 2\n",
    "        lst1, lst2 = lst[:i], lst[i:]\n",
    "        lst1 = tri_fusion(lst1)\n",
    "        lst2 = tri_fusion(lst2)\n",
    "        return fusionner(lst1, lst2)"
   ]
  },
  {
   "cell_type": "code",
   "execution_count": null,
   "id": "cb6d0295",
   "metadata": {},
   "outputs": [],
   "source": [
    "une_liste = [5, 0, 7, 8, 6, 2, 4, 3, 1]\n",
    "call = tri_fusion(une_liste)\n",
    "call.graph()"
   ]
  },
  {
   "cell_type": "markdown",
   "id": "438c0f48",
   "metadata": {},
   "source": [
    "#### Complexité\n",
    "\n",
    "Coût de la séparation de `lst` : $O($`len(lst)`$)$\n",
    "\n",
    "Coût de la fusion de `lst1` et `lst2` : $O($`len(lst1)`$+$`len(lst2)`$)$\n",
    "\n",
    "À chaque « étage » de récursion la somme des longueurs des listes manipulées est la même ($n$), donc le coût total par « étage » est $O(n)$\n",
    "\n",
    "Comme un divise la taille des listes par deux à chaque étape et qu'on s'arrête quand une liste est de taille 0 ou 1, le nombre d'« étages » est au plus $\\lfloor\\log_2 n\\rfloor+1$\n",
    "\n",
    "Complexité totale : $O(n \\log n)$\n",
    "\n"
   ]
  },
  {
   "cell_type": "markdown",
   "id": "52fff768",
   "metadata": {},
   "source": [
    "### Bilan\n",
    "\n",
    "On peut montrer que cet algorithme est **optimal**\n",
    "- dans ce modèle de calcul\n",
    "- sans autre hypothèse sur `lst`\n",
    "- asymptotiquement\n",
    "- dans le pire cas\n",
    "\n",
    "En pratique, il utilise plus de mémoire que le tri rapide, et peut être un peu plus lent en moyenne\n",
    "\n",
    "C'est un tri *stable* (des éléments égaux de `lst` restent dans le même ordre dans le résultat), contrairement au tri rapide\n",
    "\n",
    "Plusieurs variantes possibles"
   ]
  },
  {
   "cell_type": "markdown",
   "id": "3ec06693",
   "metadata": {},
   "source": [
    "## Le tri de Python\n",
    "\n",
    "Méthode `sort` : tri sur place de liste\n",
    "\n",
    "- Algo hybride entre tri par fusion et tri par insertion (*Timsort*)\n",
    "- Stable, $O(n \\log n)$ en temps (au pire et en moyenne), $O(n)$ en espace\n",
    "- Utilisé par d'autres langages de programmation (par ex. Java)\n",
    "- **Attention :** trie sur place, ne renvoie pas de liste !\n",
    "- Possibilité de trier selon un critère donné (`key=f`), ou à l'envers (`reverse=True`)\n",
    "\n",
    "Variante sans modification de la liste : fonction `sorted`"
   ]
  },
  {
   "cell_type": "code",
   "execution_count": null,
   "id": "dc52cadd",
   "metadata": {},
   "outputs": [],
   "source": [
    "lst = [\"Chennai\", \"Mumbai\", \"Kochi\", \"Delhi\", \"Calcutta\", \"Amritsar\"]\n",
    "lst.sort()\n",
    "lst"
   ]
  },
  {
   "cell_type": "code",
   "execution_count": null,
   "id": "bf2c5ca9",
   "metadata": {},
   "outputs": [],
   "source": [
    "lst.sort(reverse=True)\n",
    "lst"
   ]
  },
  {
   "cell_type": "code",
   "execution_count": null,
   "id": "6d0ce303",
   "metadata": {},
   "outputs": [],
   "source": [
    "lst.sort(key=len)\n",
    "lst"
   ]
  },
  {
   "cell_type": "code",
   "execution_count": null,
   "id": "e3884a43",
   "metadata": {},
   "outputs": [],
   "source": [
    "def derniere_lettre(s):\n",
    "   return s[-1]\n",
    "\n",
    "sorted(lst, key=derniere_lettre)"
   ]
  },
  {
   "cell_type": "markdown",
   "id": "e6859e95",
   "metadata": {},
   "source": [
    "## Variations autour du tri"
   ]
  },
  {
   "cell_type": "markdown",
   "id": "fd225ba3",
   "metadata": {},
   "source": [
    "### Mélange de liste\n",
    "\n",
    "On a vu comment trier une liste, mais comment la mélanger uniformément (même probabilité pour chaque mélange) ?"
   ]
  },
  {
   "cell_type": "markdown",
   "id": "e3552978",
   "metadata": {},
   "source": [
    "#### Première tentative"
   ]
  },
  {
   "cell_type": "code",
   "execution_count": null,
   "id": "8bed8391",
   "metadata": {},
   "outputs": [],
   "source": [
    "from random import randrange\n",
    "\n",
    "def melange(lst):\n",
    "    lst = lst.copy()\n",
    "    for i in range(len(lst)):\n",
    "        k = randrange(len(lst))\n",
    "        echange(lst, i, k)\n",
    "    return lst"
   ]
  },
  {
   "cell_type": "code",
   "execution_count": null,
   "id": "219d1cd3",
   "metadata": {},
   "outputs": [],
   "source": [
    "from itertools import permutations\n",
    "\n",
    "lst = [1, 2, 3]\n",
    "perms = list(permutations(lst))"
   ]
  },
  {
   "cell_type": "code",
   "execution_count": null,
   "id": "2fe8ecab",
   "metadata": {},
   "outputs": [],
   "source": [
    "n = 100000\n",
    "tmp = [melange(lst) for _ in range(n)]\n",
    "counts = [tmp.count(list(p)) for p in perms]\n",
    "counts"
   ]
  },
  {
   "cell_type": "code",
   "execution_count": null,
   "id": "7148c649",
   "metadata": {},
   "outputs": [],
   "source": [
    "from matplotlib import pyplot as plt\n",
    "\n",
    "fig, ax = plt.subplots()\n",
    "ax.bar(list(map(str, perms)), counts)\n",
    "ax.xaxis.set_tick_params(rotation=90)"
   ]
  },
  {
   "cell_type": "markdown",
   "id": "1f6ad1e0",
   "metadata": {},
   "source": [
    "**Exercice :** Quelle est la fréquence d'apparition de chaque résultat possible sur une liste de longueur 3 ?"
   ]
  },
  {
   "cell_type": "code",
   "execution_count": null,
   "id": "89cb9056",
   "metadata": {},
   "outputs": [],
   "source": [
    "def melanges(lst):\n",
    "    res = [lst]\n",
    "    for i in range(len(lst)):\n",
    "        res2 = []\n",
    "        for lst2 in res:\n",
    "            for k in range(len(lst)):\n",
    "                lst3 = lst2.copy()\n",
    "                echange(lst3, i, k)\n",
    "                res2.append(lst3)\n",
    "        res = res2\n",
    "    return res"
   ]
  },
  {
   "cell_type": "code",
   "execution_count": null,
   "id": "bcc61698",
   "metadata": {},
   "outputs": [],
   "source": [
    "tmp = melanges(lst)\n",
    "perms = list(permutations(lst))\n",
    "counts = [tmp.count(list(p)) for p in perms]\n",
    "counts"
   ]
  },
  {
   "cell_type": "code",
   "execution_count": null,
   "id": "1a4ff220",
   "metadata": {},
   "outputs": [],
   "source": [
    "from matplotlib import pyplot as plt\n",
    "\n",
    "fig, ax = plt.subplots()\n",
    "ax.bar(list(map(str, perms)), counts)\n",
    "ax.xaxis.set_tick_params(rotation=90)"
   ]
  },
  {
   "cell_type": "markdown",
   "id": "41edfcfa",
   "metadata": {},
   "source": [
    "Cet algorithme de mélange est **incorrect !** (non uniforme)\n",
    "\n",
    "- Nombre de permutations possibles : $n!$\n",
    "- Nombre d'exécutions possibles de l'algorithme : $n^n$ (beaucoup plus)\n",
    "- $n^n$ non divisible par $n!$ en général $\\rightarrow$ répartition égale impossible\n"
   ]
  },
  {
   "cell_type": "markdown",
   "id": "478c8ab6",
   "metadata": {},
   "source": [
    "#### Nouvelle tentative"
   ]
  },
  {
   "cell_type": "code",
   "execution_count": null,
   "id": "8e1f9a22",
   "metadata": {},
   "outputs": [],
   "source": [
    "def melange(lst):\n",
    "    lst = lst.copy()\n",
    "    for i in range(len(lst)-1):\n",
    "        k = randrange(i, len(lst))  # changement ici !\n",
    "        echange(lst, i, k)\n",
    "    return lst"
   ]
  },
  {
   "cell_type": "code",
   "execution_count": null,
   "id": "3f12d490",
   "metadata": {},
   "outputs": [],
   "source": [
    "lst = [1, 2, 3, 4]\n",
    "perms = list(permutations(lst))"
   ]
  },
  {
   "cell_type": "code",
   "execution_count": null,
   "id": "2757a580",
   "metadata": {},
   "outputs": [],
   "source": [
    "n = 100000\n",
    "tmp = [melange(lst) for _ in range(n)]\n",
    "counts = [tmp.count(list(p)) for p in perms]"
   ]
  },
  {
   "cell_type": "code",
   "execution_count": null,
   "id": "38af0161",
   "metadata": {},
   "outputs": [],
   "source": [
    "from matplotlib import pyplot as plt\n",
    "\n",
    "fig, ax = plt.subplots()\n",
    "ax.bar(list(map(str, perms)), counts)\n",
    "ax.xaxis.set_tick_params(rotation=90)"
   ]
  },
  {
   "cell_type": "markdown",
   "id": "65145f8e",
   "metadata": {},
   "source": [
    "**Exercice :** Quelle est la fréquence d'apparition de chaque résultat possible sur une liste de longueur 3 ?"
   ]
  },
  {
   "cell_type": "code",
   "execution_count": null,
   "id": "87dffe95",
   "metadata": {},
   "outputs": [],
   "source": [
    "def melanges(lst):\n",
    "    res = [lst]\n",
    "    for i in range(len(lst)):\n",
    "        res2 = []\n",
    "        for lst2 in res:\n",
    "            for k in range(i, len(lst)):\n",
    "                lst3 = lst2.copy()\n",
    "                echange(lst3, i, k)\n",
    "                res2.append(lst3)\n",
    "        res = res2\n",
    "    return res"
   ]
  },
  {
   "cell_type": "code",
   "execution_count": null,
   "id": "40416161",
   "metadata": {},
   "outputs": [],
   "source": [
    "tmp = melanges(lst)\n",
    "perms = list(permutations(lst))\n",
    "counts = [tmp.count(list(p)) for p in perms]"
   ]
  },
  {
   "cell_type": "code",
   "execution_count": null,
   "id": "fb373d73",
   "metadata": {},
   "outputs": [],
   "source": [
    "from matplotlib import pyplot as plt\n",
    "\n",
    "fig, ax = plt.subplots()\n",
    "ax.bar(list(map(str, perms)), counts)\n",
    "ax.xaxis.set_tick_params(rotation=90)"
   ]
  },
  {
   "cell_type": "markdown",
   "id": "9b9f586e",
   "metadata": {},
   "source": [
    "### Recherche de la médiane\n",
    "\n",
    "Étant donnée une liste `lst` de $n$ éléments comparables, on cherche un élément médian de `lst`\n",
    "\n",
    "(*Élément médian :* autants d'éléments inférieurs que supérieurs dans `lst`, à 1 près)\n",
    "\n",
    "**Plus généralement :** on cherche le $k$-e plus petit élément de `lst`"
   ]
  },
  {
   "cell_type": "markdown",
   "id": "72b359ba",
   "metadata": {},
   "source": [
    "#### Algorithmes naïfs"
   ]
  },
  {
   "cell_type": "markdown",
   "id": "339aa32f",
   "metadata": {},
   "source": [
    "**Idée 1 :** On trie partiellement jusqu'à avoir les $k$ plus petits éléments (et on renvoie le plus grand)\n",
    "- tri à bulle : on fait \"remonter la bulle\" $k$ fois\n",
    "- tri par sélection : on cherche le plus petit élément $k$ fois\n",
    "- tri par insertion : on trie en ne mémorisant que les $k$ plus petits éléments\n",
    "\n",
    "*Note :* cette idée résoud en fait un problème plus général, celui de trouver les $k$ plus petits éléments de `lst` (lien avec le programme de NSI : problème des $k$ plus proches voisins)\n",
    "\n",
    "*Problème :* pas très efficace avec ces algorithmes... ($O(nk)$)"
   ]
  },
  {
   "cell_type": "markdown",
   "id": "6f50cadc",
   "metadata": {},
   "source": [
    "\n",
    "**Idée 2 :** On trie la liste entière avec un algorithme efficace et on prend l'élément d'indice $k-1$\n",
    "\n",
    "Complexité acceptable, mais peut-on faire mieux ?"
   ]
  },
  {
   "cell_type": "markdown",
   "id": "9eeb7da1",
   "metadata": {},
   "source": [
    "#### Algorithme efficace : « sélection rapide »"
   ]
  },
  {
   "cell_type": "markdown",
   "id": "9882e6a0",
   "metadata": {},
   "source": [
    "Inspiré du tri rapide\n",
    "\n",
    "**Idée :** On partitionne la liste, puis on ne s'intéresse qu'au côté qui contient le $k$-e plus petit élément (et on ne trie pas l'autre côté)"
   ]
  },
  {
   "cell_type": "code",
   "execution_count": null,
   "id": "cf938384",
   "metadata": {},
   "outputs": [],
   "source": [
    "from random import randint\n",
    "\n",
    "def plus_petit(lst, k):\n",
    "    debut = 0\n",
    "    fin = len(lst)-1\n",
    "    while True:\n",
    "        p = partition(lst, debut, fin)\n",
    "        if p == k:\n",
    "            return lst[k]\n",
    "        elif p < k:\n",
    "            debut = p+1\n",
    "        else:\n",
    "            fin = p-1"
   ]
  },
  {
   "cell_type": "code",
   "execution_count": null,
   "id": "993e62f8",
   "metadata": {},
   "outputs": [],
   "source": [
    "lst = [3, 1, 7, 8, 4, 2, 9, 0, 5, 6]\n",
    "plus_petit(lst, 3)"
   ]
  },
  {
   "cell_type": "markdown",
   "id": "0a907508",
   "metadata": {},
   "source": [
    "**Complexité :** $O(n)$ en temps (en moyenne !) et $O(1)$ en espace\n",
    "\n",
    "(Et au pire ?)"
   ]
  }
 ],
 "metadata": {
  "kernelspec": {
   "display_name": "Python 3 (ipykernel)",
   "language": "python",
   "name": "python3"
  },
  "language_info": {
   "codemirror_mode": {
    "name": "ipython",
    "version": 3
   },
   "file_extension": ".py",
   "mimetype": "text/x-python",
   "name": "python",
   "nbconvert_exporter": "python",
   "pygments_lexer": "ipython3",
   "version": "3.10.7"
  }
 },
 "nbformat": 4,
 "nbformat_minor": 5
}
