{
 "cells": [
  {
   "cell_type": "code",
   "execution_count": 2,
   "metadata": {
    "slideshow": {
     "slide_type": "skip"
    }
   },
   "outputs": [],
   "source": [
    "# dé-commenter cette ligne si nbtutor n'est pas installé\n",
    "%load_ext nbtutor"
   ]
  },
  {
   "cell_type": "code",
   "execution_count": 3,
   "metadata": {
    "slideshow": {
     "slide_type": "skip"
    }
   },
   "outputs": [
    {
     "data": {
      "text/html": [
       "<style>.defterm {\n",
       "  font-weight: bold;\n",
       "  color: red;\n",
       "}\n",
       "\n",
       "span.remarque {\n",
       "\tcolor: grey;\n",
       "}\n",
       "\n",
       "span.footnote {\n",
       "\tcolor: darkgray;\n",
       "}\n",
       "\n",
       "table.centered td, table.centered th {\n",
       "\ttext-align: center;\n",
       "}\n",
       "\n",
       "div.rounded {\n",
       "\tmargin: 2px;\n",
       "\tpadding: 2px;\n",
       "\tborder-radius: 5px;\t\n",
       "}\n",
       "\n",
       "div.rounded.pink {\n",
       "\tbackground-color: pink;\n",
       "}\n",
       "\n",
       "div.rounded.blue {\n",
       "\tbackground-color: lightblue;\n",
       "}\n",
       "\n",
       "div.rounded.green {\n",
       "\tbackground-color: lightgreen;\n",
       "}</style>"
      ],
      "text/plain": [
       "<IPython.core.display.HTML object>"
      ]
     },
     "execution_count": 3,
     "metadata": {},
     "output_type": "execute_result"
    }
   ],
   "source": [
    "from IPython.core.display import HTML\n",
    "\n",
    "def _set_css_style(css_file_path):\n",
    "   \"\"\"\n",
    "   Read the custom CSS file and load it into Jupyter.\n",
    "   Pass the file path to the CSS file.\n",
    "   \"\"\"\n",
    "\n",
    "   styles = open(css_file_path, \"r\").read()\n",
    "   s = '<style>%s</style>' % styles     \n",
    "   return HTML(s)\n",
    "\n",
    "_set_css_style('custom/custom.css')"
   ]
  },
  {
   "cell_type": "markdown",
   "metadata": {
    "slideshow": {
     "slide_type": "slide"
    }
   },
   "source": [
    "<div style='width:20em'><img src='img/logo-igm.png'></div>\n",
    "<div style='font-size:larger'><strong>Algorithmique et programmation 2</strong><br>\n",
    "L1 Mathématiques - L1 Informatique<br>\n",
    "Semestre 2\n",
    "</div>\n",
    "\n",
    "# Récursivité"
   ]
  },
  {
   "cell_type": "markdown",
   "metadata": {
    "slideshow": {
     "slide_type": "slide"
    }
   },
   "source": [
    "## Appels de fonctions et pile d'appels"
   ]
  },
  {
   "cell_type": "markdown",
   "metadata": {
    "slideshow": {
     "slide_type": "subslide"
    }
   },
   "source": [
    "### Une petite histoire"
   ]
  },
  {
   "cell_type": "markdown",
   "metadata": {
    "slideshow": {
     "slide_type": "subslide"
    }
   },
   "source": [
    "- Vous allez chez G. en lisant un bouquin  \n",
    "    - Arrivée à la station, vous commencez à consulter le plan  \n",
    "        - R. appelle pour vous proposer un cinéma demain  \n",
    "            - Vous consultez le programme  \n",
    "            - Vous trouvez un film qui vous plaît  \n",
    "        - Vous vous mettez d'accord avec R.  \n",
    "    - Vous finissez de chercher votre ligne de métro  \n",
    "- Vous reprenez votre lecture à la bonne page\n",
    "\n",
    "Un être humain sait faire ça (un peu), **mais une machine** ?"
   ]
  },
  {
   "cell_type": "markdown",
   "metadata": {
    "slideshow": {
     "slide_type": "subslide"
    }
   },
   "source": [
    "### Les appels de fonctions\n",
    "  \n",
    "  -   Un programme utilise des fonctions (pré-définies ou non)\n",
    "    <!-- $1 -->\n",
    "    <!-- $1 -->\n",
    "    <!-- $1 -->\n",
    "    <!-- $1 -->\n",
    "    <!-- $1 -->\n",
    "    <!-- $1 -->\n",
    "    <!-- $1 -->\n",
    "    <!-- $1 -->\n",
    "  -   Certaines fonctions font appel à d'autres fonctions\n",
    "    <!-- $1 -->\n",
    "    <!-- $1 -->\n",
    "    <!-- $1 -->\n",
    "    <!-- $1 -->\n",
    "    <!-- $1 -->\n",
    "  -   Au moment de l'appel, l'exécution de la fonction appelante\n",
    "    s'interrompt\n",
    "  -   Après un appel, l'exécution doit reprendre au bon endroit, et\n",
    "    avec les bonnes valeurs des variables\n",
    "  "
   ]
  },
  {
   "cell_type": "markdown",
   "metadata": {
    "slideshow": {
     "slide_type": "subslide"
    }
   },
   "source": [
    "<img src='img/appelrec.png' width=50%></img>"
   ]
  },
  {
   "cell_type": "markdown",
   "metadata": {
    "slideshow": {
     "slide_type": "subslide"
    }
   },
   "source": [
    "### Exemple : quelques tâches simples\n",
    "\n",
    "**Exercice :**\n",
    "Décrivez l'exécution du programme suivant, l'évolution de la pile\n",
    "d'appels et les affichages"
   ]
  },
  {
   "cell_type": "code",
   "execution_count": 4,
   "metadata": {
    "slideshow": {
     "slide_type": "subslide"
    }
   },
   "outputs": [
    {
     "name": "nbtutor",
     "output_type": "stream",
     "text": []
    }
   ],
   "source": [
    "%%nbtutor -r -f -d 10\n",
    "\n",
    "def pgcd(a, b):\n",
    "    while b:\n",
    "        a, b = b, a % b\n",
    "    return a\n",
    "\n",
    "def simplifier(fraction):\n",
    "    d = pgcd(fraction[0], fraction[1])\n",
    "    res = (fraction[0] // d, fraction[1] // d)\n",
    "    return res\n",
    "\n",
    "def ajouter(frac1, frac2):\n",
    "    denom = frac1[1] * frac2[1]\n",
    "    num = frac1[0] * frac2[1] + frac2[0] * frac1[1]\n",
    "    res = simplifier((num, denom))\n",
    "    return res\n",
    "\n",
    "frac = ajouter((1, 3), (1, 6))"
   ]
  },
  {
   "cell_type": "markdown",
   "metadata": {
    "slideshow": {
     "slide_type": "subslide"
    }
   },
   "source": [
    "### Pile d'appels\n",
    "\n",
    "**Pile d'appels :** liste ordonnée de tâches en cours\n",
    "  \n",
    "-   « Fond » de la pile : première tâche commencée (la plus ancienne)\n",
    "-   « Sommet » de la pile : dernière tâche commencée (la plus récente)  "
   ]
  },
  {
   "cell_type": "markdown",
   "metadata": {
    "slideshow": {
     "slide_type": "subslide"
    }
   },
   "source": [
    "  \n",
    "\n",
    "  Chaque élément de pile <!-- $1 -->\n",
    "  contient :\n",
    "  \n",
    "  -   Valeur des paramètres de la fonction en cours\n",
    "  -   Position du site d'appel (instruction à exécuter au retour)\n",
    "  -   Variables locales à la fonction, état de l'interpréteur\n",
    "  "
   ]
  },
  {
   "cell_type": "markdown",
   "metadata": {
    "slideshow": {
     "slide_type": "subslide"
    }
   },
   "source": [
    "### Fonctionnement de la pile\n",
    "\n",
    "  À chaque nouvel **appel** :\n",
    "  -   La fonction appelante évalue chaque paramètre et met sur la pile (des références à) ces valeurs\n",
    "  -   L'appelante sauvegarde son état (ou *contexte*) pour\n",
    "    pouvoir reprendre son exécution une fois l'appel terminé\n",
    "  -   L'interpréteur donne la main à la fonction appelée\n",
    "  -   L'appelée démarre son exécution, en plaçant ses éventuelles\n",
    "    variables locales au sommet de la pile  "
   ]
  },
  {
   "cell_type": "markdown",
   "metadata": {
    "slideshow": {
     "slide_type": "subslide"
    }
   },
   "source": [
    "À chaque nouveau **retour** de fonction :\n",
    "  \n",
    "-   L'appelée dépose à un endroit convenu sa valeur de retour\n",
    "-   L'appelée détruit (« dépile ») toutes ses données locales\n",
    "-   L'interpréteur rend la main à la fonction appelante\n",
    "-   L'appelante récupère la valeur de retour et reprend son exécution\n",
    "\n",
    "Les détails (qui fait quoi, où, comment) dépendent de l'implémentation"
   ]
  },
  {
   "cell_type": "markdown",
   "metadata": {
    "slideshow": {
     "slide_type": "subslide"
    }
   },
   "source": [
    "### Exemple : périmètre d'un polygone"
   ]
  },
  {
   "cell_type": "code",
   "execution_count": 5,
   "metadata": {
    "slideshow": {
     "slide_type": "-"
    }
   },
   "outputs": [
    {
     "name": "nbtutor",
     "output_type": "stream",
     "text": []
    }
   ],
   "source": [
    "%%nbtutor -r -f -d 2\n",
    "\n",
    "def distance(p, q):\n",
    "    '''Renvoie la longueur du côté\n",
    "    defini par p et q.'''\n",
    "    return ((p[0] - q[0]) ** 2 \n",
    "           + (p[1] - q[1]) ** 2) ** 0.5\n",
    "\n",
    "def perimetre(P):\n",
    "    '''Renvoie le périmètre du polygone \n",
    "    défini par la liste P de points.'''\n",
    "    retval = 0\n",
    "    for i in range(-1, len(P) - 1):\n",
    "        retval += distance(P[i], P[i+1])\n",
    "    return retval\n",
    "\n",
    "perimetre([(0, 0), (0, 1), (1, 1), (1, 0)])"
   ]
  },
  {
   "cell_type": "markdown",
   "metadata": {
    "slideshow": {
     "slide_type": "slide"
    }
   },
   "source": [
    "## Programmation récursive\n",
    "\n",
    "### Principe\n",
    "\n",
    "C'est le même principe que le raisonnement ou la définition par récurrence en math !\n",
    "\n",
    "**Idée fondamentale :**\n",
    "Puisque une fonction peut en appeler une autre, pourquoi une fonction ne pourrait-elle pas s'appeler elle-même ?"
   ]
  },
  {
   "cell_type": "markdown",
   "metadata": {
    "slideshow": {
     "slide_type": "subslide"
    }
   },
   "source": [
    "### Exemple : produit \n",
    "\n",
    "Voici une proposition de définition « récurrente » du produit d'un nombre par un entier positif. \n",
    "\n",
    "Pour tout nombre $a$ et tout entier positif $b$, on a:\n",
    "\n",
    "$$\n",
    "a \\times b = \n",
    "\\begin{cases}\n",
    "  0 & \\text{si } b = 0,\n",
    "  \\\\\n",
    "  a + a \\times (b - 1) & \\text{sinon.}\n",
    "\\end{cases}\n",
    "$$"
   ]
  },
  {
   "cell_type": "markdown",
   "metadata": {
    "slideshow": {
     "slide_type": "subslide"
    }
   },
   "source": [
    "Voici une fonction Python qui imite cette définition :"
   ]
  },
  {
   "cell_type": "code",
   "execution_count": 6,
   "metadata": {
    "slideshow": {
     "slide_type": "-"
    }
   },
   "outputs": [
    {
     "name": "nbtutor",
     "output_type": "stream",
     "text": []
    }
   ],
   "source": [
    "%%nbtutor -r -f -d 5\n",
    "\n",
    "def produit(a, b):\n",
    "    \"\"\"Calcule le produit de a par b (entier positif), \n",
    "    sans utiliser l'opérateur « * » !\"\"\"\n",
    "    if b == 0:\n",
    "        res = 0\n",
    "        return res\n",
    "    else:\n",
    "        res = a + produit(a, b-1)\n",
    "        return res\n",
    "    \n",
    "produit(4, 3) == 4 * 3"
   ]
  },
  {
   "cell_type": "markdown",
   "metadata": {
    "slideshow": {
     "slide_type": "subslide"
    }
   },
   "source": [
    "### Exemple: factorielle\n",
    "\n",
    "Rappel: la **factorielle de $n$** est définie par :\n",
    "\n",
    "$$ \n",
    "n! = \\begin{cases}\n",
    "  1 \\text{ si $n = 0$}\\\\\n",
    "  n\\times(n-1)\\cdot(n-2)\\cdots 2\\cdot1 \\text{ sinon}\n",
    "\\end{cases}\n",
    "$$"
   ]
  },
  {
   "cell_type": "markdown",
   "metadata": {
    "slideshow": {
     "slide_type": "subslide"
    }
   },
   "source": [
    "Calcul itératif de $n!$ :"
   ]
  },
  {
   "cell_type": "code",
   "execution_count": 7,
   "metadata": {
    "slideshow": {
     "slide_type": "-"
    }
   },
   "outputs": [
    {
     "data": {
      "text/plain": [
       "120"
      ]
     },
     "execution_count": 7,
     "metadata": {},
     "output_type": "execute_result"
    }
   ],
   "source": [
    "def facto(n):\n",
    "    '''\n",
    "    >>> facto(5) == 5*4*3*2*1\n",
    "    True\n",
    "    '''\n",
    "    f = 1\n",
    "    for i in range(2, n + 1):\n",
    "        f *= i\n",
    "    return f\n",
    "\n",
    "facto(5)"
   ]
  },
  {
   "cell_type": "markdown",
   "metadata": {
    "slideshow": {
     "slide_type": "subslide"
    }
   },
   "source": [
    "Ou sous forme récursive :\n",
    "\n",
    "$$\n",
    "n! = \\begin{cases}\n",
    "      1 \\text{ si $n = 0$}\\\\\n",
    "      n \\times (n-1)! \\text{ sinon}\n",
    "    \\end{cases}\n",
    "$$"
   ]
  },
  {
   "cell_type": "markdown",
   "metadata": {
    "slideshow": {
     "slide_type": "subslide"
    }
   },
   "source": [
    "Calcul récursif de $n!$ :"
   ]
  },
  {
   "cell_type": "code",
   "execution_count": 8,
   "metadata": {
    "slideshow": {
     "slide_type": "-"
    }
   },
   "outputs": [
    {
     "name": "nbtutor",
     "output_type": "stream",
     "text": []
    }
   ],
   "source": [
    "%%nbtutor -r -f -d 10\n",
    "\n",
    "def facto(n):\n",
    "    if n == 0:\n",
    "        return 1\n",
    "    else:\n",
    "        return n * facto(n - 1)\n",
    "    \n",
    "facto(5)"
   ]
  },
  {
   "cell_type": "markdown",
   "metadata": {
    "slideshow": {
     "slide_type": "subslide"
    }
   },
   "source": [
    "### Exemple : puissance\n",
    "\n",
    "On a déjà vu comment calculer $a^n=\\overbrace{a\\times a\\times \\cdots\\times a}^{\\mbox{$n$ termes}}$, avec le cas particulier $a^0=1$"
   ]
  },
  {
   "cell_type": "markdown",
   "metadata": {
    "slideshow": {
     "slide_type": "subslide"
    }
   },
   "source": [
    "Calcul itératif de $a^n$ :"
   ]
  },
  {
   "cell_type": "code",
   "execution_count": 9,
   "metadata": {
    "slideshow": {
     "slide_type": "-"
    }
   },
   "outputs": [
    {
     "data": {
      "text/plain": [
       "True"
      ]
     },
     "execution_count": 9,
     "metadata": {},
     "output_type": "execute_result"
    }
   ],
   "source": [
    "def puiss(a, n):\n",
    "    p = 1\n",
    "    for i in range(1, n + 1):\n",
    "        p *= a\n",
    "    return p\n",
    "\n",
    "puiss(2, 3) == 2 ** 3"
   ]
  },
  {
   "cell_type": "markdown",
   "metadata": {
    "slideshow": {
     "slide_type": "subslide"
    }
   },
   "source": [
    "On peut aussi définir $a^n$, pour $n\\in \\mathbb{N}$, de manière récursive:\n",
    "\n",
    "$$\n",
    "a^n = \\begin{cases}\n",
    "1 & \\text{ si } n=0\\\\\n",
    "a \\times a^{n-1} & \\text{ sinon}\n",
    "\\end{cases}\n",
    "$$"
   ]
  },
  {
   "cell_type": "markdown",
   "metadata": {
    "slideshow": {
     "slide_type": "subslide"
    }
   },
   "source": [
    "Calcul récursif de $a^n$ :"
   ]
  },
  {
   "cell_type": "code",
   "execution_count": 10,
   "metadata": {
    "slideshow": {
     "slide_type": "-"
    }
   },
   "outputs": [
    {
     "data": {
      "text/plain": [
       "True"
      ]
     },
     "execution_count": 10,
     "metadata": {},
     "output_type": "execute_result"
    }
   ],
   "source": [
    "def puissR(a, n):\n",
    "    if n == 0:\n",
    "        return 1\n",
    "    else:\n",
    "        return a * puissR(a, n - 1)\n",
    "    \n",
    "puissR(2, 3) == 2 ** 3"
   ]
  },
  {
   "cell_type": "markdown",
   "metadata": {
    "slideshow": {
     "slide_type": "subslide"
    }
   },
   "source": [
    "### Exemple : pgcd\n",
    "\n",
    "Le plus grand diviseur commun à deux entiers positifs ou nuls $a$ et $b$ peut être défini comme :\n",
    "\n",
    "$$\n",
    "\\mathrm{pgcd}(a, b) = \\begin{cases}a & \\text{ si $b = 0$,}\\\\\\mathrm{pgcd}(b, a \\bmod b) & \\text{ sinon}\\end{cases}\n",
    "$$"
   ]
  },
  {
   "cell_type": "code",
   "execution_count": 12,
   "metadata": {
    "slideshow": {
     "slide_type": "subslide"
    }
   },
   "outputs": [
    {
     "name": "nbtutor",
     "output_type": "stream",
     "text": []
    }
   ],
   "source": [
    "%%nbtutor -r -f -d 10\n",
    "\n",
    "def pgcd(a, b):\n",
    "    if b == 0:\n",
    "        return a\n",
    "    else:\n",
    "        return pgcd(b, a % b)\n",
    "\n",
    "pgcd(2*5*7, 2*3*5*11)"
   ]
  },
  {
   "cell_type": "markdown",
   "metadata": {
    "slideshow": {
     "slide_type": "subslide"
    }
   },
   "source": [
    "### Méthode générale\n",
    "\n",
    "1. Pour les instances les plus simples (\"cas de base\"), donner la solution directe\n",
    "1. Pour les cas complexes, se ramener à une ou plusieurs instances \"plus simples\" du même problème\n",
    "1. Combiner les solutions des instances plus simples pour résoudre le problème initial"
   ]
  },
  {
   "cell_type": "markdown",
   "metadata": {
    "slideshow": {
     "slide_type": "subslide"
    }
   },
   "source": [
    "\"Plus simple\" : varie selon le contexte\n",
    "-   si $P$ est un naturel, alors $P'<P$\n",
    "-   si $P$ est une liste, alors $P'$ est une liste plus petite\n",
    "-   $\\ldots$"
   ]
  },
  {
   "cell_type": "markdown",
   "metadata": {
    "slideshow": {
     "slide_type": "subslide"
    }
   },
   "source": [
    "#### Fonction récursive typique :\n",
    "\n",
    "```python\n",
    "def f(P):  # P = parametre(s)\n",
    "    if test(P):\n",
    "        # bloc sans appel recursif : cas de base\n",
    "        return ...\n",
    "    else:\n",
    "        # bloc avec appel(s) recursif(s) utilisant\n",
    "        # des parametres \"plus simples\"\n",
    "        return ...\n",
    "```"
   ]
  },
  {
   "cell_type": "markdown",
   "metadata": {
    "slideshow": {
     "slide_type": "slide"
    }
   },
   "source": [
    "## Erreurs fréquentes"
   ]
  },
  {
   "cell_type": "markdown",
   "metadata": {
    "slideshow": {
     "slide_type": "subslide"
    }
   },
   "source": [
    "### Conditions d'arrêt"
   ]
  },
  {
   "cell_type": "code",
   "execution_count": 13,
   "metadata": {
    "slideshow": {
     "slide_type": "subslide"
    }
   },
   "outputs": [
    {
     "name": "stdout",
     "output_type": "stream",
     "text": [
      "4 3 2 1 0 -1 -2 -3 -4 -5 -6 -7 -8 -9 -10 -11 -12 -13 -14 -15 -16 -17 -18 -19 -20 -21 -22 -23 -24 -25 -26 -27 -28 -29 -30 -31 -32 -33 -34 -35 -36 -37 -38 -39 -40 -41 -42 -43 -44 -45 -46 -47 -48 -49 -50 -51 -52 -53 -54 -55 -56 -57 -58 -59 -60 -61 -62 -63 -64 -65 -66 -67 -68 -69 -70 -71 -72 -73 -74 -75 -76 -77 -78 -79 -80 -81 -82 -83 -84 -85 -86 -87 -88 -89 -90 -91 -92 -93 -94 -95 -96 -97 -98 -99 -100 -101 -102 -103 -104 -105 -106 -107 -108 -109 -110 -111 -112 -113 -114 -115 -116 -117 -118 -119 -120 -121 -122 -123 -124 -125 -126 -127 -128 -129 -130 -131 -132 -133 -134 -135 -136 -137 -138 -139 -140 -141 -142 -143 -144 -145 -146 -147 -148 -149 -150 -151 -152 -153 -154 -155 -156 -157 -158 -159 -160 -161 -162 -163 -164 -165 -166 -167 -168 -169 -170 -171 -172 -173 -174 -175 -176 -177 -178 -179 -180 -181 -182 -183 -184 -185 -186 -187 -188 -189 -190 -191 -192 -193 -194 -195 -196 -197 -198 -199 -200 -201 -202 -203 -204 -205 -206 -207 -208 -209 -210 -211 -212 -213 -214 -215 -216 -217 -218 -219 -220 -221 -222 -223 -224 -225 -226 -227 -228 -229 -230 -231 -232 -233 -234 -235 -236 -237 -238 -239 -240 -241 -242 -243 -244 -245 -246 -247 -248 -249 -250 -251 -252 -253 -254 -255 -256 -257 -258 -259 -260 -261 -262 -263 -264 -265 -266 -267 -268 -269 -270 -271 -272 -273 -274 -275 -276 -277 -278 -279 -280 -281 -282 -283 -284 -285 -286 -287 -288 -289 -290 -291 -292 -293 -294 -295 -296 -297 -298 -299 -300 -301 -302 -303 -304 -305 -306 -307 -308 -309 -310 -311 -312 -313 -314 -315 -316 -317 -318 -319 -320 -321 -322 -323 -324 -325 -326 -327 -328 -329 -330 -331 -332 -333 -334 -335 -336 -337 -338 -339 -340 -341 -342 -343 -344 -345 -346 -347 -348 -349 -350 -351 -352 -353 -354 -355 -356 -357 -358 -359 -360 -361 -362 -363 -364 -365 -366 -367 -368 -369 -370 -371 -372 -373 -374 -375 -376 -377 -378 -379 -380 -381 -382 -383 -384 -385 -386 -387 -388 -389 -390 -391 -392 -393 -394 -395 -396 -397 -398 -399 -400 -401 -402 -403 -404 -405 -406 -407 -408 -409 -410 -411 -412 -413 -414 -415 -416 -417 -418 -419 -420 -421 -422 -423 -424 -425 -426 -427 -428 -429 -430 -431 -432 -433 -434 -435 -436 -437 -438 -439 -440 -441 -442 -443 -444 -445 -446 -447 -448 -449 -450 -451 -452 -453 -454 -455 -456 -457 -458 -459 -460 -461 -462 -463 -464 -465 -466 -467 -468 -469 -470 -471 -472 -473 -474 -475 -476 -477 -478 -479 -480 -481 -482 -483 -484 -485 -486 -487 -488 -489 -490 -491 -492 -493 -494 -495 -496 -497 -498 -499 -500 -501 -502 -503 -504 -505 -506 -507 -508 -509 -510 -511 -512 -513 -514 -515 -516 -517 -518 -519 -520 -521 -522 -523 -524 -525 -526 -527 -528 -529 -530 -531 -532 -533 -534 -535 -536 -537 -538 -539 -540 -541 -542 -543 -544 -545 -546 -547 -548 -549 -550 -551 -552 -553 -554 -555 -556 -557 -558 -559 -560 -561 -562 -563 -564 -565 -566 -567 -568 -569 -570 -571 -572 -573 -574 -575 -576 -577 -578 -579 -580 -581 -582 -583 -584 -585 -586 -587 -588 -589 -590 -591 -592 -593 -594 -595 -596 -597 -598 -599 -600 -601 -602 -603 -604 -605 -606 -607 -608 -609 -610 -611 -612 -613 -614 -615 -616 -617 -618 -619 -620 -621 -622 -623 -624 -625 -626 -627 -628 -629 -630 -631 -632 -633 -634 -635 -636 -637 -638 -639 -640 -641 -642 -643 -644 -645 -646 -647 -648 -649 -650 -651 -652 -653 -654 -655 -656 -657 -658 -659 -660 -661 -662 -663 -664 -665 -666 -667 -668 -669 -670 -671 -672 -673 -674 -675 -676 -677 -678 -679 -680 -681 -682 -683 -684 -685 -686 -687 -688 -689 -690 -691 -692 -693 -694 -695 -696 -697 -698 -699 -700 -701 -702 -703 -704 -705 -706 -707 -708 -709 -710 -711 -712 -713 -714 -715 -716 -717 -718 -719 -720 -721 -722 -723 -724 -725 -726 -727 -728 -729 -730 -731 -732 -733 -734 -735 -736 -737 -738 -739 -740 -741 -742 -743 -744 -745 -746 -747 -748 -749 -750 -751 -752 -753 -754 -755 -756 -757 -758 -759 -760 -761 -762 -763 -764 -765 -766 -767 -768 -769 -770 -771 -772 -773 -774 -775 -776 -777 -778 -779 -780 -781 -782 -783 -784 -785 -786 -787 -788 -789 -790 -791 -792 -793 -794 -795 -796 -797 -798 -799 -800 -801 -802 -803 -804 -805 -806 -807 -808 -809 -810 -811 -812 -813 -814 -815 -816 -817 -818 -819 -820 -821 -822 -823 -824 -825 -826 -827 -828 -829 -830 -831 -832 -833 -834 -835 -836 -837 -838 -839 -840 -841 -842 -843 -844 -845 -846 -847 -848 -849 -850 -851 -852 -853 -854 -855 -856 -857 -858 -859 -860 -861 -862 -863 -864 -865 -866 -867 -868 -869 -870 -871 -872 -873 -874 -875 -876 -877 -878 -879 -880 -881 -882 -883 -884 -885 -886 -887 -888 -889 -890 -891 -892 -893 -894 -895 -896 -897 -898 -899 -900 -901 -902 -903 -904 -905 -906 -907 -908 -909 -910 -911 -912 -913 -914 -915 -916 -917 -918 -919 -920 -921 -922 -923 -924 -925 -926 -927 -928 -929 -930 -931 -932 -933 -934 -935 -936 -937 -938 -939 -940 -941 -942 -943 -944 -945 -946 -947 -948 -949 -950 -951 -952 -953 -954 -955 -956 -957 -958 -959 -960 -961 -962 -963 -964 -965 -966 -967 -968 -969 -970 -971 -972 -973 -974 -975 -976 -977 -978 -979 -980 -981 -982 -983 -984 -985 -986 -987 -988 -989 -990 -991 -992 -993 -994 -995 -996 -997 -998 -999 -1000 -1001 -1002 -1003 -1004 -1005 -1006 -1007 -1008 -1009 -1010 -1011 -1012 -1013 -1014 -1015 -1016 -1017 -1018 -1019 -1020 -1021 -1022 -1023 -1024 -1025 -1026 -1027 -1028 -1029 -1030 -1031 -1032 -1033 -1034 -1035 -1036 -1037 -1038 -1039 -1040 -1041 -1042 -1043 -1044 -1045 -1046 -1047 -1048 -1049 -1050 -1051 -1052 -1053 -1054 -1055 -1056 -1057 -1058 -1059 -1060 -1061 -1062 -1063 -1064 -1065 -1066 -1067 -1068 -1069 -1070 -1071 -1072 -1073 -1074 -1075 -1076 -1077 -1078 -1079 -1080 -1081 -1082 -1083 -1084 -1085 -1086 -1087 -1088 -1089 -1090 -1091 -1092 -1093 -1094 -1095 -1096 -1097 -1098 -1099 -1100 -1101 -1102 -1103 -1104 -1105 -1106 -1107 -1108 -1109 -1110 -1111 -1112 -1113 -1114 -1115 -1116 -1117 -1118 -1119 -1120 -1121 -1122 -1123 -1124 -1125 -1126 -1127 -1128 -1129 -1130 -1131 -1132 -1133 -1134 -1135 -1136 -1137 -1138 -1139 -1140 -1141 -1142 -1143 -1144 -1145 -1146 -1147 -1148 -1149 -1150 -1151 -1152 -1153 -1154 -1155 -1156 -1157 -1158 -1159 -1160 -1161 -1162 -1163 -1164 -1165 -1166 -1167 -1168 -1169 -1170 -1171 -1172 -1173 -1174 -1175 -1176 -1177 -1178 -1179 -1180 -1181 -1182 -1183 -1184 -1185 -1186 -1187 -1188 -1189 -1190 -1191 -1192 -1193 -1194 -1195 -1196 -1197 -1198 -1199 -1200 -1201 -1202 -1203 -1204 -1205 -1206 -1207 -1208 -1209 -1210 -1211 -1212 -1213 -1214 -1215 -1216 -1217 -1218 -1219 -1220 -1221 -1222 -1223 -1224 -1225 -1226 -1227 -1228 -1229 -1230 -1231 -1232 -1233 -1234 -1235 -1236 -1237 -1238 -1239 -1240 -1241 -1242 -1243 -1244 -1245 -1246 -1247 -1248 -1249 -1250 -1251 -1252 -1253 -1254 -1255 -1256 -1257 -1258 -1259 -1260 -1261 -1262 -1263 -1264 -1265 -1266 -1267 -1268 -1269 -1270 -1271 -1272 -1273 -1274 -1275 -1276 -1277 -1278 -1279 -1280 -1281 -1282 -1283 -1284 -1285 -1286 -1287 -1288 -1289 -1290 -1291 -1292 -1293 -1294 -1295 -1296 -1297 -1298 -1299 -1300 -1301 -1302 -1303 -1304 -1305 -1306 -1307 -1308 -1309 -1310 -1311 -1312 -1313 -1314 -1315 -1316 -1317 -1318 -1319 -1320 -1321 -1322 -1323 -1324 -1325 -1326 -1327 -1328 -1329 -1330 -1331 -1332 -1333 -1334 -1335 -1336 -1337 -1338 -1339 -1340 -1341 -1342 -1343 -1344 -1345 -1346 -1347 -1348 -1349 -1350 -1351 -1352 -1353 -1354 -1355 -1356 -1357 -1358 -1359 -1360 -1361 -1362 -1363 -1364 -1365 -1366 -1367 -1368 -1369 -1370 -1371 -1372 -1373 -1374 -1375 -1376 -1377 -1378 -1379 -1380 -1381 -1382 -1383 -1384 -1385 -1386 -1387 -1388 -1389 -1390 -1391 -1392 -1393 -1394 -1395 -1396 -1397 -1398 -1399 -1400 -1401 -1402 -1403 -1404 -1405 -1406 -1407 -1408 -1409 -1410 -1411 -1412 -1413 -1414 -1415 -1416 -1417 -1418 -1419 -1420 -1421 -1422 -1423 -1424 -1425 -1426 -1427 -1428 -1429 -1430 -1431 -1432 -1433 -1434 -1435 -1436 -1437 -1438 -1439 -1440 -1441 -1442 -1443 -1444 -1445 -1446 -1447 -1448 -1449 -1450 -1451 -1452 -1453 -1454 -1455 -1456 -1457 -1458 -1459 -1460 -1461 -1462 -1463 -1464 -1465 -1466 -1467 -1468 -1469 -1470 -1471 -1472 -1473 -1474 -1475 -1476 -1477 -1478 -1479 -1480 -1481 -1482 -1483 -1484 -1485 -1486 -1487 -1488 -1489 -1490 -1491 -1492 -1493 -1494 -1495 -1496 -1497 -1498 -1499 -1500 -1501 -1502 -1503 -1504 -1505 -1506 -1507 -1508 -1509 -1510 -1511 -1512 -1513 -1514 -1515 -1516 -1517 -1518 -1519 -1520 -1521 -1522 -1523 -1524 -1525 -1526 -1527 -1528 -1529 -1530 -1531 -1532 -1533 -1534 -1535 -1536 -1537 -1538 -1539 -1540 -1541 -1542 -1543 -1544 -1545 -1546 -1547 -1548 -1549 -1550 -1551 -1552 -1553 -1554 -1555 -1556 -1557 -1558 -1559 -1560 -1561 -1562 -1563 -1564 -1565 -1566 -1567 -1568 -1569 -1570 -1571 -1572 -1573 -1574 -1575 -1576 -1577 -1578 -1579 -1580 -1581 -1582 -1583 -1584 -1585 -1586 -1587 -1588 -1589 -1590 -1591 -1592 -1593 -1594 -1595 -1596 -1597 -1598 -1599 -1600 -1601 -1602 -1603 -1604 -1605 -1606 -1607 -1608 -1609 -1610 -1611 -1612 -1613 -1614 -1615 -1616 -1617 -1618 -1619 -1620 -1621 -1622 -1623 -1624 -1625 -1626 -1627 -1628 -1629 -1630 -1631 -1632 -1633 -1634 -1635 -1636 -1637 -1638 -1639 -1640 -1641 -1642 -1643 -1644 -1645 -1646 -1647 -1648 -1649 -1650 -1651 -1652 -1653 -1654 -1655 -1656 -1657 -1658 -1659 -1660 -1661 -1662 -1663 -1664 -1665 -1666 -1667 -1668 -1669 -1670 -1671 -1672 -1673 -1674 -1675 -1676 -1677 -1678 -1679 -1680 -1681 -1682 -1683 -1684 -1685 -1686 -1687 -1688 -1689 -1690 -1691 -1692 -1693 -1694 -1695 -1696 -1697 -1698 -1699 -1700 -1701 -1702 -1703 -1704 -1705 -1706 -1707 -1708 -1709 -1710 -1711 -1712 -1713 -1714 -1715 -1716 -1717 -1718 -1719 -1720 -1721 -1722 -1723 -1724 -1725 -1726 -1727 -1728 -1729 -1730 -1731 -1732 -1733 -1734 -1735 -1736 -1737 -1738 -1739 -1740 -1741 -1742 -1743 -1744 -1745 -1746 -1747 -1748 -1749 -1750 -1751 -1752 -1753 -1754 -1755 -1756 -1757 -1758 -1759 -1760 -1761 -1762 -1763 -1764 -1765 -1766 -1767 -1768 -1769 -1770 -1771 -1772 -1773 -1774 -1775 -1776 -1777 -1778 -1779 -1780 -1781 -1782 -1783 -1784 -1785 -1786 -1787 -1788 -1789 -1790 -1791 -1792 -1793 -1794 -1795 -1796 -1797 -1798 -1799 -1800 -1801 -1802 -1803 -1804 -1805 -1806 -1807 -1808 -1809 -1810 -1811 -1812 -1813 -1814 -1815 -1816 -1817 -1818 -1819 -1820 -1821 -1822 -1823 -1824 -1825 -1826 -1827 -1828 -1829 -1830 -1831 -1832 -1833 -1834 -1835 -1836 -1837 -1838 -1839 -1840 -1841 -1842 -1843 -1844 -1845 -1846 -1847 -1848 -1849 -1850 -1851 -1852 -1853 -1854 -1855 -1856 -1857 -1858 -1859 -1860 -1861 -1862 -1863 -1864 -1865 -1866 -1867 -1868 -1869 -1870 -1871 -1872 -1873 -1874 -1875 -1876 -1877 -1878 -1879 -1880 -1881 -1882 -1883 -1884 -1885 -1886 -1887 -1888 -1889 -1890 -1891 -1892 -1893 -1894 -1895 -1896 -1897 -1898 -1899 -1900 -1901 -1902 -1903 -1904 -1905 -1906 -1907 -1908 -1909 -1910 -1911 -1912 -1913 -1914 -1915 -1916 -1917 -1918 -1919 -1920 -1921 -1922 -1923 -1924 -1925 -1926 -1927 -1928 -1929 -1930 -1931 -1932 -1933 -1934 -1935 -1936 -1937 -1938 -1939 -1940 -1941 -1942 -1943 -1944 -1945 -1946 -1947 -1948 -1949 -1950 -1951 -1952 -1953 -1954 -1955 -1956 -1957 -1958 -1959 -1960 -1961 -1962 -1963 -1964 -1965 -1966 -1967 -1968 -1969 -1970 -1971 -1972 -1973 -1974 -1975 -1976 -1977 -1978 -1979 -1980 -1981 -1982 -1983 -1984 -1985 -1986 -1987 -1988 -1989 -1990 -1991 -1992 -1993 -1994 -1995 -1996 -1997 -1998 -1999 -2000 -2001 -2002 -2003 -2004 -2005 -2006 -2007 -2008 -2009 -2010 -2011 -2012 -2013 -2014 -2015 -2016 -2017 -2018 -2019 -2020 -2021 -2022 -2023 -2024 -2025 -2026 -2027 -2028 -2029 -2030 -2031 -2032 -2033 -2034 -2035 -2036 -2037 -2038 -2039 -2040 -2041 -2042 -2043 -2044 -2045 -2046 -2047 -2048 -2049 -2050 -2051 -2052 -2053 -2054 -2055 -2056 -2057 -2058 -2059 -2060 -2061 -2062 -2063 -2064 -2065 -2066 -2067 -2068 -2069 -2070 -2071 -2072 -2073 -2074 -2075 -2076 -2077 -2078 -2079 -2080 -2081 -2082 -2083 -2084 -2085 -2086 -2087 -2088 -2089 -2090 -2091 -2092 -2093 -2094 -2095 -2096 -2097 -2098 -2099 -2100 -2101 -2102 -2103 -2104 -2105 -2106 -2107 -2108 -2109 -2110 -2111 -2112 -2113 -2114 -2115 -2116 -2117 -2118 -2119 -2120 -2121 -2122 -2123 -2124 -2125 -2126 -2127 -2128 -2129 -2130 -2131 -2132 -2133 -2134 -2135 -2136 -2137 -2138 -2139 -2140 -2141 -2142 -2143 -2144 -2145 -2146 -2147 -2148 -2149 -2150 -2151 -2152 -2153 -2154 -2155 -2156 -2157 -2158 -2159 -2160 -2161 -2162 -2163 -2164 -2165 -2166 -2167 -2168 -2169 -2170 -2171 -2172 -2173 -2174 -2175 -2176 -2177 -2178 -2179 -2180 -2181 -2182 -2183 -2184 -2185 -2186 -2187 -2188 -2189 -2190 -2191 -2192 -2193 -2194 -2195 -2196 -2197 -2198 -2199 -2200 -2201 -2202 -2203 -2204 -2205 -2206 -2207 -2208 -2209 -2210 -2211 -2212 -2213 -2214 -2215 -2216 -2217 -2218 -2219 -2220 -2221 -2222 -2223 -2224 -2225 -2226 -2227 -2228 -2229 -2230 -2231 -2232 -2233 -2234 -2235 -2236 -2237 -2238 -2239 -2240 -2241 -2242 -2243 -2244 -2245 -2246 -2247 -2248 -2249 -2250 -2251 -2252 -2253 -2254 -2255 -2256 -2257 -2258 -2259 -2260 -2261 -2262 -2263 -2264 -2265 -2266 -2267 -2268 -2269 -2270 -2271 -2272 -2273 -2274 -2275 -2276 -2277 -2278 -2279 -2280 -2281 -2282 -2283 -2284 -2285 -2286 -2287 -2288 -2289 -2290 -2291 -2292 -2293 -2294 -2295 -2296 -2297 -2298 -2299 -2300 -2301 -2302 -2303 -2304 -2305 -2306 -2307 -2308 -2309 -2310 -2311 -2312 -2313 -2314 -2315 -2316 -2317 -2318 -2319 -2320 -2321 -2322 -2323 -2324 -2325 -2326 -2327 -2328 -2329 -2330 -2331 -2332 -2333 -2334 -2335 -2336 -2337 -2338 -2339 -2340 -2341 -2342 -2343 -2344 -2345 -2346 -2347 -2348 -2349 -2350 -2351 -2352 -2353 -2354 -2355 -2356 -2357 -2358 -2359 -2360 -2361 -2362 -2363 -2364 -2365 -2366 -2367 -2368 -2369 -2370 -2371 -2372 -2373 -2374 -2375 -2376 -2377 -2378 -2379 -2380 -2381 "
     ]
    },
    {
     "name": "stdout",
     "output_type": "stream",
     "text": [
      "-2382 -2383 -2384 -2385 -2386 -2387 -2388 -2389 -2390 -2391 -2392 -2393 -2394 -2395 -2396 -2397 -2398 -2399 -2400 -2401 -2402 -2403 -2404 -2405 -2406 -2407 -2408 -2409 -2410 -2411 -2412 -2413 -2414 -2415 -2416 -2417 -2418 -2419 -2420 -2421 -2422 -2423 -2424 -2425 -2426 -2427 -2428 -2429 -2430 -2431 -2432 -2433 -2434 -2435 -2436 -2437 -2438 -2439 -2440 -2441 -2442 -2443 -2444 -2445 -2446 -2447 -2448 -2449 -2450 -2451 -2452 -2453 -2454 -2455 -2456 -2457 -2458 -2459 -2460 -2461 -2462 -2463 -2464 -2465 -2466 -2467 -2468 -2469 -2470 -2471 -2472 -2473 -2474 -2475 -2476 -2477 -2478 -2479 -2480 -2481 -2482 -2483 -2484 -2485 -2486 -2487 -2488 -2489 -2490 -2491 -2492 -2493 -2494 -2495 -2496 -2497 -2498 -2499 -2500 -2501 -2502 -2503 -2504 -2505 -2506 -2507 -2508 -2509 -2510 -2511 -2512 -2513 -2514 -2515 -2516 -2517 -2518 -2519 -2520 -2521 -2522 -2523 -2524 -2525 -2526 -2527 -2528 -2529 -2530 -2531 -2532 -2533 -2534 -2535 -2536 -2537 -2538 -2539 -2540 -2541 -2542 -2543 -2544 -2545 -2546 -2547 -2548 -2549 -2550 -2551 -2552 -2553 -2554 -2555 -2556 -2557 -2558 -2559 -2560 -2561 -2562 -2563 -2564 -2565 -2566 -2567 -2568 -2569 -2570 -2571 -2572 -2573 -2574 -2575 -2576 -2577 -2578 -2579 -2580 -2581 -2582 -2583 -2584 -2585 -2586 -2587 -2588 -2589 -2590 -2591 -2592 -2593 -2594 -2595 -2596 -2597 -2598 -2599 -2600 -2601 -2602 -2603 -2604 -2605 -2606 -2607 -2608 -2609 -2610 -2611 -2612 -2613 -2614 -2615 -2616 -2617 -2618 -2619 -2620 -2621 -2622 -2623 -2624 -2625 -2626 -2627 -2628 -2629 -2630 -2631 -2632 -2633 -2634 -2635 -2636 -2637 -2638 -2639 -2640 -2641 -2642 -2643 -2644 -2645 -2646 -2647 -2648 -2649 -2650 -2651 -2652 -2653 -2654 -2655 -2656 -2657 -2658 -2659 -2660 -2661 -2662 -2663 -2664 -2665 -2666 -2667 -2668 -2669 -2670 -2671 -2672 -2673 -2674 -2675 -2676 -2677 -2678 -2679 -2680 -2681 -2682 -2683 -2684 -2685 -2686 -2687 -2688 -2689 -2690 -2691 -2692 -2693 -2694 -2695 -2696 -2697 -2698 -2699 -2700 -2701 -2702 -2703 -2704 -2705 -2706 -2707 -2708 -2709 -2710 -2711 -2712 -2713 -2714 -2715 -2716 -2717 -2718 -2719 -2720 -2721 -2722 -2723 -2724 -2725 -2726 -2727 -2728 -2729 -2730 -2731 -2732 -2733 -2734 -2735 -2736 -2737 -2738 -2739 -2740 -2741 -2742 -2743 -2744 -2745 -2746 -2747 -2748 -2749 -2750 -2751 -2752 -2753 -2754 -2755 -2756 -2757 -2758 -2759 -2760 -2761 -2762 -2763 -2764 -2765 -2766 -2767 -2768 -2769 -2770 -2771 -2772 -2773 -2774 -2775 -2776 -2777 -2778 -2779 -2780 -2781 -2782 -2783 -2784 -2785 -2786 -2787 -2788 -2789 -2790 -2791 -2792 -2793 -2794 -2795 -2796 -2797 -2798 -2799 -2800 -2801 -2802 -2803 -2804 -2805 -2806 -2807 -2808 -2809 -2810 -2811 -2812 -2813 -2814 -2815 -2816 -2817 -2818 -2819 -2820 -2821 -2822 -2823 -2824 -2825 -2826 -2827 -2828 -2829 -2830 -2831 -2832 -2833 -2834 -2835 -2836 -2837 -2838 -2839 -2840 -2841 -2842 -2843 -2844 -2845 -2846 -2847 -2848 -2849 -2850 -2851 -2852 -2853 -2854 -2855 -2856 -2857 -2858 -2859 -2860 -2861 -2862 -2863 -2864 -2865 -2866 -2867 -2868 -2869 -2870 -2871 -2872 -2873 -2874 -2875 -2876 -2877 -2878 -2879 -2880 -2881 -2882 -2883 -2884 -2885 -2886 -2887 -2888 -2889 -2890 -2891 -2892 -2893 -2894 -2895 -2896 -2897 -2898 -2899 -2900 -2901 -2902 -2903 -2904 -2905 -2906 -2907 -2908 -2909 -2910 -2911 -2912 -2913 -2914 -2915 -2916 -2917 -2918 -2919 -2920 -2921 -2922 -2923 -2924 -2925 -2926 -2927 -2928 -2929 -2930 -2931 -2932 -2933 -2934 -2935 -2936 -2937 -2938 -2939 -2940 -2941 -2942 -2943 -2944 -2945 -2946 -2947 -2948 -2949 -2950 -2951 -2952 -2953 -2954 -2955 -2956 -2957 -2958 -2959 -2960 -2961 -2962 "
     ]
    },
    {
     "ename": "RecursionError",
     "evalue": "maximum recursion depth exceeded while calling a Python object",
     "output_type": "error",
     "traceback": [
      "\u001b[0;31m---------------------------------------------------------------------------\u001b[0m",
      "\u001b[0;31mRecursionError\u001b[0m                            Traceback (most recent call last)",
      "\u001b[0;32m/var/folders/kp/zmm1_jkx7mq5_d2x11x342840000gn/T/ipykernel_18744/2324657284.py\u001b[0m in \u001b[0;36m<module>\u001b[0;34m\u001b[0m\n\u001b[1;32m      3\u001b[0m     \u001b[0;32mreturn\u001b[0m \u001b[0mn\u001b[0m \u001b[0;34m*\u001b[0m \u001b[0mfact\u001b[0m\u001b[0;34m(\u001b[0m\u001b[0mn\u001b[0m\u001b[0;34m-\u001b[0m\u001b[0;36m1\u001b[0m\u001b[0;34m)\u001b[0m\u001b[0;34m\u001b[0m\u001b[0;34m\u001b[0m\u001b[0m\n\u001b[1;32m      4\u001b[0m \u001b[0;34m\u001b[0m\u001b[0m\n\u001b[0;32m----> 5\u001b[0;31m \u001b[0mfact\u001b[0m\u001b[0;34m(\u001b[0m\u001b[0;36m4\u001b[0m\u001b[0;34m)\u001b[0m\u001b[0;34m\u001b[0m\u001b[0;34m\u001b[0m\u001b[0m\n\u001b[0m",
      "\u001b[0;32m/var/folders/kp/zmm1_jkx7mq5_d2x11x342840000gn/T/ipykernel_18744/2324657284.py\u001b[0m in \u001b[0;36mfact\u001b[0;34m(n)\u001b[0m\n\u001b[1;32m      1\u001b[0m \u001b[0;32mdef\u001b[0m \u001b[0mfact\u001b[0m\u001b[0;34m(\u001b[0m\u001b[0mn\u001b[0m\u001b[0;34m)\u001b[0m\u001b[0;34m:\u001b[0m\u001b[0;34m\u001b[0m\u001b[0;34m\u001b[0m\u001b[0m\n\u001b[1;32m      2\u001b[0m     \u001b[0mprint\u001b[0m\u001b[0;34m(\u001b[0m\u001b[0mn\u001b[0m\u001b[0;34m,\u001b[0m \u001b[0mend\u001b[0m\u001b[0;34m=\u001b[0m\u001b[0;34m\" \"\u001b[0m\u001b[0;34m)\u001b[0m\u001b[0;34m\u001b[0m\u001b[0;34m\u001b[0m\u001b[0m\n\u001b[0;32m----> 3\u001b[0;31m     \u001b[0;32mreturn\u001b[0m \u001b[0mn\u001b[0m \u001b[0;34m*\u001b[0m \u001b[0mfact\u001b[0m\u001b[0;34m(\u001b[0m\u001b[0mn\u001b[0m\u001b[0;34m-\u001b[0m\u001b[0;36m1\u001b[0m\u001b[0;34m)\u001b[0m\u001b[0;34m\u001b[0m\u001b[0;34m\u001b[0m\u001b[0m\n\u001b[0m\u001b[1;32m      4\u001b[0m \u001b[0;34m\u001b[0m\u001b[0m\n\u001b[1;32m      5\u001b[0m \u001b[0mfact\u001b[0m\u001b[0;34m(\u001b[0m\u001b[0;36m4\u001b[0m\u001b[0;34m)\u001b[0m\u001b[0;34m\u001b[0m\u001b[0;34m\u001b[0m\u001b[0m\n",
      "... last 1 frames repeated, from the frame below ...\n",
      "\u001b[0;32m/var/folders/kp/zmm1_jkx7mq5_d2x11x342840000gn/T/ipykernel_18744/2324657284.py\u001b[0m in \u001b[0;36mfact\u001b[0;34m(n)\u001b[0m\n\u001b[1;32m      1\u001b[0m \u001b[0;32mdef\u001b[0m \u001b[0mfact\u001b[0m\u001b[0;34m(\u001b[0m\u001b[0mn\u001b[0m\u001b[0;34m)\u001b[0m\u001b[0;34m:\u001b[0m\u001b[0;34m\u001b[0m\u001b[0;34m\u001b[0m\u001b[0m\n\u001b[1;32m      2\u001b[0m     \u001b[0mprint\u001b[0m\u001b[0;34m(\u001b[0m\u001b[0mn\u001b[0m\u001b[0;34m,\u001b[0m \u001b[0mend\u001b[0m\u001b[0;34m=\u001b[0m\u001b[0;34m\" \"\u001b[0m\u001b[0;34m)\u001b[0m\u001b[0;34m\u001b[0m\u001b[0;34m\u001b[0m\u001b[0m\n\u001b[0;32m----> 3\u001b[0;31m     \u001b[0;32mreturn\u001b[0m \u001b[0mn\u001b[0m \u001b[0;34m*\u001b[0m \u001b[0mfact\u001b[0m\u001b[0;34m(\u001b[0m\u001b[0mn\u001b[0m\u001b[0;34m-\u001b[0m\u001b[0;36m1\u001b[0m\u001b[0;34m)\u001b[0m\u001b[0;34m\u001b[0m\u001b[0;34m\u001b[0m\u001b[0m\n\u001b[0m\u001b[1;32m      4\u001b[0m \u001b[0;34m\u001b[0m\u001b[0m\n\u001b[1;32m      5\u001b[0m \u001b[0mfact\u001b[0m\u001b[0;34m(\u001b[0m\u001b[0;36m4\u001b[0m\u001b[0;34m)\u001b[0m\u001b[0;34m\u001b[0m\u001b[0;34m\u001b[0m\u001b[0m\n",
      "\u001b[0;31mRecursionError\u001b[0m: maximum recursion depth exceeded while calling a Python object"
     ]
    }
   ],
   "source": [
    "def fact(n):\n",
    "    print(n, end=\" \")\n",
    "    return n * fact(n-1)\n",
    "\n",
    "fact(4)"
   ]
  },
  {
   "cell_type": "markdown",
   "metadata": {
    "slideshow": {
     "slide_type": "-"
    }
   },
   "source": [
    "-   Erreur d'exécution : saturation de la pile\n",
    "-   Oubli de la condition d'arrêt (cas de base)\n",
    "-   Solution : toujours commencer par le(s) cas de base"
   ]
  },
  {
   "cell_type": "code",
   "execution_count": 17,
   "metadata": {
    "slideshow": {
     "slide_type": "subslide"
    }
   },
   "outputs": [
    {
     "data": {
      "text/plain": [
       "120"
      ]
     },
     "execution_count": 17,
     "metadata": {},
     "output_type": "execute_result"
    }
   ],
   "source": [
    "def fact(n):\n",
    "    if n == 0:\n",
    "        return 1\n",
    "    else:\n",
    "        return n * fact(n-1)\n",
    "\n",
    "fact(5)"
   ]
  },
  {
   "cell_type": "markdown",
   "metadata": {
    "slideshow": {
     "slide_type": "subslide"
    }
   },
   "source": [
    "### Conditions d'arrêt et appels récursifs"
   ]
  },
  {
   "cell_type": "code",
   "execution_count": 14,
   "metadata": {
    "scrolled": true,
    "slideshow": {
     "slide_type": "-"
    }
   },
   "outputs": [
    {
     "name": "stdout",
     "output_type": "stream",
     "text": [
      "****************************************************************************************************************************************************************************************************************************************************************************************************************************************************************************************************************************************************************************************************************************************************************************************************************************************************************************************************************************************************************************************************************************************************************************************************************************************************************************************************************************************************************************************************************************************************************************************************************************************************************************************************************************************************************************************************************************************************************************************************************************************************************************************************************************************************************************************************************************************************************************************************************************************************************************************************************************************************************************************************************************************************************************************************************************************************************************************************************************************************************************************************************************************************************************************************************************************************************************************************************************************************************************************************************************************************************************************************************************************************************************************************************************************************************************************************************************************************************************************************************************************************************************************"
     ]
    },
    {
     "ename": "RecursionError",
     "evalue": "maximum recursion depth exceeded while calling a Python object",
     "output_type": "error",
     "traceback": [
      "\u001b[0;31m---------------------------------------------------------------------------\u001b[0m",
      "\u001b[0;31mRecursionError\u001b[0m                            Traceback (most recent call last)",
      "\u001b[0;32m/var/folders/kp/zmm1_jkx7mq5_d2x11x342840000gn/T/ipykernel_18744/2495930803.py\u001b[0m in \u001b[0;36m<module>\u001b[0;34m\u001b[0m\n\u001b[1;32m      8\u001b[0m         \u001b[0;32mreturn\u001b[0m \u001b[0;32mNone\u001b[0m\u001b[0;34m\u001b[0m\u001b[0;34m\u001b[0m\u001b[0m\n\u001b[1;32m      9\u001b[0m \u001b[0;34m\u001b[0m\u001b[0m\n\u001b[0;32m---> 10\u001b[0;31m \u001b[0mf\u001b[0m\u001b[0;34m(\u001b[0m\u001b[0;36m4\u001b[0m\u001b[0;34m)\u001b[0m\u001b[0;34m\u001b[0m\u001b[0;34m\u001b[0m\u001b[0m\n\u001b[0m",
      "\u001b[0;32m/var/folders/kp/zmm1_jkx7mq5_d2x11x342840000gn/T/ipykernel_18744/2495930803.py\u001b[0m in \u001b[0;36mf\u001b[0;34m(n)\u001b[0m\n\u001b[1;32m      5\u001b[0m     \u001b[0;32melse\u001b[0m\u001b[0;34m:\u001b[0m\u001b[0;34m\u001b[0m\u001b[0;34m\u001b[0m\u001b[0m\n\u001b[1;32m      6\u001b[0m         \u001b[0mprint\u001b[0m\u001b[0;34m(\u001b[0m\u001b[0;34m\"*\"\u001b[0m\u001b[0;34m,\u001b[0m \u001b[0mend\u001b[0m\u001b[0;34m=\u001b[0m\u001b[0;34m\"\"\u001b[0m\u001b[0;34m)\u001b[0m\u001b[0;34m\u001b[0m\u001b[0;34m\u001b[0m\u001b[0m\n\u001b[0;32m----> 7\u001b[0;31m         \u001b[0mf\u001b[0m\u001b[0;34m(\u001b[0m\u001b[0mn\u001b[0m\u001b[0;34m)\u001b[0m\u001b[0;34m\u001b[0m\u001b[0;34m\u001b[0m\u001b[0m\n\u001b[0m\u001b[1;32m      8\u001b[0m         \u001b[0;32mreturn\u001b[0m \u001b[0;32mNone\u001b[0m\u001b[0;34m\u001b[0m\u001b[0;34m\u001b[0m\u001b[0m\n\u001b[1;32m      9\u001b[0m \u001b[0;34m\u001b[0m\u001b[0m\n",
      "... last 1 frames repeated, from the frame below ...\n",
      "\u001b[0;32m/var/folders/kp/zmm1_jkx7mq5_d2x11x342840000gn/T/ipykernel_18744/2495930803.py\u001b[0m in \u001b[0;36mf\u001b[0;34m(n)\u001b[0m\n\u001b[1;32m      5\u001b[0m     \u001b[0;32melse\u001b[0m\u001b[0;34m:\u001b[0m\u001b[0;34m\u001b[0m\u001b[0;34m\u001b[0m\u001b[0m\n\u001b[1;32m      6\u001b[0m         \u001b[0mprint\u001b[0m\u001b[0;34m(\u001b[0m\u001b[0;34m\"*\"\u001b[0m\u001b[0;34m,\u001b[0m \u001b[0mend\u001b[0m\u001b[0;34m=\u001b[0m\u001b[0;34m\"\"\u001b[0m\u001b[0;34m)\u001b[0m\u001b[0;34m\u001b[0m\u001b[0;34m\u001b[0m\u001b[0m\n\u001b[0;32m----> 7\u001b[0;31m         \u001b[0mf\u001b[0m\u001b[0;34m(\u001b[0m\u001b[0mn\u001b[0m\u001b[0;34m)\u001b[0m\u001b[0;34m\u001b[0m\u001b[0;34m\u001b[0m\u001b[0m\n\u001b[0m\u001b[1;32m      8\u001b[0m         \u001b[0;32mreturn\u001b[0m \u001b[0;32mNone\u001b[0m\u001b[0;34m\u001b[0m\u001b[0;34m\u001b[0m\u001b[0m\n\u001b[1;32m      9\u001b[0m \u001b[0;34m\u001b[0m\u001b[0m\n",
      "\u001b[0;31mRecursionError\u001b[0m: maximum recursion depth exceeded while calling a Python object"
     ]
    }
   ],
   "source": [
    "def f(n): # n naturel\n",
    "    if n == 0:\n",
    "        print(\"!\")\n",
    "        return None\n",
    "    else:\n",
    "        print(\"*\", end=\"\")\n",
    "        f(n)\n",
    "        return None\n",
    "        \n",
    "f(4)"
   ]
  },
  {
   "cell_type": "markdown",
   "metadata": {
    "slideshow": {
     "slide_type": "subslide"
    }
   },
   "source": [
    "La fonction ne s'arrête jamais car si $n$ ne vaut pas $0$ au début, il ne vaudra jamais $0$"
   ]
  },
  {
   "cell_type": "code",
   "execution_count": 15,
   "metadata": {
    "slideshow": {
     "slide_type": "subslide"
    }
   },
   "outputs": [
    {
     "name": "stdout",
     "output_type": "stream",
     "text": [
      "****!\n"
     ]
    }
   ],
   "source": [
    "def f(n): # n naturel\n",
    "    if n == 0:\n",
    "        print(\"!\")\n",
    "    else:\n",
    "        print(\"*\", end=\"\")\n",
    "        f(n-1)\n",
    "        \n",
    "f(4)"
   ]
  },
  {
   "cell_type": "markdown",
   "metadata": {
    "slideshow": {
     "slide_type": "subslide"
    }
   },
   "source": [
    "### Limite de capacité de la pile\n",
    "\n",
    "Chaque appel récursif stocke des informations sur la pile d'appel (\"bloc\" d'exécution de la fonction, en anglais *frame*), donc il est nécessaire de limiter la taille totale de la pile."
   ]
  },
  {
   "cell_type": "code",
   "execution_count": 18,
   "metadata": {
    "scrolled": true,
    "slideshow": {
     "slide_type": "-"
    }
   },
   "outputs": [
    {
     "data": {
      "text/plain": [
       "505952377564956574235399487483041822888119906495646428420108128343971780124357271627183187181901985489257810723352466337235751018907859251483748076712221335242456072511956620861657068464658696977275319548308128323491783917474904823913336186702557231203052281424187828395416859857650094981705373496768015046695461677805249020166776518284295970082765903694461122649954549098532765643831376261157499518461143563135097922059297592457480472528808956521277781996009697748813767752317901993583593064711390389256539592213382336750436174727185984611760421291141324911097267225552199730476774453050697842602214070935344031411264401893900574346899099074352438646458875367356096148179163702062404569627599604398082394992936879385517649368601293248572380303208752748532898279993016519568119152122997226350756743992971418437596814731963479245017081663815882070810350128181274021195041969125382972166350502231430456320751213523019414063808516433867248249458204960649567320833484525228075044368117053546317603246367348305223651166741619208572954894754963564906549900945718620560144664619176792361928902055495486766678111048939613458737412922392294514406609754352193128612689646312984389391384542004936977915717862835284618842815353884331578173485518049245163406721754394757532153630949794490352956706658643356384827761671051127033493861835851858266803047303528721645085359830071308178059987895159485448770011421607061291723072538712061663843713634472913489277136293532711346437784150028750732691015545860917019871467854175069186555128848527975507743980014621065347175998899503889555524246048425283036762865132185738163019720604486888790649229080920897997356932714808171903128984446953736128013641915138607295668586443278128585861795381105865300374543687713038363463734625326242378569900174429119032387561641410316557859320181006422069507062358883630822542555165462364329302020473271497387715792071820765665790638352153555764538517631260623412723313093124092432789491632554073948827390735545716441923238289865340885387413615546454862536340143133279001626002846851251985749608403099376032761637880189487407395316371555518384151347805569454991207771447814049085283309396973938146616587548492080685353361421300685402925961961594457843812808323627052444494531230842541527876374091449199498505040454348872835833672606472991662324687936591415102700920099451882798533790160819905229463966579386064091196159794033606595148486318974279886252625281882417946278062935437494064201030712069959884123056091383908894582389150116181563280017248260639726389219082618229436407923655677520787696484231955335749934869835829529232873565123341894383043689415677290245298872397296236062684486528804501714047715809281111825145284594085527682612469161079097724306324717717370616852498132614961555068777564065642212901785044040759229586430531033571738833642484102909150553156027449172810226051647526127119143506842908589132811939877335365609394825488767298324967689803294237085972150685775692210531284369176050389712589027201065029068982183877762434780175410176411293776022903071007023268833118929966361919876102344186026867789948320263121167877330315760562199392980017581153413893390806854924128901636586801254240778519544856193062608281831069246248690202744846293153414312300720120488144461290066803974638049281133970882034227745035365268761916176529984894968882158839745651008741895339444483102420184236636656503952076535669164343850080510907764043670290796001080548105515761735330566670042746571098546589282620109426209884181482355186402707898206641430425001620671967112727455983421839234154954288153498865505042532193748772902749650088676740366711134605696859906919405304391865790833479216987711960824939008151644804857062230211669069733854091647246315171830638665160173141295848165892546880585459436607927176474071620899667956618334059746950873938562409188599241938567067170692849335683578966128411131236518266361726453493044283429562907397961739920262899101091557097458225429801892281994203718754852487125577824395869704288849547013579105355501910384793072992984186683937908935816601954766367685950245149761678601855600240560451474616640462771914114328102885542174972636486024811157948367110693824340795404853680662792040710852726375081527919472495980882595698444686925765216736741417065761432093611761958622217033877441500445781888826033981568474678352598856427653847134498181718363645160970117611198237806641968770399090817865908899097634156897883286063770636278923699777992330368066454906593057270525484589748275601744312937497807614063496206864488956347571208678713857351251986907901301155119653872991190512442242526972487566285913946822301636688681655324235085482760023655672140754322321687858963519125110309264260832864639362761076410076399273686859052245563539008740456478742972074915912598042429112715276797080483484822698765501490430410978494396869083392852410845191024762745118937835484291069818760572045299004832186854889093147675598707363973119450033863038330685809160394058978787332058962616408131153575731817837715853975139168133864169744811491217996493870236325772162182489527457900879728203741482655364355939821462687169262142215976857618362012820567379046490311453885812795002452094207230799870176163322437919683639287666135370401815833833114157811898800783684850036382330136730920295573939818328117306643485779261792831821615739553610107679284541695364939657683746178542760118788613838308936469819427291942011685629577480903614801233083214880029478804996040922186274075836756880804024306078751473402908273251646747992644309725929690164954923031579740513944424076760724123662993821684545937599720064648741572624012685336283652494850265165491710714116374718489034729818280389918959040385125552773949761595076511255097735742149514700239890510147693892465104050405925290340225256290247354872111938446371065651977972020396615781202590783439160203919245603491084569341628299982296116764683113780777390921400474959343950454243439772316470197613709313374203286255015141696789916941932106840344433822594804423071598055281167282171780011466022383650523904986419378845041609455851735293524289387419978210692206302846111773391488175884121102570766897002872703145900033371681393798014544425397255200765468172768570535980920261758464497062501938150472688373769489767558588943257503967378934038491593905386896680129514085292610357934575551496717705414023438716150545440995752904251918923448418223156270058694405255050170867464300372799423619454006883636624680995003769658469030613696236936432069590913382591773157686138328499407784406427308805760759216414925733287713963049493696399382385752236778315567618527900838466462251053761666931318703304661654026328368628876754259925621774699287851246861910845584625608916871935351626827663388730660445798602673640720613960683859065468530587682219591775317089012936269062742766542323135936800322925330833758684418563126325826007396617007834217576725275993610108562544798619626536400277088314201459204383823376559943634430809754806647054466439571225841739621532058941853482752809345093162308901404855233474085243121022418317848999217370129424792306080763705958365013033311530366136930553424436332618971344403186596683093976160965358502597713321038168748925230956815570105995634684054037999913797591638272704582788809169713089976586905012505250924187891686723238511522302073579758158912744029159463165911781806567781258042549923403774721567302720941897494341666584621373121753575105984289757730937867014241826012173778451101146637465044455471909853246060847358204554009205055968763184964159539920129319487624308928830155282689112619749820454152892727555967564143362354220295682215993530992721667609801435444589589598847755289197930460551226323858814103011419655108254159920621031411833690169900373926961071064012696440626630653113890239678769466209364900318934579927782472728196734195503919675356415269316704586534036749990612630025583699768295835742208376937327058309669264558472243712025144898820706116786736088328767049707940907607077728112791287799898737446268042773013232285623381907584849757921426968276132505010829220774454431445160714392448234608332463967141786186867411318473367495692266264774383213263461870491802448140275996364999495942699301677345564954135247466914996254290661281441421798303037648923046578424982193421649853808640000000000000000000000000000000000000000000000000000000000000000000000000000000000000000000000000000000000000000000000000000000000000000000000000000000000000000000000000000000000000000000000000000000000000000000000000000000000000000000000000000000000000000000000000000000000000000000000000000000000000000000000000000000000000000000000000000000000000000000000000000000000000000000000000000000000000000000000000000000000000000000000000000000000000000000000000000000000000000000000000000000000000000000000000000000000000000000000000000000000000000000000000000000000000000000000000000000000000000000000000000000000000000000000000000000000000000000000000000000000000000000000000000000000000000000000000000000000000000000000000000000000000000"
      ]
     },
     "execution_count": 18,
     "metadata": {},
     "output_type": "execute_result"
    }
   ],
   "source": [
    "fact(2958)"
   ]
  },
  {
   "cell_type": "code",
   "execution_count": 19,
   "metadata": {
    "slideshow": {
     "slide_type": "subslide"
    }
   },
   "outputs": [
    {
     "ename": "RecursionError",
     "evalue": "maximum recursion depth exceeded in comparison",
     "output_type": "error",
     "traceback": [
      "\u001b[0;31m---------------------------------------------------------------------------\u001b[0m",
      "\u001b[0;31mRecursionError\u001b[0m                            Traceback (most recent call last)",
      "\u001b[0;32m/var/folders/kp/zmm1_jkx7mq5_d2x11x342840000gn/T/ipykernel_18744/4245997974.py\u001b[0m in \u001b[0;36m<module>\u001b[0;34m\u001b[0m\n\u001b[0;32m----> 1\u001b[0;31m \u001b[0mfact\u001b[0m\u001b[0;34m(\u001b[0m\u001b[0;36m3000\u001b[0m\u001b[0;34m)\u001b[0m\u001b[0;34m\u001b[0m\u001b[0;34m\u001b[0m\u001b[0m\n\u001b[0m",
      "\u001b[0;32m/var/folders/kp/zmm1_jkx7mq5_d2x11x342840000gn/T/ipykernel_18744/1149086516.py\u001b[0m in \u001b[0;36mfact\u001b[0;34m(n)\u001b[0m\n\u001b[1;32m      3\u001b[0m         \u001b[0;32mreturn\u001b[0m \u001b[0;36m1\u001b[0m\u001b[0;34m\u001b[0m\u001b[0;34m\u001b[0m\u001b[0m\n\u001b[1;32m      4\u001b[0m     \u001b[0;32melse\u001b[0m\u001b[0;34m:\u001b[0m\u001b[0;34m\u001b[0m\u001b[0;34m\u001b[0m\u001b[0m\n\u001b[0;32m----> 5\u001b[0;31m         \u001b[0;32mreturn\u001b[0m \u001b[0mn\u001b[0m \u001b[0;34m*\u001b[0m \u001b[0mfact\u001b[0m\u001b[0;34m(\u001b[0m\u001b[0mn\u001b[0m\u001b[0;34m-\u001b[0m\u001b[0;36m1\u001b[0m\u001b[0;34m)\u001b[0m\u001b[0;34m\u001b[0m\u001b[0;34m\u001b[0m\u001b[0m\n\u001b[0m\u001b[1;32m      6\u001b[0m \u001b[0;34m\u001b[0m\u001b[0m\n\u001b[1;32m      7\u001b[0m \u001b[0mfact\u001b[0m\u001b[0;34m(\u001b[0m\u001b[0;36m5\u001b[0m\u001b[0;34m)\u001b[0m\u001b[0;34m\u001b[0m\u001b[0;34m\u001b[0m\u001b[0m\n",
      "... last 1 frames repeated, from the frame below ...\n",
      "\u001b[0;32m/var/folders/kp/zmm1_jkx7mq5_d2x11x342840000gn/T/ipykernel_18744/1149086516.py\u001b[0m in \u001b[0;36mfact\u001b[0;34m(n)\u001b[0m\n\u001b[1;32m      3\u001b[0m         \u001b[0;32mreturn\u001b[0m \u001b[0;36m1\u001b[0m\u001b[0;34m\u001b[0m\u001b[0;34m\u001b[0m\u001b[0m\n\u001b[1;32m      4\u001b[0m     \u001b[0;32melse\u001b[0m\u001b[0;34m:\u001b[0m\u001b[0;34m\u001b[0m\u001b[0;34m\u001b[0m\u001b[0m\n\u001b[0;32m----> 5\u001b[0;31m         \u001b[0;32mreturn\u001b[0m \u001b[0mn\u001b[0m \u001b[0;34m*\u001b[0m \u001b[0mfact\u001b[0m\u001b[0;34m(\u001b[0m\u001b[0mn\u001b[0m\u001b[0;34m-\u001b[0m\u001b[0;36m1\u001b[0m\u001b[0;34m)\u001b[0m\u001b[0;34m\u001b[0m\u001b[0;34m\u001b[0m\u001b[0m\n\u001b[0m\u001b[1;32m      6\u001b[0m \u001b[0;34m\u001b[0m\u001b[0m\n\u001b[1;32m      7\u001b[0m \u001b[0mfact\u001b[0m\u001b[0;34m(\u001b[0m\u001b[0;36m5\u001b[0m\u001b[0;34m)\u001b[0m\u001b[0;34m\u001b[0m\u001b[0;34m\u001b[0m\u001b[0m\n",
      "\u001b[0;31mRecursionError\u001b[0m: maximum recursion depth exceeded in comparison"
     ]
    }
   ],
   "source": [
    "fact(3000)"
   ]
  },
  {
   "cell_type": "markdown",
   "metadata": {
    "slideshow": {
     "slide_type": "subslide"
    }
   },
   "source": [
    "-   La fonction est correcte, mais erreur si dépassement de la hauteur maximale de la pile\n",
    "-   *Réglable, mais dans une certaine limite...*"
   ]
  },
  {
   "cell_type": "code",
   "execution_count": 20,
   "metadata": {
    "slideshow": {
     "slide_type": "-"
    }
   },
   "outputs": [
    {
     "data": {
      "text/plain": [
       "92178090979573850793909118868889056744319819020035944990953384342210563607816495149968366908085149897092321809310070935021986939283614429144917522099584436428497279568303061742775511285370987462776416863179133160625419964065675825371625750472179032877992209010679032655437013355821102447488305246763470296864990342304792574249525316236301172501989512908084191899577562337873929923328782631665337387466749849412193171505879367346635084977099496838103487099014656822195093809940639557150117141737912371581240939440735249781382835100894705955188936570949632590304447150216749264853403331159943116629049216398263399445418794903163315547334731164523184081326446357784512877139242262395046503462423215128373944677788445002432436260893420842984769194713638940323295846170076119692630990692507949380600316431839558900677738496660920898845959455861220932298283019843929506413697191379148579807173994859705491995969230175501501624061781847613896078165297994946229669265216666803814919696531897525900145202796629341300178103851510023454045958889596046423810001630173852088993604040827652722274407512976207129239471182481570473796188934002776875236476438050291274400783093665249630001027308612432192597763270936122773173147801322497451865180772301684098258798445311040597842940897664601611660989698198593460026730854840109981565641914122445485882420133648560180938714719937062992095434488555270953852653868896307844859233453117946393642255527064494608267216566859481515603026184519957843996226813329494563646058941907627441398019651035769886193217395617725056558135861757115113474895161811856110090690103790489527522960780521049306623490440657337886052334716003896045430585224041403171773754001778104428382596234437540998558473466260577985391018255891356981247238397840689559775417229673181202067031470770925346851421571524515985806402099042753047028427158867696337829366575662791585829547310012369460854244780360140563653489472240530994709058574824356811423425302932093014274206928673153665379510998181542723301879675917325105635403393699237602925730721673541022249575075874742654116358759286584808280416156465855440882030685371259121414096012889672161380234713934989845362695918280606932171760971957923437964650291108583873699286410815041617044193151285597401450313782612546447584154652567201374727826813491673712816831869336536884685034235260951186697751083895725291543936718882362919294032122360591804221941215632488718501220926859932805100998699620915040671342990221414192613489455557150873802226720746131578092630580974129840711967940117121073888050169816299134622057335381660860053953489065286833678460749051305438002051311256163486785297650800527578902613424742051935379689411762707200752353896108718034576653442875901915962043395970746035916198746753410820040487564428600328822532687233577809206040939694183261031105614124168941933892226033792907225075537129688158002034431789719094975255643223468884172136830404517919698533043621248761216892565281667625845863845174472065024854114920304098737818186100297923106009058761210105306509202673340276635010282634786565372762620753624238195738438396287035239105355586933496120007450759912661829076119467453154863807969127976104605088920358664404819253026684172146922930957795216702177325323896504040416590579941921412747198134337389858838540430748675115038960924253778703802475201395382936824469958163624174617529265645370539968375217327921740677034903335634809156698244160971939296811715864012573931390089042669247007613602687125145528277938850818012272396796720030610016799106626650827238553427505302385985547093518860631053364102407409447768362342853667697929931472657220592776875398414752792969132462993775753250042861287953089184792379499761179437380190396667506086727059159343093975760590958283385724792668965175442256873051551371180004748071355812838321711077314655317620094277100038230428394325858618011612661337481604233472047184503164924726997361220342851082447278254637313299101650862633565327320358980253701290264872868394682485011766370210270356360655091850426580298129438341500714487148242995461131804679320692380952525350751693080991351856301743653175682805745211405575709040034667946395468163560814746951906328007878228530296397108861152548811118107171493890600264943649672879818945515869794341597505252324455770956705343464619068099552886589318227173020723092295725542387661029891414314291996039168009772164297707043967348882262255565035146836067917955137823095686718805642075661973381084833275943448079384110965839642153343459422138192137558343177625048409456743033979138454819511353412398868973616217594504924793321699435334917457196908900027965004821352484662601265336069051614891441371467023125063179830955545791934150731103903401093932691140565942520288051601500008383242127754300099415813333910177873385090597619348050157327795728064972919078283539189137464391937918143480340115535037555116567299785136009476345207751284655675923200966813864996792659491876037639310586900988321666226718589651180544076488647545660608700095153780404644439448157683975135840006295626172347290829014081911428308796915395685719729016734225398036308088230876157801785053728558351938903113126148908115124433846075814580210837747835849517351045054558433669945245849235932415249320446064656676032434696323634514423058943717131799723858586510122927530245589160691374097318019327013509377224979097481038170924161760935460932874156663739610835785482660986655828562779019580375644974295999866750767608333848326686922098870833755924798188287171135773356683668476654822664067124400970253870339795846705993568016662197756444508535632853679779872516303134627346839664395625515731532231138475391403878725812573637867655829439816413841761225402783568940514192419348436201823894026583177906554171032782969970855742139737142305259189705466069393727245611103617749459853560517743055864701539439971722886095844416088944289022827762238690948470216659389781797064376832613265407819052780378754188020631066337587161587245325644360561273052098123095188509330659309789027685577886102744208451787279187865965555288041730485979464101752914400948827216687095762645766869423816215343022075247587820515646728190155610255342948716344236202280064150521186551199449088607526971956536506709314156316795233988812713027494188237683510633961581799561721854164015090474790037432667185544330887169127788587947995071827457365589658544224542638742978422206950158071342791576933542631319243725790061276490773516456415750409344398036058390828880040543767876668082015064486618527667721087006779191443386889309201544863939491194035299592922210848403537200219388250028619164321693417485893151298258989791511128246054575515597828887805483040130997732054490287976061528816395468949932609274979355381129833954262547163740263577064558530784205482859444512678234700013600981620139451022715486680422529644101267599589012931884996369343405200985271132607164117914852484649778691214519126017592518097663849290789731518813568597932932895164104496763831314118922922538800672575597344281442539490230869154008453617028561617626291361118303972072772105026054082239374689620066728318216334980020412191788170460493804231635056630454627446929410442519360301437284710166833599598719179942365864524393550448435596207874745483536221446247937203063383486004959980157079511966639186073980922686170468963188382470073389786945448888865660413466958098667437353710412692864932273509113889224918172964013925046288336325128431340338254734914098058621511969382246213476232029068966697417277968040066196161546053720091731091246940116481931763677891348536976494411347855687901573185680638073142843908866608714727506733883087036055479590954436823843983328079346813561750288287629367137461833968329235203027126384018804518065537209193595113287125271377091055370452029827961624794466841779574123940739372835799147971294217248422214442541605870879607871572191674916143923392382761861392806778195852160780696795562411507294788193036723893670829568602650100364353449660081552832798128103291941733551850282381513497671941146516674288956391380016380901821273049342268507508758797940616089486409751116308069014264705596315384646014078608532025636878842599916887285771324887099198385553576689444540921587776646992043179428197106583330036082392491430785821266805244162433927804618477941145052612331372954585859545713735962635668738934908603258719938495356282165385934767908355967650127550700803388892398648261169142342872826037068157978386351474299295178105236460893815746507590382029982408382121676134703377682864123191884286059796944683294194269638901481061473934867421968614900620843465691006622413095827219399741485550956051933718880892934450578384285523539198756972606665417938665976778441454185354605737638949064089917651699685883684895961432788903368957315464918907982612220737811063643324857341633076871429015982597332775329889506690476342844895580135615964207498596723510327453186870944779574354410791949382539325250549936845542929236537929167439811942255193181823464900375119748511657030007703639082603993217127042347418894302783148535390026510252289648544856436714942460181791183289866600467708790835106297461283879029504197144089207097107365198387474911757541063629938687910194286068228533703149998173144474618370240094450841398285598612008775360895747189153865243146673739815995730903393469365219887330426193110709586650894218920782825560036298323684385570749240375065186505346637396359906184593404963305013664952521041161764155536728422836331203914538908328296833259981443417236111700761010001130605273024783178910562153961313653053389982553559325898849705288604727576590861066710928274245827812826193726470730990036621228176993151606074310654778754842446913018068106710896560048183187997165853075467348571173601629257655493862444583716166061998841049170137157729017716565808291061651218810860146677530009809541088528798183913140488003246733234839062703159647089046918520588126707626657110011515466946333908724583864987474537860720164437830803648565280665536289735883065512566251786189964416645462538501937727171558164644838126877508092644390032759589596323804501715364242343245037805338625403723354007433006085538280980317233555205944732150618688504988658367608395903290423471537205350230158711864340678366492540740864229990483323752138295840071314970929198939297191713502863718607869731246205787018430676113183614318941170786741910460907567195865964116784699542167406280672906956373772058525669937681760492513758927933313206945679536199558762966051662632259636427738732962281835439529331870143053784721517383029525431216199002306727724230372145742924429966616140676042898627314675819777009964058765803766082955397050307890261987194873154453515989008239976930909440419429529993846646190587102533228499227929213888181346575125319979472427926488311099538946868649062595251908505621681206349968689086172698831564301307539374438057618544931229989186428061951972941530942514923643545207768142298815338150596970898437944666892543621578630544838041102660821393132953938319954796500911084795405135671709464991642478756731705534578645792943575517195503441775855522255184269260726306058338477973023108300519789293303728113286591681765999547860700474478839032841609924637686773181943709197188021724891297045281317466474780708375522057339359951245748187135336720467301554081059214249115117755369109580463265152177181049461431666160091988265160065245347205890371263169858348823057212386323826685935264145532842609975090126343779140657786298369523363627084778842820187115417023020123588917727537160759449806370815637005149746987674714482489445595574832534151213573852746876159249904041942180589872486738932611984297256405763484392351123404675794020409418286277755720738481054394154494125641202987824035046134182048557479025843842509089687636923349922719860193930720817674202030644587883396411848550237909659003391737732531077839911741267829888180136876963886383636008757599182665767173070773147200392576624113095131355419830874801073599273438942872509376637998272421462226844492617453397940403726176011359264637284103964754645110493430591019465069003489639446287814926380026839685054560969453654690713373332324679170209667014950168771331781847684451252633649020458320819660206774758337785975911084138856148633386994011924027452893766745235257030917956620355670584946059726296305381618280554633108598525880599803816874639283793921218761344929366351517743423567449435643479133088150494936658022792119312584415889113248967014820319831932950565717009470309309753610475954422560082597753986592775431787439020676657602193367885564753619669770303310943760495609934910089729811163473264606948430387103630155942999645085767312976151639801045572946855721644365262560629407699231936828376725694793107648589603115074856324786641120820160106676467168529465355482564763789552180220953698741723216172197688749608769397649895414304081375008830873162219129992550659405372834968998674484564682006519754950690595392678700139643171087548343847991226353764739270905670338297582293974550716505003520648033842307414552684296473236953360502430042507980028399102359611993753985638040137608594706652419751851407261350203897666847204007683188183179594241443740476019015309565635656951861768230607033113687387432211745936966048619323092227675838796122057479485542577225570862632967957225897794379770172816658390583259846050238823444678635937541372316138190589744197088597537376198761808367588332571469845391091018532829179185724669706038494810111309224976330405859604425132422726453102301992564098043765233730933743615016969541509698968287689863840153273345551289742379731498611400599070250272631724090369375141544422415409523048449227091092530078654244806364917267880264983095696726001678685302027484890977950793831637380240062861671010417256796189826207340411536618071137972247837854443839433234285411742451523781301147966137655762318012286007421467968276076623109684689496357241587310435963481273998921367018489766781091886084961555381465564688982523018737470190154931471878119331394781988233532200048981468864485215406311550859895740786463854711982236966159266668493370673994947633644023835618768800971971938408825575111166890275945641254397951068719090970890443799859484642477099061306449493136446254245630302202967364625356148984464051877483746699117014640403630274587340595415906327400344856263673558248326933821477144150144444701930551918002693026542607942531643903467565381424074156512172247654668892356021029737362348538896202238634432699617236381596952609076516302560283212871134723755585074907633493788113111423599328512806449416189634206656497001462807230383738549461922987634158501233445560479236100300737826923829348062076837829135609792051562165693261377854906271536366913940403324472397634791160912567102376311505170628625000784740428245038069664286597876591097451564656526466510952859672456751839838863353222518196343071197314184743371531730777111893148026073408471588150796016575131261987143453464829878303486176541879434917252837314166859195497196882298391945676374778058077751018337484371507155050316202802295679530219461046604911450333499750965859757099839843058752848602427510487264937743732783515634695159599060758074908558679176424045576311950249894461515092809101495498556439737694382756903986138426692237877175869339556287215498981822856160655338657009435024411562434350558476402241162924987970630735859066008994506226343521247179128771321877790821599910369264589630947015139946941615861295412363783500699059828441048358582460187329484234827974914287256208782505686982480385770055419752257714582486848984554996141593466391762961716267699799801163182523986432813437712120067897841188935220114449002202089563440251178915619984142964774581581336402301551025439870743738619229482647837611509799986154019145763980270656719945058992314518648393006155751911430290286528952202881249852208050312232053298518375728756015698510584925237883793787936304372489737504258207818626796521180897595277440242282715692770918790855800269905177090140348151754438794501281496489095037933891872068664571101868708767863799198007952300645745483903336116659228261093089326512334659744895897405702319507853763520183096595806248917609336647998655421696046260748101209249551169900195121765458945338756802109346912197554834176879710481849743721087032949143204382146941894884452475425620547847054350988339057875386414988127324552106546414707849536492150320701578266709705922704051075243068740260555002626321403783347147372354299879104472420579539168622943214344235711578036607803774221129245346992653876285273159384131125223444052079360330210824923900072845303821003148899527501899443036694350093175825261095616393331767418232563467714641665208526576373850922617119532086493269628791295341048714762570230243997206253965978280468470861426593610900419535535639277865113596709097567536313154105383725666987650610756339276058337986605484855940547057115282857498438631934105301698835279484304724190623057482537806940479907025890590797096418226452267702588537546566677407981671927351044628241598795912839020964297220557522404025217120740673985409750657724275219869569149192908601128966968912984508145146843795102819289942434281171356322988040227663297647521378355581078554897592273145318805165342557225077641466222064887757819561416959441086963540069641948876519647394275578605171558464604299393827136943372786608750284934060812703930636366657128009206479384111483277626256767928569717799621481025321545129108118415873802949759256582085781144249500248666343632203460903489619121916683924212318073308160447380354268173706389396870653590103260092627702383353967227220325459201023839504396752186195559418414474655688677100466363359661533889985413870026547459198697574866212526156074108992424775651937068837585497018143945778603093761389458252689241108541362940874767853398125982791927276067035163761663736655259983952220403463198906449846318840611689064904057425808123723166773444748890118146592245407114929788142264963512025464696550741280919795719987100035696974747194507057729890655205233369529082349983531839782028886999527834583447851538790422553523039947883622478021390891479006688523630595308527692368626638649838905318503593339595220500241434670426198796692601837150115491146570028961503693254081266592771441165175631146068078070762975757402941610227043346762259450948038196365234105514905688319300889571461597333769520279005909061177988576281420817149761853268890147038729578255850656101867418253135649514158760462301879886589648888555334396471823284791834882458390152433921953314723079824196100395552361659362175231893200222365629353524256910161615901495051164147532330452885808160105390727858867722018126742847253613338520061276627976162917118809737037752814909898748834451355775433381797681089332459985769326544000945479627895192565621573022352301880517429301718324048398654186968568554375351372116868739766767428554580309351250484483430686701935314343061676971059201767165073973800457634071021360050144037890480455398018836031644848518943756071837946194724950171929443266075910415166182794560577436621530361857225011623009205354123305984549893323394759295157403085438719353332741427121344948100814051934870481554764889134835335182627393534942725855639728148007006247585083051568000715167490851924823328803743252067321788824401632658058764926153492840002778731197970251461065088754647632435102418567424804611976555103759463003111816668831146426703533887457834975921452810836865201439567409776329965101438295042085327261373290662196839063564612557716150839648173513751149343082966041558669262994684276864419611037134190481930741287170182851736240151105891915682425280360935787900384545370625868016111691928711235030962033850235261197263031540203566997226790152515595393274022995556559046957039654659092431348327804002533130562436858227235498630182629230427097079542633111546461914643350092818520497931226110233528619984174794420580384110443862829503717734212013160132063696628864685549095939128747256394841525996805297635064400673981471295342638283454532406592081640501035974813332691211364819802411608900156687923457350439200929437996916039920580163553761858203808046893203771900598178176251580515219644861081348701270042297749953820395173904101360338349773791519020947227269735134677033654473994646653192599258945019849950301177210989961127922870306745188699500853349683729731797003051454531987267025322028417432423846157696424726316220375593730759702055094609863950093300424031673558885723847515625033181671371939940140850502992158454685398103566029615954224507642885803077191216091287716562804363965138236278695233423848691054724452567053839145297395521168301686403066747605417020533255766610580396845559422557355262568907330073697589858959706727013836488976536654611267245287484266762693786511209684357465935510763304201978581751132656321068794176971204546643435007546420796243749002196616130320603148268823253290294643389289878505916518500344969342021683768718716167654990836178917056316195817617748240109543849600893215681259880485781646806323046259841415303554235653886307094591901881380090398837590121040212206211628477969439551464806521954109523522674656047899824653476131173438518558326376594657075866431466264752345396433042250659172600810089080452881279256362885143631320873678748923044718989656637053676282196684058535161748436389132108495253487943764847478349368916865663364474263179098983815518203848201119494496896685091365619854805686973275182127391356256396959105415867531541252783831866575450959270393384681902256915288051135259812218314400138696539446050056897042934180586687426558706557243279444369481755052964070329032908989756102283496535643977006394138204385086598674658769799172949335523399338051829833287978956916793044859313915948419044859779234777935348708061767776318017445600146593883567065387980957916747376385372769404004116522520036519450183611371481383977285886326784588502860633949208506137226901156581929314540979394928385916751970886437763011845689460866491922523040637175239243818401194023728142366930795697291954614663232033726994246813399594689140779250788248190174218244405263834631983361918416233369343747831244496111504723848329053664550063580326578914362814596618995568943852224733371311441691696091867603749176110759326382189254751879992190268307315314774506669580738825678362964511391668386160372510749415651791380309714228368460735178039490395267742757463557009686855603179168725864209364224539192795299697117089285668895339391030141856114686661907653551194353257385833405374160121958922285956765325241257345782391605843390215439577135660811479817212372938294325024937428456002565946702834996846208205767167567163991767368560379889161368938706858519927202510812023315392164855172120729684329818744475450702361550468918550268464540500269700971142148472764696393712558476149170313886177352175535676524546404865777080857180090151342859185978486060176566324326943718680547056261997915894991194109322210630818915014592921472452740780036794056864086078522168214889477637070197641267826001264605261280237875068648891588953914165640294730247227497875575865505459569143377322405365577997574520029593144622646757786228163490558219736751917226915209097078529726906285425574561059423069465426983377290180578202175567803250976673498034921723663009868488906067396396348885452002526044596143463532198604604717608900198043922129367923691073083887467070454082804711246145928184512425867533803986204128872315065425002556780860443005041731131765189412494294719365002261431022429747919017908252984287480072240848190213609446745795138208283146109423481267307479310079749350683974450958581781399944043757523822080481520899711326868220141671472382284819512331338492710653150447803802045462131601984879570739887279692083996958657101411204482653578780250240939770768995295101669853913133009058207249032632463511283280362512138057537716079893202196961310640295942678027712313828526481171485863155362737608931877535241752148163677619060880058292548914170405008076662169747486034494855791294531334898248510715962049352727971740053613779499901432206968536777485880878977950659957090246888830877517011974285792277933849564544996135633131177180531959737330750103594337370536220606022667735016660336615604027902173317129699992339103290083081414401365215050413934031572645434162631297463656725432165974456029863815199218990915918460399369242983143771724298232022237565442802908674728067575630160498169708625420133375399145482836693235611236405248942508011339994308242647475546426706315514289558643721073477689681872781564540674365659806047235429497176115208846531510677292016480241395003469325938672442746501958279487418429454464993255765967943128218546953142112340759390793371509278119246420895176892109503196039721324191193413457764281028445642678808390496445497495333519811283620076402279282504633692381887404155249137742836664765307620583324628817135615220416644715954859208199862914830679023420506858463486593324345075910904207680234177806727971915788624428776470175858296861432603204255199814697447449422151250480421792306904373452089089785996562683631617912102433921193775396305943208053743690975467744933339773007378326100543244788584193779460670106698526054395282274788538924499428218129871485354844368234644865470245198143574962250499089207841511128876886982276794639861853937261723870243340690490169383229536681852729374676611657190095621190919604841366079372936745324373960872355872985591466500229463031840085021743255206877405288085166734713461340739126445097827058294861054965947076523475036732558632081315838158371928404043272603632820803801647031562057141593882289463278752650509738121903421162356528364936010349212573158643329275587307885765114354808208261370302819305480434750969823747915310873681214437881801919276868652332003928701130524690581041553872388234686383061230183812960942962520768799559590304770785077914167679937644765803471481015469893766046753180540074315152622326140385299337821979601132613763650442909810812915250690675799742634293937278930385493049314639110025635722768715784001030627953733450528625110898269310382657541263347762814310584054987264907791985222683904736893761155989370669183716666500389309795624170958917614068537318052322044993553989637779461787275818328975425877378246603571169527426425288506116734789121143477472874984118024294819817565352567264363301504535475889892796262432133476314477079587909389980407950789462917568617889634277164961149389095048192880320129658457756255490234622223811287817139172288723286881656645371702363538481272970722478004346718945647397471138327020844429457344745687328750933695354369391259707939204887929409748083674552621977422964198760913478160110908775624594127544909574575180976653980487380423751361936479517451470692182837741180567100885501276804168799931157519869099187555992431625601245066255688756994372433575653273840350791179353883053507290884050238737522963122596799613046478955814486674042599616393368492304481662175110345965865813558803253100524432541640838451448269499868327717423990246807819496696978671319684967856425693862695292668690002786797204976411307240816238105285095364254276634535310042058402503106329159520913193452937841573976824324585897829344423038813465128058330028752012163151225808647710268205120252855133079765380308802256618543977813124926599748274340086425744546139927527778448168576469936855330094322445708253472838913529594871565140459241028018674694679095176955869787885995146549828680794214889890785755824182592584851878969272265356582164625528939584589406119270895713634305258000840309143197188606358603000971213453055453273211534544135895120535797040468141608776143309468953241962376466243204805647404589313291235076057243134175643121307051536534986354085668948379750281093118604943505061840676323078490785406076645357906407919960288313591115619257022826271611061990476920734659075879382539542614584686578167625565731892644845792135212139711067205404021513233620888001175257766797362883449506420397897758879926454172384267478628224442566781985299441830488177036910306084637289482068636980082311840331981009639526326620729435364621027683296103715704347490798829731773238565783914524516474226133337000139408629533733432642206403959021211765267659076878787615850103459608930086052637977164283898024040314890392992613740708258373882452304190024297368748003834932956611451564739267953657743649929598394277165354525668185517605196962931596031999804926229367353669865422965283464866608677948715810885694648023240591979925897767511685551597379886408835553709498053271322975087879389879085503198827923532464321310609158710187455671869686344677896988316359529403827936929714459300445340357938133865515430276221493752768046292001904125048106262657465516461370145459758294677562148769011127861857128652911218933975795429689691664043973394231059573406200874202136627744376771153687649353090115486269689274322155958790231251678328935407311473189115847540767048032588398265934533685240327547563415114383047146196981266512807280045715781966202549817555354511813239521169025690997144405337513993162442537965623642645886983489616636733380917821232507590866155424032354355477602904314245989744613370625992172556743028144850176972696526385153689785616712596570457369875825512411071469296145459940946721391327392502453035243633078937074165875500326136335025173594653883180456904148575233933324719201995944742335065591347810078726252468502582294800162796841054608547538327936881984108278087115955991478041602687465193767096659026513219700188166705377752716887246519433405564167712932818085738333397516098028971146114129692214272975500325854240727657093665523953812631463923745251750149845379670705905863412896560938491821662770958771252844980416275362824290632286511692026878003496608646742213283168466619688943109435554768974003094596382701581124287061546983967207099668431986658407278512867674341788253659894479684337355548673086871759633514172558630261193467912266052453348945912443565385462554924263660098246272221132033417508513561878717715940736037712496002549229294444419669088179713707415441876547203227407092223776476182898036845381122809078990169510269868072582965447599073354974917572875952726891697470859221728824502974863256398210571420791329753480381391512378945578144492652668655362692192280822525185190529961774663589384238836341591982589068538100685696562937747592946067191291787944191184071742211670964677618297785242743602387506752369678010417759907788337309928806404196520087817881575435725575464189256235905449772706980620120805224241122561756091469395148754191408872046674318925157517858099215354198853715237582099054030819162567421682985400729539100149079995899789591834039601598002204704691770242323537452153443797513841637605731868319389283245650277033858403010138538479568788780478022320051435923482041846924815116175677735942347385008007339468235386048077301279385730681887197621776662101895666085742604767914787578504761857845593279111932641341653270668681075209332961355927690612457695623644350837695632829569287085777564002707821199919291572551336904777991774062466914280167850414557723410197949847449507546765875829652367316595874873587019348505333611265061484514290277243004440008067594119372369109871882356855766998489130116922254994633623194339080034110441641519444715176948582316838950856616327287609637081954741339570059031425071212219560040034298003464136478628333806184716244296822941388084686538850884861854864347395128784413034698878950189508215622289521753474848459987079690487121223735911331138579034275840000000000000000000000000000000000000000000000000000000000000000000000000000000000000000000000000000000000000000000000000000000000000000000000000000000000000000000000000000000000000000000000000000000000000000000000000000000000000000000000000000000000000000000000000000000000000000000000000000000000000000000000000000000000000000000000000000000000000000000000000000000000000000000000000000000000000000000000000000000000000000000000000000000000000000000000000000000000000000000000000000000000000000000000000000000000000000000000000000000000000000000000000000000000000000000000000000000000000000000000000000000000000000000000000000000000000000000000000000000000000000000000000000000000000000000000000000000000000000000000000000000000000000000000000000000000000000000000000000000000000000000000000000000000000000000000000000000000000000000000000000000000000000000000000000000000000000000000000000000000000000000000000000000000000000000000000000000000000000000000000000000000000000000000000000000000000000000000000000000000000000000000000000000000000000000000000000000000000000000000000000000000000000000000000000000000000000000000000000000000000000000000000000000000000000000000000000000000000000000000000000000000000000000000000000000000000000000000000000000000000000000000000000000000000000000000000000000000000000000000000000000000000000000000000000000000000000000000000000000000000000000000000000000000000000000000000000000000000000000000000000000000000000000000000000000000000000000000000000000000000000000000000000000000000000000000000000000000000000000000000000000000000000000000000000000000000000000000000000000000000000000000000000000000000000000000000000000000000000000000000000000000000000000000000000000000000000000000000000000000000000000000000000000000000000000000000000000000000000000000000000000000000000000000000000000000000000000000000000000000000000000000000000000000000000000000000000000000000000000000000000000000000000000000000000000000000000000000000000000000000000000000000000000000000000000000000000000000000000000000000000000000000000000000000000000000000000000000000000000000000000000000000000000000000000000000000000000000000000000000000000000000000000000000000000000000000000000000000000000000000000000000000000000000000000000000000000000000000000000000000000000000000000000000000000000000000000000000000000000000000000000000000000000000000000000000"
      ]
     },
     "execution_count": 20,
     "metadata": {},
     "output_type": "execute_result"
    }
   ],
   "source": [
    "from sys import setrecursionlimit\n",
    "setrecursionlimit(10000)\n",
    "fact(9500)"
   ]
  },
  {
   "cell_type": "markdown",
   "metadata": {
    "slideshow": {
     "slide_type": "subslide"
    }
   },
   "source": [
    "### Exercice\n",
    "\n",
    "Qu'affichent les appels de fonctions suivants ?"
   ]
  },
  {
   "cell_type": "code",
   "execution_count": 21,
   "metadata": {
    "slideshow": {
     "slide_type": "subslide"
    }
   },
   "outputs": [
    {
     "name": "stdout",
     "output_type": "stream",
     "text": [
      "10 9 8 7 6 5 4 3 2 1 0\n"
     ]
    }
   ],
   "source": [
    "def fonction1(n):\n",
    "    if n == 0:\n",
    "        print(n)\n",
    "    else:\n",
    "        print(n, end=' ')\n",
    "        fonction1(n-1)\n",
    "        \n",
    "fonction1(10)"
   ]
  },
  {
   "cell_type": "code",
   "execution_count": 22,
   "metadata": {
    "slideshow": {
     "slide_type": "subslide"
    }
   },
   "outputs": [
    {
     "name": "stdout",
     "output_type": "stream",
     "text": [
      "0 1 2 3 4 5 6 7 8 9 10 "
     ]
    }
   ],
   "source": [
    "def fonction2(n):\n",
    "    if n == 0:\n",
    "        print(n, end=' ')\n",
    "    else:\n",
    "        fonction2(n-1)\n",
    "        print(n, end=' ')\n",
    "        \n",
    "fonction2(10)"
   ]
  },
  {
   "cell_type": "code",
   "execution_count": 23,
   "metadata": {
    "slideshow": {
     "slide_type": "subslide"
    }
   },
   "outputs": [
    {
     "name": "stdout",
     "output_type": "stream",
     "text": [
      "10 9 8 7 6 5 4 3 2 1 0 1 2 3 4 5 6 7 8 9 10 "
     ]
    }
   ],
   "source": [
    "def fonction3(n):\n",
    "    if n == 0:\n",
    "        print(n, end=' ')\n",
    "    else:\n",
    "        print(n, end=' ')\n",
    "        fonction3(n-1)\n",
    "        print(n, end=' ')\n",
    "        \n",
    "fonction3(10)"
   ]
  },
  {
   "cell_type": "markdown",
   "metadata": {
    "slideshow": {
     "slide_type": "subslide"
    }
   },
   "source": [
    "### Exemple : termine-t-elle ?\n",
    "\n",
    "Pour un certain entier $a$ donné, on définit la suite de Syracuse $(S^a_n)_{n \\geq 0}$ de premier terme $a$ par $S^a_0 = a$ et pour tout $n \\geq 1$, \n",
    "\n",
    "$$\n",
    "\\begin{cases}\n",
    "S^a_n = S^a_{n-1} / 2 & \\text{ si $S^a_{n-1}$ est pair} \\\\\n",
    "S^a_n = 3 \\cdot S^a_{n-1} +1 & \\text{ sinon }\n",
    "\\end{cases}\n",
    "$$\n",
    "\n",
    "On cherche à savoir quel est le plus petit rang $n$ tel que $S^a_n = 1$."
   ]
  },
  {
   "cell_type": "code",
   "execution_count": null,
   "metadata": {
    "slideshow": {
     "slide_type": "subslide"
    }
   },
   "outputs": [],
   "source": [
    "def suivant(n):\n",
    "    if n % 2 == 0:\n",
    "        return n // 2\n",
    "    else:\n",
    "        return 3*n + 1    \n",
    "\n",
    "def temps(n):\n",
    "    if n == 1:\n",
    "        print(1)\n",
    "        return 0\n",
    "    else:\n",
    "        print(n, end=' ')\n",
    "        s = suivant(n)\n",
    "        return 1 + temps(s)"
   ]
  },
  {
   "cell_type": "code",
   "execution_count": null,
   "metadata": {
    "slideshow": {
     "slide_type": "subslide"
    }
   },
   "outputs": [],
   "source": [
    "temps(8)"
   ]
  },
  {
   "cell_type": "code",
   "execution_count": null,
   "metadata": {
    "slideshow": {
     "slide_type": "subslide"
    }
   },
   "outputs": [],
   "source": [
    "for i in range(1,10):\n",
    "    print(\"temps de vol à partir de\", i, \":\", temps(i))\n",
    "    print()"
   ]
  },
  {
   "cell_type": "markdown",
   "metadata": {
    "slideshow": {
     "slide_type": "subslide"
    }
   },
   "source": [
    "-   Fonction `suivant` : terme suivant de la suite de Syracuse\n",
    "-   Temps de vol : résultat de `temps(n)`\n",
    "-   *Personne* n'a encore réussi à prouver qu'elle termine toujours !\n",
    "-   L'évolution du temps de vol de la suite fait des choses inattentues... (*source : Wikipedia*)"
   ]
  },
  {
   "cell_type": "markdown",
   "metadata": {
    "slideshow": {
     "slide_type": "subslide"
    }
   },
   "source": [
    "<img src='https://upload.wikimedia.org/wikipedia/commons/b/b9/Collatz-stopping-time.svg' width='50%'></img>"
   ]
  },
  {
   "cell_type": "markdown",
   "metadata": {
    "slideshow": {
     "slide_type": "subslide"
    }
   },
   "source": [
    "### Exercice\n",
    "\n",
    "Pour convertir un nombre $n$ en base 2, on peut :\n",
    "\n",
    "1. Calculer le quotient $q$ et le reste $r$ de $n$ par 2\n",
    "2. Convertir $q$ en base 2\n",
    "3. Ajouter $r$ comme dernier chiffre au résultat obtenu\n",
    "\n",
    "Écrire une fonction récursive convertissant $n$ en base 2 (renvoie une liste de *bits*), puis dans une base $b$ quelconque."
   ]
  },
  {
   "cell_type": "code",
   "execution_count": null,
   "metadata": {
    "scrolled": true,
    "slideshow": {
     "slide_type": "subslide"
    }
   },
   "outputs": [],
   "source": [
    "def decimal_vers_binaire(n):    \n",
    "    if n < 2:\n",
    "        return [n]\n",
    "    else:\n",
    "        q, r = divmod(n, 2)  # étape 1\n",
    "        res = decimal_vers_binaire(q)  # étape 2\n",
    "        res.append(r)\n",
    "        return res\n",
    "    \n",
    "decimal_vers_binaire(3422)"
   ]
  },
  {
   "cell_type": "code",
   "execution_count": null,
   "metadata": {
    "scrolled": true,
    "slideshow": {
     "slide_type": "subslide"
    }
   },
   "outputs": [],
   "source": [
    "def decimal_vers_base(n, b):    \n",
    "    if n < b:\n",
    "        return [n]\n",
    "    else:\n",
    "        q, r = divmod(n, b)  # étape 1\n",
    "        res = decimal_vers_base(q, b)  # étape 2\n",
    "        res.append(r)\n",
    "        return res\n",
    "    \n",
    "decimal_vers_base(3422, 2)"
   ]
  },
  {
   "cell_type": "code",
   "execution_count": null,
   "metadata": {
    "slideshow": {
     "slide_type": "subslide"
    }
   },
   "outputs": [],
   "source": [
    "decimal_vers_base(3422, 8)"
   ]
  },
  {
   "cell_type": "markdown",
   "metadata": {
    "slideshow": {
     "slide_type": "subslide"
    }
   },
   "source": [
    "### Exercice\n",
    "\n",
    "La suite de Fibonacci $(F_n)_{n \\geq 0}$ est définie par :\n",
    "\n",
    "$$\n",
    "\\begin{cases}\n",
    "F_0 = F_1 = 1\\\\\n",
    "F_n = F_{n-1} + F_{n-2} & \\text{ pour tout } n \\geq 2\n",
    "\\end{cases}\n",
    "$$\n",
    "\n",
    "Écrire une fonction récursive calculant le $n$-ème terme $F_n$ de la suite de Fibonacci"
   ]
  },
  {
   "cell_type": "code",
   "execution_count": null,
   "metadata": {
    "slideshow": {
     "slide_type": "subslide"
    }
   },
   "outputs": [],
   "source": [
    "def fibonacci(n):\n",
    "    if n <= 1:\n",
    "        return 1\n",
    "    else:\n",
    "        return fibonacci(n-1) + fibonacci(n-2)"
   ]
  },
  {
   "cell_type": "code",
   "execution_count": null,
   "metadata": {
    "slideshow": {
     "slide_type": "subslide"
    }
   },
   "outputs": [],
   "source": [
    "for i in range(10):\n",
    "    print(fibonacci(i))"
   ]
  },
  {
   "cell_type": "markdown",
   "metadata": {
    "slideshow": {
     "slide_type": "subslide"
    }
   },
   "source": [
    "Combien d'appels récursifs cette fonction réalise-t-elle au total pour $n = 5$ ? Pour $n = 10$ ? On peut compter à la main, ou bien demander à la fonction de compter..."
   ]
  },
  {
   "cell_type": "code",
   "execution_count": null,
   "metadata": {
    "slideshow": {
     "slide_type": "-"
    }
   },
   "outputs": [],
   "source": [
    "def fibonacci(n):\n",
    "    if n <= 1:\n",
    "        return 1, 1\n",
    "    else:\n",
    "        a, cpt1 = fibonacci(n-1)\n",
    "        b, cpt2 = fibonacci(n-2)\n",
    "        return a + b, cpt1 + cpt2 + 1"
   ]
  },
  {
   "cell_type": "code",
   "execution_count": null,
   "metadata": {
    "slideshow": {
     "slide_type": "subslide"
    }
   },
   "outputs": [],
   "source": [
    "fibonacci(9)"
   ]
  },
  {
   "cell_type": "code",
   "execution_count": null,
   "metadata": {
    "slideshow": {
     "slide_type": "subslide"
    }
   },
   "outputs": [],
   "source": [
    "fibonacci(35)"
   ]
  },
  {
   "cell_type": "markdown",
   "metadata": {
    "slideshow": {
     "slide_type": "subslide"
    }
   },
   "source": [
    "Visualisons l'ensemble des appels, organisé sous la forme d'un arbre :"
   ]
  },
  {
   "cell_type": "code",
   "execution_count": null,
   "metadata": {
    "slideshow": {
     "slide_type": "-"
    }
   },
   "outputs": [],
   "source": [
    "import callstats as cs\n",
    "\n",
    "@cs.CallRecorder\n",
    "def f(n):\n",
    "    if n <= 1:\n",
    "        return 1\n",
    "    else:\n",
    "        return f(n-1) + f(n-2)"
   ]
  },
  {
   "cell_type": "code",
   "execution_count": null,
   "metadata": {
    "slideshow": {
     "slide_type": "subslide"
    }
   },
   "outputs": [],
   "source": [
    "from IPython.display import Image\n",
    "g = f(5).graph()\n",
    "Image(g.pipe(format='png'))"
   ]
  },
  {
   "cell_type": "markdown",
   "metadata": {
    "slideshow": {
     "slide_type": "subslide"
    }
   },
   "source": [
    "Le problème est que certains appels sont répétés un très grand nombre de fois (on calcule plusieurs fois la même chose...). On dira dans la suite du cours que cette fonction a une *complexité exponentielle* (ce qui est énorme)."
   ]
  },
  {
   "cell_type": "markdown",
   "metadata": {
    "slideshow": {
     "slide_type": "slide"
    }
   },
   "source": [
    "## Parcours récursif de listes\n",
    "\n",
    "-   **Idée :** traiter un élément, puis appel récursif sur le reste\n",
    "-   **Cas d'arrêt :** liste vide, ou liste réduite à un élément"
   ]
  },
  {
   "cell_type": "markdown",
   "metadata": {
    "slideshow": {
     "slide_type": "subslide"
    }
   },
   "source": [
    "<img src=\"img/reclistes.png\" width=70%></img>"
   ]
  },
  {
   "cell_type": "markdown",
   "metadata": {
    "slideshow": {
     "slide_type": "-"
    }
   },
   "source": [
    "Nombreuses variantes possibles *(dans l'autre sens...)*  "
   ]
  },
  {
   "cell_type": "markdown",
   "metadata": {
    "slideshow": {
     "slide_type": "subslide"
    }
   },
   "source": [
    "### Recherche *exhaustive* d'élément\n",
    "\n",
    "Reprenons un exemple traité plus haut :\n",
    "\n",
    "**Recherche** : Écrivez une fonction Python prenant en argument une liste et un objet quelconque, et renvoyant `True` si l'objet est dans la liste, `False` sinon... *sans utiliser de boucle ni le mot-clé `in`*."
   ]
  },
  {
   "cell_type": "markdown",
   "metadata": {
    "slideshow": {
     "slide_type": "subslide"
    }
   },
   "source": [
    "#### Premier essai : avec une *slice*"
   ]
  },
  {
   "cell_type": "code",
   "execution_count": null,
   "metadata": {
    "slideshow": {
     "slide_type": "-"
    }
   },
   "outputs": [],
   "source": [
    "def est_dans(lst, element):\n",
    "    \"\"\"\n",
    "    >>> est_dans([], 0)\n",
    "    False\n",
    "    >>> est_dans([0, 0, 0, 0], 1)\n",
    "    False\n",
    "    >>> est_dans([0, 0, 'a', 0], ' a')\n",
    "    True\n",
    "    \"\"\"\n",
    "    if len(lst) == 0:\n",
    "        return False\n",
    "    else:\n",
    "        if lst[0] == element:\n",
    "            return True\n",
    "        else:\n",
    "            return est_dans(lst[1:len(lst)], element)"
   ]
  },
  {
   "cell_type": "code",
   "execution_count": null,
   "metadata": {
    "slideshow": {
     "slide_type": "subslide"
    }
   },
   "outputs": [],
   "source": [
    "est_dans([0, 0, 0, 0], 1)"
   ]
  },
  {
   "cell_type": "code",
   "execution_count": null,
   "metadata": {
    "slideshow": {
     "slide_type": "-"
    }
   },
   "outputs": [],
   "source": [
    "est_dans([0, 0, 'a', 0], 'a')"
   ]
  },
  {
   "cell_type": "code",
   "execution_count": null,
   "metadata": {
    "slideshow": {
     "slide_type": "-"
    }
   },
   "outputs": [],
   "source": [
    "est_dans([], 0)"
   ]
  },
  {
   "cell_type": "code",
   "execution_count": null,
   "metadata": {
    "scrolled": true,
    "slideshow": {
     "slide_type": "subslide"
    }
   },
   "outputs": [],
   "source": [
    "def cherche1(lst, elem):\n",
    "    if lst[0] == elem:\n",
    "        return True\n",
    "    else:\n",
    "        return cherche1(lst[1:len(lst)], elem)\n",
    "    \n",
    "cherche1([1, 2, 3], 0)"
   ]
  },
  {
   "cell_type": "markdown",
   "metadata": {
    "slideshow": {
     "slide_type": "-"
    }
   },
   "source": [
    "*Problème :* oubli d'un cas d'arrêt"
   ]
  },
  {
   "cell_type": "markdown",
   "metadata": {
    "slideshow": {
     "slide_type": "subslide"
    }
   },
   "source": [
    "#### Second essai : *slice* et arrêt sur liste vide"
   ]
  },
  {
   "cell_type": "code",
   "execution_count": null,
   "metadata": {
    "slideshow": {
     "slide_type": "-"
    }
   },
   "outputs": [],
   "source": [
    "def cherche2(lst, elem):\n",
    "    if len(lst) == 0:\n",
    "        return False\n",
    "    elif lst[0] == elem:\n",
    "        return True\n",
    "    else:\n",
    "        return cherche2(lst[1:], elem)\n",
    "        \n",
    "cherche2([1, 2, 3], 0)"
   ]
  },
  {
   "cell_type": "markdown",
   "metadata": {
    "slideshow": {
     "slide_type": "slide"
    }
   },
   "source": [
    "## Conclusion"
   ]
  },
  {
   "cell_type": "markdown",
   "metadata": {
    "slideshow": {
     "slide_type": "subslide"
    }
   },
   "source": [
    "### Pourquoi programmer des fonctions récursives ?\n",
    "\n",
    "-   On peut tout calculer de cette façon (sans boucles !)\n",
    "-   Certains problèmes plus simples à résoudre\n",
    "    \n",
    "    -   Bien adapté à des structures de données récursives\n",
    "    -   Solutions souvent plus concises et compréhensibles\n",
    "    -   Algorithmes parfois plus faciles à analyser\n",
    "    "
   ]
  },
  {
   "cell_type": "markdown",
   "metadata": {
    "slideshow": {
     "slide_type": "subslide"
    }
   },
   "source": [
    "-   Certains le sont beaucoup moins...\n",
    "    \n",
    "    -   Complexité parfois plus difficile à évaluer\n",
    "    -   Opérations parfois inadaptées (ex : listes Python)\n",
    "    \n",
    "-   Peut entraîner un surcoût\n",
    "    \n",
    "    -   Temps de gestion de la pile\n",
    "    -   Espace mémoire pour chaque appel imbriqué\n",
    "    -   Recopies si on n'est pas prudent"
   ]
  },
  {
   "cell_type": "markdown",
   "metadata": {
    "slideshow": {
     "slide_type": "subslide"
    }
   },
   "source": [
    "### Bilan de la récursivité\n",
    "\n",
    "-   Avantages:\n",
    "    \n",
    "    - $\\checkmark$ simplifie la vie quand on a compris le ``truc''\n",
    "    - $\\checkmark$ code souvent plus court et donc plus lisible\n",
    "    \n",
    "-   Inconvénients:\n",
    "\n",
    "    - $\\times$ il faut comprendre le truc...\n",
    "    - $\\times$ tous les langages ne s'y prêtent pas aussi bien\n",
    "    - $\\times$ souvent moins performant *($\\rightarrow$ dérécursification, récursion terminale...)*"
   ]
  },
  {
   "cell_type": "markdown",
   "metadata": {
    "slideshow": {
     "slide_type": "slide"
    }
   },
   "source": [
    "## <img src='img/non-exigible.png' style='display:inline; width:1.5em'> Raffinement du parcours de listes *(non exigible)*\n",
    "\n",
    "**Problème :** \n",
    "- Le parcours de liste récursif vu précédemment recopie une portion de la liste à chaque appel (tous les éléments sauf 1) !\n",
    "- C'est très coûteux en temps d'exécution et en mémoire."
   ]
  },
  {
   "cell_type": "code",
   "execution_count": null,
   "metadata": {
    "slideshow": {
     "slide_type": "subslide"
    }
   },
   "outputs": [],
   "source": [
    "%%nbtutor -r -f -d 11 -i\n",
    "\n",
    "def cherche2(lst, elem):\n",
    "    if len(lst) == 0:\n",
    "        return False\n",
    "    elif lst[0] == elem:\n",
    "        return True\n",
    "    else:\n",
    "        return cherche2(lst[1:], elem)\n",
    "\n",
    "cherche2(list(range(10)), 9)"
   ]
  },
  {
   "cell_type": "markdown",
   "metadata": {
    "slideshow": {
     "slide_type": "subslide"
    }
   },
   "source": [
    "Cela revient (en plus rapide) à écrire une fonction `queue(lst)` qui renvoie une copie de `lst` privée de son premier élément :"
   ]
  },
  {
   "cell_type": "code",
   "execution_count": null,
   "metadata": {
    "slideshow": {
     "slide_type": "-"
    }
   },
   "outputs": [],
   "source": [
    "def queue(lst):\n",
    "    res = []\n",
    "    for i in range(1, len(lst)):\n",
    "        res.append(lst[i])\n",
    "    return res\n",
    "\n",
    "def cherche2_bis(lst, elem):\n",
    "    if len(lst) == 0:\n",
    "        return False\n",
    "    elif lst[0] == elem:\n",
    "        return True\n",
    "    else:\n",
    "        return cherche2(lst[1:], elem)"
   ]
  },
  {
   "cell_type": "markdown",
   "metadata": {
    "slideshow": {
     "slide_type": "subslide"
    }
   },
   "source": [
    "**Exercice :** compter le nombre d'appels à la fonction `append`\n",
    "-   au cours de l'appel `cherche2_bis([0, 0, 0, 0, 0], 1)`\n",
    "-   au cours de l'appel `cherche2_bis([0] * n, 1)` pour `n` un naturel quelconque"
   ]
  },
  {
   "cell_type": "markdown",
   "metadata": {
    "slideshow": {
     "slide_type": "subslide"
    }
   },
   "source": [
    "#### Troisième essai : avec `pop(0)`"
   ]
  },
  {
   "cell_type": "code",
   "execution_count": null,
   "metadata": {
    "slideshow": {
     "slide_type": "-"
    }
   },
   "outputs": [],
   "source": [
    "def cherche3(lst, elem):\n",
    "    if len(lst) == 0:\n",
    "        return False \n",
    "    premier = lst.pop(0)\n",
    "    if premier == elem:\n",
    "        return True\n",
    "    else:\n",
    "        return cherche3(lst, elem)\n",
    "\n",
    "lst = [1, 2, 3]\n",
    "print(cherche3(lst, 3))\n",
    "print(lst)\n",
    "print(cherche3(lst, 3))"
   ]
  },
  {
   "cell_type": "markdown",
   "metadata": {
    "slideshow": {
     "slide_type": "subslide"
    }
   },
   "source": [
    "*Avantage :* une seule copie, mais... \n",
    "- détruit la liste !\n",
    "- Inefficace ! (`pop(0)` décale toute la liste)"
   ]
  },
  {
   "cell_type": "markdown",
   "metadata": {
    "slideshow": {
     "slide_type": "subslide"
    }
   },
   "source": [
    "#### Quatrième essai : avec `pop()`"
   ]
  },
  {
   "cell_type": "code",
   "execution_count": null,
   "metadata": {
    "slideshow": {
     "slide_type": "-"
    }
   },
   "outputs": [],
   "source": [
    "def cherche4(lst, elem):\n",
    "    if len(lst) == 0:\n",
    "        return False \n",
    "    dernier = lst.pop()\n",
    "    if dernier == elem:\n",
    "        return True\n",
    "    else:\n",
    "        return cherche4(lst, elem)\n",
    "    "
   ]
  },
  {
   "cell_type": "code",
   "execution_count": null,
   "metadata": {
    "slideshow": {
     "slide_type": "subslide"
    }
   },
   "outputs": [],
   "source": [
    "lst = ['a', 'b', 'c']\n",
    "cherche4(lst, 'b')"
   ]
  },
  {
   "cell_type": "code",
   "execution_count": null,
   "metadata": {
    "slideshow": {
     "slide_type": "-"
    }
   },
   "outputs": [],
   "source": [
    "cherche4(lst, 'b')"
   ]
  },
  {
   "cell_type": "markdown",
   "metadata": {
    "slideshow": {
     "slide_type": "-"
    }
   },
   "source": [
    "-   Parcourt la liste depuis la fin \n",
    "-   Plus efficace, mais... détruit toujours la liste !  "
   ]
  },
  {
   "cell_type": "markdown",
   "metadata": {
    "slideshow": {
     "slide_type": "subslide"
    }
   },
   "source": [
    "#### Cinquième essai : avec un indice"
   ]
  },
  {
   "cell_type": "markdown",
   "metadata": {
    "slideshow": {
     "slide_type": "-"
    }
   },
   "source": [
    "<img src=\"img/reclistes2.png\" width=70%></img>"
   ]
  },
  {
   "cell_type": "code",
   "execution_count": null,
   "metadata": {
    "slideshow": {
     "slide_type": "subslide"
    }
   },
   "outputs": [],
   "source": [
    "def cherche5(lst, elem, indice):\n",
    "    if indice >= len(lst):\n",
    "        return False\n",
    "    elif lst[indice] == elem:\n",
    "        return True\n",
    "    else:\n",
    "        return cherche5(lst, elem, indice+1)  \n",
    "    \n",
    "lst = ['a', 'b', 'c']\n",
    "cherche5(lst, 'b', 0)"
   ]
  },
  {
   "cell_type": "markdown",
   "metadata": {
    "slideshow": {
     "slide_type": "subslide"
    }
   },
   "source": [
    "- Avantage : travaille toujours sur la même liste\n",
    "- Défaut : change la signature de la fonction (3 paramètres)"
   ]
  },
  {
   "cell_type": "markdown",
   "metadata": {
    "slideshow": {
     "slide_type": "subslide"
    }
   },
   "source": [
    "#### Sixième essai : avec un paramètre par défaut"
   ]
  },
  {
   "cell_type": "code",
   "execution_count": null,
   "metadata": {
    "slideshow": {
     "slide_type": "-"
    }
   },
   "outputs": [],
   "source": [
    "def cherche6(lst, elem, indice=0):\n",
    "    if indice >= len(lst):\n",
    "        return False\n",
    "    elif lst[indice] == elem:\n",
    "        return True\n",
    "    else:\n",
    "        return cherche6(lst, elem, indice+1)\n",
    "       "
   ]
  },
  {
   "cell_type": "code",
   "execution_count": null,
   "metadata": {
    "slideshow": {
     "slide_type": "subslide"
    }
   },
   "outputs": [],
   "source": [
    "lst = ['a', 'b', 'c']\n",
    "cherche6(lst, 'd')"
   ]
  },
  {
   "cell_type": "markdown",
   "metadata": {
    "slideshow": {
     "slide_type": "-"
    }
   },
   "source": [
    "-   Avantage : travaille toujours sur la même liste\n",
    "-   Valeur par défaut de `indice` si absent (`indice=0`)\n",
    "-   Appel sans le troisième argument : cherche sur toute la liste"
   ]
  },
  {
   "cell_type": "markdown",
   "metadata": {
    "slideshow": {
     "slide_type": "subslide"
    }
   },
   "source": [
    "#### Une dernière forme : avec une fonction interne"
   ]
  },
  {
   "cell_type": "code",
   "execution_count": null,
   "metadata": {
    "slideshow": {
     "slide_type": "-"
    }
   },
   "outputs": [],
   "source": [
    "def cherche7(lst, elem):\n",
    "\n",
    "    # fonction auxiliaire récursive!\n",
    "    def aux(indice):  \n",
    "        if indice >= len(lst):\n",
    "            return False\n",
    "        elif lst[indice] == elem:\n",
    "            return True\n",
    "        else:\n",
    "            return aux(indice + 1)\n",
    "\n",
    "    return aux(0)\n",
    "\n",
    "lst = ['a', 'b', 'c']\n",
    "cherche7(lst, 'c')"
   ]
  },
  {
   "cell_type": "markdown",
   "metadata": {
    "slideshow": {
     "slide_type": "subslide"
    }
   },
   "source": [
    "**On compare !**\n",
    "\n",
    "Pour voir un peu comment ces fonctions se comportent en pratique, on va les chronométrer avec `timeit` sur des entrées de la forme `[0] * n`."
   ]
  },
  {
   "cell_type": "code",
   "execution_count": null,
   "metadata": {
    "slideshow": {
     "slide_type": "-"
    }
   },
   "outputs": [],
   "source": [
    "n = 20000"
   ]
  },
  {
   "cell_type": "code",
   "execution_count": null,
   "metadata": {
    "slideshow": {
     "slide_type": "-"
    }
   },
   "outputs": [],
   "source": [
    "from sys import setrecursionlimit\n",
    "setrecursionlimit(2*n)"
   ]
  },
  {
   "cell_type": "code",
   "execution_count": null,
   "metadata": {
    "slideshow": {
     "slide_type": "-"
    }
   },
   "outputs": [],
   "source": [
    "%timeit cherche2([0] * n, 1)\n",
    "%timeit cherche3([0] * n, 1)\n",
    "%timeit cherche6([0] * n, 1)"
   ]
  }
 ],
 "metadata": {
  "celltoolbar": "Visualize",
  "kernelspec": {
   "display_name": "Python 3 (ipykernel)",
   "language": "python",
   "name": "python3"
  },
  "language_info": {
   "codemirror_mode": {
    "name": "ipython",
    "version": 3
   },
   "file_extension": ".py",
   "mimetype": "text/x-python",
   "name": "python",
   "nbconvert_exporter": "python",
   "pygments_lexer": "ipython3",
   "version": "3.9.9"
  }
 },
 "nbformat": 4,
 "nbformat_minor": 2
}
