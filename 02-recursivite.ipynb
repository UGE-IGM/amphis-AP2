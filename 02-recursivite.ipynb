{
 "cells": [
  {
   "cell_type": "code",
   "execution_count": null,
   "metadata": {
    "slideshow": {
     "slide_type": "skip"
    }
   },
   "outputs": [],
   "source": [
    "# dé-commenter cette ligne si nbtutor n'est pas installé\n",
    "%load_ext nbtutor"
   ]
  },
  {
   "cell_type": "code",
   "execution_count": null,
   "metadata": {
    "slideshow": {
     "slide_type": "skip"
    }
   },
   "outputs": [],
   "source": [
    "from callstats import CallRecorder"
   ]
  },
  {
   "cell_type": "code",
   "execution_count": null,
   "metadata": {
    "slideshow": {
     "slide_type": "skip"
    }
   },
   "outputs": [],
   "source": [
    "from IPython.core.display import HTML\n",
    "\n",
    "def _set_css_style(css_file_path):\n",
    "   \"\"\"\n",
    "   Read the custom CSS file and load it into Jupyter.\n",
    "   Pass the file path to the CSS file.\n",
    "   \"\"\"\n",
    "\n",
    "   styles = open(css_file_path, \"r\").read()\n",
    "   s = '<style>%s</style>' % styles     \n",
    "   return HTML(s)\n",
    "\n",
    "_set_css_style('custom/custom.css')"
   ]
  },
  {
   "cell_type": "markdown",
   "metadata": {
    "slideshow": {
     "slide_type": "slide"
    }
   },
   "source": [
    "<div style='width:20em'><img src='img/logo-igm.png'></div>\n",
    "<div style='font-size:larger'><strong>Algorithmique et programmation 2</strong><br>\n",
    "L1 Mathématiques - L1 Informatique<br>\n",
    "Semestre 2\n",
    "</div>\n",
    "\n",
    "# Récursivité"
   ]
  },
  {
   "cell_type": "markdown",
   "metadata": {
    "slideshow": {
     "slide_type": "slide"
    }
   },
   "source": [
    "## Appels de fonctions et pile d'appels"
   ]
  },
  {
   "cell_type": "markdown",
   "metadata": {
    "slideshow": {
     "slide_type": "subslide"
    }
   },
   "source": [
    "### Une petite histoire"
   ]
  },
  {
   "cell_type": "markdown",
   "metadata": {
    "slideshow": {
     "slide_type": "subslide"
    }
   },
   "source": [
    "- Vous allez chez G. en lisant un bouquin  \n",
    "    - Arrivée à la station, vous commencez à consulter le plan  \n",
    "        - R. appelle pour vous proposer un cinéma demain  \n",
    "            - Vous consultez le programme  \n",
    "            - Vous trouvez un film qui vous plaît  \n",
    "        - Vous vous mettez d'accord avec R.  \n",
    "    - Vous finissez de chercher votre ligne de métro  \n",
    "- Vous reprenez votre lecture à la bonne page\n",
    "\n",
    "Un être humain sait faire ça (un peu), **mais une machine** ?"
   ]
  },
  {
   "cell_type": "markdown",
   "metadata": {
    "slideshow": {
     "slide_type": "subslide"
    }
   },
   "source": [
    "### Les appels de fonctions\n",
    "  \n",
    "-   Un programme utilise des fonctions (pré-définies ou non)\n",
    "-   Certaines fonctions font appel à d'autres fonctions\n",
    "-   Au moment de l'appel, l'exécution de la fonction appelante s'interrompt\n",
    "-   Après un appel, l'exécution doit reprendre au bon endroit, et avec les\n",
    "    bonnes valeurs des variables  "
   ]
  },
  {
   "cell_type": "markdown",
   "metadata": {
    "slideshow": {
     "slide_type": "subslide"
    }
   },
   "source": [
    "<img src='img/appelrec.png' width=50%></img>"
   ]
  },
  {
   "cell_type": "markdown",
   "metadata": {
    "slideshow": {
     "slide_type": "subslide"
    }
   },
   "source": [
    "### Exemple : quelques tâches simples\n",
    "\n",
    "**Exercice :**\n",
    "Décrivez l'exécution du programme suivant, l'évolution de la pile\n",
    "d'appels et les affichages"
   ]
  },
  {
   "cell_type": "code",
   "execution_count": null,
   "metadata": {
    "slideshow": {
     "slide_type": "subslide"
    }
   },
   "outputs": [],
   "source": [
    "%%nbtutor -r -f -d 10\n",
    "\n",
    "def pgcd(a, b):\n",
    "    while b:\n",
    "        a, b = b, a % b\n",
    "    return a\n",
    "\n",
    "def simplifier(fraction):\n",
    "    d = pgcd(fraction[0], fraction[1])\n",
    "    res = (fraction[0] // d, fraction[1] // d)\n",
    "    return res\n",
    "\n",
    "def ajouter(frac1, frac2):\n",
    "    denom = frac1[1] * frac2[1]\n",
    "    num = frac1[0] * frac2[1] + frac2[0] * frac1[1]\n",
    "    res = simplifier((num, denom))\n",
    "    return res\n",
    "\n",
    "frac = ajouter((1, 3), (1, 6))"
   ]
  },
  {
   "cell_type": "code",
   "execution_count": null,
   "metadata": {
    "slideshow": {
     "slide_type": "subslide"
    }
   },
   "outputs": [],
   "source": [
    "@CallRecorder\n",
    "def pgcd(a, b):\n",
    "    while b:\n",
    "        a, b = b, a % b\n",
    "    return a\n",
    "\n",
    "@CallRecorder\n",
    "def simplifier(fraction):\n",
    "    d = pgcd(fraction[0], fraction[1])\n",
    "    res = (fraction[0] // d, fraction[1] // d)\n",
    "    return res\n",
    "\n",
    "@CallRecorder\n",
    "def ajouter(frac1, frac2):\n",
    "    denom = frac1[1] * frac2[1]\n",
    "    num = frac1[0] * frac2[1] + frac2[0] * frac1[1]\n",
    "    res = simplifier((num, denom))\n",
    "    return res\n",
    "\n",
    "my_call = ajouter((1, 3), (1, 6))\n",
    "print(my_call.trace())"
   ]
  },
  {
   "cell_type": "markdown",
   "metadata": {
    "slideshow": {
     "slide_type": "subslide"
    }
   },
   "source": [
    "### Pile d'appels\n",
    "\n",
    "**Pile d'appels :** liste ordonnée de tâches en cours\n",
    "  \n",
    "-   « Fond » de la pile : première tâche commencée (la plus ancienne)\n",
    "-   « Sommet » de la pile : dernière tâche commencée (la plus récente)  "
   ]
  },
  {
   "cell_type": "markdown",
   "metadata": {
    "slideshow": {
     "slide_type": "subslide"
    }
   },
   "source": [
    "  \n",
    "\n",
    "  Chaque élément de pile <!-- $1 -->\n",
    "  contient :\n",
    "  \n",
    "  -   Valeur des paramètres de la fonction en cours\n",
    "  -   Position du site d'appel (instruction à exécuter au retour)\n",
    "  -   Variables locales à la fonction, état de l'interpréteur\n",
    "  "
   ]
  },
  {
   "cell_type": "markdown",
   "metadata": {
    "slideshow": {
     "slide_type": "subslide"
    }
   },
   "source": [
    "### Fonctionnement de la pile\n",
    "\n",
    "  À chaque nouvel **appel** :\n",
    "  -   La fonction appelante évalue chaque paramètre et met sur la pile (des références à) ces valeurs\n",
    "  -   L'appelante sauvegarde son état (ou *contexte*) pour\n",
    "    pouvoir reprendre son exécution une fois l'appel terminé\n",
    "  -   L'interpréteur donne la main à la fonction appelée\n",
    "  -   L'appelée démarre son exécution, en plaçant ses éventuelles\n",
    "    variables locales au sommet de la pile  "
   ]
  },
  {
   "cell_type": "markdown",
   "metadata": {
    "slideshow": {
     "slide_type": "subslide"
    }
   },
   "source": [
    "À chaque nouveau **retour** de fonction :\n",
    "  \n",
    "-   L'appelée dépose à un endroit convenu sa valeur de retour\n",
    "-   L'appelée détruit (« dépile ») toutes ses données locales\n",
    "-   L'interpréteur rend la main à la fonction appelante\n",
    "-   L'appelante récupère la valeur de retour et reprend son exécution\n",
    "\n",
    "Les détails (qui fait quoi, où, comment) dépendent de l'implémentation"
   ]
  },
  {
   "cell_type": "markdown",
   "metadata": {
    "slideshow": {
     "slide_type": "subslide"
    }
   },
   "source": [
    "### Exemple : périmètre d'un polygone"
   ]
  },
  {
   "cell_type": "code",
   "execution_count": null,
   "metadata": {
    "slideshow": {
     "slide_type": "-"
    }
   },
   "outputs": [],
   "source": [
    "%%nbtutor -r -f -d 3\n",
    "\n",
    "def distance(p, q):\n",
    "    '''Renvoie la longueur du côté\n",
    "    defini par p et q.'''\n",
    "    dx = (p[0] - q[0])\n",
    "    dy = (p[1] - q[1])\n",
    "    res = (dx ** 2 + dy ** 2) ** 0.5\n",
    "    return res\n",
    "\n",
    "def perimetre(P):\n",
    "    '''Renvoie le périmètre du polygone \n",
    "    défini par la liste P de points.'''\n",
    "    retval = 0\n",
    "    for i in range(-1, len(P) - 1):\n",
    "        d = distance(P[i], P[i+1])\n",
    "        retval += d\n",
    "    return retval\n",
    "\n",
    "p = perimetre([(0, 0), (0, 1), (1, 1), (1, 0)])"
   ]
  },
  {
   "cell_type": "code",
   "execution_count": null,
   "metadata": {
    "slideshow": {
     "slide_type": "subslide"
    }
   },
   "outputs": [],
   "source": [
    "@CallRecorder\n",
    "def distance(p, q):\n",
    "    '''Renvoie la longueur du côté\n",
    "    defini par p et q.'''\n",
    "    dx = (p[0] - q[0])\n",
    "    dy = (p[1] - q[1])\n",
    "    res = (dx ** 2 + dy ** 2) ** 0.5\n",
    "    return res\n",
    "\n",
    "@CallRecorder\n",
    "def perimetre(P):\n",
    "    '''Renvoie le périmètre du polygone \n",
    "    défini par la liste P de points.'''\n",
    "    retval = 0\n",
    "    for i in range(-1, len(P) - 1):\n",
    "        d = distance(P[i], P[i+1])\n",
    "        retval += d\n",
    "    return retval\n",
    "\n",
    "my_call = perimetre([(0, 0), (0, 1), (1, 1), (1, 0)])\n",
    "print(my_call.trace())"
   ]
  },
  {
   "cell_type": "markdown",
   "metadata": {
    "slideshow": {
     "slide_type": "slide"
    }
   },
   "source": [
    "## Programmation récursive\n",
    "\n",
    "### Principe\n",
    "\n",
    "C'est le même principe que le raisonnement ou la définition par récurrence en math !\n",
    "\n",
    "**Idée fondamentale :**\n",
    "Puisque une fonction peut en appeler une autre, pourquoi une fonction ne pourrait-elle pas s'appeler elle-même ?"
   ]
  },
  {
   "cell_type": "markdown",
   "metadata": {
    "slideshow": {
     "slide_type": "subslide"
    }
   },
   "source": [
    "### Exemple : produit \n",
    "\n",
    "Voici une proposition de définition « récurrente » du produit d'un nombre par un entier positif. \n",
    "\n",
    "Pour tout nombre $a$ et tout entier positif $b$, on a:\n",
    "\n",
    "$$\n",
    "a \\times b = \n",
    "\\begin{cases}\n",
    "  0 & \\text{si } b = 0,\n",
    "  \\\\\n",
    "  a + a \\times (b - 1) & \\text{sinon.}\n",
    "\\end{cases}\n",
    "$$"
   ]
  },
  {
   "cell_type": "markdown",
   "metadata": {
    "slideshow": {
     "slide_type": "subslide"
    }
   },
   "source": [
    "Voici une fonction Python qui imite cette définition :"
   ]
  },
  {
   "cell_type": "code",
   "execution_count": null,
   "metadata": {
    "slideshow": {
     "slide_type": "-"
    }
   },
   "outputs": [],
   "source": [
    "%%nbtutor -r -f -d 5\n",
    "   \n",
    "def produit(a, b):\n",
    "    \"\"\"Calcule le produit de a par b (entier positif), \n",
    "    sans utiliser l'opérateur « * » !\"\"\"\n",
    "    if b == 0:\n",
    "        res = 0\n",
    "        return res\n",
    "    else:\n",
    "        res = a + produit(a, b-1)\n",
    "        return res\n",
    "    \n",
    "produit(4, 3)"
   ]
  },
  {
   "cell_type": "markdown",
   "metadata": {
    "slideshow": {
     "slide_type": "subslide"
    }
   },
   "source": [
    "Autre visualisation possible :"
   ]
  },
  {
   "cell_type": "code",
   "execution_count": null,
   "metadata": {
    "slideshow": {
     "slide_type": "-"
    }
   },
   "outputs": [],
   "source": [
    "@CallRecorder\n",
    "def produit(a, b):\n",
    "    \"\"\"Calcule le produit de a par b (entier positif), \n",
    "    sans utiliser l'opérateur « * » !\"\"\"\n",
    "    if b == 0:\n",
    "        return 0\n",
    "    else:\n",
    "        return a + produit(a, b-1)\n",
    "    \n",
    "my_call = produit(4, 3)\n",
    "print(my_call.trace())"
   ]
  },
  {
   "cell_type": "code",
   "execution_count": null,
   "metadata": {},
   "outputs": [],
   "source": [
    "my_call.graph()"
   ]
  },
  {
   "cell_type": "markdown",
   "metadata": {
    "slideshow": {
     "slide_type": "subslide"
    }
   },
   "source": [
    "### Exemple: factorielle\n",
    "\n",
    "Rappel: la **factorielle de $n$** est définie par :\n",
    "\n",
    "$$ \n",
    "n! = \\begin{cases}\n",
    "  1 \\text{ si $n = 0$}\\\\\n",
    "  n\\times(n-1)\\cdot(n-2)\\cdots 2\\cdot1 \\text{ sinon}\n",
    "\\end{cases}\n",
    "$$"
   ]
  },
  {
   "cell_type": "markdown",
   "metadata": {
    "slideshow": {
     "slide_type": "subslide"
    }
   },
   "source": [
    "Calcul itératif de $n!$ :"
   ]
  },
  {
   "cell_type": "code",
   "execution_count": null,
   "metadata": {
    "slideshow": {
     "slide_type": "-"
    }
   },
   "outputs": [],
   "source": [
    "def facto(n):\n",
    "    '''\n",
    "    >>> facto(5) == 5*4*3*2*1\n",
    "    True\n",
    "    '''\n",
    "    f = 1\n",
    "    for i in range(2, n + 1):\n",
    "        f *= i\n",
    "    return f\n",
    "\n",
    "facto(5)"
   ]
  },
  {
   "cell_type": "markdown",
   "metadata": {
    "slideshow": {
     "slide_type": "subslide"
    }
   },
   "source": [
    "Ou sous forme récursive :\n",
    "\n",
    "$$\n",
    "n! = \\begin{cases}\n",
    "      1 \\text{ si $n = 0$}\\\\\n",
    "      n \\times (n-1)! \\text{ sinon}\n",
    "    \\end{cases}\n",
    "$$"
   ]
  },
  {
   "cell_type": "markdown",
   "metadata": {
    "slideshow": {
     "slide_type": "subslide"
    }
   },
   "source": [
    "Calcul récursif de $n!$ :"
   ]
  },
  {
   "cell_type": "code",
   "execution_count": null,
   "metadata": {
    "slideshow": {
     "slide_type": "-"
    }
   },
   "outputs": [],
   "source": [
    "%%nbtutor -r -f -d 10\n",
    "\n",
    "def facto(n):\n",
    "    if n == 0:\n",
    "        return 1\n",
    "    else:\n",
    "        return n * facto(n - 1)\n",
    "    \n",
    "facto(5)"
   ]
  },
  {
   "cell_type": "markdown",
   "metadata": {
    "slideshow": {
     "slide_type": "subslide"
    }
   },
   "source": [
    "### Exemple : puissance\n",
    "\n",
    "On a déjà vu comment calculer $a^n=\\overbrace{a\\times a\\times \\cdots\\times a}^{\\mbox{$n$ termes}}$, avec le cas particulier $a^0=1$"
   ]
  },
  {
   "cell_type": "markdown",
   "metadata": {
    "slideshow": {
     "slide_type": "subslide"
    }
   },
   "source": [
    "Calcul itératif de $a^n$ :"
   ]
  },
  {
   "cell_type": "code",
   "execution_count": null,
   "metadata": {
    "slideshow": {
     "slide_type": "-"
    }
   },
   "outputs": [],
   "source": [
    "def puiss(a, n):\n",
    "    p = 1\n",
    "    for i in range(1, n + 1):\n",
    "        p *= a\n",
    "    return p\n",
    "\n",
    "puiss(2, 3)"
   ]
  },
  {
   "cell_type": "markdown",
   "metadata": {
    "slideshow": {
     "slide_type": "subslide"
    }
   },
   "source": [
    "On peut aussi définir $a^n$, pour $n\\in \\mathbb{N}$, de manière récursive:\n",
    "\n",
    "$$\n",
    "a^n = \\begin{cases}\n",
    "1 & \\text{ si } n=0\\\\\n",
    "a \\times a^{n-1} & \\text{ sinon}\n",
    "\\end{cases}\n",
    "$$"
   ]
  },
  {
   "cell_type": "markdown",
   "metadata": {
    "slideshow": {
     "slide_type": "subslide"
    }
   },
   "source": [
    "Calcul récursif de $a^n$ :"
   ]
  },
  {
   "cell_type": "code",
   "execution_count": null,
   "metadata": {
    "slideshow": {
     "slide_type": "-"
    }
   },
   "outputs": [],
   "source": [
    "def puissR(a, n):\n",
    "    if n == 0:\n",
    "        return 1\n",
    "    else:\n",
    "        return a * puissR(a, n - 1)\n",
    "    \n",
    "puissR(2, 3)"
   ]
  },
  {
   "cell_type": "markdown",
   "metadata": {
    "slideshow": {
     "slide_type": "subslide"
    }
   },
   "source": [
    "### Exemple : pgcd\n",
    "\n",
    "Le plus grand diviseur commun à deux entiers positifs ou nuls $a$ et $b$ peut être défini comme :\n",
    "\n",
    "$$\n",
    "\\mathrm{pgcd}(a, b) = \\begin{cases}a & \\text{ si $b = 0$,}\\\\\\mathrm{pgcd}(b, a \\bmod b) & \\text{ sinon}\\end{cases}\n",
    "$$"
   ]
  },
  {
   "cell_type": "code",
   "execution_count": null,
   "metadata": {
    "slideshow": {
     "slide_type": "subslide"
    }
   },
   "outputs": [],
   "source": [
    "#%%nbtutor -r -f -d 10\n",
    "\n",
    "def pgcd(a, b):\n",
    "    if b == 0:\n",
    "        return a\n",
    "    else:\n",
    "        return pgcd(b, a % b)\n",
    "\n",
    "pgcd(2*5*7, 2*3*5*11)"
   ]
  },
  {
   "cell_type": "markdown",
   "metadata": {
    "slideshow": {
     "slide_type": "subslide"
    }
   },
   "source": [
    "### Méthode générale\n",
    "\n",
    "1. Pour les instances les plus simples (\"cas de base\"), donner la solution directe\n",
    "1. Pour les cas complexes, se ramener à une ou plusieurs instances \"plus simples\" du même problème\n",
    "1. Combiner les solutions des instances plus simples pour résoudre le problème initial"
   ]
  },
  {
   "cell_type": "markdown",
   "metadata": {
    "slideshow": {
     "slide_type": "subslide"
    }
   },
   "source": [
    "\"Plus simple\" : varie selon le contexte\n",
    "-   si $P$ est un naturel, alors $P'<P$\n",
    "-   si $P$ est une liste, alors $P'$ est une liste plus petite\n",
    "-   $\\ldots$"
   ]
  },
  {
   "cell_type": "markdown",
   "metadata": {
    "slideshow": {
     "slide_type": "subslide"
    }
   },
   "source": [
    "#### Fonction récursive typique :\n",
    "\n",
    "```python\n",
    "def f(P):  # P = parametre(s)\n",
    "    if test(P):\n",
    "        # bloc sans appel recursif : cas de base\n",
    "        return ...\n",
    "    else:\n",
    "        # bloc avec appel(s) recursif(s) utilisant\n",
    "        # des parametres \"plus simples\"\n",
    "        return ...\n",
    "```"
   ]
  },
  {
   "cell_type": "markdown",
   "metadata": {
    "slideshow": {
     "slide_type": "slide"
    }
   },
   "source": [
    "## Erreurs fréquentes"
   ]
  },
  {
   "cell_type": "markdown",
   "metadata": {
    "slideshow": {
     "slide_type": "subslide"
    }
   },
   "source": [
    "### Conditions d'arrêt"
   ]
  },
  {
   "cell_type": "code",
   "execution_count": null,
   "metadata": {
    "slideshow": {
     "slide_type": "subslide"
    }
   },
   "outputs": [],
   "source": [
    "def fact(n):\n",
    "    #print(n, end=\" \")\n",
    "    return n * fact(n-1)\n",
    "\n",
    "#fact(4)"
   ]
  },
  {
   "cell_type": "markdown",
   "metadata": {
    "slideshow": {
     "slide_type": "-"
    }
   },
   "source": [
    "-   Erreur d'exécution : saturation de la pile\n",
    "-   Oubli de la condition d'arrêt (cas de base)\n",
    "-   Solution : toujours commencer par le(s) cas de base"
   ]
  },
  {
   "cell_type": "code",
   "execution_count": null,
   "metadata": {
    "slideshow": {
     "slide_type": "subslide"
    }
   },
   "outputs": [],
   "source": [
    "def fact(n):\n",
    "    if n == 0:\n",
    "        return 1\n",
    "    else:\n",
    "        return n * fact(n-1)\n",
    "\n",
    "fact(5)"
   ]
  },
  {
   "cell_type": "markdown",
   "metadata": {
    "slideshow": {
     "slide_type": "subslide"
    }
   },
   "source": [
    "### Conditions d'arrêt et appels récursifs"
   ]
  },
  {
   "cell_type": "code",
   "execution_count": null,
   "metadata": {
    "scrolled": true,
    "slideshow": {
     "slide_type": "-"
    }
   },
   "outputs": [],
   "source": [
    "def f(n): # n naturel\n",
    "    if n == 0:\n",
    "        print(\"!\")\n",
    "        #return None\n",
    "    else:\n",
    "        print(\"*\", end=\"\")\n",
    "        f(n)\n",
    "        #return None\n",
    "        \n",
    "f(4)"
   ]
  },
  {
   "cell_type": "markdown",
   "metadata": {
    "slideshow": {
     "slide_type": "subslide"
    }
   },
   "source": [
    "La fonction ne s'arrête jamais car si $n$ ne vaut pas $0$ au début, il ne vaudra jamais $0$"
   ]
  },
  {
   "cell_type": "code",
   "execution_count": null,
   "metadata": {
    "slideshow": {
     "slide_type": "subslide"
    }
   },
   "outputs": [],
   "source": [
    "def f(n): # n naturel\n",
    "    if n == 0:\n",
    "        print(\"!\")\n",
    "    else:\n",
    "        print(\"*\", end=\"\")\n",
    "        f(n-1)\n",
    "        \n",
    "f(10)"
   ]
  },
  {
   "cell_type": "markdown",
   "metadata": {
    "slideshow": {
     "slide_type": "subslide"
    }
   },
   "source": [
    "### Limite de capacité de la pile\n",
    "\n",
    "Chaque appel récursif stocke des informations sur la pile d'appel (\"bloc\" d'exécution de la fonction, en anglais *frame*), donc il est nécessaire de limiter la taille totale de la pile."
   ]
  },
  {
   "cell_type": "code",
   "execution_count": null,
   "metadata": {
    "scrolled": true,
    "slideshow": {
     "slide_type": "-"
    }
   },
   "outputs": [],
   "source": [
    "fact(2958)"
   ]
  },
  {
   "cell_type": "code",
   "execution_count": null,
   "metadata": {
    "slideshow": {
     "slide_type": "subslide"
    }
   },
   "outputs": [],
   "source": [
    "fact(3000)"
   ]
  },
  {
   "cell_type": "markdown",
   "metadata": {
    "slideshow": {
     "slide_type": "subslide"
    }
   },
   "source": [
    "-   La fonction est correcte, mais erreur si dépassement de la hauteur maximale de la pile\n",
    "-   *Réglable, mais dans une certaine limite...*"
   ]
  },
  {
   "cell_type": "code",
   "execution_count": null,
   "metadata": {
    "slideshow": {
     "slide_type": "-"
    }
   },
   "outputs": [],
   "source": [
    "from sys import setrecursionlimit\n",
    "setrecursionlimit(10000)\n",
    "f(9500)"
   ]
  },
  {
   "cell_type": "markdown",
   "metadata": {
    "slideshow": {
     "slide_type": "subslide"
    }
   },
   "source": [
    "### Exercice\n",
    "\n",
    "Qu'affichent les appels de fonctions suivants ?"
   ]
  },
  {
   "cell_type": "code",
   "execution_count": null,
   "metadata": {
    "slideshow": {
     "slide_type": "subslide"
    }
   },
   "outputs": [],
   "source": [
    "def fonction1(n):\n",
    "    if n == 0:\n",
    "        print(n)\n",
    "    else:\n",
    "        print(n, end=' ')\n",
    "        fonction1(n-1)\n",
    "        \n",
    "fonction1(10)"
   ]
  },
  {
   "cell_type": "code",
   "execution_count": null,
   "metadata": {
    "slideshow": {
     "slide_type": "subslide"
    }
   },
   "outputs": [],
   "source": [
    "def fonction2(n):\n",
    "    if n == 0:\n",
    "        print(n, end=' ')\n",
    "    else:\n",
    "        fonction2(n-1)\n",
    "        print(n, end=' ')\n",
    "        \n",
    "fonction2(10)"
   ]
  },
  {
   "cell_type": "code",
   "execution_count": null,
   "metadata": {
    "slideshow": {
     "slide_type": "subslide"
    }
   },
   "outputs": [],
   "source": [
    "def fonction3(n):\n",
    "    if n == 0:\n",
    "        print(n, end=' ')\n",
    "    else:\n",
    "        print(n, end=' ')\n",
    "        fonction3(n-1)\n",
    "        print(n, end=' ')\n",
    "        \n",
    "fonction3(10)"
   ]
  },
  {
   "cell_type": "markdown",
   "metadata": {
    "slideshow": {
     "slide_type": "subslide"
    }
   },
   "source": [
    "### Exemple : termine-t-elle ?\n",
    "\n",
    "Pour un certain entier $a$ donné, on définit la suite de Syracuse $(S^a_n)_{n \\geq 0}$ de premier terme $a$ par $S^a_0 = a$ et pour tout $n \\geq 1$, \n",
    "\n",
    "$$\n",
    "\\begin{cases}\n",
    "S^a_n = S^a_{n-1} / 2 & \\text{ si $S^a_{n-1}$ est pair} \\\\\n",
    "S^a_n = 3 \\cdot S^a_{n-1} +1 & \\text{ sinon }\n",
    "\\end{cases}\n",
    "$$\n",
    "\n",
    "On cherche à savoir quel est le plus petit rang $n$ tel que $S^a_n = 1$."
   ]
  },
  {
   "cell_type": "code",
   "execution_count": null,
   "metadata": {
    "slideshow": {
     "slide_type": "subslide"
    }
   },
   "outputs": [],
   "source": [
    "def suivant(terme):\n",
    "    if terme % 2 == 0:\n",
    "        return terme // 2\n",
    "    else:\n",
    "        return 3*terme + 1    \n",
    "\n",
    "def temps(a):\n",
    "    if a == 1:\n",
    "        print(1)\n",
    "        return 0\n",
    "    else:\n",
    "        print(a, end=' ')\n",
    "        s = suivant(a)\n",
    "        return 1 + temps(s)"
   ]
  },
  {
   "cell_type": "code",
   "execution_count": null,
   "metadata": {
    "slideshow": {
     "slide_type": "subslide"
    }
   },
   "outputs": [],
   "source": [
    "temps(7)"
   ]
  },
  {
   "cell_type": "code",
   "execution_count": null,
   "metadata": {
    "slideshow": {
     "slide_type": "subslide"
    }
   },
   "outputs": [],
   "source": [
    "for i in range(1,10):\n",
    "    print(\"temps de vol à partir de\", i, \":\", temps(i))\n",
    "    print()"
   ]
  },
  {
   "cell_type": "markdown",
   "metadata": {
    "slideshow": {
     "slide_type": "subslide"
    }
   },
   "source": [
    "-   Fonction `suivant` : terme suivant de la suite de Syracuse\n",
    "-   Temps de vol : résultat de `temps(n)`\n",
    "-   *Personne* n'a encore réussi à prouver qu'elle termine toujours !\n",
    "-   L'évolution du temps de vol de la suite fait des choses inattentues... (*source : Wikipedia*)"
   ]
  },
  {
   "cell_type": "markdown",
   "metadata": {
    "slideshow": {
     "slide_type": "subslide"
    }
   },
   "source": [
    "<img src='https://upload.wikimedia.org/wikipedia/commons/b/b9/Collatz-stopping-time.svg' width='50%'></img>"
   ]
  },
  {
   "cell_type": "markdown",
   "metadata": {
    "slideshow": {
     "slide_type": "subslide"
    }
   },
   "source": [
    "### Exercice\n",
    "\n",
    "Pour convertir un nombre $n$ en base 2, on peut :\n",
    "\n",
    "1. Calculer le quotient $q$ et le reste $r$ de $n$ par 2\n",
    "2. Convertir $q$ en base 2\n",
    "3. Ajouter $r$ comme dernier chiffre au résultat obtenu\n",
    "\n",
    "Écrire une fonction récursive convertissant $n$ en base 2 (renvoie une liste de *bits*), puis dans une base $b$ quelconque."
   ]
  },
  {
   "cell_type": "code",
   "execution_count": null,
   "metadata": {
    "scrolled": true,
    "slideshow": {
     "slide_type": "subslide"
    }
   },
   "outputs": [],
   "source": [
    "def decimal_vers_binaire(n):    \n",
    "    if n < 2:\n",
    "        return [n]\n",
    "    else:\n",
    "        q, r = divmod(n, 2)  # étape 1\n",
    "        res = decimal_vers_binaire(q)  # étape 2\n",
    "        res.append(r)\n",
    "        return res\n",
    "    \n",
    "decimal_vers_binaire(3422)"
   ]
  },
  {
   "cell_type": "code",
   "execution_count": null,
   "metadata": {
    "scrolled": true,
    "slideshow": {
     "slide_type": "subslide"
    }
   },
   "outputs": [],
   "source": [
    "def decimal_vers_base(n, b):    \n",
    "    if n < b:\n",
    "        return [n]\n",
    "    else:\n",
    "        q, r = divmod(n, b)  # étape 1\n",
    "        res = decimal_vers_base(q, b)  # étape 2\n",
    "        res.append(r)\n",
    "        return res\n",
    "    \n",
    "decimal_vers_base(3422, 2)"
   ]
  },
  {
   "cell_type": "code",
   "execution_count": null,
   "metadata": {
    "slideshow": {
     "slide_type": "subslide"
    }
   },
   "outputs": [],
   "source": [
    "decimal_vers_base(3422, 8)"
   ]
  },
  {
   "cell_type": "markdown",
   "metadata": {
    "slideshow": {
     "slide_type": "subslide"
    }
   },
   "source": [
    "### Exercice\n",
    "\n",
    "La suite de Fibonacci $(F_n)_{n \\geq 0}$ est définie par :\n",
    "\n",
    "$$\n",
    "\\begin{cases}\n",
    "F_0 = F_1 = 1\\\\\n",
    "F_n = F_{n-1} + F_{n-2} & \\text{ pour tout } n \\geq 2\n",
    "\\end{cases}\n",
    "$$\n",
    "\n",
    "Écrire une fonction récursive calculant le $n$-ème terme $F_n$ de la suite de Fibonacci"
   ]
  },
  {
   "cell_type": "code",
   "execution_count": null,
   "metadata": {
    "slideshow": {
     "slide_type": "subslide"
    }
   },
   "outputs": [],
   "source": [
    "def fibonacci(n):\n",
    "    if n <= 1:\n",
    "        return 1\n",
    "    else:\n",
    "        return fibonacci(n-1) + fibonacci(n-2)"
   ]
  },
  {
   "cell_type": "code",
   "execution_count": null,
   "metadata": {
    "scrolled": true,
    "slideshow": {
     "slide_type": "subslide"
    }
   },
   "outputs": [],
   "source": [
    "for i in range(20):\n",
    "    print(fibonacci(i))"
   ]
  },
  {
   "cell_type": "markdown",
   "metadata": {
    "slideshow": {
     "slide_type": "subslide"
    }
   },
   "source": [
    "Combien d'appels récursifs cette fonction réalise-t-elle au total pour $n = 5$ ? Pour $n = 10$ ? On peut compter à la main, ou bien demander à la fonction de compter..."
   ]
  },
  {
   "cell_type": "code",
   "execution_count": null,
   "metadata": {
    "slideshow": {
     "slide_type": "-"
    }
   },
   "outputs": [],
   "source": [
    "def fibonacci(n):\n",
    "    if n <= 1:\n",
    "        return 1, 1\n",
    "    else:\n",
    "        a, cpt1 = fibonacci(n-1)\n",
    "        b, cpt2 = fibonacci(n-2)\n",
    "        return a + b, cpt1 + cpt2 + 1"
   ]
  },
  {
   "cell_type": "code",
   "execution_count": null,
   "metadata": {
    "slideshow": {
     "slide_type": "subslide"
    }
   },
   "outputs": [],
   "source": [
    "fibonacci(9)"
   ]
  },
  {
   "cell_type": "code",
   "execution_count": null,
   "metadata": {
    "slideshow": {
     "slide_type": "subslide"
    }
   },
   "outputs": [],
   "source": [
    "fibonacci(35)"
   ]
  },
  {
   "cell_type": "markdown",
   "metadata": {
    "slideshow": {
     "slide_type": "subslide"
    }
   },
   "source": [
    "Visualisons l'ensemble des appels, organisé sous la forme d'un arbre :"
   ]
  },
  {
   "cell_type": "code",
   "execution_count": null,
   "metadata": {
    "slideshow": {
     "slide_type": "-"
    }
   },
   "outputs": [],
   "source": [
    "@CallRecorder\n",
    "def f(n):\n",
    "    if n <= 1:\n",
    "        return 1\n",
    "    else:\n",
    "        return f(n-1) + f(n-2)"
   ]
  },
  {
   "cell_type": "code",
   "execution_count": null,
   "metadata": {
    "slideshow": {
     "slide_type": "subslide"
    }
   },
   "outputs": [],
   "source": [
    "g = f(5).graph(verbose_labels=True)\n",
    "g"
   ]
  },
  {
   "cell_type": "markdown",
   "metadata": {
    "slideshow": {
     "slide_type": "subslide"
    }
   },
   "source": [
    "Le problème est que certains appels sont répétés un très grand nombre de fois (on calcule plusieurs fois la même chose...). On dira dans la suite du cours que cette fonction a une *complexité exponentielle* (ce qui est énorme)."
   ]
  }
 ],
 "metadata": {
  "celltoolbar": "Slideshow",
  "kernelspec": {
   "display_name": "Python 3",
   "language": "python",
   "name": "python3"
  },
  "language_info": {
   "codemirror_mode": {
    "name": "ipython",
    "version": 3
   },
   "file_extension": ".py",
   "mimetype": "text/x-python",
   "name": "python",
   "nbconvert_exporter": "python",
   "pygments_lexer": "ipython3",
   "version": "3.11.1 (main, Dec 23 2022, 09:40:52) [Clang 13.0.0 (clang-1300.0.29.30)]"
  },
  "vscode": {
   "interpreter": {
    "hash": "1a1af0ee75eeea9e2e1ee996c87e7a2b11a0bebd85af04bb136d915cefc0abce"
   }
  }
 },
 "nbformat": 4,
 "nbformat_minor": 2
}
