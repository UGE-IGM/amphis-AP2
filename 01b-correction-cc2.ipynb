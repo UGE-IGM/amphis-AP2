{
 "cells": [
  {
   "cell_type": "markdown",
   "metadata": {},
   "source": [
    "# Correction du CC2 d'AP1 2024-2025"
   ]
  },
  {
   "cell_type": "markdown",
   "metadata": {},
   "source": [
    "**Erreurs fréquentes dans vos copies :**\n",
    "\n",
    "- Listes et dictionnaires\n",
    "    - Confusion entre indice et élément dans un parcours de liste  \n",
    "    - Confusion entre clé et valeur dans l'accès à un dictionnaire\n",
    "\n",
    "- Résultats de fonctions\n",
    "    - Confusion entre `print` et `return`\n",
    "    - Oubli du `return` dans une fonction\n",
    "    - Oubli de l'affectation du résultat d'une fonction (aucun effet !)\n",
    "\n",
    "- Portée et usage des variables\n",
    "    - Accès à des variables non définies (locales d'autres fonctions...)\n",
    "    - Utilisation d'une variable globale mutable pour accueillir un résultat\n",
    "    - Destruction immédiate d'un paramètre reçu dans une fonction\n",
    "\n",
    "- Ouverture, lecture et fermeture de fichier (Q14, Q15)\n",
    "    - Confusion entre le nom et le contenu d'un fichier\n",
    "    - Erreurs concernant l'effet de `read()`\n",
    "    - Mauvaise prise en charge des retours à la ligne\n",
    "    - Oubli de `close()`\n",
    "\n",
    "- Erreurs spécifiques\n",
    "    - Confusion cas général / cas particulier (taille du plan...)\n",
    "    - Dépassements d'indice (Q10 - relevé de températures)\n",
    "    - Modification d'une chaîne (Q14, Q15 - chargement de plan)"
   ]
  },
  {
   "cell_type": "markdown",
   "metadata": {},
   "source": [
    "## QCM"
   ]
  },
  {
   "cell_type": "code",
   "execution_count": 103,
   "metadata": {},
   "outputs": [],
   "source": [
    "\n",
    "def qcm_aliasing_list():\n",
    "    \"\"\"\n",
    "    >>> qcm_aliasing_list()\n",
    "    [[0, 4, 7], [0, 4, 7], [0, 4, 7], [0, 4, 7]]\n",
    "    \"\"\"\n",
    "    ligne = [0, 5, 7]\n",
    "    matrix = []\n",
    "    for i in range(4):\n",
    "        matrix.append(ligne)\n",
    "    matrix[1][1] = 4\n",
    "    print(matrix)"
   ]
  },
  {
   "cell_type": "code",
   "execution_count": 104,
   "metadata": {},
   "outputs": [],
   "source": [
    "def qcm_acces_dico():\n",
    "    \"\"\"\n",
    "    NOTE : erreur dans l'énoncé (animaux au lieu de 'animaux').\n",
    "\n",
    "    >>> qcm_acces_dico()\n",
    "    'Félix'\n",
    "    \"\"\"\n",
    "    personne = {'prénom': 'Juste', 'nom': 'Leblanc', 'age': 50,\n",
    "        'animaux': ['Max', 'Félix', 'Rosa'], 'amis': ['Michel', 'Jean']}\n",
    "    return personne['animaux'][1]"
   ]
  },
  {
   "cell_type": "code",
   "execution_count": 105,
   "metadata": {},
   "outputs": [],
   "source": [
    "def qcm_execution_while():\n",
    "    \"\"\"\n",
    "    >>> qcm_execution_while()\n",
    "    [1, 3, 5, 8, 7]\n",
    "    \"\"\"\n",
    "    lst = [5, 1, 3, 8, 7]\n",
    "    for i in range(3):\n",
    "        x = lst.pop(i) # prélève le i-ème élément de la liste\n",
    "        j = i\n",
    "        while j > 0 and lst[j-1] > x:\n",
    "            j = j-1\n",
    "        lst.insert(j, x)\n",
    "    print(lst)"
   ]
  },
  {
   "cell_type": "code",
   "execution_count": 106,
   "metadata": {},
   "outputs": [],
   "source": [
    "def qcm_for_element():\n",
    "    \"\"\"\n",
    "    >>> qcm_for_element()\n",
    "    [1, 2, 3, 4]\n",
    "    \"\"\"\n",
    "    def fonction_mystere(lst):\n",
    "        for elt in lst:\n",
    "            if elt % 2 == 0:\n",
    "                elt = elt // 2\n",
    "            else:\n",
    "                elt = (elt - 1) // 2\n",
    "        return lst\n",
    "    \n",
    "    print(fonction_mystere([1, 2, 3, 4]))"
   ]
  },
  {
   "cell_type": "code",
   "execution_count": 107,
   "metadata": {},
   "outputs": [],
   "source": [
    "def qcm_for_liste():\n",
    "    \"\"\"\n",
    "    >>> qcm_for_liste()\n",
    "    [1, 2, 5, 12, 15]\n",
    "    \"\"\"\n",
    "    def f(a):\n",
    "        if len(a) == 0:\n",
    "            return a\n",
    "        res = [a[0]]\n",
    "        for i in range(1, len(a)):\n",
    "            if a[i] >= res[len(res)-1]:\n",
    "                res.append(a[i])\n",
    "        return res\n",
    "\n",
    "    print(f([1, 2, 1, 5, 4, 12, 3, 1, 15]))"
   ]
  },
  {
   "cell_type": "code",
   "execution_count": 108,
   "metadata": {},
   "outputs": [],
   "source": [
    "\n",
    "def qcm_execution_recursivite():\n",
    "    \"\"\"\n",
    "    >>> qcm_execution_recursivite()\n",
    "    ----------\n",
    "    ****\n",
    "    ------\n",
    "    **\n",
    "    --\n",
    "    \"\"\"\n",
    "    def affichage_mystere(n):\n",
    "        if n > 0:\n",
    "            if n % 2 == 0:\n",
    "                print('*' * n)\n",
    "            else:\n",
    "                print('-' * 2 * n)\n",
    "            affichage_mystere(n-1)\n",
    "        \n",
    "    affichage_mystere(5)"
   ]
  },
  {
   "cell_type": "markdown",
   "metadata": {},
   "source": [
    "## Questions ouvertes    "
   ]
  },
  {
   "cell_type": "markdown",
   "metadata": {},
   "source": [
    "### Dictionnaires"
   ]
  },
  {
   "cell_type": "code",
   "execution_count": 109,
   "metadata": {},
   "outputs": [],
   "source": [
    "etu1 = {\n",
    "    'nom' : \"nom1\", 'prenom' : \"prenom1\", 'email' : 'etu1@edu.univ-eiffel.fr',\n",
    "    'option' : 'japonais', 'ap1' : False}\n",
    "etu2 = {\n",
    "    'nom' : \"nom2\", 'prenom' : \"prenom2\", 'email' : 'etu2@edu.univ-eiffel.fr',\n",
    "    'option' : 'environnement', 'ap1': True}\n",
    "etu3 = {\n",
    "    'nom' : \"nom3\", 'prenom' : \"prenom3\", 'email' : 'etu3@edu.univ-eiffel.fr',\n",
    "    'option' : 'environnement', 'ap1': True}"
   ]
  },
  {
   "cell_type": "code",
   "execution_count": 110,
   "metadata": {},
   "outputs": [],
   "source": [
    "def liste_etudiants_a_prevenir(promo):\n",
    "    \"\"\"\n",
    "    >>> liste_etudiants_a_prevenir([etu1, etu2, etu3])\n",
    "    ['etu2@edu.univ-eiffel.fr', 'etu3@edu.univ-eiffel.fr']\n",
    "    >>> liste_etudiants_a_prevenir([etu1])\n",
    "    []\n",
    "    \"\"\"\n",
    "    res = []\n",
    "    for etudiant in promo:\n",
    "        if etudiant[\"ap1\"] and etudiant[\"option\"] == \"environnement\":\n",
    "            res.append(etudiant[\"email\"])\n",
    "    return res"
   ]
  },
  {
   "cell_type": "markdown",
   "metadata": {},
   "source": [
    "### Relevé de températures"
   ]
  },
  {
   "cell_type": "code",
   "execution_count": 111,
   "metadata": {},
   "outputs": [],
   "source": [
    "def nombre_occurrences_apres(lst, x, y):\n",
    "    \"\"\"\n",
    "    >>> nombre_occurrences_apres([10, 12, 10, 11, 13, 10, 12], 10, 12)\n",
    "    2\n",
    "    >>> nombre_occurrences_apres([10, 12, 10, 11, 13, 10, 12], 10, 13)\n",
    "    0\n",
    "    \"\"\"\n",
    "    res = 0\n",
    "    for i in range(len(lst) - 1):\n",
    "        if lst[i] == x and lst[i+1] == y:\n",
    "            res += 1\n",
    "    return res"
   ]
  },
  {
   "cell_type": "markdown",
   "metadata": {},
   "source": [
    "### Manhattan"
   ]
  },
  {
   "cell_type": "code",
   "execution_count": 112,
   "metadata": {},
   "outputs": [],
   "source": [
    "\n",
    "plan = [\".....\", #\n",
    "        \"EJ...\", #\n",
    "        \"G..TC\", #      Nord\n",
    "        \"..DPY\", # Ouest    Est\n",
    "        \"VBW..\", #      Sud\n",
    "        \"...S.\", #\n",
    "        \".KX..\"] #"
   ]
  },
  {
   "cell_type": "code",
   "execution_count": 113,
   "metadata": {},
   "outputs": [],
   "source": [
    "def distance(plan, depart, arrivee):\n",
    "    \"\"\"\n",
    "    >>> distance(plan, \"E\", \"W\")\n",
    "    5\n",
    "    >>> distance(plan, \"E\", \"S\")\n",
    "    7\n",
    "    >>> distance(plan, \"S\", \"E\")\n",
    "    7\n",
    "    >>> distance(plan, \"Z\", \"E\")\n",
    "    >>> distance(plan, \"Z\", \"A\")\n",
    "    \"\"\"\n",
    "    pos = None\n",
    "    for i, rue in enumerate(plan):\n",
    "        for j, repere in enumerate(rue):\n",
    "            if repere in (depart, arrivee):\n",
    "                if pos is None:\n",
    "                    pos = (i, j)\n",
    "                else:\n",
    "                    return abs(i - pos[0]) + abs(j - pos[1])"
   ]
  },
  {
   "cell_type": "markdown",
   "metadata": {},
   "source": [
    "## Mini-problème"
   ]
  },
  {
   "cell_type": "code",
   "execution_count": 114,
   "metadata": {},
   "outputs": [],
   "source": [
    "from pprint import pprint"
   ]
  },
  {
   "cell_type": "code",
   "execution_count": 115,
   "metadata": {},
   "outputs": [],
   "source": [
    "def charge_plan(fichier):\n",
    "    \"\"\"\n",
    "    NOTE : difficultés\n",
    "    - enlever le garde en le remplaçant par un point\n",
    "    - enlever les retours à la ligne\n",
    "    - respecter le type de sortie\n",
    "    - ouvrir, lire ET fermer le fichier\n",
    "\n",
    "    NOTE : j'ai remplacé les . par des _ juste pour faire marcher le doctest\n",
    "\n",
    "    >>> pprint(charge_plan(\"ressources/base1.txt\"))\n",
    "    ['____#_____',\n",
    "     '_________#',\n",
    "     '__________',\n",
    "     '__#_______',\n",
    "     '_______#__',\n",
    "     '__________',\n",
    "     '_#________',\n",
    "     '________#_',\n",
    "     '#_________',\n",
    "     '______#___']\n",
    "    \"\"\"\n",
    "    df = open(fichier)\n",
    "    res = []\n",
    "    for ligne in df:\n",
    "        tmp = ''\n",
    "        for car in ligne.strip():\n",
    "            if car != 'G':\n",
    "                tmp += car\n",
    "            else:\n",
    "                tmp += '_'\n",
    "        res.append(tmp)\n",
    "    df.close()\n",
    "    return res"
   ]
  },
  {
   "cell_type": "code",
   "execution_count": 116,
   "metadata": {},
   "outputs": [],
   "source": [
    "def trouve_position_garde(fichier):\n",
    "    \"\"\"\n",
    "    >>> trouve_position_garde('ressources/base1.txt')\n",
    "    (1, 4)\n",
    "    \"\"\"\n",
    "    df = open(fichier)\n",
    "    res = []\n",
    "    for i, ligne in enumerate(df):\n",
    "        for j, car in enumerate(ligne):\n",
    "            if car == 'G':\n",
    "                return i, j\n",
    "    df.close()"
   ]
  },
  {
   "cell_type": "code",
   "execution_count": 117,
   "metadata": {},
   "outputs": [],
   "source": [
    "def affiche_plan(plan, position_garde):\n",
    "    \"\"\"\n",
    "    >>> plan_base_1 = charge_plan('ressources/base1.txt')\n",
    "    >>> position_garde_1 = trouve_position_garde('ressources/base1.txt')\n",
    "    >>> affiche_plan(plan_base_1, position_garde_1)\n",
    "    ____#_____\n",
    "    ____G____#\n",
    "    __________\n",
    "    __#_______\n",
    "    _______#__\n",
    "    __________\n",
    "    _#________\n",
    "    ________#_\n",
    "    #_________\n",
    "    ______#___\n",
    "    \"\"\"\n",
    "    for i, ligne in enumerate(plan):\n",
    "        tmp = \"\"\n",
    "        for j, car in enumerate(ligne):\n",
    "            if (i, j) == position_garde:\n",
    "                tmp += 'G'\n",
    "            else:\n",
    "                tmp += car\n",
    "        print(tmp)"
   ]
  },
  {
   "cell_type": "code",
   "execution_count": 118,
   "metadata": {},
   "outputs": [],
   "source": [
    "def tourne_a_droite(direction):\n",
    "    \"\"\"\n",
    "    >>> tourne_a_droite((-1, 0))\n",
    "    (0, 1)\n",
    "    \"\"\"\n",
    "    if direction == (-1, 0):\n",
    "        return (0, 1)\n",
    "    elif direction == (0, 1):\n",
    "        return (1, 0)\n",
    "    elif direction == (1, 0):\n",
    "        return (0, -1)\n",
    "    elif direction == (0, -1):\n",
    "        return (-1, 0)"
   ]
  },
  {
   "cell_type": "code",
   "execution_count": 119,
   "metadata": {},
   "outputs": [],
   "source": [
    "def prochain_obstacle(plan, position_garde, direction):\n",
    "    \"\"\"\n",
    "    NOTE : difficultés\n",
    "    - condition d'arrêt complète\n",
    "    - pas d'accès à des indices illégaux\n",
    "    - renvoyer la position de l'obstacle ou de la sortie, et pas la précédente\n",
    "\n",
    "    >>> plan_base_1 = charge_plan('ressources/base1.txt')\n",
    "    >>> position_garde_1 = trouve_position_garde('ressources/base1.txt')\n",
    "    >>> prochain_obstacle(plan_base_1, position_garde_1, (-1, 0))\n",
    "    (0, 4)\n",
    "    \n",
    "    >>> plan_base_2 = charge_plan('ressources/base2.txt')\n",
    "    >>> position_garde_2 = trouve_position_garde('ressources/base2.txt')\n",
    "    >>> prochain_obstacle(plan_base_2, position_garde_2, (0, 1))\n",
    "    (1, 9)\n",
    "    >>> prochain_obstacle(plan_base_2, (1, 3), (-1, 0))\n",
    "    (-1, 3)\n",
    "    \"\"\"\n",
    "    h, w = len(plan), len(plan[0])\n",
    "    m, n = position_garde\n",
    "    dm, dn = direction\n",
    "    while 0 <= m < h and 0 <= n < w and plan[m][n] != '#':\n",
    "        m, n = m + dm, n + dn\n",
    "    return m, n"
   ]
  },
  {
   "cell_type": "code",
   "execution_count": 120,
   "metadata": {},
   "outputs": [],
   "source": [
    "def position_sortie(plan, position_garde, direction):\n",
    "    \"\"\"\n",
    "    NOTE : difficultés\n",
    "    - distinguer position d'obstacle, position du garde et position \n",
    "      de sortie\n",
    "\n",
    "    >>> plan_base_1 = charge_plan('ressources/base1.txt')\n",
    "    >>> position_garde_1 = trouve_position_garde('ressources/base1.txt')\n",
    "    >>> position_sortie(plan_base_1, position_garde_1, (-1, 0))\n",
    "    (10, 7)\n",
    "    \"\"\"\n",
    "    h, w = len(plan), len(plan[0])\n",
    "    m, n = position_garde\n",
    "    while True:\n",
    "        # affiche_plan(plan, (m, n))\n",
    "        mo, no = prochain_obstacle(plan, (m, n), direction)\n",
    "        if not (0 <= mo < h and 0 <= no < w):\n",
    "            # affiche_plan(plan, (mo, no))\n",
    "            return mo, no\n",
    "        else:\n",
    "            m, n = mo - direction[0], no - direction[1]\n",
    "            direction = tourne_a_droite(direction)\n",
    "    # inaccessible"
   ]
  },
  {
   "cell_type": "code",
   "execution_count": 121,
   "metadata": {},
   "outputs": [],
   "source": [
    "def main():\n",
    "    \"\"\"\n",
    "    >>> main()\n",
    "    10 7\n",
    "    \"\"\"\n",
    "    fichier = \"ressources/base1.txt\"\n",
    "    plan = charge_plan(fichier)\n",
    "    position_garde = trouve_position_garde(fichier)\n",
    "    direction = (-1, 0) # le garde regarde vers le haut\n",
    "    (ligne, colonne) = position_sortie(plan, position_garde, direction)\n",
    "    print(ligne, colonne)"
   ]
  },
  {
   "cell_type": "code",
   "execution_count": 122,
   "metadata": {},
   "outputs": [
    {
     "data": {
      "text/plain": [
       "TestResults(failed=0, attempted=32)"
      ]
     },
     "execution_count": 122,
     "metadata": {},
     "output_type": "execute_result"
    }
   ],
   "source": [
    "# On vérifie tous les exemples du corrigé\n",
    "from doctest import testmod\n",
    "testmod()"
   ]
  }
 ],
 "metadata": {
  "kernelspec": {
   "display_name": "Python 3",
   "language": "python",
   "name": "python3"
  },
  "language_info": {
   "codemirror_mode": {
    "name": "ipython",
    "version": 3
   },
   "file_extension": ".py",
   "mimetype": "text/x-python",
   "name": "python",
   "nbconvert_exporter": "python",
   "pygments_lexer": "ipython3",
   "version": "3.12.3"
  }
 },
 "nbformat": 4,
 "nbformat_minor": 2
}
