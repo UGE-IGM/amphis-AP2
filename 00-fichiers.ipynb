{
 "cells": [
  {
   "cell_type": "markdown",
   "id": "6e264cc9",
   "metadata": {},
   "source": [
    "# Fichiers\n",
    "\n",
    "Il est très facile de consulter le contenu d'un fichier texte en Python, et de le modifier. On accède la plupart du temps aux lignes successives d'un fichier à l'aide d'une boucle `for`.\n",
    "\n",
    "## Descripteurs de fichiers (type `file`)\n",
    "\n",
    "Ouverture d'un fichier : `f = open(chemin, mode)`\n",
    "\n",
    "- Paramètre `chemin` (chaîne de caractère) : nom (absolu ou relatif) d'un fichier\n",
    "- Paramètre `mode` (chaîne de caractère) :\n",
    "  - lecture seule : `'r'` (par défaut)\n",
    "  - écriture (crée / écrase le fichier) : `'w'`\n",
    "  - ajout (écrit à la fin) : `'a'`\n",
    "  - *autres modes possibles pour fichiers binaires*\n",
    "\n",
    "Fermeture : `f.close()`  \n",
    "**Attention :** ne pas oublier de refermer le fichier !"
   ]
  },
  {
   "cell_type": "markdown",
   "id": "6241bb10",
   "metadata": {},
   "source": [
    "## Lire et écrire dans un fichier\n",
    "\n",
    "Lecture (mode `'r'`) :  \n",
    "**Attention :** toutes ces méthodes incluent les retours à la ligne !\n",
    "\n",
    "-   Tout lire d'un coup (une seule chaîne) : `contenu = f.read()`  \n",
    "    **Attention :** charge tout le fichier en mémoire !  \n",
    "\n",
    "-   Liste des lignes (liste de chaînes) : `lst_lignes = f.readlines()`  \n",
    "    **Attention :** charge tout le fichier en mémoire !  \n",
    "    \n",
    "-   Prochaine ligne : `ligne = f.readline()`  \n",
    "    **Attention :** renvoie une chaîne vide à la fin  \n",
    "\n",
    "-   Parcours ligne par ligne : `for ligne in f: ...`  "
   ]
  },
  {
   "cell_type": "markdown",
   "id": "fc9afc80",
   "metadata": {},
   "source": [
    "Écriture (modes `'w'` et `'a'`) : `f.write(chaine)`  \n",
    "**Attention :** n'inclut pas de retour à la ligne (`'\\n'`) automatique !\n",
    "\n",
    "- En mode `'w'` (*write*) : le fichier est créé s'il n'existe pas, et écrasé s'il existe\n",
    "\n",
    "- En mode `'a'` (*append*) : le fichier est créé s'il n'existe pas, et complété s'il existe"
   ]
  },
  {
   "cell_type": "markdown",
   "id": "3aedf462",
   "metadata": {},
   "source": [
    "## Exemple\n",
    "\n",
    "### Écriture dans un nouveau fichier"
   ]
  },
  {
   "cell_type": "code",
   "execution_count": null,
   "id": "bb46968e",
   "metadata": {},
   "outputs": [],
   "source": [
    "f = open('ressources/test.txt', 'w')\n",
    "for chaine in ['bonjour', 'tout', 'le', 'monde !']:\n",
    "    f.write(chaine + '\\n')\n",
    "f.close()"
   ]
  },
  {
   "cell_type": "markdown",
   "id": "4abe394c",
   "metadata": {},
   "source": [
    "### Ajout à un fichier existant"
   ]
  },
  {
   "cell_type": "code",
   "execution_count": 8,
   "id": "07b137b4",
   "metadata": {},
   "outputs": [],
   "source": [
    "f = open('ressources/test.txt', 'a')\n",
    "f.write('(signé : Machin)\\n')\n",
    "f.close()"
   ]
  },
  {
   "cell_type": "markdown",
   "id": "98757c52",
   "metadata": {},
   "source": [
    "### Lecture d'un fichier"
   ]
  },
  {
   "cell_type": "code",
   "execution_count": null,
   "id": "bdcc0dbd",
   "metadata": {},
   "outputs": [],
   "source": [
    "\n",
    "f = open('ressources/test.txt', 'r')\n",
    "for ligne in f:\n",
    "    # strip supprime les espaces avant et après la chaîne\n",
    "    print(ligne.strip()) \n",
    "f.close()"
   ]
  },
  {
   "cell_type": "markdown",
   "id": "5430626e",
   "metadata": {},
   "source": [
    "### Syntaxe alternative (lecture ou écriture)"
   ]
  },
  {
   "cell_type": "code",
   "execution_count": null,
   "id": "eb6fc26e",
   "metadata": {},
   "outputs": [],
   "source": [
    "with open('ressources/test.txt', 'r') as f:\n",
    "    for ligne in f:\n",
    "        print(ligne.strip()) "
   ]
  },
  {
   "cell_type": "markdown",
   "id": "81611c31",
   "metadata": {},
   "source": [
    "Évite d'avoir à fermer le fichier manuellement."
   ]
  }
 ],
 "metadata": {
  "kernelspec": {
   "display_name": "Python 3",
   "language": "python",
   "name": "python3"
  },
  "language_info": {
   "codemirror_mode": {
    "name": "ipython",
    "version": 3
   },
   "file_extension": ".py",
   "mimetype": "text/x-python",
   "name": "python",
   "nbconvert_exporter": "python",
   "pygments_lexer": "ipython3",
   "version": "3.12.3"
  }
 },
 "nbformat": 4,
 "nbformat_minor": 5
}
