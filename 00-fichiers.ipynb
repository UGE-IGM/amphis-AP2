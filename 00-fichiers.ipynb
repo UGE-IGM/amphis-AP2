{
 "cells": [
  {
   "cell_type": "markdown",
   "id": "6e264cc9",
   "metadata": {},
   "source": [
    "## Fichiers\n",
    "\n",
    "Il est très facile de consulter le contenu d'un fichier texte en Python, et de le modifier. On accède la plupart du temps aux lignes successives d'un fichier à l'aide d'une boucle `for`.\n",
    "\n",
    "### Descripteurs de fichiers (type `file`)\n",
    "\n",
    "Ouverture d'un fichier : `f = open(chemin, mode)`\n",
    "\n",
    "- Paramètre `chemin` (chaîne de caractère) : nom (absolu ou relatif) d'un fichier\n",
    "- Paramètre `mode` (chaîne de caractère) :\n",
    "  - lecture seule : `'r'` (par défaut)\n",
    "  - écriture (crée / écrase le fichier) : `'w'`\n",
    "  - ajout (écrit à la fin) : `'a'`\n",
    "  - *autres modes possibles pour fichiers binaires*\n",
    "\n",
    "Fermeture : `f.close()`"
   ]
  },
  {
   "cell_type": "markdown",
   "id": "6241bb10",
   "metadata": {},
   "source": [
    "### Lire et écrire dans un fichier\n",
    "\n",
    "Lecture (mode `'r'`) :\n",
    "\n",
    "-   Tout lire d'un coup (une seule chaîne) : `contenu = f.read()`  \n",
    "    **Attention :** charge tout le fichier en mémoire !  \n",
    "    **Attention :** inclut les retours à la ligne\n",
    "\n",
    "-   Liste des lignes (liste de chaînes) : `lst_lignes = f.readlines()`  \n",
    "    **Attention :** charge tout le fichier en mémoire !  \n",
    "    **Attention :** inclut les retours à la ligne\n",
    "    \n",
    "-   Prochaine ligne : `ligne = f.readline()`  \n",
    "    **Attention :** renvoie une chaîne vide à la fin\n",
    "\n",
    "-   Parcours ligne par ligne : `for ligne in f: ...`\n",
    "\n",
    "Écriture (modes `'w'` et `'a'`) : `f.write(chaine)`\n",
    "\n",
    "**Attention :** n'inclut pas de retour à la ligne (`'\\n'`) automatique !"
   ]
  },
  {
   "cell_type": "code",
   "execution_count": null,
   "id": "bb46968e",
   "metadata": {},
   "outputs": [],
   "source": [
    "f = open('test.txt', 'w')\n",
    "for chaine in ['bonjour', 'tout', 'le', 'monde !']:\n",
    "    f.write(chaine + '\\n')\n",
    "f.close()\n",
    "\n",
    "f = open('test.txt', 'a')\n",
    "f.write('(signé : Machin)\\n')\n",
    "f.close()\n",
    "\n",
    "f = open('test.txt', 'r')\n",
    "for ligne in f:\n",
    "    # strip supprime les espaces avant et après la chaîne\n",
    "    print(ligne.strip()) \n",
    "f.close()"
   ]
  },
  {
   "cell_type": "code",
   "execution_count": null,
   "id": "414c3677",
   "metadata": {},
   "outputs": [],
   "source": [
    "f = open('fichiers.ipynb')\n",
    "for ligne in f:\n",
    "    print(ligne.strip())\n",
    "f.close()"
   ]
  }
 ],
 "metadata": {
  "kernelspec": {
   "display_name": "Python 3 (ipykernel)",
   "language": "python",
   "name": "python3"
  },
  "language_info": {
   "codemirror_mode": {
    "name": "ipython",
    "version": 3
   },
   "file_extension": ".py",
   "mimetype": "text/x-python",
   "name": "python",
   "nbconvert_exporter": "python",
   "pygments_lexer": "ipython3",
   "version": "3.9.9"
  }
 },
 "nbformat": 4,
 "nbformat_minor": 5
}
