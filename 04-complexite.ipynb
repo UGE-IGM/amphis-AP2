{
 "cells": [
  {
   "cell_type": "markdown",
   "metadata": {
    "slideshow": {
     "slide_type": "slide"
    }
   },
   "source": [
    "<div style='float:left; margin-right:20pt; width:10em'><img src='UPEM_LOGO_PAPETERIE_300DPI.png'></div>\n",
    "<div style='float:left; font-size:larger'><strong>Algorithmique et programmation 2</strong><br>\n",
    "L1 Mathématiques - L1 Informatique<br>\n",
    "Semestre 2\n",
    "</div>"
   ]
  },
  {
   "cell_type": "markdown",
   "metadata": {
    "slideshow": {
     "slide_type": "-"
    }
   },
   "source": [
    "# Complexité algorithmique"
   ]
  },
  {
   "cell_type": "markdown",
   "metadata": {
    "slideshow": {
     "slide_type": "slide"
    }
   },
   "source": [
    "## Motivation\n",
    "\n",
    "-   On n’exige pas seulement d’un algorithme qu’il résolve un problème,\n",
    "    c’est-à-dire :\n",
    "\n",
    "    -   qu’il donne la bonne réponse (**correction**)\n",
    "    -   en un temps fini (**terminaison**)\n",
    "    -   sur chaque instance"
   ]
  },
  {
   "cell_type": "markdown",
   "metadata": {
    "slideshow": {
     "slide_type": "slide"
    }
   },
   "source": [
    "-   On veut également qu’il soit **efficace**, c’est-à-dire :\n",
    "\n",
    "    -   rapide (en termes de temps d’exécution)\n",
    "    -   peu gourmand en ressources (mémoire utilisée)\n",
    "    \n",
    "    *(on s’intéressera pour commencer au temps d’exécution)*"
   ]
  },
  {
   "cell_type": "markdown",
   "metadata": {
    "slideshow": {
     "slide_type": "slide"
    }
   },
   "source": [
    "## Mesure de performances\n",
    "\n",
    "On peut utiliser la fonction `time()` du module `time` pour chronométrer l'exécution, pourquoi pas pour tracer des graphiques"
   ]
  },
  {
   "cell_type": "code",
   "execution_count": 1,
   "metadata": {
    "slideshow": {
     "slide_type": "-"
    }
   },
   "outputs": [
    {
     "name": "stdout",
     "output_type": "stream",
     "text": [
      "0.00020122528076171875\n"
     ]
    }
   ],
   "source": [
    "# pour chronométrer\n",
    "from time import time\n",
    "\n",
    "# enregistrer le temps de départ\n",
    "debut = time()\n",
    "\n",
    "# faire quelque chose\n",
    "for i in range(10**3):\n",
    "    pass\n",
    "\n",
    "# calculer le temps écoulé\n",
    "print(time() - debut)"
   ]
  },
  {
   "cell_type": "markdown",
   "metadata": {
    "slideshow": {
     "slide_type": "slide"
    }
   },
   "source": [
    "Un autre outil un peu plus élaboré est le module `timeit` :"
   ]
  },
  {
   "cell_type": "code",
   "execution_count": 2,
   "metadata": {
    "slideshow": {
     "slide_type": "-"
    }
   },
   "outputs": [
    {
     "data": {
      "text/plain": [
       "0.012090716000102475"
      ]
     },
     "execution_count": 2,
     "metadata": {},
     "output_type": "execute_result"
    }
   ],
   "source": [
    "from timeit import timeit\n",
    "\n",
    "timeit(\"\"\"\n",
    "for i in range(10**3):\n",
    "    pass\n",
    "\"\"\", number=100)"
   ]
  },
  {
   "cell_type": "markdown",
   "metadata": {
    "slideshow": {
     "slide_type": "slide"
    }
   },
   "source": [
    "Sous Jupyter, on peut aussi utiliser les \"formules magiques\" `%%timeit` (tout une cellule) ou `%timeit` (une seule ligne) :"
   ]
  },
  {
   "cell_type": "code",
   "execution_count": 3,
   "metadata": {
    "slideshow": {
     "slide_type": "-"
    }
   },
   "outputs": [
    {
     "name": "stdout",
     "output_type": "stream",
     "text": [
      "31.9 ms ± 2.89 ms per loop (mean ± std. dev. of 7 runs, 10 loops each)\n"
     ]
    }
   ],
   "source": [
    "%%timeit\n",
    "for i in range(10**6): \n",
    "    pass"
   ]
  },
  {
   "cell_type": "code",
   "execution_count": 4,
   "metadata": {
    "slideshow": {
     "slide_type": "-"
    }
   },
   "outputs": [
    {
     "name": "stdout",
     "output_type": "stream",
     "text": [
      "32.6 ms ± 2.54 ms per loop (mean ± std. dev. of 7 runs, 10 loops each)\n"
     ]
    }
   ],
   "source": [
    "%timeit for i in range(10**6): pass"
   ]
  },
  {
   "cell_type": "markdown",
   "metadata": {
    "slideshow": {
     "slide_type": "slide"
    }
   },
   "source": [
    "### Exemple 1 : recherche dans une liste"
   ]
  },
  {
   "cell_type": "markdown",
   "metadata": {
    "slideshow": {
     "slide_type": "subslide"
    }
   },
   "source": [
    "#### Algorithme \"idéal\"\n",
    "\n",
    "- Soit $L$ une liste, $x$ un élément à chercher\n",
    "- Pour chaque élément tour à tour dans la liste :\n",
    "    - Si cet élément est égal à $x$, répondre \"vrai\" et arrêter\n",
    "    - Sinon continuer\n",
    "- Si on atteint la fin de la liste sans avoir trouvé $x$, répondre \"faux\""
   ]
  },
  {
   "cell_type": "markdown",
   "metadata": {
    "slideshow": {
     "slide_type": "subslide"
    }
   },
   "source": [
    "Quels sont les cas où l'algorithme prend le plus de temps (pires cas) ? \n",
    "\n",
    "Comment varie la \"quantité de travail\" à fournir en fonction de $L$ et $x$ dans ces cas ?\n",
    "\n",
    "> *Moralement*, cela devrait être (au pire) proportionnel au nombre d'éléments dans la liste : il suffit de regarder chaque élément de la liste une fois."
   ]
  },
  {
   "cell_type": "markdown",
   "metadata": {
    "slideshow": {
     "slide_type": "subslide"
    }
   },
   "source": [
    "#### Vérification expérimentale : fonction itérative"
   ]
  },
  {
   "cell_type": "code",
   "execution_count": 5,
   "metadata": {
    "slideshow": {
     "slide_type": "-"
    }
   },
   "outputs": [],
   "source": [
    "def recherche_iter(L, x):\n",
    "    for elem in L:\n",
    "        if elem == x:\n",
    "            return True\n",
    "    return False"
   ]
  },
  {
   "cell_type": "code",
   "execution_count": 6,
   "metadata": {
    "slideshow": {
     "slide_type": "subslide"
    }
   },
   "outputs": [
    {
     "name": "stdout",
     "output_type": "stream",
     "text": [
      "41.7 µs ± 2.89 µs per loop (mean ± std. dev. of 7 runs, 10000 loops each)\n",
      "111 µs ± 20.4 µs per loop (mean ± std. dev. of 7 runs, 10000 loops each)\n"
     ]
    }
   ],
   "source": [
    "liste_mille = list(range(1000))\n",
    "liste_deux_mille = list(range(2000))\n",
    "\n",
    "%timeit recherche_iter(liste_mille, 'pas-là')\n",
    "%timeit recherche_iter(liste_deux_mille, 'absent')"
   ]
  },
  {
   "cell_type": "markdown",
   "metadata": {
    "slideshow": {
     "slide_type": "fragment"
    }
   },
   "source": [
    "Ici, on voit que si la taille de la liste double, le temps de calcul est multiplié à peu près par deux. Cela semble confirmer l'hypothèse précédente."
   ]
  },
  {
   "cell_type": "markdown",
   "metadata": {
    "slideshow": {
     "slide_type": "subslide"
    }
   },
   "source": [
    "#### Vérification expérimentale : fonction récursive"
   ]
  },
  {
   "cell_type": "code",
   "execution_count": 7,
   "metadata": {
    "slideshow": {
     "slide_type": "-"
    }
   },
   "outputs": [],
   "source": [
    "# pour avoir une pile plus grande\n",
    "from sys import setrecursionlimit  \n",
    "setrecursionlimit(3000)"
   ]
  },
  {
   "cell_type": "code",
   "execution_count": 8,
   "metadata": {
    "slideshow": {
     "slide_type": "subslide"
    }
   },
   "outputs": [],
   "source": [
    "def recherche_rec(lst, e):\n",
    "    if len(lst) == 0:\n",
    "        return False\n",
    "    elif lst[0] == e:\n",
    "        return True\n",
    "    else:\n",
    "        return recherche_rec(lst[1:], e)"
   ]
  },
  {
   "cell_type": "code",
   "execution_count": 9,
   "metadata": {
    "slideshow": {
     "slide_type": "subslide"
    }
   },
   "outputs": [
    {
     "name": "stdout",
     "output_type": "stream",
     "text": [
      "4.36 ms ± 1.42 ms per loop (mean ± std. dev. of 7 runs, 100 loops each)\n",
      "11.4 ms ± 1.66 ms per loop (mean ± std. dev. of 7 runs, 100 loops each)\n"
     ]
    }
   ],
   "source": [
    "liste_mille = list(range(1000))\n",
    "liste_deux_mille = list(range(2000))\n",
    "\n",
    "%timeit recherche_rec(liste_mille, 'nope')\n",
    "%timeit recherche_rec(liste_deux_mille, 'cherche ailleurs')"
   ]
  },
  {
   "cell_type": "markdown",
   "metadata": {
    "slideshow": {
     "slide_type": "fragment"
    }
   },
   "source": [
    "- Cette fois, pour une liste **deux** fois plus grande, le temps d'exécution est multiplié environ par **quatre** : ça n'a pas l'air proportionnel...\n",
    "\n",
    "- On remarque aussi que cette fonction est globalement **beaucoup** plus lente que la version itérative (c'est assez normal, on y reviendra)."
   ]
  },
  {
   "cell_type": "markdown",
   "metadata": {
    "slideshow": {
     "slide_type": "subslide"
    }
   },
   "source": [
    "#### Vérification expérimentale : graphique\n",
    "\n",
    "Pour y voir plus clair, essayons de tracer un graphique :"
   ]
  },
  {
   "cell_type": "code",
   "execution_count": 10,
   "metadata": {
    "slideshow": {
     "slide_type": "-"
    }
   },
   "outputs": [],
   "source": [
    "# pour dessiner des graphiques\n",
    "import matplotlib.pyplot as plt\n",
    "%matplotlib inline\n",
    "# %config InlineBackend.figure_format='retina'"
   ]
  },
  {
   "cell_type": "code",
   "execution_count": 11,
   "metadata": {
    "slideshow": {
     "slide_type": "subslide"
    }
   },
   "outputs": [],
   "source": [
    "def teste_recherche(fonction, tailles):\n",
    "    \"\"\"\n",
    "    Fonction cherchant 1 dans des listes de 0\n",
    "    de longueur données dans tailles.\n",
    "    Renvoie une liste des temps d'exécution.\n",
    "    \"\"\"\n",
    "    temps = []\n",
    "    for n in tailles:\n",
    "        lst = [0] * n\n",
    "        t = timeit(lambda: fonction(lst, 1), \n",
    "                   number=200, globals=globals())\n",
    "        temps.append(t)\n",
    "    return temps"
   ]
  },
  {
   "cell_type": "code",
   "execution_count": 12,
   "metadata": {
    "slideshow": {
     "slide_type": "subslide"
    }
   },
   "outputs": [],
   "source": [
    "# On va tester avec les tailles ci-dessous\n",
    "tailles = list(range(0, 3000, 300))"
   ]
  },
  {
   "cell_type": "code",
   "execution_count": 13,
   "metadata": {
    "slideshow": {
     "slide_type": "subslide"
    }
   },
   "outputs": [
    {
     "data": {
      "image/png": "[encoded data removed]",
      "text/plain": [
       "<Figure size 432x288 with 1 Axes>"
      ]
     },
     "metadata": {
      "image/png": {
       "height": 248,
       "width": 362
      },
      "needs_background": "light"
     },
     "output_type": "display_data"
    }
   ],
   "source": [
    "# On lance les tests\n",
    "temps = teste_recherche(recherche_iter, tailles)\n",
    "plt.plot(tailles, temps, 's-', label='itérative')\n",
    "\n",
    "temps = teste_recherche(recherche_rec, tailles)\n",
    "plt.plot(tailles, temps, 's-', label='récursive')\n",
    "\n",
    "plt.legend()\n",
    "pass"
   ]
  },
  {
   "cell_type": "markdown",
   "metadata": {
    "slideshow": {
     "slide_type": "subslide"
    }
   },
   "source": [
    "Le problème se confirme... la courbe pour la fonction `recherche_rec` ne ressemble pas à une droite.\n",
    "\n",
    "La raison (déjà donné au chapitre précédent) est que nous utilisons une instruction coûteuse sans en tenir compte :\n",
    "\n",
    "```python\n",
    "def recherche_rec(lst, e):\n",
    "    if len(lst) == 0:\n",
    "        return False\n",
    "    elif lst[0] == e:\n",
    "        return True\n",
    "    else:\n",
    "        return recherche_rec(lst[1:], e)\n",
    "        # lst[1:]  prend un temps proportionnel à len(lst) !!!\n",
    "```"
   ]
  },
  {
   "cell_type": "markdown",
   "metadata": {
    "slideshow": {
     "slide_type": "subslide"
    }
   },
   "source": [
    "Pour remédier au problème, on peut utiliser un argument supplémentaire (indice) et ne pas modifier la liste :"
   ]
  },
  {
   "cell_type": "code",
   "execution_count": 15,
   "metadata": {
    "scrolled": true,
    "slideshow": {
     "slide_type": "-"
    }
   },
   "outputs": [],
   "source": [
    "def recherche_rec_aux(lst, e, i):\n",
    "    if len(lst) <= i:\n",
    "        return False\n",
    "    elif lst[i] == e:\n",
    "        return True\n",
    "    else:\n",
    "        return recherche_rec_aux(lst, e, i+1)\n",
    "\n",
    "def recherche_rec2(lst, e):\n",
    "    return recherche_rec_aux(lst, e, 0)"
   ]
  },
  {
   "cell_type": "code",
   "execution_count": 16,
   "metadata": {
    "slideshow": {
     "slide_type": "subslide"
    }
   },
   "outputs": [
    {
     "data": {
      "text/plain": [
       "False"
      ]
     },
     "execution_count": 16,
     "metadata": {},
     "output_type": "execute_result"
    }
   ],
   "source": [
    "recherche_rec2([1, 3, -5], 4)"
   ]
  },
  {
   "cell_type": "code",
   "execution_count": 17,
   "metadata": {
    "slideshow": {
     "slide_type": "-"
    }
   },
   "outputs": [
    {
     "data": {
      "text/plain": [
       "True"
      ]
     },
     "execution_count": 17,
     "metadata": {},
     "output_type": "execute_result"
    }
   ],
   "source": [
    "recherche_rec2([1, 3, -5], -5)"
   ]
  },
  {
   "cell_type": "markdown",
   "metadata": {
    "slideshow": {
     "slide_type": "subslide"
    }
   },
   "source": [
    "On vérifie que le problème semble résolu :"
   ]
  },
  {
   "cell_type": "code",
   "execution_count": 20,
   "metadata": {
    "slideshow": {
     "slide_type": "subslide"
    }
   },
   "outputs": [
    {
     "data": {
      "image/png": "[encoded data removed]",
      "text/plain": [
       "<Figure size 432x288 with 1 Axes>"
      ]
     },
     "metadata": {
      "image/png": {
       "height": 248,
       "width": 362
      },
      "needs_background": "light"
     },
     "output_type": "display_data"
    }
   ],
   "source": [
    "# On lance les tests\n",
    "temps = teste_recherche(recherche_iter, tailles)\n",
    "plt.plot(tailles, temps, 's-', label='itérative')\n",
    "\n",
    "temps = teste_recherche(recherche_rec, tailles)\n",
    "plt.plot(tailles, temps, 's-', label='récursive avec tranche')\n",
    "\n",
    "temps = teste_recherche(recherche_rec2, tailles)\n",
    "plt.plot(tailles, temps, 's-', label='récursive avec indice')\n",
    "\n",
    "plt.legend()\n",
    "pass"
   ]
  },
  {
   "cell_type": "markdown",
   "metadata": {
    "slideshow": {
     "slide_type": "subslide"
    }
   },
   "source": [
    "La fonction récursive reste plus lente (c'est normal) mais au moins le temps d'exécution semble vaguement proportionnel à la taille de la liste."
   ]
  },
  {
   "cell_type": "markdown",
   "metadata": {
    "slideshow": {
     "slide_type": "slide"
    }
   },
   "source": [
    "### Exemple 2 : recherche de doublons"
   ]
  },
  {
   "cell_type": "code",
   "execution_count": 20,
   "metadata": {
    "slideshow": {
     "slide_type": "-"
    }
   },
   "outputs": [],
   "source": [
    "def contient_doublon(lst):\n",
    "    for i in range(len(lst)):\n",
    "        for j in range(i+1, len(lst)):\n",
    "            if lst[i] == lst[j]:\n",
    "                return True\n",
    "    return False"
   ]
  },
  {
   "cell_type": "code",
   "execution_count": 21,
   "metadata": {
    "slideshow": {
     "slide_type": "subslide"
    }
   },
   "outputs": [
    {
     "data": {
      "text/plain": [
       "True"
      ]
     },
     "execution_count": 21,
     "metadata": {},
     "output_type": "execute_result"
    }
   ],
   "source": [
    "contient_doublon([1, 0, 3, 4, 1, 3])"
   ]
  },
  {
   "cell_type": "code",
   "execution_count": 22,
   "metadata": {
    "slideshow": {
     "slide_type": "-"
    }
   },
   "outputs": [
    {
     "data": {
      "text/plain": [
       "False"
      ]
     },
     "execution_count": 22,
     "metadata": {},
     "output_type": "execute_result"
    }
   ],
   "source": [
    "contient_doublon([1, 0, 3, 4, 2, -3])"
   ]
  },
  {
   "cell_type": "code",
   "execution_count": 23,
   "metadata": {
    "slideshow": {
     "slide_type": "subslide"
    }
   },
   "outputs": [
    {
     "data": {
      "image/png": "[encoded data removed]",
      "text/plain": [
       "<Figure size 432x288 with 1 Axes>"
      ]
     },
     "metadata": {
      "image/png": {
       "height": 248,
       "width": 362
      },
      "needs_background": "light"
     },
     "output_type": "display_data"
    }
   ],
   "source": [
    "tailles = list(range(0, 1000, 100))\n",
    "\n",
    "temps = []\n",
    "for n in tailles:\n",
    "    lst = list(range(n))\n",
    "    t = timeit('contient_doublon(lst)', \n",
    "               globals=globals(), number=100)\n",
    "    temps.append(t)\n",
    "\n",
    "plt.plot(tailles, temps, 's-')\n",
    "pass"
   ]
  },
  {
   "cell_type": "markdown",
   "metadata": {
    "slideshow": {
     "slide_type": "subslide"
    }
   },
   "source": [
    "Ça n'a toujours pas l'air linéaire... Essayons le \"test de doublement\" :"
   ]
  },
  {
   "cell_type": "code",
   "execution_count": 24,
   "metadata": {
    "slideshow": {
     "slide_type": "-"
    }
   },
   "outputs": [
    {
     "name": "stdout",
     "output_type": "stream",
     "text": [
      "60.8 ms ± 3.6 ms per loop (mean ± std. dev. of 7 runs, 10 loops each)\n",
      "249 ms ± 31.2 ms per loop (mean ± std. dev. of 7 runs, 1 loop each)\n"
     ]
    }
   ],
   "source": [
    "liste_mille = list(range(1000))\n",
    "liste_deux_mille = list(range(2000))\n",
    "\n",
    "%timeit contient_doublon(liste_mille)\n",
    "%timeit contient_doublon(liste_deux_mille)"
   ]
  },
  {
   "cell_type": "markdown",
   "metadata": {
    "slideshow": {
     "slide_type": "fragment"
    }
   },
   "source": [
    "Pour une liste de taille **double**, le temps de calcul a **beaucoup plus que doublé**. On verra plus précisément dans la suite comment évolue le temps de calcul de cette fonction par rapport à `len(lst)`."
   ]
  },
  {
   "cell_type": "markdown",
   "metadata": {
    "slideshow": {
     "slide_type": "slide"
    }
   },
   "source": [
    "## La complexité d'un algorithme\n",
    "\n",
    "-   Inconvénients du chronométrage de programmes :\n",
    "\n",
    "    -   nécessite d’implémenter les algorithmes\n",
    "    -   mesures dépendant de nombreux facteurs (machine, langage, charge...)\n",
    "    -   peut être dur à implémenter\n",
    "    -   observations difficiles à transposer, à généraliser..."
   ]
  },
  {
   "cell_type": "markdown",
   "metadata": {
    "slideshow": {
     "slide_type": "subslide"
    }
   },
   "source": [
    "-   On veut pouvoir évaluer la qualité **théorique** des algorithmes\n",
    "\n",
    "    -   quel algorithme choisir **avant de commencer à programmer** ?\n",
    "    -   pourquoi tel programme est-il aussi lent ?\n",
    "    -   où agir pour améliorer un algorithme ?"
   ]
  },
  {
   "cell_type": "markdown",
   "metadata": {
    "slideshow": {
     "slide_type": "subslide"
    }
   },
   "source": [
    "-   La **théorie de la complexité** (algorithmique) permet aussi :\n",
    "\n",
    "    -   de classer les *algorithmes* selon leur efficacité\n",
    "    -   de comparer plusieurs algorithmes résolvant un même problème\n",
    "        *sans les implémenter*\n",
    "    -   de classer les *problèmes* selon leur difficulté\n",
    "\n",
    "\n",
    "-   **Idée de base :** *compter* le nombre d’opérations élémentaires effectuées"
   ]
  },
  {
   "cell_type": "markdown",
   "metadata": {
    "slideshow": {
     "slide_type": "slide"
    }
   },
   "source": [
    "### Comptage des opérations\n",
    "\n",
    "-   Chaque **opération élémentaire** compte pour une “unité de temps”\n",
    "    (pour simplifier)\n",
    "\n",
    "    -   exemples : `=`, `==`, `<=`, `+`, `-`, `*`, `/`, `lst[i]`...\n",
    "\n",
    "    -   considérées comme prenant un temps “constant” (indépendant de\n",
    "        l’entrée)\n",
    "\n",
    "    -   doivent être bien choisies\n",
    "\n",
    "-   Chaque **itération** d’une boucle rajoute le nombre d’unités de\n",
    "    temps prises par le corps de cette boucle\n",
    "\n",
    "-   Chaque **appel de fonction** rajoute le nombre d’unités de temps\n",
    "    prises par son exécution"
   ]
  },
  {
   "cell_type": "markdown",
   "metadata": {
    "slideshow": {
     "slide_type": "subslide"
    }
   },
   "source": [
    "### Exemple: calcul de la factorielle\n",
    "\n",
    "Version itérative :\n",
    "\n",
    "```python\n",
    "def fact_iter(n):  \n",
    "    fact = 1             # affectation :  1           \n",
    "    i = 2                # affectation :  1\n",
    "    while i <= n:        # comparaison :  1\n",
    "        fact = fact * i  # mult. + aff. : 2\n",
    "        i = i + 1        # add. + aff. :  2\n",
    "    return fact          # renvoi valeur: 1\n",
    "```\n",
    "\n",
    "-   Si $n > 1$ on a exactement $n - 1$ tours de boucle\n",
    "\n",
    "-   Nombre total d’opérations pour un appel à `fact(n)` :\n",
    "    \n",
    "    $$T(n) = 1+1+(n-1)*5+1+1=5n-1$$"
   ]
  },
  {
   "cell_type": "markdown",
   "metadata": {
    "slideshow": {
     "slide_type": "subslide"
    }
   },
   "source": [
    "Version récursive :\n",
    "\n",
    "```python\n",
    "def fact_rec(n):\n",
    "    if n <= 1:    # comparaison :   1\n",
    "        return 1  # renvoi valeur : 1\n",
    "    else:\n",
    "        return n * fact_rec(n - 1) \n",
    "        # appel récursif : T(n-1)\n",
    "        # soustr. + mult. + retour : 3\n",
    "```\n",
    "\n",
    "Nombre total d’opérations (pour $n > 0$): \n",
    "\n",
    "$$\n",
    "\\begin{cases}\n",
    "  T(1) = 2,\\\\\n",
    "  T(n) = 4 + T(n-1)\n",
    "\\end{cases}\n",
    "$$\n",
    "\n",
    "Total : $T(n) = 4n-2$"
   ]
  },
  {
   "cell_type": "markdown",
   "metadata": {
    "slideshow": {
     "slide_type": "subslide"
    }
   },
   "source": [
    "### Remarques\n",
    "\n",
    "-   Ce genre de calcul est en général inexact\n",
    "\n",
    "    -   on ne sait pas toujours combien de fois exactement on va\n",
    "        effectuer une boucle (encadrement)\n",
    "\n",
    "    -   lors d’un branchement conditionnel, le nombre d’opérations\n",
    "        effectuées n’est pas toujours le même (encadrement)\n",
    "\n",
    "    -   l’hypothèse selon laquelle chaque opération élémentaire prend le\n",
    "        même temps est en général fausse\n",
    "\n",
    "    -   un appel de fonction engendre un coût supplémentaire (gestion de\n",
    "        la pile)\n",
    "\n",
    "-   Les calculs mathématiques requis peuvent être très délicats\n",
    "\n",
    "-   Heureusement, on dispose d’outils plus simples et plus adaptés"
   ]
  },
  {
   "cell_type": "markdown",
   "metadata": {
    "slideshow": {
     "slide_type": "slide"
    }
   },
   "source": [
    "## Complexité asymptotique\n",
    "\n",
    "On appelle **\"complexité\"** d’un algorithme une mesure de sa performance\n",
    "**asymptoptique** dans le **pire cas**\n",
    "\n",
    "-   Que signifie **asymptotique**?\n",
    "    -   on considère le nombre d'opérations quand la taille de l'entrée tend vers l'infini\n",
    "    -   pourquoi ? parce que cela permet de se concentrer sur le terme dominant dans l'expression du nombre d'opérations (vitesse de croissance la plus grande)\n",
    "\n",
    "-   Que signifie **dans le pire cas** ?\n",
    "    -   pour une taille donnée, on considère la pire entrée possible de cette taille (celle qui demandera le plus de calculs)\n",
    "    -   pourquoi? parce que cela fournit une garantie sur le pire temps d'exécution possible pour une entrée de taille donnée\n",
    "\n",
    "On peut aussi regarder la complexité **au mieux**, ou\n",
    "**en moyenne** (intéressant mais plus difficile à calculer)"
   ]
  },
  {
   "cell_type": "markdown",
   "metadata": {
    "slideshow": {
     "slide_type": "slide"
    }
   },
   "source": [
    "### Intuition: comportement asymptotique\n",
    "\n",
    "Soient :\n",
    "\n",
    "1.  un problème à résoudre sur des données de taille $n$\n",
    "2.  deux algorithmes le résolvant en temps $f_1(n)$ et $f_2(n)$\n",
    "\n",
    "<img src='plot.png' width='50%'>\n",
    "\n",
    "Quel algorithme préférez-vous?"
   ]
  },
  {
   "cell_type": "markdown",
   "metadata": {
    "slideshow": {
     "slide_type": "subslide"
    }
   },
   "source": [
    "<img src='plot2.png' width='50%'>"
   ]
  },
  {
   "cell_type": "markdown",
   "metadata": {
    "slideshow": {
     "slide_type": "slide"
    }
   },
   "source": [
    "### La notation $O(\\cdot)$\n",
    "\n",
    "-   Calculs exacts du nombre d’opérations parfois longs et pénibles\n",
    "\n",
    "-   Degré de précision mal maîtrisé (détails dépendant de la machine, du\n",
    "    langage, de l’implémentation...) et souvent inutile\n",
    "\n",
    "-   On recourt à une **approximation** représentée par la notation\n",
    "    $O(\\cdot)$\n",
    "\n",
    "-   Soit $n$ la taille des données à traiter; on dit qu’une fonction\n",
    "    $f(n)$ est **en $O(g(n))$** (« grand Ô de $g(n)$ ») si\n",
    "\n",
    "    $$\n",
    "    \\exists\\ n_0 \\in \\mathbb{N},\n",
    "      \\exists\\ c \\in \\mathbb{R},\n",
    "      \\forall\\ n\\geq n_0: \\quad\n",
    "      \\left| f(n) \\right| \\leq c \\left| g(n) \\right|\n",
    "    $$\n",
    "\n",
    "-   Autrement dit: $f(n)$ est en $O(g(n))$ si à\n",
    "    partir d'un certain rang $f(\\cdot)$ est toujours inférieure à $g(\\cdot)$, à\n",
    "    une constante multiplicative fixée près"
   ]
  },
  {
   "cell_type": "markdown",
   "metadata": {
    "slideshow": {
     "slide_type": "subslide"
    }
   },
   "source": [
    "Ce qu'on veut écrire typiquement : \"mon algorithme effectue un nombre d'opérations en $O(n)$\""
   ]
  },
  {
   "cell_type": "markdown",
   "metadata": {
    "slideshow": {
     "slide_type": "slide"
    }
   },
   "source": [
    "### Illustration\n",
    "\n",
    "Quelques cas où $f(n)$ (en bleu) $\\in O(g(n))$ (en rouge) :\n",
    "\n",
    "<img src='plot3-0.png' width='40%'>"
   ]
  },
  {
   "cell_type": "markdown",
   "metadata": {
    "slideshow": {
     "slide_type": "subslide"
    }
   },
   "source": [
    "<img src='plot3-1.png' width='40%'>"
   ]
  },
  {
   "cell_type": "markdown",
   "metadata": {
    "slideshow": {
     "slide_type": "subslide"
    }
   },
   "source": [
    "<img src='plot3-2.png' width='40%'>\n",
    "\n",
    "Dans ce dernier cas ci-dessous, on a aussi $g(n) \\in O(f(n))$ ! (pourquoi ?)"
   ]
  },
  {
   "cell_type": "markdown",
   "metadata": {
    "slideshow": {
     "slide_type": "slide"
    }
   },
   "source": [
    "### Règles de calcul: simplifications\n",
    "\n",
    "On calcule le temps d’exécution comme avant, mais on effectue les\n",
    "simplifications suivantes:\n",
    "\n",
    "-   on remplace toutes les constantes multiplicatives par $1$\n",
    "\n",
    "-   on ne retient que les termes dominants\n",
    "\n",
    "-   (et donc on annule en général les termes constants)"
   ]
  },
  {
   "cell_type": "markdown",
   "metadata": {
    "slideshow": {
     "slide_type": "subslide"
    }
   },
   "source": [
    "#### Échelle de fonctions\n",
    "\n",
    "Soient $(f_n)_{n \\in  \\mathbb{N}}$ et $(g_n)_{n \\in  \\mathbb{N}}$ deux suites réelles strictement positives à partir d'un certain rang. On dit que $f_n$ croît plus lentement que $g_n$, noté $f_n \\prec g_n$, si $\\lim_{n \\to \\infty} \\frac{f_n}{g_n} = 0$. En d'autres termes, quand $n$ devient grand, $f(n)$ devient négligeable devant $g(n)$.\n",
    "\n",
    "Pour tous réels $\\varepsilon$, $\\delta$, $c$ et $d$ avec $0 < \\varepsilon < \\delta < 1 < c < d$, on a :\n",
    "\n",
    "$$\n",
    "1 \\prec \\log n \\prec (\\log n)^c \\prec (\\log n)^d \\prec n^\\varepsilon \\prec n^\\delta \\prec n \\prec n^c \\prec n^d \\prec c^n \\prec d^n \\prec n! \\prec n^n \\prec c^{c^n}.\n",
    "$$"
   ]
  },
  {
   "cell_type": "markdown",
   "metadata": {
    "slideshow": {
     "slide_type": "subslide"
    }
   },
   "source": [
    "#### Règles de calcul\n",
    "\n",
    "On a les règles de calcul suivantes, pour $(f_n)_{n \\in \\mathbb{N}}$ et $(g_n)_{n \\in \\mathbb{N}}$ positives à partir d'un certain rang :\n",
    "\n",
    "- $f_n ∈ O(f_n)$\n",
    "- $c \\times O(f_n) \\subset O(f_n)$, pour $c \\in \\mathbb{R}$.\n",
    "- $O(f_n) \\times O(g_n) \\subset O(f_n \\times g_n)$.\n",
    "- $O(f_n) + O(g_n) \\subset O(\\max(f_n, g_n))$.\n",
    "- Si $f_n \\in O(g_n)$ alors $O(f_n) + O(g_n) \\subset O(g_n)$. \n",
    "- Si $f_n \\prec g_n$ alors $f_n \\in O(g_n)$."
   ]
  },
  {
   "cell_type": "markdown",
   "metadata": {
    "slideshow": {
     "slide_type": "subslide"
    }
   },
   "source": [
    "#### Exemple\n",
    "\n",
    "Soit un algorithme effectuant $g(n)=4n^3+5n^2\\log(n)+2000n+3$ opérations sur des entrées de taille $n$, on a : \n",
    "\n",
    "$$\n",
    "\\begin{aligned}\n",
    "    g(n) & \\in O(4 n^3 + 5 n^2 \\log(n) + 2000 n + 3)\\\\\n",
    "         & \\in O(n^3)\n",
    "\\end{aligned}\n",
    "$$"
   ]
  },
  {
   "cell_type": "markdown",
   "metadata": {
    "slideshow": {
     "slide_type": "subslide"
    }
   },
   "source": [
    "#### Justification\n",
    "\n",
    "-   On raisonne sur des algorithmes, pas sur leurs **implémentations**\n",
    "\n",
    "    -   les processeurs actuels effectuent plusieurs milliards\n",
    "        d’opérations par seconde\n",
    "\n",
    "    -   qu’une affectation requière 2 ou 4 unités de temps ne change pas\n",
    "        grand-chose\n",
    "\n",
    "    -   et d’ailleurs on ne peut pas toujours le savoir\n",
    "\n",
    "-   On s’intéresse plutôt à une **vitesse de croissance**\n",
    "\n",
    "    -   quand $n$ grandit, certains termes croissent plus vite, les autres deviennent négligeables"
   ]
  },
  {
   "cell_type": "markdown",
   "metadata": {
    "slideshow": {
     "slide_type": "slide"
    }
   },
   "source": [
    "### Règles de calculs: combinaison des complexités\n",
    "\n",
    "Les instructions de base sont supposées prendre un temps constant, noté **$O(1)$**\n",
    "\n",
    "#### Séquences d'instructions\n",
    "\n",
    "-   On additionne les complexités des opérations (ou on prend le maximum) :\n",
    "\n",
    "    $$O(f_1(n))+O(f_2(n))=O(\\max(f_1(n), f_2(n)))$$"
   ]
  },
  {
   "cell_type": "markdown",
   "metadata": {
    "slideshow": {
     "slide_type": "subslide"
    }
   },
   "source": [
    "#### Conditionnelles\n",
    "\n",
    "-   On additionne les complexités (ou on prend le maximum):\n",
    "\n",
    "    ```python\n",
    "    if <condition>:  # coût de la cond. : O(g(n))\n",
    "        ...  # bloc d'instructions (1) : O(f1(n))\n",
    "    else:\n",
    "        ...  # bloc d'instructions (2) : O(f2(n))\n",
    "    ```\n",
    "\n",
    "    Coût total : $O(\\max(g(n), f_1(n), f_2(n))$"
   ]
  },
  {
   "cell_type": "markdown",
   "metadata": {
    "slideshow": {
     "slide_type": "subslide"
    }
   },
   "source": [
    "#### Boucles\n",
    "\n",
    "-   On **multiplie** la complexité du corps par le\n",
    "    nombre d’itérations;\n",
    "\n",
    "-   La complexité d’une boucle `while` se calcule comme suit:\n",
    "\n",
    "    ```python\n",
    "    while <condition>: # coût de la cond. : O(g(n))\n",
    "        ...  # bloc d'instructions : O(f(n))\n",
    "    ```\n",
    "\n",
    "    Coût total pour $m$ itérations : $O(m \\times (\\max(g(n), f(n))))$"
   ]
  },
  {
   "cell_type": "markdown",
   "metadata": {
    "slideshow": {
     "slide_type": "slide"
    }
   },
   "source": [
    "### Calcul de la complexité d’un algorithme\n",
    "\n",
    "-   Pour calculer la complexité d’un algorithme:\n",
    "\n",
    "    1.  on calcule la complexité de chaque “partie” de l’algorithme;\n",
    "\n",
    "    2.  on combine ces complexités conformément aux règles qu’on vient\n",
    "        de voir;\n",
    "\n",
    "    3.  on simplifie le résultat grâce aux règles de simplifications\n",
    "        qu’on a vues;\n",
    "\n",
    "        -   élimination des constantes, et\n",
    "\n",
    "        -   conservation du (des) terme(s) dominant(s)"
   ]
  },
  {
   "cell_type": "markdown",
   "metadata": {
    "slideshow": {
     "slide_type": "subslide"
    }
   },
   "source": [
    "#### Exemple\n",
    "\n",
    "Reprenons le calcul de la factorielle, qui nécessitait $5n-1$\n",
    "opérations:\n",
    "\n",
    "```python\n",
    "def fact_iter(n):  \n",
    "    fact = 1             # affectation :  O(1)\n",
    "    i = 2                # affectation :  O(1)\n",
    "    while i <= n:        # comparaison :  O(1)\n",
    "        fact = fact * i  # mult. + aff. : O(1)\n",
    "        i = i + 1        # add. + aff. :  O(1)\n",
    "    return fact          # retour:        O(1)\n",
    "````\n",
    "\n",
    "Complexité totale : $\\max(O(1), O(n \\times \\max(1, 1)) = O(n)$"
   ]
  },
  {
   "cell_type": "markdown",
   "metadata": {
    "slideshow": {
     "slide_type": "subslide"
    }
   },
   "source": [
    "#### Autre méthode possible\n",
    "\n",
    "On peut aussi calculer le nombre de fois où une des instructions les plus fréquentes est effectuée\n",
    "\n",
    "- Plus facile à calculer\n",
    "- Le nombre total aura au plus la même vitesse de croissance (à un facteur près)"
   ]
  },
  {
   "cell_type": "markdown",
   "metadata": {
    "slideshow": {
     "slide_type": "subslide"
    }
   },
   "source": [
    "Dans `fact_iter`, on peut par exemple compter le nombre de multiplications :\n",
    "\n",
    "```python\n",
    "def fact_iter(n):  \n",
    "    fact = 1\n",
    "    i = 2        \n",
    "    while i <= n:\n",
    "        fact = fact * i  # une multiplication\n",
    "        i = i + 1\n",
    "    return fact\n",
    "````\n",
    "\n",
    "On obtient bien $n-1$ tours de boucles, donc $n-1$ multiplications, donc $O(n)$ opérations au total."
   ]
  },
  {
   "cell_type": "markdown",
   "metadata": {
    "slideshow": {
     "slide_type": "subslide"
    }
   },
   "source": [
    "Justification :\n",
    "- Les opérations en-dehors de la boucle ne s'exécutent qu'un nombre constant de fois, elles ne contribuent donc pas à l'expression $O(...)$. \n",
    "- Chaque tour de boucle effectue un nombre constant d'opérations. Il est donc suffisant d'en compter une choisie arbitrairement."
   ]
  },
  {
   "cell_type": "markdown",
   "metadata": {
    "slideshow": {
     "slide_type": "slide"
    }
   },
   "source": [
    "### Observations\n",
    "\n",
    "Attention, la notation $O(...)$ n'est pas toujours intuitive ! Il faut bien se souvenir qu'il s'agit d'une *majoration* (à la limite et à un facteur près). En particulier, ce n'est pas une notation « symétrique ».\n",
    "\n",
    "On peut par exmple faire les observations suivantes :\n",
    "\n",
    "-   $f(n) \\in O(g(n))$ n’implique pas $g(n) \\in O(f(n))$:\n",
    "\n",
    "    -   contre-exemple: $n \\in O(n^2)$, mais $n^2 \\not\\in O(n)$;\n",
    "\n",
    "-   $f(n) \\not\\in O(g(n))$ n’implique pas $g(n) \\not\\in O(f(n))$:\n",
    "\n",
    "    -   contre-exemple: $n^3 \\not\\in O(n^2)$, mais $n^2 \\in  O(n^3)$;"
   ]
  },
  {
   "cell_type": "markdown",
   "metadata": {
    "slideshow": {
     "slide_type": "slide"
    }
   },
   "source": [
    "### Notation $\\Theta$\n",
    "\n",
    "On dit que deux fonctions $f(n)$ et $g(n)$ sont **asymptotiquement équivalentes à un facteur près** et on note $f(n) \\in \\Theta(g(n))$ si\n",
    "    \n",
    "$$f(n) \\in O(g(n)) \\mbox{ et } g(n) \\in O(f(n))$$\n",
    "\n",
    "autrement dit :\n",
    "\n",
    "$$\\displaystyle\n",
    "\\exists\\ n_0 \\in \\mathbb{N},\n",
    "\\exists\\ c_1, c_2 \\in \\mathbb{R},\n",
    "  \\forall\\ n\\geq n_0: \\quad\n",
    "  c_1 |g(n)| \\leq |f(n)| \\leq c_2 |g(n)|\n",
    "$$\n",
    "\n",
    "Par exemple, $5n^2 + 30n + 6 \\in \\Theta(n^2)$.\n",
    "\n",
    "Cette notation est plus précise que la notation $O$, puisqu'elle affirme qu'une fonction $f$ est à la fois minorée **et** majorée asymptotiquement par une autre fonction $g$. On l'utilise donc à chaque fois que c'est possible."
   ]
  },
  {
   "cell_type": "markdown",
   "metadata": {
    "slideshow": {
     "slide_type": "slide"
    }
   },
   "source": [
    "### Quelques familles de fonctions de complexité\n",
    "\n",
    "| **Majorant asymptotique**    | **Nom de classe** | **Exemple**\n",
    "|------------------------------|-------------------|-------------------------\n",
    "| $O(1)$                       | constante         | minimum d'une liste triée\n",
    "| $O(\\log n)$                  | logarithmique     | recherche dans une liste triée (à suivre)\n",
    "| $O(n)$                       | linéaire          | recherche dans une liste non triée\n",
    "| $O(n \\log n)$                | quasi-linéaire    | tri optimal d'une liste (à suivre)\n",
    "| $O(n^2)$                     | quadratique       | recherche de doublons, tri naïf\n",
    "| $O(n^3)$                     | cubique           | produit de matrices $n \\times n$\n",
    "| $O(2^n)$                     | exponentiel       | tours de Hanoï, sac à dos\n",
    "  "
   ]
  },
  {
   "cell_type": "markdown",
   "metadata": {
    "slideshow": {
     "slide_type": "subslide"
    }
   },
   "source": [
    "<img src='plot_classes-0.png' style='width:40%'>"
   ]
  },
  {
   "cell_type": "markdown",
   "metadata": {
    "slideshow": {
     "slide_type": "subslide"
    }
   },
   "source": [
    "<img src='plot_classes-1.png' style='width:40%'>"
   ]
  },
  {
   "cell_type": "markdown",
   "metadata": {
    "slideshow": {
     "slide_type": "subslide"
    }
   },
   "source": [
    "<img src='plot_classes-2.png' style='width:40%'>"
   ]
  },
  {
   "cell_type": "markdown",
   "metadata": {
    "slideshow": {
     "slide_type": "subslide"
    }
   },
   "source": [
    "<img src='plot_classes-3.png' style='width:40%'>"
   ]
  },
  {
   "cell_type": "markdown",
   "metadata": {
    "slideshow": {
     "slide_type": "subslide"
    }
   },
   "source": [
    "<img src='plot_classes-4.png' style='width:40%'>"
   ]
  },
  {
   "cell_type": "markdown",
   "metadata": {
    "slideshow": {
     "slide_type": "subslide"
    }
   },
   "source": [
    "<img src='plot_classes-5.png' style='width:40%'>"
   ]
  },
  {
   "cell_type": "markdown",
   "metadata": {
    "slideshow": {
     "slide_type": "subslide"
    }
   },
   "source": [
    "<img src='plot_classes-6.png' style='width:40%'>"
   ]
  }
 ],
 "metadata": {
  "celltoolbar": "Slideshow",
  "kernelspec": {
   "display_name": "Python 3",
   "language": "python",
   "name": "python3"
  },
  "language_info": {
   "codemirror_mode": {
    "name": "ipython",
    "version": 3
   },
   "file_extension": ".py",
   "mimetype": "text/x-python",
   "name": "python",
   "nbconvert_exporter": "python",
   "pygments_lexer": "ipython3",
   "version": "3.9.2"
  }
 },
 "nbformat": 4,
 "nbformat_minor": 2
}
