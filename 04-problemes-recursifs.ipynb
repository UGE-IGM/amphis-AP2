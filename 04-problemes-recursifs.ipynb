{
 "cells": [
  {
   "cell_type": "code",
   "execution_count": null,
   "metadata": {},
   "outputs": [],
   "source": [
    "from callstats import *\n",
    "from IPython.display import Image"
   ]
  },
  {
   "cell_type": "markdown",
   "metadata": {
    "editable": true,
    "slideshow": {
     "slide_type": "slide"
    },
    "tags": []
   },
   "source": [
    "<div style='width:20em'><img src='img/logo-igm.png'></div>\n",
    "<div style='font-size:larger'><strong>Algorithmique et programmation 2</strong><br>\n",
    "L1 Mathématiques - L1 Informatique<br>\n",
    "Semestre 2\n",
    "</div>"
   ]
  },
  {
   "cell_type": "markdown",
   "metadata": {
    "editable": true,
    "slideshow": {
     "slide_type": "slide"
    },
    "tags": []
   },
   "source": [
    "# Coloration de zone"
   ]
  },
  {
   "cell_type": "markdown",
   "metadata": {
    "slideshow": {
     "slide_type": "slide"
    }
   },
   "source": [
    "### Problème\n",
    "\n",
    "Dans une **image**, étant donné un **pixel** $(i, j)$, modifier la **couleur** de tous les pixels de la **région** à laquelle appartient $(i, j)$\n",
    "\n",
    "- **Pixel :** carré coloré constituant une image\n",
    "- **Couleur :** représentée par un entier\n",
    "- **Image :** liste de listes de couleurs (= matrice d'entiers)\n",
    "- **Région :** ensemble de pixels *voisins* les uns des autres et de même couleur"
   ]
  },
  {
   "cell_type": "markdown",
   "metadata": {
    "slideshow": {
     "slide_type": "slide"
    }
   },
   "source": [
    "### Voisinage\n",
    "\n",
    "Chaque pixel $(i, j)$ de l'image possède (au plus) quatre voisins\n",
    "\n",
    "<img src=\"img/voisins.png\" width=30%></img>\n",
    "\n",
    "De coordonnées $(i-1, j)$, $(i, j-1)$, $(i+1, j)$ et $(i, j+1)$"
   ]
  },
  {
   "cell_type": "markdown",
   "metadata": {
    "slideshow": {
     "slide_type": "slide"
    }
   },
   "source": [
    "### Régions\n",
    "\n",
    "<img src=\"img/exemples_grilles.png\" width=60%></img>\n",
    "\n",
    "- On doit pouvoir passer de voisin en voisin de chaque pixel\n",
    "d'une région à chaque autre (zone **connexe**)\n",
    "- Limitée par les bords de l'image et les pixels de couleur\n",
    "différente"
   ]
  },
  {
   "cell_type": "markdown",
   "metadata": {
    "slideshow": {
     "slide_type": "slide"
    }
   },
   "source": [
    "### Algorithme\n",
    "\n",
    "Pour colorer en `c_nouv` la zone à laquelle appartient le pixel (couple d'entiers) `px` :\n",
    "\n",
    "1. Mémoriser l'ancienne couleur `c_prec` de `px`\n",
    "1. Si `c_prec == c_nouv`, ne rien faire\n",
    "1. Changer la couleur de `px` de `c_prec` en\n",
    "  `c_nouv`\n",
    "1. Pour chaque voisin `v` de `px` de couleur\n",
    "  `c_prec`, **colorer récursivement** la région de `v` en\n",
    "  `c_nouv`\n"
   ]
  },
  {
   "cell_type": "markdown",
   "metadata": {
    "slideshow": {
     "slide_type": "subslide"
    }
   },
   "source": [
    "**Remarque :** Cas d'arrêt implicite si aucun voisin de couleur `c_prec`\n",
    "\n",
    "**Exercice :** modéliser et résoudre le problème en Python"
   ]
  },
  {
   "cell_type": "markdown",
   "metadata": {
    "slideshow": {
     "slide_type": "slide"
    }
   },
   "source": [
    "### Implémentation en Python\n",
    "\n",
    "On suppose qu'une `image` est représentée par une liste de listes d'entiers (liste de lignes contenant elles-mêmes la liste des couleurs des pixels)"
   ]
  },
  {
   "cell_type": "code",
   "execution_count": null,
   "metadata": {
    "editable": true,
    "slideshow": {
     "slide_type": "-"
    },
    "tags": []
   },
   "outputs": [],
   "source": [
    "def dans_image(image, i, j):\n",
    "    \"\"\"Renvoie True si le pixel (i, j)\n",
    "    est un pixel de l'image, False sinon.\n",
    "    \"\"\"\n",
    "    return (0 <= i < len(image) \n",
    "            and 0 <= j < len(image[i]))"
   ]
  },
  {
   "cell_type": "code",
   "execution_count": null,
   "metadata": {
    "slideshow": {
     "slide_type": "subslide"
    }
   },
   "outputs": [],
   "source": [
    "def voisins(i, j):\n",
    "    \"\"\"Renvoie la liste des voisins du pixel (i, j)\n",
    "    (sans prendre en compte les bords).\n",
    "    \"\"\"\n",
    "    return [(i+1, j),\n",
    "            (i, j+1), \n",
    "            (i-1, j), \n",
    "            (i, j-1)]\n",
    "\n",
    "voisins(3, 0)"
   ]
  },
  {
   "cell_type": "code",
   "execution_count": null,
   "metadata": {
    "slideshow": {
     "slide_type": "subslide"
    }
   },
   "outputs": [],
   "source": [
    "def colorie(image, i, j, c_nouv):\n",
    "    \"\"\"Colore la région du pixel (i, j)\n",
    "    dans la couleur c_nouv. Suppose\n",
    "    que (i, j) est bien un pixel de\n",
    "    l'image.\n",
    "    \"\"\"\n",
    "    c_prec = image[i][j]  # étape 1\n",
    "    if c_prec == c_nouv:  # étape 2\n",
    "        return\n",
    "    image[i][j] = c_nouv  # étape 3\n",
    "    for vi, vj in voisins(i, j):  # étape 4\n",
    "        if (dans_image(image, vi, vj) \n",
    "            and image[vi][vj] == c_prec):\n",
    "                colorie(image, vi, vj, c_nouv)"
   ]
  },
  {
   "cell_type": "code",
   "execution_count": null,
   "metadata": {
    "slideshow": {
     "slide_type": "subslide"
    }
   },
   "outputs": [],
   "source": [
    "from matplotlib.pyplot import imshow\n",
    "image = [[2] * (5-i) + [0] * (2*i+1) + [2] * (5-i) for i in range(5)]\n",
    "image[0][0] = 0\n",
    "imshow(image)\n",
    "image"
   ]
  },
  {
   "cell_type": "code",
   "execution_count": null,
   "metadata": {
    "slideshow": {
     "slide_type": "subslide"
    }
   },
   "outputs": [],
   "source": [
    "colorie(image, 0, 5, 3)\n",
    "imshow(image)\n",
    "image"
   ]
  },
  {
   "cell_type": "markdown",
   "metadata": {
    "slideshow": {
     "slide_type": "subslide"
    }
   },
   "source": [
    "***Démo :*** *programme `colorie.py`*"
   ]
  },
  {
   "cell_type": "markdown",
   "metadata": {
    "slideshow": {
     "slide_type": "slide"
    }
   },
   "source": [
    "# Tours de Hanoi\n",
    "  \n",
    "<img src='img/Tower_of_Hanoi.jpeg' alt='Tours de Hanoï en bois'>\n",
    "\n",
    "*(image : Wikipedia)*"
   ]
  },
  {
   "cell_type": "markdown",
   "metadata": {
    "slideshow": {
     "slide_type": "subslide"
    }
   },
   "source": [
    "**Situation initiale :**\n",
    "\n",
    "- Trois emplacements A, B et C, marqués par des aiguilles verticales\n",
    "- Disques de diamètres décroissants posés sur l'emplacement A\n",
    "- Emplacements B et C libres\n",
    "\n",
    "**Objectif :** déplacer tous les disques de A vers C, \n",
    "\n",
    "- En ne déplaçant qu'un disque à la fois\n",
    "- En ne posant jamais un disque sur un disque plus petit\n",
    "\n",
    "***Démo :*** *programme `hanoi.py`*"
   ]
  },
  {
   "cell_type": "markdown",
   "metadata": {
    "slideshow": {
     "slide_type": "slide"
    }
   },
   "source": [
    "## Les Brahmes tombent (É. Lucas)\n",
    "\n",
    ">    N. Claus de Siam a vu, dans ses voyages\n",
    ">    pour la publication des écrits de l'illustre Fer-Fer-Tam-Tam, dans\n",
    ">    le grand temple de Bénarès, au-dessous du dôme qui marque le\n",
    ">    centre du monde, trois aiguilles de diamant, plantées dans une\n",
    ">    dalle d'airain, hautes d'une coudée et grosses comme le corps\n",
    ">    d'une abeille. Sur une de ces aiguilles, Dieu enfila au\n",
    ">    commencement des siècles, 64 disques d'or pur, le plus large\n",
    ">    reposant sur l'airain, et les autres, de plus en plus étroits,\n",
    ">    superposés jusqu'au sommet. C'est la tour sacrée du Brahmâ. Nuit\n",
    ">    et jour, les prêtres se succèdent sur les marches de l'autel,\n",
    ">    occupés à transporter la tour de la première aiguille sur la\n",
    ">    troisième, sans s'écarter des règles fixes que nous venons\n",
    ">    d'indiquer, et qui ont été imposées par Brahma. Quand tout sera\n",
    ">    fini, la tour et les brahmes tomberont, et ce sera la fin des\n",
    ">    mondes !\n",
    "\n",
    "*Édouard Lucas, Récréations mathématiques (tome 3), 1892*"
   ]
  },
  {
   "cell_type": "markdown",
   "metadata": {
    "slideshow": {
     "slide_type": "slide"
    }
   },
   "source": [
    "## Algorithme\n",
    "\n",
    "**Déplacer $n$ disques de A à C en passant par B**\n",
    "\n",
    "- S'il n'y a aucun disque ($n = 0$) : aucun déplacement\n",
    "- Sinon, déplacer les $n-1$ premiers disques de A vers B en passant par C\n",
    "- Puis déplacer le plus grand disque de A vers C\n",
    "- Enfin, déplacer les $n-1$ premiers disques de B vers C en passant par A\n",
    "\n",
    "**Exercice :** modéliser et résoudre le problème en Python"
   ]
  },
  {
   "cell_type": "markdown",
   "metadata": {
    "slideshow": {
     "slide_type": "slide"
    }
   },
   "source": [
    "## Arbre des appels\n",
    "\n",
    "<img src=\"img/appels_hanoi.png\" width=80%></img>"
   ]
  },
  {
   "cell_type": "markdown",
   "metadata": {
    "slideshow": {
     "slide_type": "slide"
    }
   },
   "source": [
    "## Combien de déplacements ?\n",
    "\n",
    "- Soit $H(n)$ le nombre de déplacements pour $n$ disques\n",
    "- On a $H(0) = 0$ et $H(n) = 2 H(n-1) + 1$ *(suite arithmético-géométrique)*\n",
    "- Premiers termes : $H(0) = 0, H(1) = 1, H(2) = 3, H(3) = 7, H(4) = 15...$\n",
    "- Conjecture : $H(n) = 2^n - 1$"
   ]
  },
  {
   "cell_type": "markdown",
   "metadata": {
    "slideshow": {
     "slide_type": "subslide"
    }
   },
   "source": [
    "Preuve : posons $G(n) = H(n) + 1$. \n",
    "\n",
    "On a  $G(0) = 1$ et $G(n) - 1 = 2(G(n-1) - 1) + 1$,  \n",
    "soit $G(n) = 2 G(n-1)$.\n",
    "\n",
    "Ce qui donne $G(n) = 2^n$ (suite géométrique de premier terme 1 et de raison 2).\n",
    "\n",
    "Et donc $H(n) = G(n) - 1 = 2^n - 1$.\n",
    "    "
   ]
  },
  {
   "cell_type": "markdown",
   "metadata": {
    "slideshow": {
     "slide_type": "subslide"
    }
   },
   "source": [
    "On ne peut pas faire mieux (solution optimale) :\n",
    "- soit $F(n)$ le nombre optimal de déplacements pour amener $n$ disques d'une tour à une autre\n",
    "- on a bien $F(0) = H(0) = 0$\n",
    "- pour déplacer $n$ disques, il faut à un moment déplacer le plus grand\n",
    "- pour faire cela, les $n-1$ autres disques doivent tous être déplacés vers le troisième emplacement puis vers la destination, soit au moins $F(n) = 2 F(n-1) + 1 = H(n)$ déplacements"
   ]
  },
  {
   "cell_type": "markdown",
   "metadata": {
    "slideshow": {
     "slide_type": "slide"
    }
   },
   "source": [
    "<img src=\"img/hanoi-graph.png\" width=50%></img>\n",
    "\n",
    "**Codage des positions :** $XYZ$ avec $X \\in \\{A, B, C\\}$ la position du grand disque, $Y$ celle du moyen et $Z$ celle du petit"
   ]
  },
  {
   "cell_type": "markdown",
   "metadata": {
    "slideshow": {
     "slide_type": "slide"
    }
   },
   "source": [
    "## La fin de l'Univers ??\n",
    "\n",
    "- 64 disques : au moins $2^{64}-1$ déplacements (nombre à 20 chiffres !)\n",
    "- 1 seconde par déplacement : 86 400 déplacements par jour\n",
    "- Nombre d'années pour déplacer $n$ disques :"
   ]
  },
  {
   "cell_type": "code",
   "execution_count": null,
   "metadata": {
    "slideshow": {
     "slide_type": "-"
    }
   },
   "outputs": [],
   "source": [
    "for i in [25, 29, 64]:\n",
    "    print(i, \"disques :\", \n",
    "          round((2**i - 1) / (365.25*24*60*60), 2), \n",
    "          \"années\")"
   ]
  },
  {
   "cell_type": "markdown",
   "metadata": {
    "slideshow": {
     "slide_type": "fragment"
    }
   },
   "source": [
    "- Durée totale pour 64 disques : 213 000 milliards de jours,  \n",
    " soit 584,5 milliards d'années,  \n",
    " soit 43 fois l'âge estimé de l'univers"
   ]
  },
  {
   "cell_type": "markdown",
   "metadata": {
    "slideshow": {
     "slide_type": "slide"
    }
   },
   "source": [
    "## Implémentation en Python\n",
    "\n",
    "**Codage des positions :**\n",
    "\n",
    "- tours numérotées de 0 (à gauche) à 2 (à droite)\n",
    "- disques numérotés de 0 (le plus petit) à $n-1$ (le plus grand)\n",
    "- position du disque $i$ inscrite à l'indice $i$ dans une liste à valeurs dans $\\{0, 1, 2\\}$\n",
    "\n",
    "**Exemples :**\n",
    "\n",
    "- position initiale `[0, 0, 0]`\n",
    "- position finale `[2, 2, 2]`\n",
    "- plus petit disque à gauche, les autres au milieu : `[0, 1, 1]`"
   ]
  },
  {
   "cell_type": "code",
   "execution_count": null,
   "metadata": {
    "slideshow": {
     "slide_type": "subslide"
    }
   },
   "outputs": [],
   "source": [
    "def hanoi(tours, n, source=0, dest=2, etape=1):\n",
    "    if n == 0:\n",
    "        return\n",
    "    \n",
    "    # on déplace les n-1 plus petits vers l'étape\n",
    "    hanoi(tours, n-1, source, etape, dest)\n",
    "    \n",
    "    # on déplace le plus grand disque\n",
    "    assert(tours[n-1] == source)\n",
    "    tours[n-1] = dest\n",
    "    print(f\"{tours} (disque {n-1} de {source} vers {dest})\")\n",
    "    \n",
    "    # on déplace les n-1 plus petits vers la destination\n",
    "    hanoi(tours, n-1, etape, dest, source)"
   ]
  },
  {
   "cell_type": "code",
   "execution_count": null,
   "metadata": {
    "slideshow": {
     "slide_type": "subslide"
    }
   },
   "outputs": [],
   "source": [
    "n = 3\n",
    "tours = [0] * n   # tous les disques sur la tour 0\n",
    "print(tours)\n",
    "hanoi(tours, n)\n",
    "print(tours)"
   ]
  },
  {
   "cell_type": "code",
   "execution_count": null,
   "metadata": {
    "slideshow": {
     "slide_type": "subslide"
    }
   },
   "outputs": [],
   "source": [
    "hanoi = CallRecorder(hanoi)"
   ]
  },
  {
   "cell_type": "code",
   "execution_count": null,
   "metadata": {
    "slideshow": {
     "slide_type": "subslide"
    }
   },
   "outputs": [],
   "source": [
    "n = 3\n",
    "tours = [0] * n\n",
    "g = hanoi(tours, n).graph()"
   ]
  },
  {
   "cell_type": "code",
   "execution_count": null,
   "metadata": {},
   "outputs": [],
   "source": [
    "Image(g.pipe('png'))"
   ]
  },
  {
   "cell_type": "code",
   "execution_count": null,
   "metadata": {
    "scrolled": true,
    "slideshow": {
     "slide_type": "subslide"
    }
   },
   "outputs": [],
   "source": [
    "tours = [0] * 10\n",
    "g = hanoi(tours, 10).graph(verbose_labels=False)"
   ]
  },
  {
   "cell_type": "code",
   "execution_count": null,
   "metadata": {
    "slideshow": {
     "slide_type": "subslide"
    }
   },
   "outputs": [],
   "source": [
    "g.engine = 'twopi'\n",
    "Image(g.pipe(\"png\"))"
   ]
  },
  {
   "cell_type": "markdown",
   "metadata": {
    "slideshow": {
     "slide_type": "slide"
    }
   },
   "source": [
    "## Une solution itérative ?\n",
    "\n",
    "Voici une proposition de solution itérative :\n",
    "\n",
    "1. Déplacer le plus petit disque (de 0 vers 1 ou 1 vers 2 ou 2 vers 0)\n",
    "2. Déplacer l'autre disque (pas le choix !)\n",
    "3. Recommencer jusqu'à ce que le but soit atteint\n",
    "\n",
    "*Attention :* ne fonctionne que si $n$ est pair, inverser le sens de déplacement du petit disque sinon"
   ]
  },
  {
   "cell_type": "code",
   "execution_count": null,
   "metadata": {
    "slideshow": {
     "slide_type": "slide"
    }
   },
   "outputs": [],
   "source": [
    "def hanoi_iter(n):\n",
    "    # départ et but\n",
    "    tours = [0] * n\n",
    "    but = [2] * n\n",
    "    print(tours)\n",
    "    \n",
    "    # sens de rotation du plus petit disque \n",
    "    d = 1 if n % 2 == 0 else -1\n",
    "    \n",
    "    # répéter jusqu'à but atteint\n",
    "    while tours[:n] != but:\n",
    "        # on déplace le plus petit disque\n",
    "        s = tours[0]\n",
    "        t = (s + d) % 3 \n",
    "        tours[0] = t\n",
    "        print(\"{} (disque 0 de {} vers {})\".format(tours, s, t))\n",
    "        \n",
    "        # on cherche l'autre disque à déplacer'\n",
    "        for i in range(1, n):\n",
    "            if tours[i] != tours[0]:\n",
    "                s = tours[i]\n",
    "                t = 3 - s - tours[0]\n",
    "                tours[i] = t\n",
    "                print(\"{} (disque {} de {} vers {})\".format(tours, i, s, t))\n",
    "                break\n",
    "    print(tours)\n",
    "        \n",
    "hanoi_iter(3)"
   ]
  },
  {
   "cell_type": "markdown",
   "metadata": {
    "slideshow": {
     "slide_type": "subslide"
    }
   },
   "source": [
    "**Question :** pourquoi ça fonctionne ?"
   ]
  },
  {
   "cell_type": "markdown",
   "metadata": {
    "slideshow": {
     "slide_type": "slide"
    }
   },
   "source": [
    "## Autres variantes\n",
    "\n",
    "- Disques en désordre au départ\n",
    "    - Écrire un algorithme\n",
    "    - Combien de déplacements ?"
   ]
  },
  {
   "cell_type": "code",
   "execution_count": null,
   "metadata": {
    "slideshow": {
     "slide_type": "-"
    }
   },
   "outputs": [],
   "source": [
    "def hanoi2(tours, n, source=0, dest=2):\n",
    "    ...\n",
    "    \n",
    "# position aléatoire des disques\n",
    "from random import choice\n",
    "n = 3\n",
    "tours = [choice((0, 1, 2)) for _ in range(n)]\n",
    "print(tours)"
   ]
  },
  {
   "cell_type": "markdown",
   "metadata": {
    "slideshow": {
     "slide_type": "subslide"
    }
   },
   "source": [
    "- Déplacements directs de 0 vers 2 interdits\n",
    "    - Écrire un algorithme\n",
    "    - Combien de déplacements ?"
   ]
  },
  {
   "cell_type": "code",
   "execution_count": null,
   "metadata": {
    "slideshow": {
     "slide_type": "-"
    }
   },
   "outputs": [],
   "source": [
    "def hanoi3(tours, n, source=0, dest=2):\n",
    "    ...\n",
    "    \n",
    "n = 3\n",
    "tours = [0] * n\n",
    "hanoi3(tours, n)\n",
    "print(tours)"
   ]
  },
  {
   "cell_type": "markdown",
   "metadata": {
    "slideshow": {
     "slide_type": "slide"
    }
   },
   "source": [
    "# Problème des partitions\n",
    "\n",
    "- On considère deux entiers positifs ou nuls $n$ et $m$\n",
    "- De combien de manières différentes peut-on écrire $n$ comme une somme d'entiers positifs décroissants inférieurs à $m$ ?\n",
    "\n",
    "Exemple avec $n = 4$, $m = 2$ : $3$ partitions\n",
    "\n",
    "$$\n",
    "\\begin{aligned}\n",
    "4 & = 2 + 2 \\\\\n",
    "  & = 2 + 1 + 1 \\\\\n",
    "  & = 1 + 1 + 1 + 1\n",
    "\\end{aligned}\n",
    "$$"
   ]
  },
  {
   "cell_type": "markdown",
   "metadata": {},
   "source": [
    "Exercice : compter le nombre de partitions de 6 en nombres inférieurs ou égaux à 3"
   ]
  },
  {
   "cell_type": "markdown",
   "metadata": {},
   "source": [
    "$$\n",
    "\\begin{aligned}\n",
    "6 & = 3 + 3\\\\\n",
    "  & = 3 + 2 + 1\\\\\n",
    "  & = 3 + 1 + 1 + 1\\\\\n",
    "  & = 2 + 2 + 2\\\\\n",
    "  & = 2 + 2 + 1 + 1\\\\\n",
    "  & = 2 + 1 + 1 + 1 + 1\\\\\n",
    "  & = 1 + 1 + 1 + 1 + 1 + 1\n",
    "\\end{aligned}\n",
    "$$"
   ]
  },
  {
   "cell_type": "markdown",
   "metadata": {},
   "source": [
    "## Algorithme\n",
    "\n",
    "- Si $n = 0$, ...\n",
    "- Sinon, si $n < 0$ ou si $m = 0$, ...\n",
    "- Sinon, ...\n",
    "  - (En utilisant $m$ :) On compte le nombre de partitions de ... utilisant les entiers jusqu'à ...\n",
    "  - (En n'utilisant pas $m$ :) On compte le nombre de partitions de ... utilisant les entiers jusqu'à ...\n",
    "  - On renvoie ..."
   ]
  },
  {
   "cell_type": "markdown",
   "metadata": {},
   "source": [
    "### Version complétée\n",
    "\n",
    "- Si $n = 0$, il existe une seule partition (quelle que soit la valeur de $m$)\n",
    "- Sinon, si $n < 0$ ou si $m = 0$, il n'existe aucune partition\n",
    "- Sinon,\n",
    "  - (En utilisant $m$ :) On compte le nombre de partitions de $\\color{red} n-m$ utilisant les entiers jusqu'à $\\color{red} m$\n",
    "  - (En n'utilisant pas $m$ :) On compte le nombre de partitions de $\\color{red} n$ utilisant les entiers jusqu'à $\\color{red} m-1$\n",
    "  - On renvoie <span style=\"color:red\">la somme des deux résultats obtenus</span>"
   ]
  },
  {
   "cell_type": "markdown",
   "metadata": {},
   "source": [
    "## Implémentation"
   ]
  },
  {
   "cell_type": "code",
   "execution_count": null,
   "metadata": {},
   "outputs": [],
   "source": [
    "@CallRecorder\n",
    "def compte_partitions(n, m):\n",
    "    if n == 0:\n",
    "        return 1\n",
    "    elif m == 0 or n < 0:\n",
    "        return 0\n",
    "    else:\n",
    "        avec_m = compte_partitions(n-m, m)\n",
    "        sans_m = compte_partitions(n, m-1)\n",
    "        return avec_m + sans_m"
   ]
  },
  {
   "cell_type": "code",
   "execution_count": null,
   "metadata": {},
   "outputs": [],
   "source": [
    "compte_partitions(4, 2).graph()"
   ]
  },
  {
   "cell_type": "code",
   "execution_count": null,
   "metadata": {},
   "outputs": [],
   "source": [
    "g = compte_partitions(6, 3).graph()\n",
    "Image(g.pipe(\"png\"))"
   ]
  },
  {
   "cell_type": "markdown",
   "metadata": {},
   "source": [
    "**Exercice :** écrire une fonction semblable qui renvoie la liste de *toutes* les partitions de $n$ en somme d'entiers inférieurs à $m$"
   ]
  },
  {
   "cell_type": "code",
   "execution_count": null,
   "metadata": {},
   "outputs": [],
   "source": [
    "def ajoute_partout(elem, lst_lst):\n",
    "    for lst in lst_lst:\n",
    "        lst.append(elem)\n",
    "\n",
    "def liste_partitions(n, m):\n",
    "    if n == 0:\n",
    "        return [[]]\n",
    "    elif m == 0 or n < 0:\n",
    "        return []\n",
    "    else:\n",
    "        avec_m = liste_partitions(n-m, m)\n",
    "        ajoute_partout(m, avec_m)\n",
    "        sans_m = liste_partitions(n, m-1)\n",
    "        return avec_m + sans_m\n",
    "\n",
    "liste_partitions(10, 3)"
   ]
  },
  {
   "cell_type": "markdown",
   "metadata": {},
   "source": [
    "# Problème du sac à dos\n",
    "\n",
    "- On considère un ensemble d'objets de poids connus.  \n",
    "- Existe-t-il une manière de choisir les objets afin de remplir un sac à dos en atteignant précisément un certain poids $S$ ?\n",
    "\n",
    "*Plus formellement :*\n",
    "\n",
    "Étant donné une suite finie\n",
    "$E$ d'entiers positifs et un entier $S \\geq 0$, existe-t-il une sous-suite $F$ de $E$ dont la somme vaut $S$ ?"
   ]
  },
  {
   "cell_type": "markdown",
   "metadata": {},
   "source": [
    "**Exercice :** \n",
    "- chercher une solution pour $S = 19$ et $E = \\{3, 4, 4, 7, 11\\}$\n",
    "- chercher une solution pour $S = 20$ et $E = \\{3, 4, 4, 7, 11\\}$"
   ]
  },
  {
   "cell_type": "markdown",
   "metadata": {
    "slideshow": {
     "slide_type": "slide"
    }
   },
   "source": [
    "## Algorithme\n",
    "\n",
    "- Si $S = 0$, la solution est $\\emptyset$ (l'ensemble vide)\n",
    "- Si $S < 0$, il n'y a pas de solution\n",
    "- Si $S > 0$ et $E = \\emptyset$, il n'y a pas de solution\n",
    "- Sinon, soit $n \\in E$ quelconque,\n",
    "  - (On utilise $n$.) On cherche un sous-ensemble $F$ de $E \\setminus \\{n\\}$ de\n",
    "    somme $S - n$, et s'il existe on répond $F \\cup \\{n\\}$\n",
    "  - (On n'utilise pas $n$.) Sinon on cherche un sous-ensemble $F$ de $E \\setminus \\{n\\}$\n",
    "    de somme $S$, et s'il existe on répond $F$"
   ]
  },
  {
   "cell_type": "markdown",
   "metadata": {
    "slideshow": {
     "slide_type": "slide"
    }
   },
   "source": [
    "**Exercice :** modéliser et résoudre le problème en Python"
   ]
  },
  {
   "cell_type": "code",
   "execution_count": null,
   "metadata": {
    "slideshow": {
     "slide_type": "fragment"
    }
   },
   "outputs": [],
   "source": [
    "objets = [2, 9, 10, 7]\n",
    "S = 19"
   ]
  },
  {
   "cell_type": "markdown",
   "metadata": {
    "slideshow": {
     "slide_type": "slide"
    }
   },
   "source": [
    "## Arbre d'appels\n",
    "\n",
    "<img src=\"img/appels_sac.png\" width=70%></img>"
   ]
  },
  {
   "cell_type": "markdown",
   "metadata": {
    "slideshow": {
     "slide_type": "subslide"
    }
   },
   "source": [
    "**Exercice :** exécuter l'algorithme pour\n",
    "\n",
    "```python\n",
    "objets = [4, 11, 1, 7]\n",
    "cible = 11\n",
    "```"
   ]
  },
  {
   "cell_type": "markdown",
   "metadata": {
    "slideshow": {
     "slide_type": "slide"
    }
   },
   "source": [
    "## Implémentation en Python"
   ]
  },
  {
   "cell_type": "markdown",
   "metadata": {
    "slideshow": {
     "slide_type": "slide"
    }
   },
   "source": [
    "### Version simplifiée : existe-t-il une solution ?"
   ]
  },
  {
   "cell_type": "code",
   "execution_count": null,
   "metadata": {
    "slideshow": {
     "slide_type": "-"
    }
   },
   "outputs": [],
   "source": [
    "def sac_a_dos_vrai_faux(ens, somme):\n",
    "    if (somme == 0):\n",
    "        return True\n",
    "    if (somme < 0):\n",
    "        return False\n",
    "    if len(ens) == 0:  # on sait que somme > 0\n",
    "        return False\n",
    "    # je sais que : somme > 0 et len(ens) > 0\n",
    "    res = sac_a_dos_vrai_faux(ens[1:], somme - ens[0])\n",
    "    if res:\n",
    "        return True\n",
    "    else:\n",
    "        return sac_a_dos_vrai_faux(ens[1:], somme)\n",
    "    \n",
    "sac_a_dos_vrai_faux([2, 9, 10, 7], 20)"
   ]
  },
  {
   "cell_type": "code",
   "execution_count": null,
   "metadata": {
    "slideshow": {
     "slide_type": "-"
    }
   },
   "outputs": [],
   "source": [
    "sac_a_dos_vrai_faux = CallRecorder(sac_a_dos_vrai_faux)"
   ]
  },
  {
   "cell_type": "code",
   "execution_count": null,
   "metadata": {},
   "outputs": [],
   "source": [
    "g = sac_a_dos_vrai_faux([2, 9, 10, 7], 19).graph()\n",
    "g"
   ]
  },
  {
   "cell_type": "code",
   "execution_count": null,
   "metadata": {},
   "outputs": [],
   "source": [
    "g = sac_a_dos_vrai_faux([2, 9, 10, 7], 20).graph()\n",
    "Image(g.pipe('png'))"
   ]
  },
  {
   "cell_type": "markdown",
   "metadata": {
    "slideshow": {
     "slide_type": "slide"
    }
   },
   "source": [
    "### Version complète : calcul d'une solution"
   ]
  },
  {
   "cell_type": "code",
   "execution_count": null,
   "metadata": {
    "slideshow": {
     "slide_type": "slide"
    }
   },
   "outputs": [],
   "source": [
    "def sac_a_dos(ens, somme):\n",
    "    if (somme == 0):\n",
    "        return []\n",
    "    if (somme < 0):\n",
    "        return None\n",
    "    if len(ens) == 0:\n",
    "        return None\n",
    "    res = sac_a_dos(ens[1:], somme - ens[0])\n",
    "    if res is not None:\n",
    "        res.append(ens[0])\n",
    "        return res\n",
    "    else:\n",
    "        return sac_a_dos(ens[1:], somme)\n",
    "    \n",
    "sac_a_dos([2, 9, 10, 7], 19)"
   ]
  },
  {
   "cell_type": "code",
   "execution_count": null,
   "metadata": {
    "slideshow": {
     "slide_type": "-"
    }
   },
   "outputs": [],
   "source": [
    "sac_a_dos = CallRecorder(sac_a_dos)"
   ]
  },
  {
   "cell_type": "code",
   "execution_count": null,
   "metadata": {},
   "outputs": [],
   "source": [
    "g = sac_a_dos([2, 9, 10, 7], 19).graph()\n",
    "g.render(\"sac_2_9_10_7__19\", format='png')\n",
    "g"
   ]
  },
  {
   "cell_type": "code",
   "execution_count": null,
   "metadata": {
    "slideshow": {
     "slide_type": "slide"
    }
   },
   "outputs": [],
   "source": [
    "g = sac_a_dos([4, 11, 1, 7], 11).graph()\n",
    "g.render(\"sac_4_11_1_7__11\", format='png')\n",
    "g"
   ]
  },
  {
   "cell_type": "code",
   "execution_count": null,
   "metadata": {
    "slideshow": {
     "slide_type": "slide"
    }
   },
   "outputs": [],
   "source": [
    "g = sac_a_dos([1, 1, 0, 14, 100, 21, 40, 5, 3, 12], 20).graph()\n",
    "Image(g.pipe('png'))"
   ]
  },
  {
   "cell_type": "code",
   "execution_count": null,
   "metadata": {},
   "outputs": [],
   "source": [
    "g = sac_a_dos([3, 4, 4, 7, 11], 20).graph()\n",
    "Image(g.pipe('png'))"
   ]
  },
  {
   "cell_type": "markdown",
   "metadata": {},
   "source": [
    "### Variantes"
   ]
  },
  {
   "cell_type": "markdown",
   "metadata": {
    "slideshow": {
     "slide_type": "slide"
    }
   },
   "source": [
    "**Exercice :** écrire une fonction semblable qui renvoie la liste de *toutes* les solutions de l'instance donnée."
   ]
  },
  {
   "cell_type": "code",
   "execution_count": null,
   "metadata": {
    "slideshow": {
     "slide_type": "-"
    }
   },
   "outputs": [],
   "source": []
  },
  {
   "cell_type": "markdown",
   "metadata": {
    "slideshow": {
     "slide_type": "slide"
    }
   },
   "source": [
    "**Exercice :** un problème du sac à dos plus général associe à chaque objet une valeur entière $v$. Le but est de maximiser la valeur totale des objets choisis tout en conservant un poids inférieur ou égal à $S$. Proposer un algorithme pour résoudre ce problème."
   ]
  },
  {
   "cell_type": "code",
   "execution_count": null,
   "metadata": {
    "slideshow": {
     "slide_type": "-"
    }
   },
   "outputs": [],
   "source": []
  },
  {
   "cell_type": "markdown",
   "metadata": {
    "slideshow": {
     "slide_type": "slide"
    }
   },
   "source": [
    "**Exercice :** comme dans le TP sur les suites de Syracuse et de Fibonacci, écrire une version *mémoisée* de la fonction `sac_a_dos`, c'est à dire une version qui utilise un dictionnaire pour stocker la solution déjà trouvée pour une liste de poids et une somme à atteindre données (ou la meilleure solution, ou toutes les solutions)."
   ]
  },
  {
   "cell_type": "code",
   "execution_count": null,
   "metadata": {
    "slideshow": {
     "slide_type": "-"
    }
   },
   "outputs": [],
   "source": []
  }
 ],
 "metadata": {
  "celltoolbar": "Diaporama",
  "kernelspec": {
   "display_name": ".venv",
   "language": "python",
   "name": "python3"
  },
  "language_info": {
   "codemirror_mode": {
    "name": "ipython",
    "version": 3
   },
   "file_extension": ".py",
   "mimetype": "text/x-python",
   "name": "python",
   "nbconvert_exporter": "python",
   "pygments_lexer": "ipython3",
   "version": "3.12.3"
  }
 },
 "nbformat": 4,
 "nbformat_minor": 4
}
